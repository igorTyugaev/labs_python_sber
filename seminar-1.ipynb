{
 "metadata": {
  "language_info": {
   "codemirror_mode": {
    "name": "ipython",
    "version": 3
   },
   "file_extension": ".py",
   "mimetype": "text/x-python",
   "name": "python",
   "nbconvert_exporter": "python",
   "pygments_lexer": "ipython3",
   "version": "3.8.3-final"
  },
  "orig_nbformat": 2,
  "kernelspec": {
   "name": "Python 3.8.3 64-bit ('anaconda3': conda)",
   "display_name": "Python 3.8.3 64-bit ('anaconda3': conda)",
   "metadata": {
    "interpreter": {
     "hash": "e134e05457d34029b6460cd73bbf1ed73f339b5b6d98c95be70b69eba114fe95"
    }
   }
  }
 },
 "nbformat": 4,
 "nbformat_minor": 2,
 "cells": [
  {
   "source": [
    "## Задача №1\n",
    "Вернуть первый элемент, третий элемент, второй с конца элемент входного массива."
   ],
   "cell_type": "markdown",
   "metadata": {}
  },
  {
   "cell_type": "code",
   "execution_count": 16,
   "metadata": {
    "tags": []
   },
   "outputs": [
    {
     "output_type": "stream",
     "name": "stdout",
     "text": "array_in =  [5, 7, 1, 3, 6]\n array_in[0]:   5\n array_in[2]:   1\n array_in[-2]:  3\n"
    }
   ],
   "source": [
    "from random import randrange\n",
    "\n",
    "array_in = [randrange(0, 9) for i in range(5)]\n",
    "print(\"array_in = \", array_in)\n",
    "print(\" array_in[0]:  \", array_in[0])\n",
    "print(\" array_in[2]:  \", array_in[2])\n",
    "print(\" array_in[-2]: \", array_in[-2])\n",
    "\n"
   ]
  },
  {
   "source": [
    "## Задача №2\n",
    "Дан массив чисел и число N. Возвести число в позиции N в степень N. Если это невозможно, то вернуть -1."
   ],
   "cell_type": "markdown",
   "metadata": {}
  },
  {
   "cell_type": "code",
   "execution_count": 28,
   "metadata": {
    "tags": []
   },
   "outputs": [
    {
     "output_type": "stream",
     "name": "stdout",
     "text": "array_in =  [2, 1, 0]\nN =  1\nresult:  2\n"
    }
   ],
   "source": [
    "array_in = [randrange(0, 10) for i in range(randrange(1, 10))]\n",
    "n = randrange(0, 12)\n",
    "print(\"array_in = \", array_in)\n",
    "print(\"N = \", n)\n",
    "\n",
    "if n < len(array_in):\n",
    "    print(\"result: \", array_in[n - 1]**n)\n",
    "else:\n",
    "    print(\"-1\")"
   ]
  },
  {
   "source": [
    "## Задача №3\n",
    "Найти второй индекс входного символа во входной строке.\n",
    "Пример: f(«сбербанк», «б») == 4"
   ],
   "cell_type": "markdown",
   "metadata": {}
  },
  {
   "cell_type": "code",
   "execution_count": 133,
   "metadata": {
    "tags": []
   },
   "outputs": [
    {
     "output_type": "stream",
     "name": "stdout",
     "text": "4\n"
    }
   ],
   "source": [
    "str_in = \"сбербанк\"\n",
    "\n",
    "for i in str_in:\n",
    "    if str_in.count(i) > 1:\n",
    "        print(str_in.find(i, str_in.find(i) + 1))\n",
    "        break;"
   ]
  },
  {
   "source": [
    "## Задача №4\n",
    "Найти количество нулей в конце входного числа.\n",
    "Пример: f(101100110100) == 2\n"
   ],
   "cell_type": "markdown",
   "metadata": {}
  },
  {
   "cell_type": "code",
   "execution_count": 31,
   "metadata": {
    "tags": []
   },
   "outputs": [
    {
     "output_type": "stream",
     "name": "stdout",
     "text": "count =  2\n"
    }
   ],
   "source": [
    "num_in = \"101100110100\"\n",
    "count = 0\n",
    "for i in range(len(num_in) - 1, 0, -1):\n",
    "    if int(num_in[i]) == 0:\n",
    "        count += 1\n",
    "    else:\n",
    "        break\n",
    "print(\"count = \", count)\n",
    "\n"
   ]
  },
  {
   "source": [
    "## Задача №5\n",
    "Представить входную строку в обратном порядке."
   ],
   "cell_type": "markdown",
   "metadata": {}
  },
  {
   "cell_type": "code",
   "execution_count": 35,
   "metadata": {
    "tags": []
   },
   "outputs": [
    {
     "output_type": "stream",
     "name": "stdout",
     "text": "str_in:  сбербанк\nstr_in[::-1]:  кнабребс\n"
    }
   ],
   "source": [
    "str_in = \"сбербанк\"\n",
    "print(\"str_in: \", str_in)\n",
    "print(\"str_in[::-1]: \", str_in[::-1])"
   ]
  },
  {
   "source": [
    "## Задача №6\n",
    "Проверить состоит ли входной массив исключительного из одного и того же значения. "
   ],
   "cell_type": "markdown",
   "metadata": {}
  },
  {
   "cell_type": "code",
   "execution_count": 44,
   "metadata": {
    "tags": []
   },
   "outputs": [
    {
     "output_type": "stream",
     "name": "stdout",
     "text": "true\n"
    }
   ],
   "source": [
    "array_in = \"fffffff\"\n",
    "if len(array_in) == array_in.count(array_in[0]):\n",
    "    print(\"true\")\n",
    "else:\n",
    "    print(\"false\")"
   ]
  },
  {
   "source": [
    "## Задача №7\n",
    "Проверить сложность пароля во входной строке. Пароль должен содержать, как минимум, одну букву в нижнем регистре, одну букву в верхнем регистре, одну цифру и не содержит никаких других символов. Минимальная длина пароля 16 символов."
   ],
   "cell_type": "markdown",
   "metadata": {}
  },
  {
   "cell_type": "code",
   "execution_count": 72,
   "metadata": {
    "tags": []
   },
   "outputs": [
    {
     "output_type": "stream",
     "name": "stdout",
     "text": "True\n"
    }
   ],
   "source": [
    "import re\n",
    "password = \"jbhsadsadsdfasdf78dDDsa\"\n",
    "reg_line = (re.search(r'[a-z]', password), re.search(r'[A-Z]', password), re.search(r'\\d', password))\n",
    "print(all(reg_line) and (len(line) >= 16))"
   ]
  },
  {
   "source": [
    "## Задача №8\n",
    "Во входном списке имеются вложенные списки, которые также могут иметь вложенные списки. Необходимо вытянуть список в одномерный массив (flatten)."
   ],
   "cell_type": "markdown",
   "metadata": {}
  },
  {
   "cell_type": "code",
   "execution_count": 119,
   "metadata": {
    "tags": []
   },
   "outputs": [
    {
     "output_type": "stream",
     "name": "stdout",
     "text": "[1, 2, 3, 5, 89, 6]\n"
    }
   ],
   "source": [
    "list_r = [[1,2],[3],[5,89],[],[6]]\n",
    "\n",
    "def flatten(list_in):\n",
    "    list_out = []\n",
    "    for i in list_in:\n",
    "        if isinstance(i, list):\n",
    "            list_out.extend(flatten(i))\n",
    "        else:\n",
    "            list_out.append(i)\n",
    "    return list_out\n",
    "\n",
    "\n",
    "print(flatten(list_r))\n",
    "\n"
   ]
  },
  {
   "source": [
    "## Задача №9\n",
    "На вход принимается словарь(dict), в котором ключами являются строки (str), а значениями числа (float). Необходимо вернуть ключ максимального значения."
   ],
   "cell_type": "markdown",
   "metadata": {}
  },
  {
   "cell_type": "code",
   "execution_count": 95,
   "metadata": {
    "tags": []
   },
   "outputs": [
    {
     "output_type": "stream",
     "name": "stdout",
     "text": "A\n"
    }
   ],
   "source": [
    "dict_in = {'A': '100', 'B': '2', 'C': '3', 'D': '89'}\n",
    "max_new, max_old = 0, 0\n",
    "max_key = \"\"\n",
    "for i in dict_in.items():\n",
    "    max_new = int(i[1])\n",
    "    if max_new > max_old:\n",
    "        max_old = max_new\n",
    "        max_key = i[0]\n",
    "\n",
    "print(max_key)"
   ]
  },
  {
   "source": [
    "## Задача №10\n",
    "Дан непустой список целых чисел (X). Необходимо вернуть список, содержащий только неуникальные значения из входного списка. Порядок чисел не должен меняться.\n"
   ],
   "cell_type": "markdown",
   "metadata": {}
  },
  {
   "cell_type": "code",
   "execution_count": 110,
   "metadata": {
    "tags": []
   },
   "outputs": [
    {
     "output_type": "stream",
     "name": "stdout",
     "text": "[3, 3, 30, 30, 3, 4, 4, 4, 4, 5, 5, 5, 5]\n"
    }
   ],
   "source": [
    "list_in = [1, 2, 3, 3, 30, 30, 3, 4, 4, 4, 4, 5, 5, 5, 5]\n",
    "list_out = []\n",
    "for i in list_in:\n",
    "    if list_in.count(i) > 1:\n",
    "        list_out.append(i)\n",
    "\n",
    "print(list_out)"
   ]
  },
  {
   "cell_type": "code",
   "execution_count": null,
   "metadata": {},
   "outputs": [],
   "source": []
  }
 ]
}