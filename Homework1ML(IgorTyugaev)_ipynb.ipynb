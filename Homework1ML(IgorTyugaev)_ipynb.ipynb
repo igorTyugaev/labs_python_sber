{
  "nbformat": 4,
  "nbformat_minor": 0,
  "metadata": {
    "kernelspec": {
      "display_name": "Python 3",
      "language": "python",
      "name": "python3"
    },
    "language_info": {
      "codemirror_mode": {
        "name": "ipython",
        "version": 3
      },
      "file_extension": ".py",
      "mimetype": "text/x-python",
      "name": "python",
      "nbconvert_exporter": "python",
      "pygments_lexer": "ipython3",
      "version": "3.8.3"
    },
    "toc": {
      "base_numbering": 1,
      "nav_menu": {},
      "number_sections": true,
      "sideBar": true,
      "skip_h1_title": false,
      "title_cell": "Table of Contents",
      "title_sidebar": "Contents",
      "toc_cell": false,
      "toc_position": {},
      "toc_section_display": true,
      "toc_window_display": false
    },
    "varInspector": {
      "cols": {
        "lenName": 16,
        "lenType": 16,
        "lenVar": 40
      },
      "kernels_config": {
        "python": {
          "delete_cmd_postfix": "",
          "delete_cmd_prefix": "del ",
          "library": "var_list.py",
          "varRefreshCmd": "print(var_dic_list())"
        },
        "r": {
          "delete_cmd_postfix": ") ",
          "delete_cmd_prefix": "rm(",
          "library": "var_list.r",
          "varRefreshCmd": "cat(var_dic_list()) "
        }
      },
      "types_to_exclude": [
        "module",
        "function",
        "builtin_function_or_method",
        "instance",
        "_Feature"
      ],
      "window_display": false
    },
    "colab": {
      "name": "Копия блокнота \"Homework1ML(IgorTyugaev).ipynb\"",
      "provenance": [],
      "collapsed_sections": [
        "XIuTdAKyttXb",
        "Q6gCR87kttYI"
      ],
      "toc_visible": true,
      "include_colab_link": true
    }
  },
  "cells": [
    {
      "cell_type": "markdown",
      "metadata": {
        "id": "view-in-github",
        "colab_type": "text"
      },
      "source": [
        "<a href=\"https://colab.research.google.com/github/igorTyugaev/labs_python_sber/blob/main/Homework1ML(IgorTyugaev)_ipynb.ipynb\" target=\"_parent\"><img src=\"https://colab.research.google.com/assets/colab-badge.svg\" alt=\"Open In Colab\"/></a>"
      ]
    },
    {
      "cell_type": "code",
      "metadata": {
        "id": "COqoWl0attWs"
      },
      "source": [
        "import numpy as np\n",
        "import pandas as pd"
      ],
      "execution_count": 1,
      "outputs": []
    },
    {
      "cell_type": "markdown",
      "metadata": {
        "id": "0xRG2qOgttWt"
      },
      "source": [
        "**1\\.** Как создать pd.Series из листа, numpy array и словаря(dict)? (★☆☆)"
      ]
    },
    {
      "cell_type": "code",
      "metadata": {
        "id": "6KeLxoVattWu",
        "colab": {
          "base_uri": "https://localhost:8080/"
        },
        "outputId": "aeca4ce6-993d-47e3-976e-e92c8d73a094"
      },
      "source": [
        "mylist = list('abcedfghijklmnopqrstuvwxyz')\n",
        "myarr = np.arange(26)\n",
        "mydict = dict(zip(mylist, myarr))\n",
        "\n",
        "#your code\n",
        "s1 = pd.Series(mylist)\n",
        "s2 = pd.Series(myarr)\n",
        "s3 = pd.Series(mydict)\n",
        "\n",
        "print(s1.head())\n",
        "print(s2.head())\n",
        "print(s3.head())"
      ],
      "execution_count": 3,
      "outputs": [
        {
          "output_type": "stream",
          "text": [
            "0    a\n",
            "1    b\n",
            "2    c\n",
            "3    e\n",
            "4    d\n",
            "dtype: object\n",
            "0    0\n",
            "1    1\n",
            "2    2\n",
            "3    3\n",
            "4    4\n",
            "dtype: int64\n",
            "a    0\n",
            "b    1\n",
            "c    2\n",
            "e    3\n",
            "d    4\n",
            "dtype: int64\n"
          ],
          "name": "stdout"
        }
      ]
    },
    {
      "cell_type": "markdown",
      "metadata": {
        "id": "abW9JFPTttWy"
      },
      "source": [
        "**2\\.** Как сделать превратить индексы из датафрейма в колонку? (★☆☆)"
      ]
    },
    {
      "cell_type": "code",
      "metadata": {
        "id": "WpyLEximttWz",
        "colab": {
          "base_uri": "https://localhost:8080/"
        },
        "outputId": "c478d663-4612-4721-fa91-557ff52b8a15"
      },
      "source": [
        "df=pd.DataFrame(['a', 'b', 'c'])\n",
        "\n",
        "#your code\n",
        "print(\"Original: \\n\", df, \"\\n\")\n",
        "\n",
        "df_2 = df.copy()\n",
        "print(\"Transposed: \\n\", df_2.T, \"\\n\") # Если имелось ввиду транспонированная матрица\n",
        "\n",
        "df_3 = df.copy()\n",
        "df_3['index'] = df_3.index # Можем записать индексы как новый столбец\n",
        "print(\"Index to col: \\n\", df_3, \"\\n\")\n",
        "\n",
        "df_4 = df.copy()\n",
        "df_4 = df_4.reset_index() # Можем выполнить переиндесацию, при этом сох-я старые индексы (в колонку)\n",
        "print(\"Reset index: \\n\", df_4, \"\\n\")"
      ],
      "execution_count": 18,
      "outputs": [
        {
          "output_type": "stream",
          "text": [
            "Original: \n",
            "    0\n",
            "0  a\n",
            "1  b\n",
            "2  c \n",
            "\n",
            "Transposed: \n",
            "    0  1  2\n",
            "0  a  b  c \n",
            "\n",
            "Index to col: \n",
            "    0  index\n",
            "0  a      0\n",
            "1  b      1\n",
            "2  c      2 \n",
            "\n",
            "Reset index: \n",
            "    index  0\n",
            "0      0  a\n",
            "1      1  b\n",
            "2      2  c \n",
            "\n"
          ],
          "name": "stdout"
        }
      ]
    },
    {
      "cell_type": "markdown",
      "metadata": {
        "id": "Gb_SbxZ7ttW0"
      },
      "source": [
        "**3\\.** Как из нескольких pd.Series сделать один датафрейм? (★★☆)\n",
        "\n",
        "(hint: pd.concat или словарь с колонками)"
      ]
    },
    {
      "cell_type": "code",
      "metadata": {
        "id": "ptKsFiyLttW3",
        "colab": {
          "base_uri": "https://localhost:8080/",
          "height": 143
        },
        "outputId": "72bb50d0-0ed3-40c6-e681-a761aa3c306b"
      },
      "source": [
        "df1=pd.Series(['a', 'b', 'c'])\n",
        "df2=pd.Series(['aa', 'b1', 'c2'])\n",
        "df3=pd.Series(['44', '55', '66'])\n",
        "\n",
        "#your code\n",
        "df_4 = pd.concat([df1,df2,df3],axis=1) # Выполняем объеденение данных по столбцам\n",
        "# получили датафрейм\n",
        "# Но все-таки серии обычно считаються за строки,\n",
        "# поэтому выполним транспонирование\n",
        "df_4.T"
      ],
      "execution_count": 21,
      "outputs": [
        {
          "output_type": "execute_result",
          "data": {
            "text/html": [
              "<div>\n",
              "<style scoped>\n",
              "    .dataframe tbody tr th:only-of-type {\n",
              "        vertical-align: middle;\n",
              "    }\n",
              "\n",
              "    .dataframe tbody tr th {\n",
              "        vertical-align: top;\n",
              "    }\n",
              "\n",
              "    .dataframe thead th {\n",
              "        text-align: right;\n",
              "    }\n",
              "</style>\n",
              "<table border=\"1\" class=\"dataframe\">\n",
              "  <thead>\n",
              "    <tr style=\"text-align: right;\">\n",
              "      <th></th>\n",
              "      <th>0</th>\n",
              "      <th>1</th>\n",
              "      <th>2</th>\n",
              "    </tr>\n",
              "  </thead>\n",
              "  <tbody>\n",
              "    <tr>\n",
              "      <th>0</th>\n",
              "      <td>a</td>\n",
              "      <td>b</td>\n",
              "      <td>c</td>\n",
              "    </tr>\n",
              "    <tr>\n",
              "      <th>1</th>\n",
              "      <td>aa</td>\n",
              "      <td>b1</td>\n",
              "      <td>c2</td>\n",
              "    </tr>\n",
              "    <tr>\n",
              "      <th>2</th>\n",
              "      <td>44</td>\n",
              "      <td>55</td>\n",
              "      <td>66</td>\n",
              "    </tr>\n",
              "  </tbody>\n",
              "</table>\n",
              "</div>"
            ],
            "text/plain": [
              "    0   1   2\n",
              "0   a   b   c\n",
              "1  aa  b1  c2\n",
              "2  44  55  66"
            ]
          },
          "metadata": {
            "tags": []
          },
          "execution_count": 21
        }
      ]
    },
    {
      "cell_type": "markdown",
      "metadata": {
        "id": "iuD_vRaQttW5"
      },
      "source": [
        "**4\\.** Как получить строки из series A, которые не содержатся в series B? (★★☆)"
      ]
    },
    {
      "cell_type": "code",
      "metadata": {
        "id": "vEueXjFnttW7",
        "colab": {
          "base_uri": "https://localhost:8080/"
        },
        "outputId": "1974ec6c-308d-49d5-e519-d7c5aa7c4c68"
      },
      "source": [
        "df1=pd.Series(['a', 'b', 'c'])\n",
        "df2=pd.Series(['a', 'b1', 'c2'])\n",
        "\n",
        "#your code\n",
        "# Понял это как LEFT OUTER JOIN для этих серий\n",
        "dfA = pd.DataFrame(df1)\n",
        "dfB = pd.DataFrame(df2)\n",
        "\n",
        "df_out = pd.merge(dfA, dfB, how=\"outer\", indicator=True)\n",
        "df_out.query('_merge==\"left_only\"')[0]"
      ],
      "execution_count": 40,
      "outputs": [
        {
          "output_type": "execute_result",
          "data": {
            "text/plain": [
              "1    b\n",
              "2    c\n",
              "Name: 0, dtype: object"
            ]
          },
          "metadata": {
            "tags": []
          },
          "execution_count": 40
        }
      ]
    },
    {
      "cell_type": "markdown",
      "metadata": {
        "id": "bXOv8vTwttW8"
      },
      "source": [
        "**5\\.** Как получить из series/dataframe минимум, 25й персентиль, медиану, 75тый персентиль, максимум? (★☆☆)\n",
        "\n",
        "(hint: использовать одну команду)"
      ]
    },
    {
      "cell_type": "code",
      "metadata": {
        "collapsed": true,
        "id": "XlyuZMGEttW8",
        "colab": {
          "base_uri": "https://localhost:8080/"
        },
        "outputId": "093817c8-ebd9-45b6-e63d-c5cc9eb25a2d"
      },
      "source": [
        "df1=pd.Series(np.arange(10, 99))\n",
        "\n",
        "#your code\n",
        "df1.describe()"
      ],
      "execution_count": 41,
      "outputs": [
        {
          "output_type": "execute_result",
          "data": {
            "text/plain": [
              "count    89.000000\n",
              "mean     54.000000\n",
              "std      25.836021\n",
              "min      10.000000\n",
              "25%      32.000000\n",
              "50%      54.000000\n",
              "75%      76.000000\n",
              "max      98.000000\n",
              "dtype: float64"
            ]
          },
          "metadata": {
            "tags": []
          },
          "execution_count": 41
        }
      ]
    },
    {
      "cell_type": "markdown",
      "metadata": {
        "id": "b1dlZ5gQttW9"
      },
      "source": [
        "**6\\.** Как получить частоту\\долю для всех уникальных объектов в series? (★☆☆)"
      ]
    },
    {
      "cell_type": "code",
      "metadata": {
        "collapsed": true,
        "id": "4yXMGwrUttW9",
        "colab": {
          "base_uri": "https://localhost:8080/"
        },
        "outputId": "410d2927-fc25-40f7-d6ef-708b9aed2071"
      },
      "source": [
        "df1=pd.Series(['a', 'b', 'c', 'g', 'v', 'a', 'a', 'a', 'u', 'a', 'b', 'c', 'c'])\n",
        "\n",
        "#your code\n",
        "df1.value_counts(normalize = True)"
      ],
      "execution_count": 43,
      "outputs": [
        {
          "output_type": "execute_result",
          "data": {
            "text/plain": [
              "a    0.384615\n",
              "c    0.230769\n",
              "b    0.153846\n",
              "v    0.076923\n",
              "u    0.076923\n",
              "g    0.076923\n",
              "dtype: float64"
            ]
          },
          "metadata": {
            "tags": []
          },
          "execution_count": 43
        }
      ]
    },
    {
      "cell_type": "markdown",
      "metadata": {
        "id": "kThou-e9ttW-"
      },
      "source": [
        "**7\\.** Как оставить только топ-2 самых часто встречающихся значений, а все остальные значения заменить на 'other'?  (★★☆)"
      ]
    },
    {
      "cell_type": "code",
      "metadata": {
        "collapsed": true,
        "id": "BXPtjiBKttW-",
        "colab": {
          "base_uri": "https://localhost:8080/"
        },
        "outputId": "1ed39b8a-7ffb-4b35-ff89-879af440b220"
      },
      "source": [
        "df1=pd.Series(['a', 'b', 'c', 'g', 'v', 'a', 'a', 'a', 'u', 'a', 'b', 'c', 'c'])\n",
        "\n",
        "#your code\n",
        "cor = df1.value_counts()[:2].index\n",
        "print(\"Топ-2 самых часто встречающихся значений:\", cor)\n",
        "df1.apply(lambda x: x if (x==cor[0] or x==cor[1]) else 'other')"
      ],
      "execution_count": 88,
      "outputs": [
        {
          "output_type": "stream",
          "text": [
            "Топ-2 самых часто встречающихся значений: Index(['a', 'c'], dtype='object')\n"
          ],
          "name": "stdout"
        },
        {
          "output_type": "execute_result",
          "data": {
            "text/plain": [
              "0         a\n",
              "1     other\n",
              "2         c\n",
              "3     other\n",
              "4     other\n",
              "5         a\n",
              "6         a\n",
              "7         a\n",
              "8     other\n",
              "9         a\n",
              "10    other\n",
              "11        c\n",
              "12        c\n",
              "dtype: object"
            ]
          },
          "metadata": {
            "tags": []
          },
          "execution_count": 88
        }
      ]
    },
    {
      "cell_type": "markdown",
      "metadata": {
        "id": "7RfJCW8ottW_"
      },
      "source": [
        "**8\\.** Как разбить колонку с числовыми значениями на 10 групп одинакового размера?  (★★☆)\n",
        "\n",
        "(hint: pd.qcut)"
      ]
    },
    {
      "cell_type": "code",
      "metadata": {
        "collapsed": true,
        "id": "s-N0_3CzttW_",
        "colab": {
          "base_uri": "https://localhost:8080/"
        },
        "outputId": "2ad62803-5293-4183-89da-02492c60bf93"
      },
      "source": [
        "s = pd.Series(np.random.random(20))\n",
        "\n",
        "#your code\n",
        "pd.qcut(s, 10)"
      ],
      "execution_count": 89,
      "outputs": [
        {
          "output_type": "execute_result",
          "data": {
            "text/plain": [
              "0      (0.0458, 0.121]\n",
              "1        (0.81, 0.834]\n",
              "2       (0.121, 0.221]\n",
              "3     (0.0232, 0.0458]\n",
              "4       (0.221, 0.276]\n",
              "5       (0.276, 0.444]\n",
              "6       (0.834, 0.872]\n",
              "7       (0.563, 0.623]\n",
              "8        (0.623, 0.81]\n",
              "9       (0.121, 0.221]\n",
              "10      (0.444, 0.563]\n",
              "11      (0.276, 0.444]\n",
              "12       (0.81, 0.834]\n",
              "13      (0.563, 0.623]\n",
              "14      (0.834, 0.872]\n",
              "15     (0.0458, 0.121]\n",
              "16      (0.221, 0.276]\n",
              "17    (0.0232, 0.0458]\n",
              "18       (0.623, 0.81]\n",
              "19      (0.444, 0.563]\n",
              "dtype: category\n",
              "Categories (10, interval[float64]): [(0.0232, 0.0458] < (0.0458, 0.121] < (0.121, 0.221] <\n",
              "                                     (0.221, 0.276] ... (0.563, 0.623] < (0.623, 0.81] <\n",
              "                                     (0.81, 0.834] < (0.834, 0.872]]"
            ]
          },
          "metadata": {
            "tags": []
          },
          "execution_count": 89
        }
      ]
    },
    {
      "cell_type": "markdown",
      "metadata": {
        "id": "6GVniHN_ttW_"
      },
      "source": [
        "**9\\.** Как найти позиции чисел, которые делятся на 3 без остатка из series?  (★★☆)\n",
        "\n",
        "(можно с помощью numpy и с помощью pandas)"
      ]
    },
    {
      "cell_type": "code",
      "metadata": {
        "collapsed": true,
        "id": "VeQGTUdDttXC",
        "colab": {
          "base_uri": "https://localhost:8080/"
        },
        "outputId": "abe3acfa-0575-4f2e-f0a0-4095e9642a89"
      },
      "source": [
        "s = pd.Series(np.random.randint(100, size=20))\n",
        "\n",
        "#your code\n",
        "s.loc[s % 3 == 0].index"
      ],
      "execution_count": 117,
      "outputs": [
        {
          "output_type": "execute_result",
          "data": {
            "text/plain": [
              "Int64Index([0, 5, 6, 9, 14, 15, 16], dtype='int64')"
            ]
          },
          "metadata": {
            "tags": []
          },
          "execution_count": 117
        }
      ]
    },
    {
      "cell_type": "markdown",
      "metadata": {
        "id": "n961W5YUttXC"
      },
      "source": [
        "**10\\.** Как извлечь из series строки по индексам?  (★☆☆)"
      ]
    },
    {
      "cell_type": "code",
      "metadata": {
        "collapsed": true,
        "id": "Nqxlw2crttXD",
        "colab": {
          "base_uri": "https://localhost:8080/"
        },
        "outputId": "275d5828-abe4-4028-9bfc-7c3afcbf9af2"
      },
      "source": [
        "s = pd.Series(list('abcdefghijklmnopqrstuvwxyz'))\n",
        "pos = [0, 4, 8, 14, 20]\n",
        "\n",
        "#your code\n",
        "s.iloc[pos]"
      ],
      "execution_count": 118,
      "outputs": [
        {
          "output_type": "execute_result",
          "data": {
            "text/plain": [
              "0     a\n",
              "4     e\n",
              "8     i\n",
              "14    o\n",
              "20    u\n",
              "dtype: object"
            ]
          },
          "metadata": {
            "tags": []
          },
          "execution_count": 118
        }
      ]
    },
    {
      "cell_type": "markdown",
      "metadata": {
        "id": "idtqyIkzttXD"
      },
      "source": [
        "**11\\.** Как сделать stack двух series вертикально и горизонтально? (★☆☆)\n",
        "\n",
        "(hint: pd.append, pd.concat)"
      ]
    },
    {
      "cell_type": "code",
      "metadata": {
        "collapsed": true,
        "id": "JTWLD028ttXE"
      },
      "source": [
        "s1 = pd.Series(range(5))\n",
        "s2 = pd.Series(list('abcde'))\n",
        "\n",
        "#your code\n",
        "# Вертикальтно\n",
        "pd.concat([s1, s2])\n",
        "s1.append(s2)\n",
        "# Горизонтально\n",
        "pd.concat([s1, s2], axis=1)"
      ],
      "execution_count": null,
      "outputs": []
    },
    {
      "cell_type": "markdown",
      "metadata": {
        "id": "75DsCepJttXE"
      },
      "source": [
        "**12\\.** Как получить позиции строк из series A из другого series B? (★☆☆)\n",
        "\n",
        "(можно с помощью numpy и с помощью pandas)"
      ]
    },
    {
      "cell_type": "code",
      "metadata": {
        "collapsed": true,
        "id": "z51E6g5ittXF",
        "colab": {
          "base_uri": "https://localhost:8080/"
        },
        "outputId": "f82d0f89-6bb2-4f5e-f7a9-b91d4413ebd9"
      },
      "source": [
        "s1 = pd.Series([10, 9, 6, 5, 3, 1, 12, 8, 13])\n",
        "s2 = pd.Series([1, 3, 10, 13])\n",
        "\n",
        "#your code\n",
        "s1[s1.isin(s2)].index"
      ],
      "execution_count": 119,
      "outputs": [
        {
          "output_type": "execute_result",
          "data": {
            "text/plain": [
              "Int64Index([0, 4, 5, 8], dtype='int64')"
            ]
          },
          "metadata": {
            "tags": []
          },
          "execution_count": 119
        }
      ]
    },
    {
      "cell_type": "markdown",
      "metadata": {
        "id": "6ni-v2A-ttXF"
      },
      "source": [
        "**13\\.** Как вычислить среднеквадратическую ошибку для истинных и предсказанных значений? (★★☆)"
      ]
    },
    {
      "cell_type": "code",
      "metadata": {
        "collapsed": true,
        "id": "vdTvNW1ZttXH",
        "colab": {
          "base_uri": "https://localhost:8080/"
        },
        "outputId": "180fc596-2bdd-464f-8f4c-3078b9c2cd3f"
      },
      "source": [
        "truth = pd.Series(range(10))\n",
        "pred = pd.Series(range(10)) + np.random.random(10)\n",
        "\n",
        "#your code\n",
        "MSE = np.square(np.subtract(truth, pred)).mean() \n",
        "MSE"
      ],
      "execution_count": 122,
      "outputs": [
        {
          "output_type": "execute_result",
          "data": {
            "text/plain": [
              "0.31198961606186"
            ]
          },
          "metadata": {
            "tags": []
          },
          "execution_count": 122
        }
      ]
    },
    {
      "cell_type": "markdown",
      "metadata": {
        "id": "L7D2sWi2ttXH"
      },
      "source": [
        "**14\\.** Как конвертировать каждый первый элемент строке в series в верхний регистр? (★★☆)"
      ]
    },
    {
      "cell_type": "code",
      "metadata": {
        "collapsed": true,
        "id": "HchFvkGWttXI",
        "colab": {
          "base_uri": "https://localhost:8080/"
        },
        "outputId": "88b9984b-dd92-4b1b-b0fc-e81b78a6286e"
      },
      "source": [
        "s = pd.Series(['how', 'to', 'kick', 'ass?'])\n",
        "\n",
        "#your code\n",
        "s.apply(lambda x: x.capitalize())"
      ],
      "execution_count": 125,
      "outputs": [
        {
          "output_type": "execute_result",
          "data": {
            "text/plain": [
              "0     How\n",
              "1      To\n",
              "2    Kick\n",
              "3    Ass?\n",
              "dtype: object"
            ]
          },
          "metadata": {
            "tags": []
          },
          "execution_count": 125
        }
      ]
    },
    {
      "cell_type": "markdown",
      "metadata": {
        "id": "MbDrI_QfttXI"
      },
      "source": [
        "**15\\.** Как посчитать количество символов в каждой строке? (★★☆)"
      ]
    },
    {
      "cell_type": "code",
      "metadata": {
        "collapsed": true,
        "id": "a0XzoMdyttXJ",
        "colab": {
          "base_uri": "https://localhost:8080/"
        },
        "outputId": "03a6bb27-2af7-4a84-a536-66632d3eb0a7"
      },
      "source": [
        "s = pd.Series(['how', 'to', 'kick', 'ass?'])\n",
        "\n",
        "#your code\n",
        "s.apply(lambda x: len(x))"
      ],
      "execution_count": 127,
      "outputs": [
        {
          "output_type": "execute_result",
          "data": {
            "text/plain": [
              "0    3\n",
              "1    2\n",
              "2    4\n",
              "3    4\n",
              "dtype: int64"
            ]
          },
          "metadata": {
            "tags": []
          },
          "execution_count": 127
        }
      ]
    },
    {
      "cell_type": "markdown",
      "metadata": {
        "id": "LAvGxmzQttXJ"
      },
      "source": [
        "**16\\.** Как преобразовать даты в виде строк в timeseries?  (★☆☆)\n",
        "\n",
        "(hint: pd.to_datetime)"
      ]
    },
    {
      "cell_type": "code",
      "metadata": {
        "collapsed": true,
        "id": "LN9r-kNjttXK",
        "colab": {
          "base_uri": "https://localhost:8080/"
        },
        "outputId": "b6650f9d-dc9d-4ae1-fc66-aac8d4a87529"
      },
      "source": [
        "s = pd.Series(['01 Jan 2010', '02-02-2011', '20120303', '2013/04/04', '2014-05-05', '2015-06-06T12:20'])\n",
        "\n",
        "#your code\n",
        "pd.to_datetime(s)"
      ],
      "execution_count": 128,
      "outputs": [
        {
          "output_type": "execute_result",
          "data": {
            "text/plain": [
              "0   2010-01-01 00:00:00\n",
              "1   2011-02-02 00:00:00\n",
              "2   2012-03-03 00:00:00\n",
              "3   2013-04-04 00:00:00\n",
              "4   2014-05-05 00:00:00\n",
              "5   2015-06-06 12:20:00\n",
              "dtype: datetime64[ns]"
            ]
          },
          "metadata": {
            "tags": []
          },
          "execution_count": 128
        }
      ]
    },
    {
      "cell_type": "markdown",
      "metadata": {
        "id": "aS5MBxbcttXK"
      },
      "source": [
        "**17\\.** Как получить день месяца, номер недели, день года и день недели из даты в виде строки? (★★☆)"
      ]
    },
    {
      "cell_type": "code",
      "metadata": {
        "collapsed": true,
        "id": "mBk5cc5XttXK",
        "colab": {
          "base_uri": "https://localhost:8080/"
        },
        "outputId": "b036632c-3325-41b1-eddc-efa6fd2872be"
      },
      "source": [
        "s = pd.Series(['01 Jan 2010', '02-02-2011', '20120303', '2013/04/04', '2014-05-05', '2015-06-06T12:20'])\n",
        "\n",
        "#your code\n",
        "dt_series = pd.to_datetime(s)\n",
        "\n",
        "print(\"Date: \\n\", dt_series.apply(lambda x: x.date()), \"\\n\")\n",
        "\n",
        "print(\"Week number: \\n\", dt_series.apply(lambda x: x.week), \"\\n\")\n",
        "\n",
        "print(\"Day number of year: \\n\", dt_series.apply(lambda x: x.date()), \"\\n\")\n",
        "\n",
        "print(\"Day of week: \\n\", dt_series.apply(lambda x: x.dayofweek))"
      ],
      "execution_count": 148,
      "outputs": [
        {
          "output_type": "stream",
          "text": [
            "Date: \n",
            " 0    2010-01-01\n",
            "1    2011-02-02\n",
            "2    2012-03-03\n",
            "3    2013-04-04\n",
            "4    2014-05-05\n",
            "5    2015-06-06\n",
            "dtype: object \n",
            "\n",
            "Week number: \n",
            " 0    53\n",
            "1     5\n",
            "2     9\n",
            "3    14\n",
            "4    19\n",
            "5    23\n",
            "dtype: int64 \n",
            "\n",
            "Day number of year: \n",
            " 0    2010-01-01\n",
            "1    2011-02-02\n",
            "2    2012-03-03\n",
            "3    2013-04-04\n",
            "4    2014-05-05\n",
            "5    2015-06-06\n",
            "dtype: object \n",
            "\n",
            "Day of week: \n",
            " 0    4\n",
            "1    2\n",
            "2    5\n",
            "3    3\n",
            "4    0\n",
            "5    5\n",
            "dtype: int64\n"
          ],
          "name": "stdout"
        }
      ]
    },
    {
      "cell_type": "markdown",
      "metadata": {
        "id": "olzpvkJqttXK"
      },
      "source": [
        "**18\\.** Как конвертировать дату из формата месяц-год в формат год-месяц-первое число? (★★☆)\n",
        "\n",
        "(hint: .strftime('%Y-%m-%d'))"
      ]
    },
    {
      "cell_type": "code",
      "metadata": {
        "collapsed": true,
        "id": "-uhX4V8YttXK",
        "colab": {
          "base_uri": "https://localhost:8080/"
        },
        "outputId": "b07a4440-f49f-4adf-fec8-550bf31c37de"
      },
      "source": [
        "s = pd.Series(['Jan 2017', 'Feb 2019', 'Mar 2012'])\n",
        "\n",
        "#your code\n",
        "dt_series = pd.to_datetime(s)\n",
        "dt_series.apply(lambda x: x.strftime('%Y-%m-%d'))"
      ],
      "execution_count": 149,
      "outputs": [
        {
          "output_type": "execute_result",
          "data": {
            "text/plain": [
              "0    2017-01-01\n",
              "1    2019-02-01\n",
              "2    2012-03-01\n",
              "dtype: object"
            ]
          },
          "metadata": {
            "tags": []
          },
          "execution_count": 149
        }
      ]
    },
    {
      "cell_type": "markdown",
      "metadata": {
        "id": "IZDWGqKottXM"
      },
      "source": [
        "**19\\.** Как отфильтровать слова, содержащие не менее 2 гласных? (★★☆)"
      ]
    },
    {
      "cell_type": "code",
      "metadata": {
        "collapsed": true,
        "id": "wNn8w9VyttXM",
        "colab": {
          "base_uri": "https://localhost:8080/"
        },
        "outputId": "a61941ae-ef13-4883-9f14-9b8a0653e20b"
      },
      "source": [
        "s = pd.Series(['Kitty', 'Cat', 'Plan', 'Python', 'Money'])\n",
        "\n",
        "#your code\n",
        "# Википедиа говорит:\n",
        "# \"Буква «Y» может обозначать как согласный, так и гласный звуки\"\n",
        "# Так что возможно два варианта\n",
        "print(s[s.str.count('(?i)[aeiou]') >=2], \"\\n\")\n",
        "# или с «Y»\n",
        "s[s.str.count('(?i)[aeiouy]') >=2]"
      ],
      "execution_count": 155,
      "outputs": [
        {
          "output_type": "stream",
          "text": [
            "4    Money\n",
            "dtype: object \n",
            "\n"
          ],
          "name": "stdout"
        },
        {
          "output_type": "execute_result",
          "data": {
            "text/plain": [
              "0     Kitty\n",
              "3    Python\n",
              "4     Money\n",
              "dtype: object"
            ]
          },
          "metadata": {
            "tags": []
          },
          "execution_count": 155
        }
      ]
    },
    {
      "cell_type": "markdown",
      "metadata": {
        "id": "TS-pnqYQttXM"
      },
      "source": [
        "**20\\.** Заполните все пропущенные даты от минимальной до максимальной, значения при этом дожны быть равны предыдущей не пропущеной дате (★★★)"
      ]
    },
    {
      "cell_type": "code",
      "metadata": {
        "collapsed": true,
        "id": "YA1UxDTJttXN",
        "colab": {
          "base_uri": "https://localhost:8080/"
        },
        "outputId": "919ab293-11df-4f3f-fb93-682c524a614f"
      },
      "source": [
        "s = pd.Series([1,10,3,np.nan], index=pd.to_datetime(['2000-01-01', '2000-01-03', '2000-01-06', '2000-01-08']))\n",
        "\n",
        "#your code\n",
        "# Найдем сначала max и min даты\n",
        "dt_series = pd.to_datetime(s.index)\n",
        "min_date = dt_series.min()\n",
        "max_date = dt_series.max()\n",
        "# Сформируем диапазон от min_date to max_date\n",
        "new_index = pd.date_range(min_date, max_date)\n",
        "# Выполним переиндексирование объекта s, c использованием интерполяции\n",
        "s.reindex(new_index, method='ffill')"
      ],
      "execution_count": 170,
      "outputs": [
        {
          "output_type": "execute_result",
          "data": {
            "text/plain": [
              "2000-01-01     1.0\n",
              "2000-01-02     1.0\n",
              "2000-01-03    10.0\n",
              "2000-01-04    10.0\n",
              "2000-01-05    10.0\n",
              "2000-01-06     3.0\n",
              "2000-01-07     3.0\n",
              "2000-01-08     NaN\n",
              "Freq: D, dtype: float64"
            ]
          },
          "metadata": {
            "tags": []
          },
          "execution_count": 170
        }
      ]
    },
    {
      "cell_type": "markdown",
      "metadata": {
        "id": "6bdYN_L7ttXN"
      },
      "source": [
        "**21\\.** Считайте файл из CSV-файла по строчно и добавьте считанные строки в датафрейм (файл data/BostonHousing.csv)?  (★★☆)\n",
        "\n",
        "(hint: csv reader)"
      ]
    },
    {
      "cell_type": "code",
      "metadata": {
        "collapsed": true,
        "id": "KBY4iMGWttXO",
        "colab": {
          "base_uri": "https://localhost:8080/",
          "height": 264
        },
        "outputId": "50bd4b36-3547-43b3-c424-ef4afd9baf6c"
      },
      "source": [
        "import csv\n",
        "df_read = pd.Series()\n",
        "    \n",
        "with open('BostonHousing.csv', 'r') as csv_file:\n",
        "  reader = csv.reader(csv_file)\n",
        "  for row in reader:\n",
        "    df_read = pd.concat([df_read, pd.Series(row)], axis=1)\n",
        "    # print(pd.Series(row))\n",
        "    # df_read.append(pd.DataFrame(pd.Series(row)))\n",
        "\n",
        "df_read = df_read.T\n",
        "df_read = df_read.rename(columns=df_read.iloc[1, :])\n",
        "df_read = df_read.iloc[2:, :]\n",
        "df_read.head()\n",
        "# ну, а по простому df_read = pd.read_csv(\"BostonHousing.csv\")"
      ],
      "execution_count": 228,
      "outputs": [
        {
          "output_type": "stream",
          "text": [
            "/usr/local/lib/python3.7/dist-packages/ipykernel_launcher.py:2: DeprecationWarning: The default dtype for empty Series will be 'object' instead of 'float64' in a future version. Specify a dtype explicitly to silence this warning.\n",
            "  \n"
          ],
          "name": "stderr"
        },
        {
          "output_type": "execute_result",
          "data": {
            "text/html": [
              "<div>\n",
              "<style scoped>\n",
              "    .dataframe tbody tr th:only-of-type {\n",
              "        vertical-align: middle;\n",
              "    }\n",
              "\n",
              "    .dataframe tbody tr th {\n",
              "        vertical-align: top;\n",
              "    }\n",
              "\n",
              "    .dataframe thead th {\n",
              "        text-align: right;\n",
              "    }\n",
              "</style>\n",
              "<table border=\"1\" class=\"dataframe\">\n",
              "  <thead>\n",
              "    <tr style=\"text-align: right;\">\n",
              "      <th></th>\n",
              "      <th>crim</th>\n",
              "      <th>zn</th>\n",
              "      <th>indus</th>\n",
              "      <th>chas</th>\n",
              "      <th>nox</th>\n",
              "      <th>rm</th>\n",
              "      <th>age</th>\n",
              "      <th>dis</th>\n",
              "      <th>rad</th>\n",
              "      <th>tax</th>\n",
              "      <th>ptratio</th>\n",
              "      <th>b</th>\n",
              "      <th>lstat</th>\n",
              "      <th>medv</th>\n",
              "    </tr>\n",
              "  </thead>\n",
              "  <tbody>\n",
              "    <tr>\n",
              "      <th>0</th>\n",
              "      <td>0.00632</td>\n",
              "      <td>18</td>\n",
              "      <td>2.31</td>\n",
              "      <td>0</td>\n",
              "      <td>0.538</td>\n",
              "      <td>6.575</td>\n",
              "      <td>65.2</td>\n",
              "      <td>4.09</td>\n",
              "      <td>1</td>\n",
              "      <td>296</td>\n",
              "      <td>15.3</td>\n",
              "      <td>396.9</td>\n",
              "      <td>4.98</td>\n",
              "      <td>24</td>\n",
              "    </tr>\n",
              "    <tr>\n",
              "      <th>0</th>\n",
              "      <td>0.02731</td>\n",
              "      <td>0</td>\n",
              "      <td>7.07</td>\n",
              "      <td>0</td>\n",
              "      <td>0.469</td>\n",
              "      <td>6.421</td>\n",
              "      <td>78.9</td>\n",
              "      <td>4.9671</td>\n",
              "      <td>2</td>\n",
              "      <td>242</td>\n",
              "      <td>17.8</td>\n",
              "      <td>396.9</td>\n",
              "      <td>9.14</td>\n",
              "      <td>21.6</td>\n",
              "    </tr>\n",
              "    <tr>\n",
              "      <th>0</th>\n",
              "      <td>0.02729</td>\n",
              "      <td>0</td>\n",
              "      <td>7.07</td>\n",
              "      <td>0</td>\n",
              "      <td>0.469</td>\n",
              "      <td>7.185</td>\n",
              "      <td>61.1</td>\n",
              "      <td>4.9671</td>\n",
              "      <td>2</td>\n",
              "      <td>242</td>\n",
              "      <td>17.8</td>\n",
              "      <td>392.83</td>\n",
              "      <td>4.03</td>\n",
              "      <td>34.7</td>\n",
              "    </tr>\n",
              "    <tr>\n",
              "      <th>0</th>\n",
              "      <td>0.03237</td>\n",
              "      <td>0</td>\n",
              "      <td>2.18</td>\n",
              "      <td>0</td>\n",
              "      <td>0.458</td>\n",
              "      <td>6.998</td>\n",
              "      <td>45.8</td>\n",
              "      <td>6.0622</td>\n",
              "      <td>3</td>\n",
              "      <td>222</td>\n",
              "      <td>18.7</td>\n",
              "      <td>394.63</td>\n",
              "      <td>2.94</td>\n",
              "      <td>33.4</td>\n",
              "    </tr>\n",
              "    <tr>\n",
              "      <th>0</th>\n",
              "      <td>0.06905</td>\n",
              "      <td>0</td>\n",
              "      <td>2.18</td>\n",
              "      <td>0</td>\n",
              "      <td>0.458</td>\n",
              "      <td>7.147</td>\n",
              "      <td>54.2</td>\n",
              "      <td>6.0622</td>\n",
              "      <td>3</td>\n",
              "      <td>222</td>\n",
              "      <td>18.7</td>\n",
              "      <td>396.9</td>\n",
              "      <td>5.33</td>\n",
              "      <td>36.2</td>\n",
              "    </tr>\n",
              "  </tbody>\n",
              "</table>\n",
              "</div>"
            ],
            "text/plain": [
              "      crim  zn indus chas    nox     rm  ... rad  tax ptratio       b lstat  medv\n",
              "0  0.00632  18  2.31    0  0.538  6.575  ...   1  296    15.3   396.9  4.98    24\n",
              "0  0.02731   0  7.07    0  0.469  6.421  ...   2  242    17.8   396.9  9.14  21.6\n",
              "0  0.02729   0  7.07    0  0.469  7.185  ...   2  242    17.8  392.83  4.03  34.7\n",
              "0  0.03237   0  2.18    0  0.458  6.998  ...   3  222    18.7  394.63  2.94  33.4\n",
              "0  0.06905   0  2.18    0  0.458  7.147  ...   3  222    18.7   396.9  5.33  36.2\n",
              "\n",
              "[5 rows x 14 columns]"
            ]
          },
          "metadata": {
            "tags": []
          },
          "execution_count": 228
        }
      ]
    },
    {
      "cell_type": "markdown",
      "metadata": {
        "id": "zFENPHSnttXO"
      },
      "source": [
        "**22\\.** Как изменить значения столбца при импорте csv в фрейм данных?\n",
        "Импортируйте датасет с помощью pd.read_csv, но колонку 'medv' (median house value) измените так, что если value < 25 = ‘Low’ и если > 25 = ‘High’.  (★★☆)\n",
        "\n",
        "(hint: pd.read_csv(....., converts={}))"
      ]
    },
    {
      "cell_type": "code",
      "metadata": {
        "collapsed": true,
        "id": "zvPkaxhtttXO",
        "colab": {
          "base_uri": "https://localhost:8080/",
          "height": 206
        },
        "outputId": "66e24c5f-50df-49fd-d280-b12c8576a2c0"
      },
      "source": [
        "dir_file = 'https://raw.githubusercontent.com/selva86/datasets/master/BostonHousing.csv'\n",
        "df_read = pd.read_csv(dir_file, converters={'medv': lambda x: 'Low' if float(x) < 25 else 'High'})\n",
        "df_read.head()"
      ],
      "execution_count": 229,
      "outputs": [
        {
          "output_type": "execute_result",
          "data": {
            "text/html": [
              "<div>\n",
              "<style scoped>\n",
              "    .dataframe tbody tr th:only-of-type {\n",
              "        vertical-align: middle;\n",
              "    }\n",
              "\n",
              "    .dataframe tbody tr th {\n",
              "        vertical-align: top;\n",
              "    }\n",
              "\n",
              "    .dataframe thead th {\n",
              "        text-align: right;\n",
              "    }\n",
              "</style>\n",
              "<table border=\"1\" class=\"dataframe\">\n",
              "  <thead>\n",
              "    <tr style=\"text-align: right;\">\n",
              "      <th></th>\n",
              "      <th>crim</th>\n",
              "      <th>zn</th>\n",
              "      <th>indus</th>\n",
              "      <th>chas</th>\n",
              "      <th>nox</th>\n",
              "      <th>rm</th>\n",
              "      <th>age</th>\n",
              "      <th>dis</th>\n",
              "      <th>rad</th>\n",
              "      <th>tax</th>\n",
              "      <th>ptratio</th>\n",
              "      <th>b</th>\n",
              "      <th>lstat</th>\n",
              "      <th>medv</th>\n",
              "    </tr>\n",
              "  </thead>\n",
              "  <tbody>\n",
              "    <tr>\n",
              "      <th>0</th>\n",
              "      <td>0.00632</td>\n",
              "      <td>18.0</td>\n",
              "      <td>2.31</td>\n",
              "      <td>0</td>\n",
              "      <td>0.538</td>\n",
              "      <td>6.575</td>\n",
              "      <td>65.2</td>\n",
              "      <td>4.0900</td>\n",
              "      <td>1</td>\n",
              "      <td>296</td>\n",
              "      <td>15.3</td>\n",
              "      <td>396.90</td>\n",
              "      <td>4.98</td>\n",
              "      <td>Low</td>\n",
              "    </tr>\n",
              "    <tr>\n",
              "      <th>1</th>\n",
              "      <td>0.02731</td>\n",
              "      <td>0.0</td>\n",
              "      <td>7.07</td>\n",
              "      <td>0</td>\n",
              "      <td>0.469</td>\n",
              "      <td>6.421</td>\n",
              "      <td>78.9</td>\n",
              "      <td>4.9671</td>\n",
              "      <td>2</td>\n",
              "      <td>242</td>\n",
              "      <td>17.8</td>\n",
              "      <td>396.90</td>\n",
              "      <td>9.14</td>\n",
              "      <td>Low</td>\n",
              "    </tr>\n",
              "    <tr>\n",
              "      <th>2</th>\n",
              "      <td>0.02729</td>\n",
              "      <td>0.0</td>\n",
              "      <td>7.07</td>\n",
              "      <td>0</td>\n",
              "      <td>0.469</td>\n",
              "      <td>7.185</td>\n",
              "      <td>61.1</td>\n",
              "      <td>4.9671</td>\n",
              "      <td>2</td>\n",
              "      <td>242</td>\n",
              "      <td>17.8</td>\n",
              "      <td>392.83</td>\n",
              "      <td>4.03</td>\n",
              "      <td>High</td>\n",
              "    </tr>\n",
              "    <tr>\n",
              "      <th>3</th>\n",
              "      <td>0.03237</td>\n",
              "      <td>0.0</td>\n",
              "      <td>2.18</td>\n",
              "      <td>0</td>\n",
              "      <td>0.458</td>\n",
              "      <td>6.998</td>\n",
              "      <td>45.8</td>\n",
              "      <td>6.0622</td>\n",
              "      <td>3</td>\n",
              "      <td>222</td>\n",
              "      <td>18.7</td>\n",
              "      <td>394.63</td>\n",
              "      <td>2.94</td>\n",
              "      <td>High</td>\n",
              "    </tr>\n",
              "    <tr>\n",
              "      <th>4</th>\n",
              "      <td>0.06905</td>\n",
              "      <td>0.0</td>\n",
              "      <td>2.18</td>\n",
              "      <td>0</td>\n",
              "      <td>0.458</td>\n",
              "      <td>7.147</td>\n",
              "      <td>54.2</td>\n",
              "      <td>6.0622</td>\n",
              "      <td>3</td>\n",
              "      <td>222</td>\n",
              "      <td>18.7</td>\n",
              "      <td>396.90</td>\n",
              "      <td>5.33</td>\n",
              "      <td>High</td>\n",
              "    </tr>\n",
              "  </tbody>\n",
              "</table>\n",
              "</div>"
            ],
            "text/plain": [
              "      crim    zn  indus  chas    nox  ...  tax  ptratio       b  lstat  medv\n",
              "0  0.00632  18.0   2.31     0  0.538  ...  296     15.3  396.90   4.98   Low\n",
              "1  0.02731   0.0   7.07     0  0.469  ...  242     17.8  396.90   9.14   Low\n",
              "2  0.02729   0.0   7.07     0  0.469  ...  242     17.8  392.83   4.03  High\n",
              "3  0.03237   0.0   2.18     0  0.458  ...  222     18.7  394.63   2.94  High\n",
              "4  0.06905   0.0   2.18     0  0.458  ...  222     18.7  396.90   5.33  High\n",
              "\n",
              "[5 rows x 14 columns]"
            ]
          },
          "metadata": {
            "tags": []
          },
          "execution_count": 229
        }
      ]
    },
    {
      "cell_type": "markdown",
      "metadata": {
        "id": "mf-lTqBSttXO"
      },
      "source": [
        "**23\\.** Как импортировать только указанные столбцы('crim' и 'medv') и только n строк из CSV-файла?  (★☆☆)"
      ]
    },
    {
      "cell_type": "code",
      "metadata": {
        "collapsed": true,
        "id": "3tWfcK4bttXO",
        "colab": {
          "base_uri": "https://localhost:8080/",
          "height": 206
        },
        "outputId": "36e5e4f6-accb-486d-9231-293815d1319b"
      },
      "source": [
        "# nrows - кол-во строк для считывания\n",
        "df_read = pd.read_csv(dir_file, nrows=5, usecols=['crim', 'medv'])\n",
        "df_read"
      ],
      "execution_count": 230,
      "outputs": [
        {
          "output_type": "execute_result",
          "data": {
            "text/html": [
              "<div>\n",
              "<style scoped>\n",
              "    .dataframe tbody tr th:only-of-type {\n",
              "        vertical-align: middle;\n",
              "    }\n",
              "\n",
              "    .dataframe tbody tr th {\n",
              "        vertical-align: top;\n",
              "    }\n",
              "\n",
              "    .dataframe thead th {\n",
              "        text-align: right;\n",
              "    }\n",
              "</style>\n",
              "<table border=\"1\" class=\"dataframe\">\n",
              "  <thead>\n",
              "    <tr style=\"text-align: right;\">\n",
              "      <th></th>\n",
              "      <th>crim</th>\n",
              "      <th>medv</th>\n",
              "    </tr>\n",
              "  </thead>\n",
              "  <tbody>\n",
              "    <tr>\n",
              "      <th>0</th>\n",
              "      <td>0.00632</td>\n",
              "      <td>24.0</td>\n",
              "    </tr>\n",
              "    <tr>\n",
              "      <th>1</th>\n",
              "      <td>0.02731</td>\n",
              "      <td>21.6</td>\n",
              "    </tr>\n",
              "    <tr>\n",
              "      <th>2</th>\n",
              "      <td>0.02729</td>\n",
              "      <td>34.7</td>\n",
              "    </tr>\n",
              "    <tr>\n",
              "      <th>3</th>\n",
              "      <td>0.03237</td>\n",
              "      <td>33.4</td>\n",
              "    </tr>\n",
              "    <tr>\n",
              "      <th>4</th>\n",
              "      <td>0.06905</td>\n",
              "      <td>36.2</td>\n",
              "    </tr>\n",
              "  </tbody>\n",
              "</table>\n",
              "</div>"
            ],
            "text/plain": [
              "      crim  medv\n",
              "0  0.00632  24.0\n",
              "1  0.02731  21.6\n",
              "2  0.02729  34.7\n",
              "3  0.03237  33.4\n",
              "4  0.06905  36.2"
            ]
          },
          "metadata": {
            "tags": []
          },
          "execution_count": 230
        }
      ]
    },
    {
      "cell_type": "markdown",
      "metadata": {
        "id": "t25gsasZttXO"
      },
      "source": [
        "**24\\.** Как получить кол-во строк, кол-во столбцов, тип столбцов, кол-во столбцов с таким типом данных, итоговую статистику каждого столбца датафрейма?  (★☆☆)"
      ]
    },
    {
      "cell_type": "code",
      "metadata": {
        "collapsed": true,
        "id": "cXLm6yN3ttXP",
        "colab": {
          "base_uri": "https://localhost:8080/"
        },
        "outputId": "9bd78990-a75c-4812-c2a9-2e1debde5481"
      },
      "source": [
        "df = pd.read_csv('https://raw.githubusercontent.com/selva86/datasets/master/Cars93_miss.csv')\n",
        "\n",
        "#  number of rows and columns\n",
        "print(\"Кол-во строк:\", len(df))\n",
        "print(\"Кол-во столбцов:\", len(df.columns))\n",
        "print(\"Кол-во строк и столбцов:\", df.shape)\n",
        "# datatypes\n",
        "\n",
        "# how many columns under each dtype\n",
        "\n",
        "# summary statistics\n",
        "df.info()"
      ],
      "execution_count": 235,
      "outputs": [
        {
          "output_type": "stream",
          "text": [
            "Кол-во строк: 93\n",
            "Кол-во столбцов: 27\n",
            "Кол-во строк и столбцов: (93, 27)\n",
            "<class 'pandas.core.frame.DataFrame'>\n",
            "RangeIndex: 93 entries, 0 to 92\n",
            "Data columns (total 27 columns):\n",
            " #   Column              Non-Null Count  Dtype  \n",
            "---  ------              --------------  -----  \n",
            " 0   Manufacturer        89 non-null     object \n",
            " 1   Model               92 non-null     object \n",
            " 2   Type                90 non-null     object \n",
            " 3   Min.Price           86 non-null     float64\n",
            " 4   Price               91 non-null     float64\n",
            " 5   Max.Price           88 non-null     float64\n",
            " 6   MPG.city            84 non-null     float64\n",
            " 7   MPG.highway         91 non-null     float64\n",
            " 8   AirBags             87 non-null     object \n",
            " 9   DriveTrain          86 non-null     object \n",
            " 10  Cylinders           88 non-null     object \n",
            " 11  EngineSize          91 non-null     float64\n",
            " 12  Horsepower          86 non-null     float64\n",
            " 13  RPM                 90 non-null     float64\n",
            " 14  Rev.per.mile        87 non-null     float64\n",
            " 15  Man.trans.avail     88 non-null     object \n",
            " 16  Fuel.tank.capacity  85 non-null     float64\n",
            " 17  Passengers          91 non-null     float64\n",
            " 18  Length              89 non-null     float64\n",
            " 19  Wheelbase           92 non-null     float64\n",
            " 20  Width               87 non-null     float64\n",
            " 21  Turn.circle         88 non-null     float64\n",
            " 22  Rear.seat.room      89 non-null     float64\n",
            " 23  Luggage.room        74 non-null     float64\n",
            " 24  Weight              86 non-null     float64\n",
            " 25  Origin              88 non-null     object \n",
            " 26  Make                90 non-null     object \n",
            "dtypes: float64(18), object(9)\n",
            "memory usage: 19.7+ KB\n"
          ],
          "name": "stdout"
        }
      ]
    },
    {
      "cell_type": "markdown",
      "metadata": {
        "id": "aAh_sby2ttXP"
      },
      "source": [
        "**25\\.** Как извлечь номер строки и столбца конкретной ячейки с заданным критерием? (★☆☆)"
      ]
    },
    {
      "cell_type": "code",
      "metadata": {
        "collapsed": true,
        "id": "-EQOKgUHttXP",
        "colab": {
          "base_uri": "https://localhost:8080/"
        },
        "outputId": "e03734c2-97d6-4519-f586-0cf6ffd6a7d6"
      },
      "source": [
        "df = pd.read_csv('https://raw.githubusercontent.com/selva86/datasets/master/Cars93_miss.csv')\n",
        "\n",
        "# Get Manufacturer with highest price\n",
        "print(df.loc[df['Max.Price'].idxmax(), 'Manufacturer'])\n",
        "# Get Row and Column number\n",
        "print(df.loc[df['Max.Price'].idxmax()].name)\n",
        "# Get the value\n",
        "print(df.loc[df['Max.Price'].idxmax()]['Max.Price'])"
      ],
      "execution_count": 240,
      "outputs": [
        {
          "output_type": "stream",
          "text": [
            "Mercedes-Benz\n",
            "58\n",
            "80.0\n"
          ],
          "name": "stdout"
        }
      ]
    },
    {
      "cell_type": "markdown",
      "metadata": {
        "id": "_845HktPttXQ"
      },
      "source": [
        "**26\\.** Переименнуйте колонку Type в CarType, в столбцах с '.' в названии замените её на '_'. Как добавить ко всем названиям колонок суффиксы?  (★☆☆)"
      ]
    },
    {
      "cell_type": "code",
      "metadata": {
        "id": "Ke2cFua2ttXQ",
        "colab": {
          "base_uri": "https://localhost:8080/",
          "height": 313
        },
        "outputId": "933bb4a0-2389-499a-e363-2f6b6cdac81a"
      },
      "source": [
        "df = pd.read_csv('https://raw.githubusercontent.com/selva86/datasets/master/Cars93_miss.csv')\n",
        "\n",
        "#your code\n",
        "df = df.rename(columns={\"Type\": \"CarType\"})\n",
        "df.columns = df.columns.str.replace(r\".\", \"_\")\n",
        "df.head()"
      ],
      "execution_count": 241,
      "outputs": [
        {
          "output_type": "execute_result",
          "data": {
            "text/html": [
              "<div>\n",
              "<style scoped>\n",
              "    .dataframe tbody tr th:only-of-type {\n",
              "        vertical-align: middle;\n",
              "    }\n",
              "\n",
              "    .dataframe tbody tr th {\n",
              "        vertical-align: top;\n",
              "    }\n",
              "\n",
              "    .dataframe thead th {\n",
              "        text-align: right;\n",
              "    }\n",
              "</style>\n",
              "<table border=\"1\" class=\"dataframe\">\n",
              "  <thead>\n",
              "    <tr style=\"text-align: right;\">\n",
              "      <th></th>\n",
              "      <th>Manufacturer</th>\n",
              "      <th>Model</th>\n",
              "      <th>CarType</th>\n",
              "      <th>Min_Price</th>\n",
              "      <th>Price</th>\n",
              "      <th>Max_Price</th>\n",
              "      <th>MPG_city</th>\n",
              "      <th>MPG_highway</th>\n",
              "      <th>AirBags</th>\n",
              "      <th>DriveTrain</th>\n",
              "      <th>Cylinders</th>\n",
              "      <th>EngineSize</th>\n",
              "      <th>Horsepower</th>\n",
              "      <th>RPM</th>\n",
              "      <th>Rev_per_mile</th>\n",
              "      <th>Man_trans_avail</th>\n",
              "      <th>Fuel_tank_capacity</th>\n",
              "      <th>Passengers</th>\n",
              "      <th>Length</th>\n",
              "      <th>Wheelbase</th>\n",
              "      <th>Width</th>\n",
              "      <th>Turn_circle</th>\n",
              "      <th>Rear_seat_room</th>\n",
              "      <th>Luggage_room</th>\n",
              "      <th>Weight</th>\n",
              "      <th>Origin</th>\n",
              "      <th>Make</th>\n",
              "    </tr>\n",
              "  </thead>\n",
              "  <tbody>\n",
              "    <tr>\n",
              "      <th>0</th>\n",
              "      <td>Acura</td>\n",
              "      <td>Integra</td>\n",
              "      <td>Small</td>\n",
              "      <td>12.9</td>\n",
              "      <td>15.9</td>\n",
              "      <td>18.8</td>\n",
              "      <td>25.0</td>\n",
              "      <td>31.0</td>\n",
              "      <td>None</td>\n",
              "      <td>Front</td>\n",
              "      <td>4</td>\n",
              "      <td>1.8</td>\n",
              "      <td>140.0</td>\n",
              "      <td>6300.0</td>\n",
              "      <td>2890.0</td>\n",
              "      <td>Yes</td>\n",
              "      <td>13.2</td>\n",
              "      <td>5.0</td>\n",
              "      <td>177.0</td>\n",
              "      <td>102.0</td>\n",
              "      <td>68.0</td>\n",
              "      <td>37.0</td>\n",
              "      <td>26.5</td>\n",
              "      <td>NaN</td>\n",
              "      <td>2705.0</td>\n",
              "      <td>non-USA</td>\n",
              "      <td>Acura Integra</td>\n",
              "    </tr>\n",
              "    <tr>\n",
              "      <th>1</th>\n",
              "      <td>NaN</td>\n",
              "      <td>Legend</td>\n",
              "      <td>Midsize</td>\n",
              "      <td>29.2</td>\n",
              "      <td>33.9</td>\n",
              "      <td>38.7</td>\n",
              "      <td>18.0</td>\n",
              "      <td>25.0</td>\n",
              "      <td>Driver &amp; Passenger</td>\n",
              "      <td>Front</td>\n",
              "      <td>6</td>\n",
              "      <td>3.2</td>\n",
              "      <td>200.0</td>\n",
              "      <td>5500.0</td>\n",
              "      <td>2335.0</td>\n",
              "      <td>Yes</td>\n",
              "      <td>18.0</td>\n",
              "      <td>5.0</td>\n",
              "      <td>195.0</td>\n",
              "      <td>115.0</td>\n",
              "      <td>71.0</td>\n",
              "      <td>38.0</td>\n",
              "      <td>30.0</td>\n",
              "      <td>15.0</td>\n",
              "      <td>3560.0</td>\n",
              "      <td>non-USA</td>\n",
              "      <td>Acura Legend</td>\n",
              "    </tr>\n",
              "    <tr>\n",
              "      <th>2</th>\n",
              "      <td>Audi</td>\n",
              "      <td>90</td>\n",
              "      <td>Compact</td>\n",
              "      <td>25.9</td>\n",
              "      <td>29.1</td>\n",
              "      <td>32.3</td>\n",
              "      <td>20.0</td>\n",
              "      <td>26.0</td>\n",
              "      <td>Driver only</td>\n",
              "      <td>Front</td>\n",
              "      <td>6</td>\n",
              "      <td>2.8</td>\n",
              "      <td>172.0</td>\n",
              "      <td>5500.0</td>\n",
              "      <td>2280.0</td>\n",
              "      <td>Yes</td>\n",
              "      <td>16.9</td>\n",
              "      <td>5.0</td>\n",
              "      <td>180.0</td>\n",
              "      <td>102.0</td>\n",
              "      <td>67.0</td>\n",
              "      <td>37.0</td>\n",
              "      <td>28.0</td>\n",
              "      <td>14.0</td>\n",
              "      <td>3375.0</td>\n",
              "      <td>non-USA</td>\n",
              "      <td>Audi 90</td>\n",
              "    </tr>\n",
              "    <tr>\n",
              "      <th>3</th>\n",
              "      <td>Audi</td>\n",
              "      <td>100</td>\n",
              "      <td>Midsize</td>\n",
              "      <td>NaN</td>\n",
              "      <td>37.7</td>\n",
              "      <td>44.6</td>\n",
              "      <td>19.0</td>\n",
              "      <td>26.0</td>\n",
              "      <td>Driver &amp; Passenger</td>\n",
              "      <td>NaN</td>\n",
              "      <td>6</td>\n",
              "      <td>NaN</td>\n",
              "      <td>172.0</td>\n",
              "      <td>5500.0</td>\n",
              "      <td>2535.0</td>\n",
              "      <td>NaN</td>\n",
              "      <td>21.1</td>\n",
              "      <td>6.0</td>\n",
              "      <td>193.0</td>\n",
              "      <td>106.0</td>\n",
              "      <td>NaN</td>\n",
              "      <td>37.0</td>\n",
              "      <td>31.0</td>\n",
              "      <td>17.0</td>\n",
              "      <td>3405.0</td>\n",
              "      <td>non-USA</td>\n",
              "      <td>Audi 100</td>\n",
              "    </tr>\n",
              "    <tr>\n",
              "      <th>4</th>\n",
              "      <td>BMW</td>\n",
              "      <td>535i</td>\n",
              "      <td>Midsize</td>\n",
              "      <td>NaN</td>\n",
              "      <td>30.0</td>\n",
              "      <td>NaN</td>\n",
              "      <td>22.0</td>\n",
              "      <td>30.0</td>\n",
              "      <td>NaN</td>\n",
              "      <td>Rear</td>\n",
              "      <td>4</td>\n",
              "      <td>3.5</td>\n",
              "      <td>208.0</td>\n",
              "      <td>5700.0</td>\n",
              "      <td>2545.0</td>\n",
              "      <td>Yes</td>\n",
              "      <td>21.1</td>\n",
              "      <td>4.0</td>\n",
              "      <td>186.0</td>\n",
              "      <td>109.0</td>\n",
              "      <td>69.0</td>\n",
              "      <td>39.0</td>\n",
              "      <td>27.0</td>\n",
              "      <td>13.0</td>\n",
              "      <td>3640.0</td>\n",
              "      <td>non-USA</td>\n",
              "      <td>BMW 535i</td>\n",
              "    </tr>\n",
              "  </tbody>\n",
              "</table>\n",
              "</div>"
            ],
            "text/plain": [
              "  Manufacturer    Model  CarType  ...  Weight   Origin           Make\n",
              "0        Acura  Integra    Small  ...  2705.0  non-USA  Acura Integra\n",
              "1          NaN   Legend  Midsize  ...  3560.0  non-USA   Acura Legend\n",
              "2         Audi       90  Compact  ...  3375.0  non-USA        Audi 90\n",
              "3         Audi      100  Midsize  ...  3405.0  non-USA       Audi 100\n",
              "4          BMW     535i  Midsize  ...  3640.0  non-USA       BMW 535i\n",
              "\n",
              "[5 rows x 27 columns]"
            ]
          },
          "metadata": {
            "tags": []
          },
          "execution_count": 241
        }
      ]
    },
    {
      "cell_type": "markdown",
      "metadata": {
        "id": "u9qMR4S_ttXQ"
      },
      "source": [
        "**27\\.** Проверьте есть ли в датафрейме пропуски? Если да, посчитайте кол-во nan\\none в каждом столбце датафрейма  (★★☆)"
      ]
    },
    {
      "cell_type": "code",
      "metadata": {
        "collapsed": true,
        "id": "Xh7FJxBHttXQ",
        "colab": {
          "base_uri": "https://localhost:8080/"
        },
        "outputId": "23a01332-f95a-46bd-b869-68de60db3b3d"
      },
      "source": [
        "df = pd.read_csv('https://raw.githubusercontent.com/selva86/datasets/master/Cars93_miss.csv')\n",
        "\n",
        "#your code\n",
        "if(df.isnull().values.any()):\n",
        "  print(df.isna().sum())"
      ],
      "execution_count": 244,
      "outputs": [
        {
          "output_type": "stream",
          "text": [
            "Manufacturer           4\n",
            "Model                  1\n",
            "Type                   3\n",
            "Min.Price              7\n",
            "Price                  2\n",
            "Max.Price              5\n",
            "MPG.city               9\n",
            "MPG.highway            2\n",
            "AirBags                6\n",
            "DriveTrain             7\n",
            "Cylinders              5\n",
            "EngineSize             2\n",
            "Horsepower             7\n",
            "RPM                    3\n",
            "Rev.per.mile           6\n",
            "Man.trans.avail        5\n",
            "Fuel.tank.capacity     8\n",
            "Passengers             2\n",
            "Length                 4\n",
            "Wheelbase              1\n",
            "Width                  6\n",
            "Turn.circle            5\n",
            "Rear.seat.room         4\n",
            "Luggage.room          19\n",
            "Weight                 7\n",
            "Origin                 5\n",
            "Make                   3\n",
            "dtype: int64\n"
          ],
          "name": "stdout"
        }
      ]
    },
    {
      "cell_type": "markdown",
      "metadata": {
        "id": "NpSnX2jettXR"
      },
      "source": [
        "**28\\.** Как заменить отсутствующие значения нескольких числовых столбцов средним?  (★★☆)"
      ]
    },
    {
      "cell_type": "code",
      "metadata": {
        "collapsed": true,
        "id": "FmgeNLbuttXR",
        "colab": {
          "base_uri": "https://localhost:8080/",
          "height": 313
        },
        "outputId": "9cef6d23-90cd-4290-84a7-7487d8c6ff80"
      },
      "source": [
        "df = pd.read_csv('https://raw.githubusercontent.com/selva86/datasets/master/Cars93_miss.csv')\n",
        "\n",
        "#your code\n",
        "df = df.fillna(df.mean())\n",
        "df.head()"
      ],
      "execution_count": 246,
      "outputs": [
        {
          "output_type": "execute_result",
          "data": {
            "text/html": [
              "<div>\n",
              "<style scoped>\n",
              "    .dataframe tbody tr th:only-of-type {\n",
              "        vertical-align: middle;\n",
              "    }\n",
              "\n",
              "    .dataframe tbody tr th {\n",
              "        vertical-align: top;\n",
              "    }\n",
              "\n",
              "    .dataframe thead th {\n",
              "        text-align: right;\n",
              "    }\n",
              "</style>\n",
              "<table border=\"1\" class=\"dataframe\">\n",
              "  <thead>\n",
              "    <tr style=\"text-align: right;\">\n",
              "      <th></th>\n",
              "      <th>Manufacturer</th>\n",
              "      <th>Model</th>\n",
              "      <th>Type</th>\n",
              "      <th>Min.Price</th>\n",
              "      <th>Price</th>\n",
              "      <th>Max.Price</th>\n",
              "      <th>MPG.city</th>\n",
              "      <th>MPG.highway</th>\n",
              "      <th>AirBags</th>\n",
              "      <th>DriveTrain</th>\n",
              "      <th>Cylinders</th>\n",
              "      <th>EngineSize</th>\n",
              "      <th>Horsepower</th>\n",
              "      <th>RPM</th>\n",
              "      <th>Rev.per.mile</th>\n",
              "      <th>Man.trans.avail</th>\n",
              "      <th>Fuel.tank.capacity</th>\n",
              "      <th>Passengers</th>\n",
              "      <th>Length</th>\n",
              "      <th>Wheelbase</th>\n",
              "      <th>Width</th>\n",
              "      <th>Turn.circle</th>\n",
              "      <th>Rear.seat.room</th>\n",
              "      <th>Luggage.room</th>\n",
              "      <th>Weight</th>\n",
              "      <th>Origin</th>\n",
              "      <th>Make</th>\n",
              "    </tr>\n",
              "  </thead>\n",
              "  <tbody>\n",
              "    <tr>\n",
              "      <th>0</th>\n",
              "      <td>Acura</td>\n",
              "      <td>Integra</td>\n",
              "      <td>Small</td>\n",
              "      <td>12.900000</td>\n",
              "      <td>15.9</td>\n",
              "      <td>18.800000</td>\n",
              "      <td>25.0</td>\n",
              "      <td>31.0</td>\n",
              "      <td>None</td>\n",
              "      <td>Front</td>\n",
              "      <td>4</td>\n",
              "      <td>1.800000</td>\n",
              "      <td>140.0</td>\n",
              "      <td>6300.0</td>\n",
              "      <td>2890.0</td>\n",
              "      <td>Yes</td>\n",
              "      <td>13.2</td>\n",
              "      <td>5.0</td>\n",
              "      <td>177.0</td>\n",
              "      <td>102.0</td>\n",
              "      <td>68.000000</td>\n",
              "      <td>37.0</td>\n",
              "      <td>26.5</td>\n",
              "      <td>13.986486</td>\n",
              "      <td>2705.0</td>\n",
              "      <td>non-USA</td>\n",
              "      <td>Acura Integra</td>\n",
              "    </tr>\n",
              "    <tr>\n",
              "      <th>1</th>\n",
              "      <td>NaN</td>\n",
              "      <td>Legend</td>\n",
              "      <td>Midsize</td>\n",
              "      <td>29.200000</td>\n",
              "      <td>33.9</td>\n",
              "      <td>38.700000</td>\n",
              "      <td>18.0</td>\n",
              "      <td>25.0</td>\n",
              "      <td>Driver &amp; Passenger</td>\n",
              "      <td>Front</td>\n",
              "      <td>6</td>\n",
              "      <td>3.200000</td>\n",
              "      <td>200.0</td>\n",
              "      <td>5500.0</td>\n",
              "      <td>2335.0</td>\n",
              "      <td>Yes</td>\n",
              "      <td>18.0</td>\n",
              "      <td>5.0</td>\n",
              "      <td>195.0</td>\n",
              "      <td>115.0</td>\n",
              "      <td>71.000000</td>\n",
              "      <td>38.0</td>\n",
              "      <td>30.0</td>\n",
              "      <td>15.000000</td>\n",
              "      <td>3560.0</td>\n",
              "      <td>non-USA</td>\n",
              "      <td>Acura Legend</td>\n",
              "    </tr>\n",
              "    <tr>\n",
              "      <th>2</th>\n",
              "      <td>Audi</td>\n",
              "      <td>90</td>\n",
              "      <td>Compact</td>\n",
              "      <td>25.900000</td>\n",
              "      <td>29.1</td>\n",
              "      <td>32.300000</td>\n",
              "      <td>20.0</td>\n",
              "      <td>26.0</td>\n",
              "      <td>Driver only</td>\n",
              "      <td>Front</td>\n",
              "      <td>6</td>\n",
              "      <td>2.800000</td>\n",
              "      <td>172.0</td>\n",
              "      <td>5500.0</td>\n",
              "      <td>2280.0</td>\n",
              "      <td>Yes</td>\n",
              "      <td>16.9</td>\n",
              "      <td>5.0</td>\n",
              "      <td>180.0</td>\n",
              "      <td>102.0</td>\n",
              "      <td>67.000000</td>\n",
              "      <td>37.0</td>\n",
              "      <td>28.0</td>\n",
              "      <td>14.000000</td>\n",
              "      <td>3375.0</td>\n",
              "      <td>non-USA</td>\n",
              "      <td>Audi 90</td>\n",
              "    </tr>\n",
              "    <tr>\n",
              "      <th>3</th>\n",
              "      <td>Audi</td>\n",
              "      <td>100</td>\n",
              "      <td>Midsize</td>\n",
              "      <td>17.118605</td>\n",
              "      <td>37.7</td>\n",
              "      <td>44.600000</td>\n",
              "      <td>19.0</td>\n",
              "      <td>26.0</td>\n",
              "      <td>Driver &amp; Passenger</td>\n",
              "      <td>NaN</td>\n",
              "      <td>6</td>\n",
              "      <td>2.658242</td>\n",
              "      <td>172.0</td>\n",
              "      <td>5500.0</td>\n",
              "      <td>2535.0</td>\n",
              "      <td>NaN</td>\n",
              "      <td>21.1</td>\n",
              "      <td>6.0</td>\n",
              "      <td>193.0</td>\n",
              "      <td>106.0</td>\n",
              "      <td>69.448276</td>\n",
              "      <td>37.0</td>\n",
              "      <td>31.0</td>\n",
              "      <td>17.000000</td>\n",
              "      <td>3405.0</td>\n",
              "      <td>non-USA</td>\n",
              "      <td>Audi 100</td>\n",
              "    </tr>\n",
              "    <tr>\n",
              "      <th>4</th>\n",
              "      <td>BMW</td>\n",
              "      <td>535i</td>\n",
              "      <td>Midsize</td>\n",
              "      <td>17.118605</td>\n",
              "      <td>30.0</td>\n",
              "      <td>21.459091</td>\n",
              "      <td>22.0</td>\n",
              "      <td>30.0</td>\n",
              "      <td>NaN</td>\n",
              "      <td>Rear</td>\n",
              "      <td>4</td>\n",
              "      <td>3.500000</td>\n",
              "      <td>208.0</td>\n",
              "      <td>5700.0</td>\n",
              "      <td>2545.0</td>\n",
              "      <td>Yes</td>\n",
              "      <td>21.1</td>\n",
              "      <td>4.0</td>\n",
              "      <td>186.0</td>\n",
              "      <td>109.0</td>\n",
              "      <td>69.000000</td>\n",
              "      <td>39.0</td>\n",
              "      <td>27.0</td>\n",
              "      <td>13.000000</td>\n",
              "      <td>3640.0</td>\n",
              "      <td>non-USA</td>\n",
              "      <td>BMW 535i</td>\n",
              "    </tr>\n",
              "  </tbody>\n",
              "</table>\n",
              "</div>"
            ],
            "text/plain": [
              "  Manufacturer    Model     Type  ...  Weight   Origin           Make\n",
              "0        Acura  Integra    Small  ...  2705.0  non-USA  Acura Integra\n",
              "1          NaN   Legend  Midsize  ...  3560.0  non-USA   Acura Legend\n",
              "2         Audi       90  Compact  ...  3375.0  non-USA        Audi 90\n",
              "3         Audi      100  Midsize  ...  3405.0  non-USA       Audi 100\n",
              "4          BMW     535i  Midsize  ...  3640.0  non-USA       BMW 535i\n",
              "\n",
              "[5 rows x 27 columns]"
            ]
          },
          "metadata": {
            "tags": []
          },
          "execution_count": 246
        }
      ]
    },
    {
      "cell_type": "markdown",
      "metadata": {
        "id": "9WLujl6PttXR"
      },
      "source": [
        "**29\\.** Как выбрать конкретный столбец из датафрейма в качестве датафрейма, а не series?  (★☆☆)"
      ]
    },
    {
      "cell_type": "code",
      "metadata": {
        "collapsed": true,
        "id": "q4V4vYF0ttXR",
        "colab": {
          "base_uri": "https://localhost:8080/",
          "height": 424
        },
        "outputId": "32f7b174-aa4a-422e-c561-23c5736b12f9"
      },
      "source": [
        "df = pd.read_csv('https://raw.githubusercontent.com/selva86/datasets/master/Cars93_miss.csv')\n",
        "\n",
        "#your code\n",
        "# df.iloc[:, 0]\n",
        "# df.loc[:, 'Model']\n",
        "df[['Model']]"
      ],
      "execution_count": 253,
      "outputs": [
        {
          "output_type": "execute_result",
          "data": {
            "text/html": [
              "<div>\n",
              "<style scoped>\n",
              "    .dataframe tbody tr th:only-of-type {\n",
              "        vertical-align: middle;\n",
              "    }\n",
              "\n",
              "    .dataframe tbody tr th {\n",
              "        vertical-align: top;\n",
              "    }\n",
              "\n",
              "    .dataframe thead th {\n",
              "        text-align: right;\n",
              "    }\n",
              "</style>\n",
              "<table border=\"1\" class=\"dataframe\">\n",
              "  <thead>\n",
              "    <tr style=\"text-align: right;\">\n",
              "      <th></th>\n",
              "      <th>Model</th>\n",
              "    </tr>\n",
              "  </thead>\n",
              "  <tbody>\n",
              "    <tr>\n",
              "      <th>0</th>\n",
              "      <td>Integra</td>\n",
              "    </tr>\n",
              "    <tr>\n",
              "      <th>1</th>\n",
              "      <td>Legend</td>\n",
              "    </tr>\n",
              "    <tr>\n",
              "      <th>2</th>\n",
              "      <td>90</td>\n",
              "    </tr>\n",
              "    <tr>\n",
              "      <th>3</th>\n",
              "      <td>100</td>\n",
              "    </tr>\n",
              "    <tr>\n",
              "      <th>4</th>\n",
              "      <td>535i</td>\n",
              "    </tr>\n",
              "    <tr>\n",
              "      <th>...</th>\n",
              "      <td>...</td>\n",
              "    </tr>\n",
              "    <tr>\n",
              "      <th>88</th>\n",
              "      <td>Eurovan</td>\n",
              "    </tr>\n",
              "    <tr>\n",
              "      <th>89</th>\n",
              "      <td>Passat</td>\n",
              "    </tr>\n",
              "    <tr>\n",
              "      <th>90</th>\n",
              "      <td>Corrado</td>\n",
              "    </tr>\n",
              "    <tr>\n",
              "      <th>91</th>\n",
              "      <td>240</td>\n",
              "    </tr>\n",
              "    <tr>\n",
              "      <th>92</th>\n",
              "      <td>850</td>\n",
              "    </tr>\n",
              "  </tbody>\n",
              "</table>\n",
              "<p>93 rows × 1 columns</p>\n",
              "</div>"
            ],
            "text/plain": [
              "      Model\n",
              "0   Integra\n",
              "1    Legend\n",
              "2        90\n",
              "3       100\n",
              "4      535i\n",
              "..      ...\n",
              "88  Eurovan\n",
              "89   Passat\n",
              "90  Corrado\n",
              "91      240\n",
              "92      850\n",
              "\n",
              "[93 rows x 1 columns]"
            ]
          },
          "metadata": {
            "tags": []
          },
          "execution_count": 253
        }
      ]
    },
    {
      "cell_type": "markdown",
      "metadata": {
        "id": "pDh2FSnhttXS"
      },
      "source": [
        "**30\\.** Как изменить порядок столбцов данных? (☆☆☆)"
      ]
    },
    {
      "cell_type": "code",
      "metadata": {
        "collapsed": true,
        "id": "GC7fdmGKttXS",
        "colab": {
          "base_uri": "https://localhost:8080/",
          "height": 313
        },
        "outputId": "d677182f-263f-4675-ba1b-d25e9eb1751a"
      },
      "source": [
        "df = pd.read_csv('https://raw.githubusercontent.com/selva86/datasets/master/Cars93_miss.csv')\n",
        "\n",
        "#your code\n",
        "df = df.reindex(columns=sorted(df.columns))\n",
        "df.head()"
      ],
      "execution_count": 254,
      "outputs": [
        {
          "output_type": "execute_result",
          "data": {
            "text/html": [
              "<div>\n",
              "<style scoped>\n",
              "    .dataframe tbody tr th:only-of-type {\n",
              "        vertical-align: middle;\n",
              "    }\n",
              "\n",
              "    .dataframe tbody tr th {\n",
              "        vertical-align: top;\n",
              "    }\n",
              "\n",
              "    .dataframe thead th {\n",
              "        text-align: right;\n",
              "    }\n",
              "</style>\n",
              "<table border=\"1\" class=\"dataframe\">\n",
              "  <thead>\n",
              "    <tr style=\"text-align: right;\">\n",
              "      <th></th>\n",
              "      <th>AirBags</th>\n",
              "      <th>Cylinders</th>\n",
              "      <th>DriveTrain</th>\n",
              "      <th>EngineSize</th>\n",
              "      <th>Fuel.tank.capacity</th>\n",
              "      <th>Horsepower</th>\n",
              "      <th>Length</th>\n",
              "      <th>Luggage.room</th>\n",
              "      <th>MPG.city</th>\n",
              "      <th>MPG.highway</th>\n",
              "      <th>Make</th>\n",
              "      <th>Man.trans.avail</th>\n",
              "      <th>Manufacturer</th>\n",
              "      <th>Max.Price</th>\n",
              "      <th>Min.Price</th>\n",
              "      <th>Model</th>\n",
              "      <th>Origin</th>\n",
              "      <th>Passengers</th>\n",
              "      <th>Price</th>\n",
              "      <th>RPM</th>\n",
              "      <th>Rear.seat.room</th>\n",
              "      <th>Rev.per.mile</th>\n",
              "      <th>Turn.circle</th>\n",
              "      <th>Type</th>\n",
              "      <th>Weight</th>\n",
              "      <th>Wheelbase</th>\n",
              "      <th>Width</th>\n",
              "    </tr>\n",
              "  </thead>\n",
              "  <tbody>\n",
              "    <tr>\n",
              "      <th>0</th>\n",
              "      <td>None</td>\n",
              "      <td>4</td>\n",
              "      <td>Front</td>\n",
              "      <td>1.8</td>\n",
              "      <td>13.2</td>\n",
              "      <td>140.0</td>\n",
              "      <td>177.0</td>\n",
              "      <td>NaN</td>\n",
              "      <td>25.0</td>\n",
              "      <td>31.0</td>\n",
              "      <td>Acura Integra</td>\n",
              "      <td>Yes</td>\n",
              "      <td>Acura</td>\n",
              "      <td>18.8</td>\n",
              "      <td>12.9</td>\n",
              "      <td>Integra</td>\n",
              "      <td>non-USA</td>\n",
              "      <td>5.0</td>\n",
              "      <td>15.9</td>\n",
              "      <td>6300.0</td>\n",
              "      <td>26.5</td>\n",
              "      <td>2890.0</td>\n",
              "      <td>37.0</td>\n",
              "      <td>Small</td>\n",
              "      <td>2705.0</td>\n",
              "      <td>102.0</td>\n",
              "      <td>68.0</td>\n",
              "    </tr>\n",
              "    <tr>\n",
              "      <th>1</th>\n",
              "      <td>Driver &amp; Passenger</td>\n",
              "      <td>6</td>\n",
              "      <td>Front</td>\n",
              "      <td>3.2</td>\n",
              "      <td>18.0</td>\n",
              "      <td>200.0</td>\n",
              "      <td>195.0</td>\n",
              "      <td>15.0</td>\n",
              "      <td>18.0</td>\n",
              "      <td>25.0</td>\n",
              "      <td>Acura Legend</td>\n",
              "      <td>Yes</td>\n",
              "      <td>NaN</td>\n",
              "      <td>38.7</td>\n",
              "      <td>29.2</td>\n",
              "      <td>Legend</td>\n",
              "      <td>non-USA</td>\n",
              "      <td>5.0</td>\n",
              "      <td>33.9</td>\n",
              "      <td>5500.0</td>\n",
              "      <td>30.0</td>\n",
              "      <td>2335.0</td>\n",
              "      <td>38.0</td>\n",
              "      <td>Midsize</td>\n",
              "      <td>3560.0</td>\n",
              "      <td>115.0</td>\n",
              "      <td>71.0</td>\n",
              "    </tr>\n",
              "    <tr>\n",
              "      <th>2</th>\n",
              "      <td>Driver only</td>\n",
              "      <td>6</td>\n",
              "      <td>Front</td>\n",
              "      <td>2.8</td>\n",
              "      <td>16.9</td>\n",
              "      <td>172.0</td>\n",
              "      <td>180.0</td>\n",
              "      <td>14.0</td>\n",
              "      <td>20.0</td>\n",
              "      <td>26.0</td>\n",
              "      <td>Audi 90</td>\n",
              "      <td>Yes</td>\n",
              "      <td>Audi</td>\n",
              "      <td>32.3</td>\n",
              "      <td>25.9</td>\n",
              "      <td>90</td>\n",
              "      <td>non-USA</td>\n",
              "      <td>5.0</td>\n",
              "      <td>29.1</td>\n",
              "      <td>5500.0</td>\n",
              "      <td>28.0</td>\n",
              "      <td>2280.0</td>\n",
              "      <td>37.0</td>\n",
              "      <td>Compact</td>\n",
              "      <td>3375.0</td>\n",
              "      <td>102.0</td>\n",
              "      <td>67.0</td>\n",
              "    </tr>\n",
              "    <tr>\n",
              "      <th>3</th>\n",
              "      <td>Driver &amp; Passenger</td>\n",
              "      <td>6</td>\n",
              "      <td>NaN</td>\n",
              "      <td>NaN</td>\n",
              "      <td>21.1</td>\n",
              "      <td>172.0</td>\n",
              "      <td>193.0</td>\n",
              "      <td>17.0</td>\n",
              "      <td>19.0</td>\n",
              "      <td>26.0</td>\n",
              "      <td>Audi 100</td>\n",
              "      <td>NaN</td>\n",
              "      <td>Audi</td>\n",
              "      <td>44.6</td>\n",
              "      <td>NaN</td>\n",
              "      <td>100</td>\n",
              "      <td>non-USA</td>\n",
              "      <td>6.0</td>\n",
              "      <td>37.7</td>\n",
              "      <td>5500.0</td>\n",
              "      <td>31.0</td>\n",
              "      <td>2535.0</td>\n",
              "      <td>37.0</td>\n",
              "      <td>Midsize</td>\n",
              "      <td>3405.0</td>\n",
              "      <td>106.0</td>\n",
              "      <td>NaN</td>\n",
              "    </tr>\n",
              "    <tr>\n",
              "      <th>4</th>\n",
              "      <td>NaN</td>\n",
              "      <td>4</td>\n",
              "      <td>Rear</td>\n",
              "      <td>3.5</td>\n",
              "      <td>21.1</td>\n",
              "      <td>208.0</td>\n",
              "      <td>186.0</td>\n",
              "      <td>13.0</td>\n",
              "      <td>22.0</td>\n",
              "      <td>30.0</td>\n",
              "      <td>BMW 535i</td>\n",
              "      <td>Yes</td>\n",
              "      <td>BMW</td>\n",
              "      <td>NaN</td>\n",
              "      <td>NaN</td>\n",
              "      <td>535i</td>\n",
              "      <td>non-USA</td>\n",
              "      <td>4.0</td>\n",
              "      <td>30.0</td>\n",
              "      <td>5700.0</td>\n",
              "      <td>27.0</td>\n",
              "      <td>2545.0</td>\n",
              "      <td>39.0</td>\n",
              "      <td>Midsize</td>\n",
              "      <td>3640.0</td>\n",
              "      <td>109.0</td>\n",
              "      <td>69.0</td>\n",
              "    </tr>\n",
              "  </tbody>\n",
              "</table>\n",
              "</div>"
            ],
            "text/plain": [
              "              AirBags Cylinders DriveTrain  ...  Weight  Wheelbase  Width\n",
              "0                None         4      Front  ...  2705.0      102.0   68.0\n",
              "1  Driver & Passenger         6      Front  ...  3560.0      115.0   71.0\n",
              "2         Driver only         6      Front  ...  3375.0      102.0   67.0\n",
              "3  Driver & Passenger         6        NaN  ...  3405.0      106.0    NaN\n",
              "4                 NaN         4       Rear  ...  3640.0      109.0   69.0\n",
              "\n",
              "[5 rows x 27 columns]"
            ]
          },
          "metadata": {
            "tags": []
          },
          "execution_count": 254
        }
      ]
    },
    {
      "cell_type": "markdown",
      "metadata": {
        "id": "8yX6mfCmttXS"
      },
      "source": [
        "**31\\.** Как установить количество строк и столбцов, отображаемых в выводе? (☆☆☆)\n",
        "\n",
        "(hint: pd.set_option)"
      ]
    },
    {
      "cell_type": "code",
      "metadata": {
        "collapsed": true,
        "id": "DoDADYekttXS",
        "colab": {
          "base_uri": "https://localhost:8080/",
          "height": 236
        },
        "outputId": "e9efb8d4-a101-495a-cc82-32ae862849c7"
      },
      "source": [
        "df = pd.read_csv('https://raw.githubusercontent.com/selva86/datasets/master/Cars93_miss.csv')\n",
        "\n",
        "#your code\n",
        "pd.set_option('display.max_rows', 5)\n",
        "pd.set_option('display.max_columns', 3)\n",
        "df.head()"
      ],
      "execution_count": 256,
      "outputs": [
        {
          "output_type": "execute_result",
          "data": {
            "text/html": [
              "<div>\n",
              "<style scoped>\n",
              "    .dataframe tbody tr th:only-of-type {\n",
              "        vertical-align: middle;\n",
              "    }\n",
              "\n",
              "    .dataframe tbody tr th {\n",
              "        vertical-align: top;\n",
              "    }\n",
              "\n",
              "    .dataframe thead th {\n",
              "        text-align: right;\n",
              "    }\n",
              "</style>\n",
              "<table border=\"1\" class=\"dataframe\">\n",
              "  <thead>\n",
              "    <tr style=\"text-align: right;\">\n",
              "      <th></th>\n",
              "      <th>Manufacturer</th>\n",
              "      <th>...</th>\n",
              "      <th>Make</th>\n",
              "    </tr>\n",
              "  </thead>\n",
              "  <tbody>\n",
              "    <tr>\n",
              "      <th>0</th>\n",
              "      <td>Acura</td>\n",
              "      <td>...</td>\n",
              "      <td>Acura Integra</td>\n",
              "    </tr>\n",
              "    <tr>\n",
              "      <th>1</th>\n",
              "      <td>NaN</td>\n",
              "      <td>...</td>\n",
              "      <td>Acura Legend</td>\n",
              "    </tr>\n",
              "    <tr>\n",
              "      <th>2</th>\n",
              "      <td>Audi</td>\n",
              "      <td>...</td>\n",
              "      <td>Audi 90</td>\n",
              "    </tr>\n",
              "    <tr>\n",
              "      <th>3</th>\n",
              "      <td>Audi</td>\n",
              "      <td>...</td>\n",
              "      <td>Audi 100</td>\n",
              "    </tr>\n",
              "    <tr>\n",
              "      <th>4</th>\n",
              "      <td>BMW</td>\n",
              "      <td>...</td>\n",
              "      <td>BMW 535i</td>\n",
              "    </tr>\n",
              "  </tbody>\n",
              "</table>\n",
              "<p>5 rows × 27 columns</p>\n",
              "</div>"
            ],
            "text/plain": [
              "  Manufacturer  ...           Make\n",
              "0        Acura  ...  Acura Integra\n",
              "1          NaN  ...   Acura Legend\n",
              "2         Audi  ...        Audi 90\n",
              "3         Audi  ...       Audi 100\n",
              "4          BMW  ...       BMW 535i\n",
              "\n",
              "[5 rows x 27 columns]"
            ]
          },
          "metadata": {
            "tags": []
          },
          "execution_count": 256
        }
      ]
    },
    {
      "cell_type": "markdown",
      "metadata": {
        "id": "5jH-cRcittXS"
      },
      "source": [
        "**32\\.** Как получить номер строки, в которой содержится максимальное значение в столбце? (★★☆)"
      ]
    },
    {
      "cell_type": "code",
      "metadata": {
        "collapsed": true,
        "id": "7mFvF_QUttXT",
        "colab": {
          "base_uri": "https://localhost:8080/"
        },
        "outputId": "6e04c313-7d74-44b1-b257-f7c320af2b08"
      },
      "source": [
        "df = pd.DataFrame(np.random.randint(1, 30, 30).reshape(10,-1), columns=list('abc'))\n",
        "\n",
        "#your code\n",
        "df['b'].idxmax()"
      ],
      "execution_count": 295,
      "outputs": [
        {
          "output_type": "execute_result",
          "data": {
            "text/plain": [
              "8"
            ]
          },
          "metadata": {
            "tags": []
          },
          "execution_count": 295
        }
      ]
    },
    {
      "cell_type": "markdown",
      "metadata": {
        "id": "MUXI06wgttXT"
      },
      "source": [
        "**33\\.** Как получить последние n строк датафрейма с суммой строк 100?  (★★★)"
      ]
    },
    {
      "cell_type": "code",
      "metadata": {
        "collapsed": true,
        "id": "okbITj5UttXT",
        "colab": {
          "base_uri": "https://localhost:8080/",
          "height": 49
        },
        "outputId": "31945c3c-074d-4fb9-ac6c-704e8de4df8a"
      },
      "source": [
        "df = pd.DataFrame(np.random.randint(1, 30, 30).reshape(10,-1), columns=list('abc'))\n",
        "# получить все строки сумма значений которых равна 100\n",
        "df = df.loc[df.sum(axis=1) == 100]\n",
        "# получить последние n строк датафрейма\n",
        "n = 3\n",
        "df.iloc[-n:]"
      ],
      "execution_count": 299,
      "outputs": [
        {
          "output_type": "execute_result",
          "data": {
            "text/html": [
              "<div>\n",
              "<style scoped>\n",
              "    .dataframe tbody tr th:only-of-type {\n",
              "        vertical-align: middle;\n",
              "    }\n",
              "\n",
              "    .dataframe tbody tr th {\n",
              "        vertical-align: top;\n",
              "    }\n",
              "\n",
              "    .dataframe thead th {\n",
              "        text-align: right;\n",
              "    }\n",
              "</style>\n",
              "<table border=\"1\" class=\"dataframe\">\n",
              "  <thead>\n",
              "    <tr style=\"text-align: right;\">\n",
              "      <th></th>\n",
              "      <th>a</th>\n",
              "      <th>b</th>\n",
              "      <th>c</th>\n",
              "    </tr>\n",
              "  </thead>\n",
              "  <tbody>\n",
              "  </tbody>\n",
              "</table>\n",
              "</div>"
            ],
            "text/plain": [
              "Empty DataFrame\n",
              "Columns: [a, b, c]\n",
              "Index: []"
            ]
          },
          "metadata": {
            "tags": []
          },
          "execution_count": 299
        }
      ]
    },
    {
      "cell_type": "markdown",
      "metadata": {
        "heading_collapsed": true,
        "id": "XrlvDWKIttXT"
      },
      "source": [
        "### Выбросы (оutliers)"
      ]
    },
    {
      "cell_type": "markdown",
      "metadata": {
        "hidden": true,
        "id": "ST62o-3kttXT"
      },
      "source": [
        "* 5 Ways to Detect Outliers/Anomalies That Every Data Scientist Should Know (Python Code)\n",
        "\n",
        "https://towardsdatascience.com/5-ways-to-detect-outliers-that-every-data-scientist-should-know-python-code-70a54335a623"
      ]
    },
    {
      "cell_type": "markdown",
      "metadata": {
        "hidden": true,
        "id": "sCqJaYvattXT"
      },
      "source": [
        "**34\\.** Как найти и заменить выбросы из столбца Series или датафрейма? (★★★)\n",
        "\n",
        "Замените все значения из столбца ниже 5того и больше 95го персентиля, на пограничные значения.\n",
        "\n",
        "(hint: .quantile())"
      ]
    },
    {
      "cell_type": "code",
      "metadata": {
        "collapsed": true,
        "hidden": true,
        "id": "mf8j5PuyttXT",
        "colab": {
          "base_uri": "https://localhost:8080/"
        },
        "outputId": "876bed02-2c7c-4c23-d997-39072f490ad9"
      },
      "source": [
        "s = pd.Series(np.logspace(-2, 2, 30))\n",
        "\n",
        "#your code\n",
        "boundary_val_bottom = s.quantile(0.05)\n",
        "boundary_val_top = s.quantile(0.95)\n",
        "\n",
        "s = s.mask(s < boundary_val_bottom, boundary_val_bottom)\n",
        "s = s.mask(s > boundary_val_top, boundary_val_top)\n",
        "s.head()"
      ],
      "execution_count": 303,
      "outputs": [
        {
          "output_type": "execute_result",
          "data": {
            "text/plain": [
              "0    0.016049\n",
              "1    0.016049\n",
              "2    0.018874\n",
              "3    0.025929\n",
              "4    0.035622\n",
              "dtype: float64"
            ]
          },
          "metadata": {
            "tags": []
          },
          "execution_count": 303
        }
      ]
    },
    {
      "cell_type": "markdown",
      "metadata": {
        "hidden": true,
        "id": "ewHGCKnNttXU"
      },
      "source": [
        "**35\\.** Попробуйте реализовать метод Interquartile Range (IQR) (★★★)\n",
        "\n",
        "Почитать про него можно по ссылке выше."
      ]
    },
    {
      "cell_type": "code",
      "metadata": {
        "collapsed": true,
        "hidden": true,
        "id": "x3T_Cf6sttXU",
        "colab": {
          "base_uri": "https://localhost:8080/"
        },
        "outputId": "ed8df7ae-32ac-4091-cb13-f676aa764208"
      },
      "source": [
        "s = pd.Series(np.logspace(-2, 2, 30))\n",
        "\n",
        "#your code\n",
        "def interquartile_range(df):\n",
        "    Q1 = df.quantile(0.25)\n",
        "    Q3 = df.quantile(0.75)\n",
        "    IQR = Q3 - Q1\n",
        "    lower_whisker = Q1 - 1.5*IQR\n",
        "    upper_whisker = Q3 + 1.5*IQR\n",
        "    return df.loc[((df >= lower_whisker) & (df <= upper_whisker))]\n",
        "\n",
        "interquartile_range(s)"
      ],
      "execution_count": 313,
      "outputs": [
        {
          "output_type": "execute_result",
          "data": {
            "text/plain": [
              "0      0.010000\n",
              "1      0.013738\n",
              "        ...    \n",
              "23    14.873521\n",
              "24    20.433597\n",
              "Length: 25, dtype: float64"
            ]
          },
          "metadata": {
            "tags": []
          },
          "execution_count": 313
        }
      ]
    },
    {
      "cell_type": "markdown",
      "metadata": {
        "hidden": true,
        "id": "vyR4hBBkttXU"
      },
      "source": [
        "**36\\.** Как поменять местами две строки данных? (★★★)"
      ]
    },
    {
      "cell_type": "code",
      "metadata": {
        "collapsed": true,
        "hidden": true,
        "id": "3mRRyWm6ttXU",
        "colab": {
          "base_uri": "https://localhost:8080/"
        },
        "outputId": "4f27ac1f-6fcd-43e2-8536-63ee05406e56"
      },
      "source": [
        "df = pd.DataFrame(np.arange(25).reshape(5, -1))\n",
        "\n",
        "#your code\n",
        "def swap_rows(df, row_a, row_b):\n",
        "    a, b = df.iloc[row_a, :].copy(), df.iloc[row_b, :].copy()\n",
        "    df.iloc[row_a, :], df.iloc[row_b, :] = b, a\n",
        "    return df\n",
        "\n",
        "print(df.head()) # before\n",
        "print(swap_rows(df, 0, 1).head()) # after"
      ],
      "execution_count": 316,
      "outputs": [
        {
          "output_type": "stream",
          "text": [
            "    0  ...   4\n",
            "0   0  ...   4\n",
            "1   5  ...   9\n",
            "2  10  ...  14\n",
            "3  15  ...  19\n",
            "4  20  ...  24\n",
            "\n",
            "[5 rows x 5 columns]\n",
            "    0  ...   4\n",
            "0   5  ...   9\n",
            "1   0  ...   4\n",
            "2  10  ...  14\n",
            "3  15  ...  19\n",
            "4  20  ...  24\n",
            "\n",
            "[5 rows x 5 columns]\n"
          ],
          "name": "stdout"
        }
      ]
    },
    {
      "cell_type": "markdown",
      "metadata": {
        "heading_collapsed": true,
        "id": "y2AUfmvwttXU"
      },
      "source": [
        "### one-hot-encoding"
      ]
    },
    {
      "cell_type": "markdown",
      "metadata": {
        "hidden": true,
        "id": "wpa2T4Q8ttXV"
      },
      "source": [
        "**37\\.** Как создать однозначные кодировки категориальной переменной? (★★★)\n",
        "\n",
        "Сделайте one-hot кодировку столбца 'a'."
      ]
    },
    {
      "cell_type": "code",
      "metadata": {
        "collapsed": true,
        "hidden": true,
        "id": "IGZBmZqxttXV"
      },
      "source": [
        "df = pd.DataFrame([['aa', 'kek'], ['ba', 'lol'], ['ab', 'kek'], ['aa', 'lol'], ['cc', 'kek']], columns=['a', 'b'])\n",
        "\n",
        "#your code"
      ],
      "execution_count": null,
      "outputs": []
    },
    {
      "cell_type": "markdown",
      "metadata": {
        "hidden": true,
        "id": "cR8oEAezttXV"
      },
      "source": [
        "**38\\.** Нормализуйте все столбцы в датафрейме. (★★★)\n",
        "\n",
        "a) Нормализовать все столбцы df путем вычитания среднего значения столбца и деления на стандартное отклонение. \n",
        "\n",
        "b) Трансформируйте все столбцы df так, чтобы минимальное значение в каждом столбце было 0, а max = 1."
      ]
    },
    {
      "cell_type": "code",
      "metadata": {
        "collapsed": true,
        "hidden": true,
        "id": "ui1XhufyttXV"
      },
      "source": [
        "df = pd.DataFrame(np.random.randint(1,100, 80).reshape(8, -1))\n",
        "\n",
        "#your code"
      ],
      "execution_count": null,
      "outputs": []
    },
    {
      "cell_type": "markdown",
      "metadata": {
        "hidden": true,
        "id": "cRapvdwMttXV"
      },
      "source": [
        "**39\\.** Как получить конкретную группу из датафрейма сгруппированного по ключу? (★★★)\n",
        "\n",
        "Сгруппируйте по 'name', и выведите данные по группе 'orange'.\n",
        "\n",
        "(hint: groupby(), get_group())"
      ]
    },
    {
      "cell_type": "code",
      "metadata": {
        "collapsed": true,
        "hidden": true,
        "id": "eFoZqPrittXW"
      },
      "source": [
        "df = pd.DataFrame({'name': ['apple', 'banana', 'orange'] * 3,\n",
        "                   'taste': np.random.rand(9),\n",
        "                   'price': np.random.randint(0, 15, 9)})\n",
        "\n",
        "#your code"
      ],
      "execution_count": null,
      "outputs": []
    },
    {
      "cell_type": "markdown",
      "metadata": {
        "hidden": true,
        "id": "aNnfnfOPttXW"
      },
      "source": [
        "**40\\.** Как вычислить среднее значение по столбцу 'price' по каждому фрукту в датафрейме и сохранить сгруппированный столбец как другой столбец (не индекс)? (★★★)"
      ]
    },
    {
      "cell_type": "code",
      "metadata": {
        "collapsed": true,
        "hidden": true,
        "id": "mPkOvM7sttXW"
      },
      "source": [
        "df = pd.DataFrame({'name': ['apple', 'banana', 'orange'] * 3,\n",
        "                   'taste': np.random.rand(9),\n",
        "                   'price': np.random.randint(0, 15, 9)})\n",
        "\n",
        "#your code"
      ],
      "execution_count": null,
      "outputs": []
    },
    {
      "cell_type": "markdown",
      "metadata": {
        "hidden": true,
        "id": "q2zzUxUYttXW"
      },
      "source": [
        "**41\\.** Как объединить два датафрейма по двум столбцам, чтобы в них остались только общие строки?  (★★★)\n",
        "\n",
        "Сделать merge двух датафреймов по колонкам ['fruit', 'weight'] и ['pazham', 'kilo'].\n",
        "\n",
        "(hint: pd.merge https://pandas.pydata.org/pandas-docs/stable/getting_started/10min.html#merge )"
      ]
    },
    {
      "cell_type": "code",
      "metadata": {
        "collapsed": true,
        "hidden": true,
        "id": "0WGbiSuMttXZ"
      },
      "source": [
        "df1 = pd.DataFrame({'fruit': ['apple', 'banana', 'orange'] * 3,\n",
        "                    'weight': ['high', 'medium', 'low'] * 3,\n",
        "                    'price': np.random.randint(0, 15, 9)})\n",
        "\n",
        "df2 = pd.DataFrame({'pazham': ['apple', 'orange', 'pine'] * 2,\n",
        "                    'kilo': ['high', 'low'] * 3,\n",
        "                    'price': np.random.randint(0, 15, 6)})\n",
        "\n",
        "#your code"
      ],
      "execution_count": null,
      "outputs": []
    },
    {
      "cell_type": "markdown",
      "metadata": {
        "hidden": true,
        "id": "2fDe_qgYttXZ"
      },
      "source": [
        "**42\\.** Как удалить строки из датафрейма А, которые присутствуют в датафрейме B? (★★★)\n"
      ]
    },
    {
      "cell_type": "code",
      "metadata": {
        "collapsed": true,
        "hidden": true,
        "id": "5TOBAOcjttXZ"
      },
      "source": [
        "df1 = pd.DataFrame({'fruit': ['apple', 'orange', 'banana'] * 3,\n",
        "                    'weight': ['high', 'medium', 'low'] * 3,\n",
        "                    'price': np.arange(9)})\n",
        "\n",
        "df2 = pd.DataFrame({'fruit': ['apple', 'orange', 'pine'] * 2,\n",
        "                    'weight': ['high', 'medium'] * 3,\n",
        "                    'price': np.arange(6)})\n",
        "\n",
        "#your code"
      ],
      "execution_count": null,
      "outputs": []
    },
    {
      "cell_type": "markdown",
      "metadata": {
        "hidden": true,
        "id": "1WgWpnlEttXZ"
      },
      "source": [
        "**43\\.** Как получить номера строк, в которых совпадают значения двух столбцов? (★★★)\n",
        "\n",
        "(hint: np.where)"
      ]
    },
    {
      "cell_type": "code",
      "metadata": {
        "collapsed": true,
        "hidden": true,
        "id": "z7lS-hMPttXa"
      },
      "source": [
        "df = pd.DataFrame({'fruit1': np.random.choice(['apple', 'orange', 'banana'], 10),\n",
        "                    'fruit2': np.random.choice(['apple', 'orange', 'banana'], 10)})\n",
        "\n",
        "\n",
        "#your code"
      ],
      "execution_count": null,
      "outputs": []
    },
    {
      "cell_type": "markdown",
      "metadata": {
        "hidden": true,
        "id": "4UKch6B_ttXa"
      },
      "source": [
        "**44\\.** Создайте столбец a_shift со сдвигом на одну строку назад. (★★★)\n",
        "\n",
        "(hint: .shift())"
      ]
    },
    {
      "cell_type": "code",
      "metadata": {
        "collapsed": true,
        "hidden": true,
        "id": "TUnd9r1dttXa"
      },
      "source": [
        "df = pd.DataFrame(np.random.randint(1, 100, 20).reshape(-1, 4), columns = list('abcd'))\n",
        "\n",
        "#your code"
      ],
      "execution_count": null,
      "outputs": []
    },
    {
      "cell_type": "markdown",
      "metadata": {
        "hidden": true,
        "id": "ubBuAWs2ttXa"
      },
      "source": [
        "**45\\.** Как разбить текстовый столбец на три отдельных столбца? (★★★)\n",
        "\n",
        "Разбить на три столбцы STD, City, State"
      ]
    },
    {
      "cell_type": "code",
      "metadata": {
        "collapsed": true,
        "hidden": true,
        "id": "87s9lDrbttXb"
      },
      "source": [
        "df = pd.DataFrame([\"STD, City    State\",\n",
        "\"33, Kolkata    West Bengal\",\n",
        "\"44, Chennai    Tamil Nadu\",\n",
        "\"40, Hyderabad    Telengana\",\n",
        "\"80, Bangalore    Karnataka\"], columns=['row'])\n",
        "\n",
        "#your code"
      ],
      "execution_count": null,
      "outputs": []
    },
    {
      "cell_type": "markdown",
      "metadata": {
        "heading_collapsed": true,
        "id": "XIuTdAKyttXb"
      },
      "source": [
        "### **46\\.** Ну а теперь все вместе.  (★★★★★★★★★★)"
      ]
    },
    {
      "cell_type": "markdown",
      "metadata": {
        "hidden": true,
        "id": "LQZAr1nDttXb"
      },
      "source": [
        "* Заменяем все точки в названии на '_'\n",
        "* Выделить категориальные признаки\n",
        "* Посчитать кол-во уникальных значений во всех текстовых\\категориальных столбцах. \n",
        "* Колонки с только уникальными значениями удаляем (например Model и Make)\n",
        "* Для столбцов у которых значений более 10, оставляем топ 10 значений, остальные заменяем на 'other'\n",
        "* Числовые столбцы проверяем на пропуски. Подсчитываем кол-во nan\\none и делим на размер датафрейма -сохраняем в отдельный датафрейм, это доля пропусков в каждом столбце\n",
        "* Чистим выбросы. Во всех числовых столбцах заменяем все значения столбца меньше 5го персентиля и больше 95ого персентиля на эти пограничные значения.\n",
        "* Заполняем пропуски в числовых столбцах на среднее по столбцу, в текстовых столбцах на 'other'\n",
        "* Все категориальные признаки превращаем в one-hot-encoding\n",
        "* Создать новый столбец Length_Width = Length * Width\n",
        "* Столбцы MPG_cityми MPG_highway из MPG перевести в единицы LPG (литры \\100 км) = (100 * 3,785)  / (MPG * 1,609)\n",
        "* Посчитать среднюю цену по каждому типу машины у каждого производителя\n",
        "* Посчитать максимальные Length и Width по Type\n",
        "* Посчитать кол-во моделей машин по типу машины и наличию подушки безопасности (агрегирование по столбцам Type и AirBags)\n",
        "* Посчитать кол-во машин по каждому типу машины у каждого производителя(агрегирование по столбцам Type и Manufacturer)\n",
        "* Посчитать кол-во машин по Manufacturer-Man_trans_avail\n",
        "* Вывести у какой модели, какого изготовителя максимальная вместимость по пассажирам"
      ]
    },
    {
      "cell_type": "code",
      "metadata": {
        "collapsed": true,
        "hidden": true,
        "id": "tHqB40nsttXc"
      },
      "source": [
        "df = pd.read_csv('https://raw.githubusercontent.com/selva86/datasets/master/Cars93_miss.csv')\n",
        "\n",
        "#your code"
      ],
      "execution_count": null,
      "outputs": []
    },
    {
      "cell_type": "code",
      "metadata": {
        "hidden": true,
        "id": "UdBxIPd6ttXc",
        "outputId": "a81dcf26-c474-4d48-eab1-e6762f42d4c3"
      },
      "source": [
        "df"
      ],
      "execution_count": null,
      "outputs": [
        {
          "output_type": "execute_result",
          "data": {
            "text/html": [
              "<div>\n",
              "<style scoped>\n",
              "    .dataframe tbody tr th:only-of-type {\n",
              "        vertical-align: middle;\n",
              "    }\n",
              "\n",
              "    .dataframe tbody tr th {\n",
              "        vertical-align: top;\n",
              "    }\n",
              "\n",
              "    .dataframe thead th {\n",
              "        text-align: right;\n",
              "    }\n",
              "</style>\n",
              "<table border=\"1\" class=\"dataframe\">\n",
              "  <thead>\n",
              "    <tr style=\"text-align: right;\">\n",
              "      <th></th>\n",
              "      <th>Manufacturer</th>\n",
              "      <th>Model</th>\n",
              "      <th>Type</th>\n",
              "      <th>Min.Price</th>\n",
              "      <th>Price</th>\n",
              "      <th>Max.Price</th>\n",
              "      <th>MPG.city</th>\n",
              "      <th>MPG.highway</th>\n",
              "      <th>AirBags</th>\n",
              "      <th>DriveTrain</th>\n",
              "      <th>...</th>\n",
              "      <th>Passengers</th>\n",
              "      <th>Length</th>\n",
              "      <th>Wheelbase</th>\n",
              "      <th>Width</th>\n",
              "      <th>Turn.circle</th>\n",
              "      <th>Rear.seat.room</th>\n",
              "      <th>Luggage.room</th>\n",
              "      <th>Weight</th>\n",
              "      <th>Origin</th>\n",
              "      <th>Make</th>\n",
              "    </tr>\n",
              "  </thead>\n",
              "  <tbody>\n",
              "    <tr>\n",
              "      <th>0</th>\n",
              "      <td>Acura</td>\n",
              "      <td>Integra</td>\n",
              "      <td>Small</td>\n",
              "      <td>12.9</td>\n",
              "      <td>15.9</td>\n",
              "      <td>18.8</td>\n",
              "      <td>25.0</td>\n",
              "      <td>31.0</td>\n",
              "      <td>None</td>\n",
              "      <td>Front</td>\n",
              "      <td>...</td>\n",
              "      <td>5.0</td>\n",
              "      <td>177.0</td>\n",
              "      <td>102.0</td>\n",
              "      <td>68.0</td>\n",
              "      <td>37.0</td>\n",
              "      <td>26.5</td>\n",
              "      <td>NaN</td>\n",
              "      <td>2705.0</td>\n",
              "      <td>non-USA</td>\n",
              "      <td>Acura Integra</td>\n",
              "    </tr>\n",
              "    <tr>\n",
              "      <th>1</th>\n",
              "      <td>NaN</td>\n",
              "      <td>Legend</td>\n",
              "      <td>Midsize</td>\n",
              "      <td>29.2</td>\n",
              "      <td>33.9</td>\n",
              "      <td>38.7</td>\n",
              "      <td>18.0</td>\n",
              "      <td>25.0</td>\n",
              "      <td>Driver &amp; Passenger</td>\n",
              "      <td>Front</td>\n",
              "      <td>...</td>\n",
              "      <td>5.0</td>\n",
              "      <td>195.0</td>\n",
              "      <td>115.0</td>\n",
              "      <td>71.0</td>\n",
              "      <td>38.0</td>\n",
              "      <td>30.0</td>\n",
              "      <td>15.0</td>\n",
              "      <td>3560.0</td>\n",
              "      <td>non-USA</td>\n",
              "      <td>Acura Legend</td>\n",
              "    </tr>\n",
              "    <tr>\n",
              "      <th>2</th>\n",
              "      <td>Audi</td>\n",
              "      <td>90</td>\n",
              "      <td>Compact</td>\n",
              "      <td>25.9</td>\n",
              "      <td>29.1</td>\n",
              "      <td>32.3</td>\n",
              "      <td>20.0</td>\n",
              "      <td>26.0</td>\n",
              "      <td>Driver only</td>\n",
              "      <td>Front</td>\n",
              "      <td>...</td>\n",
              "      <td>5.0</td>\n",
              "      <td>180.0</td>\n",
              "      <td>102.0</td>\n",
              "      <td>67.0</td>\n",
              "      <td>37.0</td>\n",
              "      <td>28.0</td>\n",
              "      <td>14.0</td>\n",
              "      <td>3375.0</td>\n",
              "      <td>non-USA</td>\n",
              "      <td>Audi 90</td>\n",
              "    </tr>\n",
              "    <tr>\n",
              "      <th>3</th>\n",
              "      <td>Audi</td>\n",
              "      <td>100</td>\n",
              "      <td>Midsize</td>\n",
              "      <td>NaN</td>\n",
              "      <td>37.7</td>\n",
              "      <td>44.6</td>\n",
              "      <td>19.0</td>\n",
              "      <td>26.0</td>\n",
              "      <td>Driver &amp; Passenger</td>\n",
              "      <td>NaN</td>\n",
              "      <td>...</td>\n",
              "      <td>6.0</td>\n",
              "      <td>193.0</td>\n",
              "      <td>106.0</td>\n",
              "      <td>NaN</td>\n",
              "      <td>37.0</td>\n",
              "      <td>31.0</td>\n",
              "      <td>17.0</td>\n",
              "      <td>3405.0</td>\n",
              "      <td>non-USA</td>\n",
              "      <td>Audi 100</td>\n",
              "    </tr>\n",
              "    <tr>\n",
              "      <th>4</th>\n",
              "      <td>BMW</td>\n",
              "      <td>535i</td>\n",
              "      <td>Midsize</td>\n",
              "      <td>NaN</td>\n",
              "      <td>30.0</td>\n",
              "      <td>NaN</td>\n",
              "      <td>22.0</td>\n",
              "      <td>30.0</td>\n",
              "      <td>NaN</td>\n",
              "      <td>Rear</td>\n",
              "      <td>...</td>\n",
              "      <td>4.0</td>\n",
              "      <td>186.0</td>\n",
              "      <td>109.0</td>\n",
              "      <td>69.0</td>\n",
              "      <td>39.0</td>\n",
              "      <td>27.0</td>\n",
              "      <td>13.0</td>\n",
              "      <td>3640.0</td>\n",
              "      <td>non-USA</td>\n",
              "      <td>BMW 535i</td>\n",
              "    </tr>\n",
              "    <tr>\n",
              "      <th>5</th>\n",
              "      <td>Buick</td>\n",
              "      <td>Century</td>\n",
              "      <td>Midsize</td>\n",
              "      <td>14.2</td>\n",
              "      <td>15.7</td>\n",
              "      <td>17.3</td>\n",
              "      <td>22.0</td>\n",
              "      <td>31.0</td>\n",
              "      <td>Driver only</td>\n",
              "      <td>NaN</td>\n",
              "      <td>...</td>\n",
              "      <td>6.0</td>\n",
              "      <td>189.0</td>\n",
              "      <td>105.0</td>\n",
              "      <td>69.0</td>\n",
              "      <td>41.0</td>\n",
              "      <td>28.0</td>\n",
              "      <td>16.0</td>\n",
              "      <td>NaN</td>\n",
              "      <td>USA</td>\n",
              "      <td>Buick Century</td>\n",
              "    </tr>\n",
              "    <tr>\n",
              "      <th>6</th>\n",
              "      <td>Buick</td>\n",
              "      <td>LeSabre</td>\n",
              "      <td>Large</td>\n",
              "      <td>19.9</td>\n",
              "      <td>20.8</td>\n",
              "      <td>NaN</td>\n",
              "      <td>19.0</td>\n",
              "      <td>28.0</td>\n",
              "      <td>Driver only</td>\n",
              "      <td>Front</td>\n",
              "      <td>...</td>\n",
              "      <td>6.0</td>\n",
              "      <td>200.0</td>\n",
              "      <td>111.0</td>\n",
              "      <td>74.0</td>\n",
              "      <td>42.0</td>\n",
              "      <td>30.5</td>\n",
              "      <td>17.0</td>\n",
              "      <td>3470.0</td>\n",
              "      <td>USA</td>\n",
              "      <td>Buick LeSabre</td>\n",
              "    </tr>\n",
              "    <tr>\n",
              "      <th>7</th>\n",
              "      <td>Buick</td>\n",
              "      <td>Roadmaster</td>\n",
              "      <td>Large</td>\n",
              "      <td>22.6</td>\n",
              "      <td>23.7</td>\n",
              "      <td>24.9</td>\n",
              "      <td>16.0</td>\n",
              "      <td>25.0</td>\n",
              "      <td>Driver only</td>\n",
              "      <td>Rear</td>\n",
              "      <td>...</td>\n",
              "      <td>6.0</td>\n",
              "      <td>216.0</td>\n",
              "      <td>116.0</td>\n",
              "      <td>78.0</td>\n",
              "      <td>45.0</td>\n",
              "      <td>30.5</td>\n",
              "      <td>21.0</td>\n",
              "      <td>4105.0</td>\n",
              "      <td>USA</td>\n",
              "      <td>Buick Roadmaster</td>\n",
              "    </tr>\n",
              "    <tr>\n",
              "      <th>8</th>\n",
              "      <td>Buick</td>\n",
              "      <td>Riviera</td>\n",
              "      <td>Midsize</td>\n",
              "      <td>26.3</td>\n",
              "      <td>26.3</td>\n",
              "      <td>26.3</td>\n",
              "      <td>19.0</td>\n",
              "      <td>27.0</td>\n",
              "      <td>Driver only</td>\n",
              "      <td>Front</td>\n",
              "      <td>...</td>\n",
              "      <td>5.0</td>\n",
              "      <td>198.0</td>\n",
              "      <td>108.0</td>\n",
              "      <td>NaN</td>\n",
              "      <td>41.0</td>\n",
              "      <td>26.5</td>\n",
              "      <td>14.0</td>\n",
              "      <td>3495.0</td>\n",
              "      <td>USA</td>\n",
              "      <td>Buick Riviera</td>\n",
              "    </tr>\n",
              "    <tr>\n",
              "      <th>9</th>\n",
              "      <td>Cadillac</td>\n",
              "      <td>DeVille</td>\n",
              "      <td>Large</td>\n",
              "      <td>33.0</td>\n",
              "      <td>34.7</td>\n",
              "      <td>36.3</td>\n",
              "      <td>16.0</td>\n",
              "      <td>25.0</td>\n",
              "      <td>Driver only</td>\n",
              "      <td>Front</td>\n",
              "      <td>...</td>\n",
              "      <td>6.0</td>\n",
              "      <td>206.0</td>\n",
              "      <td>114.0</td>\n",
              "      <td>73.0</td>\n",
              "      <td>43.0</td>\n",
              "      <td>35.0</td>\n",
              "      <td>18.0</td>\n",
              "      <td>3620.0</td>\n",
              "      <td>USA</td>\n",
              "      <td>Cadillac DeVille</td>\n",
              "    </tr>\n",
              "    <tr>\n",
              "      <th>10</th>\n",
              "      <td>Cadillac</td>\n",
              "      <td>Seville</td>\n",
              "      <td>Midsize</td>\n",
              "      <td>37.5</td>\n",
              "      <td>40.1</td>\n",
              "      <td>42.7</td>\n",
              "      <td>16.0</td>\n",
              "      <td>25.0</td>\n",
              "      <td>Driver &amp; Passenger</td>\n",
              "      <td>Front</td>\n",
              "      <td>...</td>\n",
              "      <td>5.0</td>\n",
              "      <td>204.0</td>\n",
              "      <td>111.0</td>\n",
              "      <td>74.0</td>\n",
              "      <td>44.0</td>\n",
              "      <td>31.0</td>\n",
              "      <td>NaN</td>\n",
              "      <td>3935.0</td>\n",
              "      <td>USA</td>\n",
              "      <td>Cadillac Seville</td>\n",
              "    </tr>\n",
              "    <tr>\n",
              "      <th>11</th>\n",
              "      <td>Chevrolet</td>\n",
              "      <td>Cavalier</td>\n",
              "      <td>Compact</td>\n",
              "      <td>8.5</td>\n",
              "      <td>13.4</td>\n",
              "      <td>18.3</td>\n",
              "      <td>25.0</td>\n",
              "      <td>36.0</td>\n",
              "      <td>NaN</td>\n",
              "      <td>NaN</td>\n",
              "      <td>...</td>\n",
              "      <td>5.0</td>\n",
              "      <td>182.0</td>\n",
              "      <td>101.0</td>\n",
              "      <td>66.0</td>\n",
              "      <td>38.0</td>\n",
              "      <td>25.0</td>\n",
              "      <td>13.0</td>\n",
              "      <td>2490.0</td>\n",
              "      <td>USA</td>\n",
              "      <td>Chevrolet Cavalier</td>\n",
              "    </tr>\n",
              "    <tr>\n",
              "      <th>12</th>\n",
              "      <td>Chevrolet</td>\n",
              "      <td>Corsica</td>\n",
              "      <td>Compact</td>\n",
              "      <td>11.4</td>\n",
              "      <td>11.4</td>\n",
              "      <td>11.4</td>\n",
              "      <td>25.0</td>\n",
              "      <td>34.0</td>\n",
              "      <td>Driver only</td>\n",
              "      <td>Front</td>\n",
              "      <td>...</td>\n",
              "      <td>5.0</td>\n",
              "      <td>184.0</td>\n",
              "      <td>103.0</td>\n",
              "      <td>68.0</td>\n",
              "      <td>39.0</td>\n",
              "      <td>26.0</td>\n",
              "      <td>NaN</td>\n",
              "      <td>2785.0</td>\n",
              "      <td>USA</td>\n",
              "      <td>Chevrolet Corsica</td>\n",
              "    </tr>\n",
              "    <tr>\n",
              "      <th>13</th>\n",
              "      <td>Chevrolet</td>\n",
              "      <td>Camaro</td>\n",
              "      <td>Sporty</td>\n",
              "      <td>13.4</td>\n",
              "      <td>15.1</td>\n",
              "      <td>16.8</td>\n",
              "      <td>19.0</td>\n",
              "      <td>28.0</td>\n",
              "      <td>Driver &amp; Passenger</td>\n",
              "      <td>Rear</td>\n",
              "      <td>...</td>\n",
              "      <td>4.0</td>\n",
              "      <td>193.0</td>\n",
              "      <td>101.0</td>\n",
              "      <td>74.0</td>\n",
              "      <td>43.0</td>\n",
              "      <td>25.0</td>\n",
              "      <td>13.0</td>\n",
              "      <td>3240.0</td>\n",
              "      <td>USA</td>\n",
              "      <td>Chevrolet Camaro</td>\n",
              "    </tr>\n",
              "    <tr>\n",
              "      <th>14</th>\n",
              "      <td>Chevrolet</td>\n",
              "      <td>Lumina</td>\n",
              "      <td>Midsize</td>\n",
              "      <td>13.4</td>\n",
              "      <td>15.9</td>\n",
              "      <td>18.4</td>\n",
              "      <td>NaN</td>\n",
              "      <td>29.0</td>\n",
              "      <td>None</td>\n",
              "      <td>Front</td>\n",
              "      <td>...</td>\n",
              "      <td>6.0</td>\n",
              "      <td>NaN</td>\n",
              "      <td>108.0</td>\n",
              "      <td>71.0</td>\n",
              "      <td>NaN</td>\n",
              "      <td>28.5</td>\n",
              "      <td>16.0</td>\n",
              "      <td>3195.0</td>\n",
              "      <td>USA</td>\n",
              "      <td>Chevrolet Lumina</td>\n",
              "    </tr>\n",
              "    <tr>\n",
              "      <th>15</th>\n",
              "      <td>Chevrolet</td>\n",
              "      <td>Lumina_APV</td>\n",
              "      <td>Van</td>\n",
              "      <td>14.7</td>\n",
              "      <td>16.3</td>\n",
              "      <td>18.0</td>\n",
              "      <td>18.0</td>\n",
              "      <td>23.0</td>\n",
              "      <td>None</td>\n",
              "      <td>Front</td>\n",
              "      <td>...</td>\n",
              "      <td>7.0</td>\n",
              "      <td>178.0</td>\n",
              "      <td>110.0</td>\n",
              "      <td>74.0</td>\n",
              "      <td>44.0</td>\n",
              "      <td>30.5</td>\n",
              "      <td>NaN</td>\n",
              "      <td>3715.0</td>\n",
              "      <td>USA</td>\n",
              "      <td>Chevrolet Lumina_APV</td>\n",
              "    </tr>\n",
              "    <tr>\n",
              "      <th>16</th>\n",
              "      <td>Chevrolet</td>\n",
              "      <td>Astro</td>\n",
              "      <td>Van</td>\n",
              "      <td>14.7</td>\n",
              "      <td>16.6</td>\n",
              "      <td>18.6</td>\n",
              "      <td>15.0</td>\n",
              "      <td>20.0</td>\n",
              "      <td>None</td>\n",
              "      <td>4WD</td>\n",
              "      <td>...</td>\n",
              "      <td>8.0</td>\n",
              "      <td>194.0</td>\n",
              "      <td>111.0</td>\n",
              "      <td>78.0</td>\n",
              "      <td>42.0</td>\n",
              "      <td>33.5</td>\n",
              "      <td>NaN</td>\n",
              "      <td>4025.0</td>\n",
              "      <td>USA</td>\n",
              "      <td>Chevrolet Astro</td>\n",
              "    </tr>\n",
              "    <tr>\n",
              "      <th>17</th>\n",
              "      <td>Chevrolet</td>\n",
              "      <td>Caprice</td>\n",
              "      <td>Large</td>\n",
              "      <td>18.0</td>\n",
              "      <td>18.8</td>\n",
              "      <td>19.6</td>\n",
              "      <td>17.0</td>\n",
              "      <td>26.0</td>\n",
              "      <td>Driver only</td>\n",
              "      <td>Rear</td>\n",
              "      <td>...</td>\n",
              "      <td>6.0</td>\n",
              "      <td>214.0</td>\n",
              "      <td>116.0</td>\n",
              "      <td>77.0</td>\n",
              "      <td>42.0</td>\n",
              "      <td>29.5</td>\n",
              "      <td>20.0</td>\n",
              "      <td>3910.0</td>\n",
              "      <td>USA</td>\n",
              "      <td>Chevrolet Caprice</td>\n",
              "    </tr>\n",
              "    <tr>\n",
              "      <th>18</th>\n",
              "      <td>Chevrolet</td>\n",
              "      <td>Corvette</td>\n",
              "      <td>Sporty</td>\n",
              "      <td>34.6</td>\n",
              "      <td>38.0</td>\n",
              "      <td>41.5</td>\n",
              "      <td>17.0</td>\n",
              "      <td>25.0</td>\n",
              "      <td>Driver only</td>\n",
              "      <td>Rear</td>\n",
              "      <td>...</td>\n",
              "      <td>2.0</td>\n",
              "      <td>179.0</td>\n",
              "      <td>96.0</td>\n",
              "      <td>74.0</td>\n",
              "      <td>43.0</td>\n",
              "      <td>NaN</td>\n",
              "      <td>NaN</td>\n",
              "      <td>3380.0</td>\n",
              "      <td>NaN</td>\n",
              "      <td>Chevrolet Corvette</td>\n",
              "    </tr>\n",
              "    <tr>\n",
              "      <th>19</th>\n",
              "      <td>NaN</td>\n",
              "      <td>Concorde</td>\n",
              "      <td>Large</td>\n",
              "      <td>18.4</td>\n",
              "      <td>18.4</td>\n",
              "      <td>18.4</td>\n",
              "      <td>20.0</td>\n",
              "      <td>28.0</td>\n",
              "      <td>Driver &amp; Passenger</td>\n",
              "      <td>Front</td>\n",
              "      <td>...</td>\n",
              "      <td>6.0</td>\n",
              "      <td>203.0</td>\n",
              "      <td>113.0</td>\n",
              "      <td>74.0</td>\n",
              "      <td>NaN</td>\n",
              "      <td>31.0</td>\n",
              "      <td>15.0</td>\n",
              "      <td>3515.0</td>\n",
              "      <td>USA</td>\n",
              "      <td>Chrylser Concorde</td>\n",
              "    </tr>\n",
              "    <tr>\n",
              "      <th>20</th>\n",
              "      <td>Chrysler</td>\n",
              "      <td>LeBaron</td>\n",
              "      <td>Compact</td>\n",
              "      <td>14.5</td>\n",
              "      <td>15.8</td>\n",
              "      <td>17.1</td>\n",
              "      <td>23.0</td>\n",
              "      <td>28.0</td>\n",
              "      <td>Driver &amp; Passenger</td>\n",
              "      <td>Front</td>\n",
              "      <td>...</td>\n",
              "      <td>6.0</td>\n",
              "      <td>183.0</td>\n",
              "      <td>104.0</td>\n",
              "      <td>68.0</td>\n",
              "      <td>41.0</td>\n",
              "      <td>30.5</td>\n",
              "      <td>14.0</td>\n",
              "      <td>3085.0</td>\n",
              "      <td>USA</td>\n",
              "      <td>Chrysler LeBaron</td>\n",
              "    </tr>\n",
              "    <tr>\n",
              "      <th>21</th>\n",
              "      <td>Chrysler</td>\n",
              "      <td>Imperial</td>\n",
              "      <td>Large</td>\n",
              "      <td>29.5</td>\n",
              "      <td>29.5</td>\n",
              "      <td>29.5</td>\n",
              "      <td>20.0</td>\n",
              "      <td>26.0</td>\n",
              "      <td>Driver only</td>\n",
              "      <td>Front</td>\n",
              "      <td>...</td>\n",
              "      <td>6.0</td>\n",
              "      <td>203.0</td>\n",
              "      <td>110.0</td>\n",
              "      <td>69.0</td>\n",
              "      <td>44.0</td>\n",
              "      <td>36.0</td>\n",
              "      <td>17.0</td>\n",
              "      <td>3570.0</td>\n",
              "      <td>USA</td>\n",
              "      <td>Chrysler Imperial</td>\n",
              "    </tr>\n",
              "    <tr>\n",
              "      <th>22</th>\n",
              "      <td>Dodge</td>\n",
              "      <td>Colt</td>\n",
              "      <td>Small</td>\n",
              "      <td>7.9</td>\n",
              "      <td>9.2</td>\n",
              "      <td>10.6</td>\n",
              "      <td>29.0</td>\n",
              "      <td>33.0</td>\n",
              "      <td>None</td>\n",
              "      <td>Front</td>\n",
              "      <td>...</td>\n",
              "      <td>5.0</td>\n",
              "      <td>174.0</td>\n",
              "      <td>98.0</td>\n",
              "      <td>66.0</td>\n",
              "      <td>32.0</td>\n",
              "      <td>NaN</td>\n",
              "      <td>11.0</td>\n",
              "      <td>2270.0</td>\n",
              "      <td>USA</td>\n",
              "      <td>Dodge Colt</td>\n",
              "    </tr>\n",
              "    <tr>\n",
              "      <th>23</th>\n",
              "      <td>Dodge</td>\n",
              "      <td>Shadow</td>\n",
              "      <td>Small</td>\n",
              "      <td>8.4</td>\n",
              "      <td>11.3</td>\n",
              "      <td>14.2</td>\n",
              "      <td>23.0</td>\n",
              "      <td>29.0</td>\n",
              "      <td>Driver only</td>\n",
              "      <td>Front</td>\n",
              "      <td>...</td>\n",
              "      <td>5.0</td>\n",
              "      <td>172.0</td>\n",
              "      <td>97.0</td>\n",
              "      <td>67.0</td>\n",
              "      <td>38.0</td>\n",
              "      <td>26.5</td>\n",
              "      <td>NaN</td>\n",
              "      <td>2670.0</td>\n",
              "      <td>USA</td>\n",
              "      <td>Dodge Shadow</td>\n",
              "    </tr>\n",
              "    <tr>\n",
              "      <th>24</th>\n",
              "      <td>Dodge</td>\n",
              "      <td>Spirit</td>\n",
              "      <td>Compact</td>\n",
              "      <td>11.9</td>\n",
              "      <td>13.3</td>\n",
              "      <td>14.7</td>\n",
              "      <td>22.0</td>\n",
              "      <td>27.0</td>\n",
              "      <td>Driver only</td>\n",
              "      <td>Front</td>\n",
              "      <td>...</td>\n",
              "      <td>6.0</td>\n",
              "      <td>181.0</td>\n",
              "      <td>104.0</td>\n",
              "      <td>68.0</td>\n",
              "      <td>39.0</td>\n",
              "      <td>30.5</td>\n",
              "      <td>NaN</td>\n",
              "      <td>2970.0</td>\n",
              "      <td>USA</td>\n",
              "      <td>Dodge Spirit</td>\n",
              "    </tr>\n",
              "    <tr>\n",
              "      <th>25</th>\n",
              "      <td>Dodge</td>\n",
              "      <td>Caravan</td>\n",
              "      <td>Van</td>\n",
              "      <td>NaN</td>\n",
              "      <td>19.0</td>\n",
              "      <td>24.4</td>\n",
              "      <td>17.0</td>\n",
              "      <td>21.0</td>\n",
              "      <td>Driver only</td>\n",
              "      <td>4WD</td>\n",
              "      <td>...</td>\n",
              "      <td>7.0</td>\n",
              "      <td>175.0</td>\n",
              "      <td>112.0</td>\n",
              "      <td>72.0</td>\n",
              "      <td>42.0</td>\n",
              "      <td>26.5</td>\n",
              "      <td>NaN</td>\n",
              "      <td>3705.0</td>\n",
              "      <td>USA</td>\n",
              "      <td>Dodge Caravan</td>\n",
              "    </tr>\n",
              "    <tr>\n",
              "      <th>26</th>\n",
              "      <td>Dodge</td>\n",
              "      <td>Dynasty</td>\n",
              "      <td>Midsize</td>\n",
              "      <td>14.8</td>\n",
              "      <td>15.6</td>\n",
              "      <td>16.4</td>\n",
              "      <td>21.0</td>\n",
              "      <td>NaN</td>\n",
              "      <td>Driver only</td>\n",
              "      <td>Front</td>\n",
              "      <td>...</td>\n",
              "      <td>6.0</td>\n",
              "      <td>192.0</td>\n",
              "      <td>105.0</td>\n",
              "      <td>69.0</td>\n",
              "      <td>42.0</td>\n",
              "      <td>30.5</td>\n",
              "      <td>16.0</td>\n",
              "      <td>3080.0</td>\n",
              "      <td>USA</td>\n",
              "      <td>Dodge Dynasty</td>\n",
              "    </tr>\n",
              "    <tr>\n",
              "      <th>27</th>\n",
              "      <td>Dodge</td>\n",
              "      <td>Stealth</td>\n",
              "      <td>Sporty</td>\n",
              "      <td>18.5</td>\n",
              "      <td>25.8</td>\n",
              "      <td>33.1</td>\n",
              "      <td>NaN</td>\n",
              "      <td>24.0</td>\n",
              "      <td>Driver only</td>\n",
              "      <td>4WD</td>\n",
              "      <td>...</td>\n",
              "      <td>4.0</td>\n",
              "      <td>180.0</td>\n",
              "      <td>97.0</td>\n",
              "      <td>NaN</td>\n",
              "      <td>40.0</td>\n",
              "      <td>20.0</td>\n",
              "      <td>11.0</td>\n",
              "      <td>3805.0</td>\n",
              "      <td>USA</td>\n",
              "      <td>Dodge Stealth</td>\n",
              "    </tr>\n",
              "    <tr>\n",
              "      <th>28</th>\n",
              "      <td>Eagle</td>\n",
              "      <td>Summit</td>\n",
              "      <td>Small</td>\n",
              "      <td>7.9</td>\n",
              "      <td>12.2</td>\n",
              "      <td>16.5</td>\n",
              "      <td>29.0</td>\n",
              "      <td>33.0</td>\n",
              "      <td>None</td>\n",
              "      <td>Front</td>\n",
              "      <td>...</td>\n",
              "      <td>5.0</td>\n",
              "      <td>174.0</td>\n",
              "      <td>98.0</td>\n",
              "      <td>66.0</td>\n",
              "      <td>36.0</td>\n",
              "      <td>26.5</td>\n",
              "      <td>11.0</td>\n",
              "      <td>2295.0</td>\n",
              "      <td>USA</td>\n",
              "      <td>Eagle Summit</td>\n",
              "    </tr>\n",
              "    <tr>\n",
              "      <th>29</th>\n",
              "      <td>Eagle</td>\n",
              "      <td>Vision</td>\n",
              "      <td>Large</td>\n",
              "      <td>NaN</td>\n",
              "      <td>19.3</td>\n",
              "      <td>21.2</td>\n",
              "      <td>20.0</td>\n",
              "      <td>28.0</td>\n",
              "      <td>Driver &amp; Passenger</td>\n",
              "      <td>Front</td>\n",
              "      <td>...</td>\n",
              "      <td>6.0</td>\n",
              "      <td>202.0</td>\n",
              "      <td>113.0</td>\n",
              "      <td>74.0</td>\n",
              "      <td>40.0</td>\n",
              "      <td>30.0</td>\n",
              "      <td>15.0</td>\n",
              "      <td>3490.0</td>\n",
              "      <td>USA</td>\n",
              "      <td>Eagle Vision</td>\n",
              "    </tr>\n",
              "    <tr>\n",
              "      <th>...</th>\n",
              "      <td>...</td>\n",
              "      <td>...</td>\n",
              "      <td>...</td>\n",
              "      <td>...</td>\n",
              "      <td>...</td>\n",
              "      <td>...</td>\n",
              "      <td>...</td>\n",
              "      <td>...</td>\n",
              "      <td>...</td>\n",
              "      <td>...</td>\n",
              "      <td>...</td>\n",
              "      <td>...</td>\n",
              "      <td>...</td>\n",
              "      <td>...</td>\n",
              "      <td>...</td>\n",
              "      <td>...</td>\n",
              "      <td>...</td>\n",
              "      <td>...</td>\n",
              "      <td>...</td>\n",
              "      <td>...</td>\n",
              "      <td>...</td>\n",
              "    </tr>\n",
              "    <tr>\n",
              "      <th>63</th>\n",
              "      <td>Nissan</td>\n",
              "      <td>Sentra</td>\n",
              "      <td>Small</td>\n",
              "      <td>8.7</td>\n",
              "      <td>11.8</td>\n",
              "      <td>14.9</td>\n",
              "      <td>29.0</td>\n",
              "      <td>33.0</td>\n",
              "      <td>Driver only</td>\n",
              "      <td>Front</td>\n",
              "      <td>...</td>\n",
              "      <td>5.0</td>\n",
              "      <td>170.0</td>\n",
              "      <td>96.0</td>\n",
              "      <td>66.0</td>\n",
              "      <td>33.0</td>\n",
              "      <td>26.0</td>\n",
              "      <td>NaN</td>\n",
              "      <td>NaN</td>\n",
              "      <td>non-USA</td>\n",
              "      <td>Nissan Sentra</td>\n",
              "    </tr>\n",
              "    <tr>\n",
              "      <th>64</th>\n",
              "      <td>Nissan</td>\n",
              "      <td>Altima</td>\n",
              "      <td>Compact</td>\n",
              "      <td>13.0</td>\n",
              "      <td>15.7</td>\n",
              "      <td>18.3</td>\n",
              "      <td>24.0</td>\n",
              "      <td>30.0</td>\n",
              "      <td>Driver only</td>\n",
              "      <td>Front</td>\n",
              "      <td>...</td>\n",
              "      <td>5.0</td>\n",
              "      <td>181.0</td>\n",
              "      <td>103.0</td>\n",
              "      <td>67.0</td>\n",
              "      <td>40.0</td>\n",
              "      <td>28.5</td>\n",
              "      <td>14.0</td>\n",
              "      <td>3050.0</td>\n",
              "      <td>non-USA</td>\n",
              "      <td>Nissan Altima</td>\n",
              "    </tr>\n",
              "    <tr>\n",
              "      <th>65</th>\n",
              "      <td>Nissan</td>\n",
              "      <td>Quest</td>\n",
              "      <td>Van</td>\n",
              "      <td>16.7</td>\n",
              "      <td>19.1</td>\n",
              "      <td>21.5</td>\n",
              "      <td>17.0</td>\n",
              "      <td>23.0</td>\n",
              "      <td>None</td>\n",
              "      <td>Front</td>\n",
              "      <td>...</td>\n",
              "      <td>7.0</td>\n",
              "      <td>190.0</td>\n",
              "      <td>112.0</td>\n",
              "      <td>74.0</td>\n",
              "      <td>41.0</td>\n",
              "      <td>27.0</td>\n",
              "      <td>NaN</td>\n",
              "      <td>4100.0</td>\n",
              "      <td>non-USA</td>\n",
              "      <td>Nissan Quest</td>\n",
              "    </tr>\n",
              "    <tr>\n",
              "      <th>66</th>\n",
              "      <td>Nissan</td>\n",
              "      <td>Maxima</td>\n",
              "      <td>Midsize</td>\n",
              "      <td>21.0</td>\n",
              "      <td>21.5</td>\n",
              "      <td>22.0</td>\n",
              "      <td>21.0</td>\n",
              "      <td>26.0</td>\n",
              "      <td>Driver only</td>\n",
              "      <td>Front</td>\n",
              "      <td>...</td>\n",
              "      <td>5.0</td>\n",
              "      <td>188.0</td>\n",
              "      <td>104.0</td>\n",
              "      <td>69.0</td>\n",
              "      <td>41.0</td>\n",
              "      <td>28.5</td>\n",
              "      <td>14.0</td>\n",
              "      <td>3200.0</td>\n",
              "      <td>non-USA</td>\n",
              "      <td>Nissan Maxima</td>\n",
              "    </tr>\n",
              "    <tr>\n",
              "      <th>67</th>\n",
              "      <td>Oldsmobile</td>\n",
              "      <td>Achieva</td>\n",
              "      <td>Compact</td>\n",
              "      <td>13.0</td>\n",
              "      <td>13.5</td>\n",
              "      <td>14.0</td>\n",
              "      <td>24.0</td>\n",
              "      <td>31.0</td>\n",
              "      <td>None</td>\n",
              "      <td>Front</td>\n",
              "      <td>...</td>\n",
              "      <td>5.0</td>\n",
              "      <td>188.0</td>\n",
              "      <td>103.0</td>\n",
              "      <td>67.0</td>\n",
              "      <td>39.0</td>\n",
              "      <td>28.0</td>\n",
              "      <td>14.0</td>\n",
              "      <td>2910.0</td>\n",
              "      <td>USA</td>\n",
              "      <td>Oldsmobile Achieva</td>\n",
              "    </tr>\n",
              "    <tr>\n",
              "      <th>68</th>\n",
              "      <td>Oldsmobile</td>\n",
              "      <td>Cutlass_Ciera</td>\n",
              "      <td>Midsize</td>\n",
              "      <td>14.2</td>\n",
              "      <td>16.3</td>\n",
              "      <td>18.4</td>\n",
              "      <td>23.0</td>\n",
              "      <td>31.0</td>\n",
              "      <td>Driver only</td>\n",
              "      <td>Front</td>\n",
              "      <td>...</td>\n",
              "      <td>5.0</td>\n",
              "      <td>190.0</td>\n",
              "      <td>105.0</td>\n",
              "      <td>70.0</td>\n",
              "      <td>42.0</td>\n",
              "      <td>28.0</td>\n",
              "      <td>16.0</td>\n",
              "      <td>2890.0</td>\n",
              "      <td>USA</td>\n",
              "      <td>Oldsmobile Cutlass_Ciera</td>\n",
              "    </tr>\n",
              "    <tr>\n",
              "      <th>69</th>\n",
              "      <td>Oldsmobile</td>\n",
              "      <td>Silhouette</td>\n",
              "      <td>Van</td>\n",
              "      <td>19.5</td>\n",
              "      <td>19.5</td>\n",
              "      <td>19.5</td>\n",
              "      <td>18.0</td>\n",
              "      <td>23.0</td>\n",
              "      <td>None</td>\n",
              "      <td>Front</td>\n",
              "      <td>...</td>\n",
              "      <td>7.0</td>\n",
              "      <td>NaN</td>\n",
              "      <td>110.0</td>\n",
              "      <td>74.0</td>\n",
              "      <td>44.0</td>\n",
              "      <td>30.5</td>\n",
              "      <td>NaN</td>\n",
              "      <td>3715.0</td>\n",
              "      <td>USA</td>\n",
              "      <td>Oldsmobile Silhouette</td>\n",
              "    </tr>\n",
              "    <tr>\n",
              "      <th>70</th>\n",
              "      <td>Oldsmobile</td>\n",
              "      <td>Eighty-Eight</td>\n",
              "      <td>Large</td>\n",
              "      <td>19.5</td>\n",
              "      <td>20.7</td>\n",
              "      <td>21.9</td>\n",
              "      <td>NaN</td>\n",
              "      <td>28.0</td>\n",
              "      <td>Driver only</td>\n",
              "      <td>Front</td>\n",
              "      <td>...</td>\n",
              "      <td>6.0</td>\n",
              "      <td>201.0</td>\n",
              "      <td>111.0</td>\n",
              "      <td>74.0</td>\n",
              "      <td>42.0</td>\n",
              "      <td>31.5</td>\n",
              "      <td>17.0</td>\n",
              "      <td>3470.0</td>\n",
              "      <td>USA</td>\n",
              "      <td>Oldsmobile Eighty-Eight</td>\n",
              "    </tr>\n",
              "    <tr>\n",
              "      <th>71</th>\n",
              "      <td>Plymouth</td>\n",
              "      <td>Laser</td>\n",
              "      <td>Sporty</td>\n",
              "      <td>11.4</td>\n",
              "      <td>14.4</td>\n",
              "      <td>17.4</td>\n",
              "      <td>NaN</td>\n",
              "      <td>30.0</td>\n",
              "      <td>None</td>\n",
              "      <td>4WD</td>\n",
              "      <td>...</td>\n",
              "      <td>4.0</td>\n",
              "      <td>173.0</td>\n",
              "      <td>97.0</td>\n",
              "      <td>67.0</td>\n",
              "      <td>39.0</td>\n",
              "      <td>24.5</td>\n",
              "      <td>8.0</td>\n",
              "      <td>2640.0</td>\n",
              "      <td>NaN</td>\n",
              "      <td>Plymouth Laser</td>\n",
              "    </tr>\n",
              "    <tr>\n",
              "      <th>72</th>\n",
              "      <td>Pontiac</td>\n",
              "      <td>LeMans</td>\n",
              "      <td>Small</td>\n",
              "      <td>NaN</td>\n",
              "      <td>9.0</td>\n",
              "      <td>9.9</td>\n",
              "      <td>31.0</td>\n",
              "      <td>41.0</td>\n",
              "      <td>None</td>\n",
              "      <td>Front</td>\n",
              "      <td>...</td>\n",
              "      <td>4.0</td>\n",
              "      <td>177.0</td>\n",
              "      <td>99.0</td>\n",
              "      <td>66.0</td>\n",
              "      <td>35.0</td>\n",
              "      <td>25.5</td>\n",
              "      <td>17.0</td>\n",
              "      <td>2350.0</td>\n",
              "      <td>USA</td>\n",
              "      <td>Pontiac LeMans</td>\n",
              "    </tr>\n",
              "    <tr>\n",
              "      <th>73</th>\n",
              "      <td>Pontiac</td>\n",
              "      <td>Sunbird</td>\n",
              "      <td>Compact</td>\n",
              "      <td>9.4</td>\n",
              "      <td>11.1</td>\n",
              "      <td>12.8</td>\n",
              "      <td>NaN</td>\n",
              "      <td>31.0</td>\n",
              "      <td>None</td>\n",
              "      <td>NaN</td>\n",
              "      <td>...</td>\n",
              "      <td>5.0</td>\n",
              "      <td>181.0</td>\n",
              "      <td>101.0</td>\n",
              "      <td>66.0</td>\n",
              "      <td>39.0</td>\n",
              "      <td>25.0</td>\n",
              "      <td>13.0</td>\n",
              "      <td>NaN</td>\n",
              "      <td>USA</td>\n",
              "      <td>NaN</td>\n",
              "    </tr>\n",
              "    <tr>\n",
              "      <th>74</th>\n",
              "      <td>Pontiac</td>\n",
              "      <td>Firebird</td>\n",
              "      <td>NaN</td>\n",
              "      <td>14.0</td>\n",
              "      <td>17.7</td>\n",
              "      <td>21.4</td>\n",
              "      <td>19.0</td>\n",
              "      <td>28.0</td>\n",
              "      <td>Driver &amp; Passenger</td>\n",
              "      <td>Rear</td>\n",
              "      <td>...</td>\n",
              "      <td>4.0</td>\n",
              "      <td>196.0</td>\n",
              "      <td>101.0</td>\n",
              "      <td>75.0</td>\n",
              "      <td>43.0</td>\n",
              "      <td>25.0</td>\n",
              "      <td>13.0</td>\n",
              "      <td>3240.0</td>\n",
              "      <td>USA</td>\n",
              "      <td>Pontiac Firebird</td>\n",
              "    </tr>\n",
              "    <tr>\n",
              "      <th>75</th>\n",
              "      <td>Pontiac</td>\n",
              "      <td>Grand_Prix</td>\n",
              "      <td>Midsize</td>\n",
              "      <td>15.4</td>\n",
              "      <td>18.5</td>\n",
              "      <td>21.6</td>\n",
              "      <td>19.0</td>\n",
              "      <td>27.0</td>\n",
              "      <td>None</td>\n",
              "      <td>Front</td>\n",
              "      <td>...</td>\n",
              "      <td>5.0</td>\n",
              "      <td>195.0</td>\n",
              "      <td>108.0</td>\n",
              "      <td>72.0</td>\n",
              "      <td>41.0</td>\n",
              "      <td>28.5</td>\n",
              "      <td>16.0</td>\n",
              "      <td>3450.0</td>\n",
              "      <td>USA</td>\n",
              "      <td>Pontiac Grand_Prix</td>\n",
              "    </tr>\n",
              "    <tr>\n",
              "      <th>76</th>\n",
              "      <td>Pontiac</td>\n",
              "      <td>Bonneville</td>\n",
              "      <td>Large</td>\n",
              "      <td>19.4</td>\n",
              "      <td>24.4</td>\n",
              "      <td>29.4</td>\n",
              "      <td>19.0</td>\n",
              "      <td>28.0</td>\n",
              "      <td>Driver &amp; Passenger</td>\n",
              "      <td>Front</td>\n",
              "      <td>...</td>\n",
              "      <td>6.0</td>\n",
              "      <td>177.0</td>\n",
              "      <td>111.0</td>\n",
              "      <td>74.0</td>\n",
              "      <td>43.0</td>\n",
              "      <td>30.5</td>\n",
              "      <td>18.0</td>\n",
              "      <td>3495.0</td>\n",
              "      <td>USA</td>\n",
              "      <td>Pontiac Bonneville</td>\n",
              "    </tr>\n",
              "    <tr>\n",
              "      <th>77</th>\n",
              "      <td>Saab</td>\n",
              "      <td>900</td>\n",
              "      <td>Compact</td>\n",
              "      <td>20.3</td>\n",
              "      <td>28.7</td>\n",
              "      <td>37.1</td>\n",
              "      <td>20.0</td>\n",
              "      <td>26.0</td>\n",
              "      <td>NaN</td>\n",
              "      <td>Front</td>\n",
              "      <td>...</td>\n",
              "      <td>5.0</td>\n",
              "      <td>NaN</td>\n",
              "      <td>99.0</td>\n",
              "      <td>67.0</td>\n",
              "      <td>37.0</td>\n",
              "      <td>26.5</td>\n",
              "      <td>14.0</td>\n",
              "      <td>2775.0</td>\n",
              "      <td>non-USA</td>\n",
              "      <td>Saab 900</td>\n",
              "    </tr>\n",
              "    <tr>\n",
              "      <th>78</th>\n",
              "      <td>Saturn</td>\n",
              "      <td>SL</td>\n",
              "      <td>Small</td>\n",
              "      <td>9.2</td>\n",
              "      <td>NaN</td>\n",
              "      <td>12.9</td>\n",
              "      <td>NaN</td>\n",
              "      <td>38.0</td>\n",
              "      <td>Driver only</td>\n",
              "      <td>Front</td>\n",
              "      <td>...</td>\n",
              "      <td>5.0</td>\n",
              "      <td>176.0</td>\n",
              "      <td>102.0</td>\n",
              "      <td>68.0</td>\n",
              "      <td>40.0</td>\n",
              "      <td>26.5</td>\n",
              "      <td>NaN</td>\n",
              "      <td>2495.0</td>\n",
              "      <td>USA</td>\n",
              "      <td>Saturn SL</td>\n",
              "    </tr>\n",
              "    <tr>\n",
              "      <th>79</th>\n",
              "      <td>Subaru</td>\n",
              "      <td>Justy</td>\n",
              "      <td>Small</td>\n",
              "      <td>7.3</td>\n",
              "      <td>8.4</td>\n",
              "      <td>9.5</td>\n",
              "      <td>33.0</td>\n",
              "      <td>37.0</td>\n",
              "      <td>None</td>\n",
              "      <td>4WD</td>\n",
              "      <td>...</td>\n",
              "      <td>4.0</td>\n",
              "      <td>146.0</td>\n",
              "      <td>90.0</td>\n",
              "      <td>60.0</td>\n",
              "      <td>32.0</td>\n",
              "      <td>23.5</td>\n",
              "      <td>10.0</td>\n",
              "      <td>2045.0</td>\n",
              "      <td>non-USA</td>\n",
              "      <td>Subaru Justy</td>\n",
              "    </tr>\n",
              "    <tr>\n",
              "      <th>80</th>\n",
              "      <td>Subaru</td>\n",
              "      <td>Loyale</td>\n",
              "      <td>Small</td>\n",
              "      <td>10.5</td>\n",
              "      <td>10.9</td>\n",
              "      <td>11.3</td>\n",
              "      <td>25.0</td>\n",
              "      <td>30.0</td>\n",
              "      <td>None</td>\n",
              "      <td>4WD</td>\n",
              "      <td>...</td>\n",
              "      <td>5.0</td>\n",
              "      <td>175.0</td>\n",
              "      <td>97.0</td>\n",
              "      <td>65.0</td>\n",
              "      <td>35.0</td>\n",
              "      <td>27.5</td>\n",
              "      <td>15.0</td>\n",
              "      <td>2490.0</td>\n",
              "      <td>non-USA</td>\n",
              "      <td>Subaru Loyale</td>\n",
              "    </tr>\n",
              "    <tr>\n",
              "      <th>81</th>\n",
              "      <td>Subaru</td>\n",
              "      <td>Legacy</td>\n",
              "      <td>Compact</td>\n",
              "      <td>16.3</td>\n",
              "      <td>19.5</td>\n",
              "      <td>22.7</td>\n",
              "      <td>23.0</td>\n",
              "      <td>30.0</td>\n",
              "      <td>Driver only</td>\n",
              "      <td>4WD</td>\n",
              "      <td>...</td>\n",
              "      <td>5.0</td>\n",
              "      <td>179.0</td>\n",
              "      <td>102.0</td>\n",
              "      <td>67.0</td>\n",
              "      <td>37.0</td>\n",
              "      <td>27.0</td>\n",
              "      <td>14.0</td>\n",
              "      <td>3085.0</td>\n",
              "      <td>non-USA</td>\n",
              "      <td>Subaru Legacy</td>\n",
              "    </tr>\n",
              "    <tr>\n",
              "      <th>82</th>\n",
              "      <td>Suzuki</td>\n",
              "      <td>Swift</td>\n",
              "      <td>NaN</td>\n",
              "      <td>7.3</td>\n",
              "      <td>8.6</td>\n",
              "      <td>NaN</td>\n",
              "      <td>39.0</td>\n",
              "      <td>43.0</td>\n",
              "      <td>None</td>\n",
              "      <td>Front</td>\n",
              "      <td>...</td>\n",
              "      <td>4.0</td>\n",
              "      <td>161.0</td>\n",
              "      <td>93.0</td>\n",
              "      <td>NaN</td>\n",
              "      <td>34.0</td>\n",
              "      <td>27.5</td>\n",
              "      <td>10.0</td>\n",
              "      <td>1965.0</td>\n",
              "      <td>non-USA</td>\n",
              "      <td>Suzuki Swift</td>\n",
              "    </tr>\n",
              "    <tr>\n",
              "      <th>83</th>\n",
              "      <td>Toyota</td>\n",
              "      <td>Tercel</td>\n",
              "      <td>Small</td>\n",
              "      <td>NaN</td>\n",
              "      <td>9.8</td>\n",
              "      <td>11.8</td>\n",
              "      <td>32.0</td>\n",
              "      <td>37.0</td>\n",
              "      <td>Driver only</td>\n",
              "      <td>Front</td>\n",
              "      <td>...</td>\n",
              "      <td>NaN</td>\n",
              "      <td>162.0</td>\n",
              "      <td>94.0</td>\n",
              "      <td>NaN</td>\n",
              "      <td>36.0</td>\n",
              "      <td>24.0</td>\n",
              "      <td>11.0</td>\n",
              "      <td>2055.0</td>\n",
              "      <td>non-USA</td>\n",
              "      <td>Toyota Tercel</td>\n",
              "    </tr>\n",
              "    <tr>\n",
              "      <th>84</th>\n",
              "      <td>Toyota</td>\n",
              "      <td>Celica</td>\n",
              "      <td>Sporty</td>\n",
              "      <td>14.2</td>\n",
              "      <td>18.4</td>\n",
              "      <td>22.6</td>\n",
              "      <td>25.0</td>\n",
              "      <td>32.0</td>\n",
              "      <td>NaN</td>\n",
              "      <td>Front</td>\n",
              "      <td>...</td>\n",
              "      <td>4.0</td>\n",
              "      <td>174.0</td>\n",
              "      <td>99.0</td>\n",
              "      <td>69.0</td>\n",
              "      <td>NaN</td>\n",
              "      <td>23.0</td>\n",
              "      <td>13.0</td>\n",
              "      <td>2950.0</td>\n",
              "      <td>non-USA</td>\n",
              "      <td>Toyota Celica</td>\n",
              "    </tr>\n",
              "    <tr>\n",
              "      <th>85</th>\n",
              "      <td>Toyota</td>\n",
              "      <td>Camry</td>\n",
              "      <td>Midsize</td>\n",
              "      <td>15.2</td>\n",
              "      <td>NaN</td>\n",
              "      <td>21.2</td>\n",
              "      <td>22.0</td>\n",
              "      <td>29.0</td>\n",
              "      <td>Driver only</td>\n",
              "      <td>NaN</td>\n",
              "      <td>...</td>\n",
              "      <td>5.0</td>\n",
              "      <td>188.0</td>\n",
              "      <td>103.0</td>\n",
              "      <td>70.0</td>\n",
              "      <td>38.0</td>\n",
              "      <td>28.5</td>\n",
              "      <td>15.0</td>\n",
              "      <td>3030.0</td>\n",
              "      <td>non-USA</td>\n",
              "      <td>Toyota Camry</td>\n",
              "    </tr>\n",
              "    <tr>\n",
              "      <th>86</th>\n",
              "      <td>Toyota</td>\n",
              "      <td>Previa</td>\n",
              "      <td>Van</td>\n",
              "      <td>NaN</td>\n",
              "      <td>22.7</td>\n",
              "      <td>26.6</td>\n",
              "      <td>18.0</td>\n",
              "      <td>22.0</td>\n",
              "      <td>Driver only</td>\n",
              "      <td>4WD</td>\n",
              "      <td>...</td>\n",
              "      <td>7.0</td>\n",
              "      <td>187.0</td>\n",
              "      <td>113.0</td>\n",
              "      <td>71.0</td>\n",
              "      <td>41.0</td>\n",
              "      <td>35.0</td>\n",
              "      <td>NaN</td>\n",
              "      <td>3785.0</td>\n",
              "      <td>non-USA</td>\n",
              "      <td>Toyota Previa</td>\n",
              "    </tr>\n",
              "    <tr>\n",
              "      <th>87</th>\n",
              "      <td>Volkswagen</td>\n",
              "      <td>Fox</td>\n",
              "      <td>Small</td>\n",
              "      <td>8.7</td>\n",
              "      <td>9.1</td>\n",
              "      <td>9.5</td>\n",
              "      <td>25.0</td>\n",
              "      <td>33.0</td>\n",
              "      <td>None</td>\n",
              "      <td>Front</td>\n",
              "      <td>...</td>\n",
              "      <td>4.0</td>\n",
              "      <td>163.0</td>\n",
              "      <td>93.0</td>\n",
              "      <td>63.0</td>\n",
              "      <td>34.0</td>\n",
              "      <td>26.0</td>\n",
              "      <td>10.0</td>\n",
              "      <td>2240.0</td>\n",
              "      <td>non-USA</td>\n",
              "      <td>Volkswagen Fox</td>\n",
              "    </tr>\n",
              "    <tr>\n",
              "      <th>88</th>\n",
              "      <td>Volkswagen</td>\n",
              "      <td>Eurovan</td>\n",
              "      <td>Van</td>\n",
              "      <td>16.6</td>\n",
              "      <td>19.7</td>\n",
              "      <td>22.7</td>\n",
              "      <td>17.0</td>\n",
              "      <td>21.0</td>\n",
              "      <td>None</td>\n",
              "      <td>Front</td>\n",
              "      <td>...</td>\n",
              "      <td>7.0</td>\n",
              "      <td>187.0</td>\n",
              "      <td>115.0</td>\n",
              "      <td>72.0</td>\n",
              "      <td>38.0</td>\n",
              "      <td>34.0</td>\n",
              "      <td>NaN</td>\n",
              "      <td>3960.0</td>\n",
              "      <td>NaN</td>\n",
              "      <td>Volkswagen Eurovan</td>\n",
              "    </tr>\n",
              "    <tr>\n",
              "      <th>89</th>\n",
              "      <td>Volkswagen</td>\n",
              "      <td>Passat</td>\n",
              "      <td>Compact</td>\n",
              "      <td>17.6</td>\n",
              "      <td>20.0</td>\n",
              "      <td>22.4</td>\n",
              "      <td>21.0</td>\n",
              "      <td>30.0</td>\n",
              "      <td>None</td>\n",
              "      <td>Front</td>\n",
              "      <td>...</td>\n",
              "      <td>5.0</td>\n",
              "      <td>180.0</td>\n",
              "      <td>103.0</td>\n",
              "      <td>67.0</td>\n",
              "      <td>35.0</td>\n",
              "      <td>31.5</td>\n",
              "      <td>14.0</td>\n",
              "      <td>2985.0</td>\n",
              "      <td>non-USA</td>\n",
              "      <td>Volkswagen Passat</td>\n",
              "    </tr>\n",
              "    <tr>\n",
              "      <th>90</th>\n",
              "      <td>Volkswagen</td>\n",
              "      <td>Corrado</td>\n",
              "      <td>Sporty</td>\n",
              "      <td>22.9</td>\n",
              "      <td>23.3</td>\n",
              "      <td>23.7</td>\n",
              "      <td>18.0</td>\n",
              "      <td>25.0</td>\n",
              "      <td>None</td>\n",
              "      <td>Front</td>\n",
              "      <td>...</td>\n",
              "      <td>4.0</td>\n",
              "      <td>159.0</td>\n",
              "      <td>97.0</td>\n",
              "      <td>66.0</td>\n",
              "      <td>36.0</td>\n",
              "      <td>26.0</td>\n",
              "      <td>15.0</td>\n",
              "      <td>2810.0</td>\n",
              "      <td>non-USA</td>\n",
              "      <td>Volkswagen Corrado</td>\n",
              "    </tr>\n",
              "    <tr>\n",
              "      <th>91</th>\n",
              "      <td>Volvo</td>\n",
              "      <td>240</td>\n",
              "      <td>Compact</td>\n",
              "      <td>21.8</td>\n",
              "      <td>22.7</td>\n",
              "      <td>23.5</td>\n",
              "      <td>21.0</td>\n",
              "      <td>28.0</td>\n",
              "      <td>Driver only</td>\n",
              "      <td>Rear</td>\n",
              "      <td>...</td>\n",
              "      <td>5.0</td>\n",
              "      <td>190.0</td>\n",
              "      <td>104.0</td>\n",
              "      <td>67.0</td>\n",
              "      <td>37.0</td>\n",
              "      <td>29.5</td>\n",
              "      <td>14.0</td>\n",
              "      <td>2985.0</td>\n",
              "      <td>non-USA</td>\n",
              "      <td>Volvo 240</td>\n",
              "    </tr>\n",
              "    <tr>\n",
              "      <th>92</th>\n",
              "      <td>NaN</td>\n",
              "      <td>850</td>\n",
              "      <td>Midsize</td>\n",
              "      <td>24.8</td>\n",
              "      <td>26.7</td>\n",
              "      <td>28.5</td>\n",
              "      <td>20.0</td>\n",
              "      <td>28.0</td>\n",
              "      <td>Driver &amp; Passenger</td>\n",
              "      <td>Front</td>\n",
              "      <td>...</td>\n",
              "      <td>5.0</td>\n",
              "      <td>184.0</td>\n",
              "      <td>105.0</td>\n",
              "      <td>69.0</td>\n",
              "      <td>38.0</td>\n",
              "      <td>30.0</td>\n",
              "      <td>15.0</td>\n",
              "      <td>3245.0</td>\n",
              "      <td>non-USA</td>\n",
              "      <td>Volvo 850</td>\n",
              "    </tr>\n",
              "  </tbody>\n",
              "</table>\n",
              "<p>93 rows × 27 columns</p>\n",
              "</div>"
            ],
            "text/plain": [
              "   Manufacturer          Model     Type  Min.Price  Price  Max.Price  \\\n",
              "0         Acura        Integra    Small       12.9   15.9       18.8   \n",
              "1           NaN         Legend  Midsize       29.2   33.9       38.7   \n",
              "2          Audi             90  Compact       25.9   29.1       32.3   \n",
              "3          Audi            100  Midsize        NaN   37.7       44.6   \n",
              "4           BMW           535i  Midsize        NaN   30.0        NaN   \n",
              "5         Buick        Century  Midsize       14.2   15.7       17.3   \n",
              "6         Buick        LeSabre    Large       19.9   20.8        NaN   \n",
              "7         Buick     Roadmaster    Large       22.6   23.7       24.9   \n",
              "8         Buick        Riviera  Midsize       26.3   26.3       26.3   \n",
              "9      Cadillac        DeVille    Large       33.0   34.7       36.3   \n",
              "10     Cadillac        Seville  Midsize       37.5   40.1       42.7   \n",
              "11    Chevrolet       Cavalier  Compact        8.5   13.4       18.3   \n",
              "12    Chevrolet        Corsica  Compact       11.4   11.4       11.4   \n",
              "13    Chevrolet         Camaro   Sporty       13.4   15.1       16.8   \n",
              "14    Chevrolet         Lumina  Midsize       13.4   15.9       18.4   \n",
              "15    Chevrolet     Lumina_APV      Van       14.7   16.3       18.0   \n",
              "16    Chevrolet          Astro      Van       14.7   16.6       18.6   \n",
              "17    Chevrolet        Caprice    Large       18.0   18.8       19.6   \n",
              "18    Chevrolet       Corvette   Sporty       34.6   38.0       41.5   \n",
              "19          NaN       Concorde    Large       18.4   18.4       18.4   \n",
              "20     Chrysler        LeBaron  Compact       14.5   15.8       17.1   \n",
              "21     Chrysler       Imperial    Large       29.5   29.5       29.5   \n",
              "22        Dodge           Colt    Small        7.9    9.2       10.6   \n",
              "23        Dodge         Shadow    Small        8.4   11.3       14.2   \n",
              "24        Dodge         Spirit  Compact       11.9   13.3       14.7   \n",
              "25        Dodge        Caravan      Van        NaN   19.0       24.4   \n",
              "26        Dodge        Dynasty  Midsize       14.8   15.6       16.4   \n",
              "27        Dodge        Stealth   Sporty       18.5   25.8       33.1   \n",
              "28        Eagle         Summit    Small        7.9   12.2       16.5   \n",
              "29        Eagle         Vision    Large        NaN   19.3       21.2   \n",
              "..          ...            ...      ...        ...    ...        ...   \n",
              "63       Nissan         Sentra    Small        8.7   11.8       14.9   \n",
              "64       Nissan         Altima  Compact       13.0   15.7       18.3   \n",
              "65       Nissan          Quest      Van       16.7   19.1       21.5   \n",
              "66       Nissan         Maxima  Midsize       21.0   21.5       22.0   \n",
              "67   Oldsmobile        Achieva  Compact       13.0   13.5       14.0   \n",
              "68   Oldsmobile  Cutlass_Ciera  Midsize       14.2   16.3       18.4   \n",
              "69   Oldsmobile     Silhouette      Van       19.5   19.5       19.5   \n",
              "70   Oldsmobile   Eighty-Eight    Large       19.5   20.7       21.9   \n",
              "71     Plymouth          Laser   Sporty       11.4   14.4       17.4   \n",
              "72      Pontiac         LeMans    Small        NaN    9.0        9.9   \n",
              "73      Pontiac        Sunbird  Compact        9.4   11.1       12.8   \n",
              "74      Pontiac       Firebird      NaN       14.0   17.7       21.4   \n",
              "75      Pontiac     Grand_Prix  Midsize       15.4   18.5       21.6   \n",
              "76      Pontiac     Bonneville    Large       19.4   24.4       29.4   \n",
              "77         Saab            900  Compact       20.3   28.7       37.1   \n",
              "78       Saturn             SL    Small        9.2    NaN       12.9   \n",
              "79       Subaru          Justy    Small        7.3    8.4        9.5   \n",
              "80       Subaru         Loyale    Small       10.5   10.9       11.3   \n",
              "81       Subaru         Legacy  Compact       16.3   19.5       22.7   \n",
              "82       Suzuki          Swift      NaN        7.3    8.6        NaN   \n",
              "83       Toyota         Tercel    Small        NaN    9.8       11.8   \n",
              "84       Toyota         Celica   Sporty       14.2   18.4       22.6   \n",
              "85       Toyota          Camry  Midsize       15.2    NaN       21.2   \n",
              "86       Toyota         Previa      Van        NaN   22.7       26.6   \n",
              "87   Volkswagen            Fox    Small        8.7    9.1        9.5   \n",
              "88   Volkswagen        Eurovan      Van       16.6   19.7       22.7   \n",
              "89   Volkswagen         Passat  Compact       17.6   20.0       22.4   \n",
              "90   Volkswagen        Corrado   Sporty       22.9   23.3       23.7   \n",
              "91        Volvo            240  Compact       21.8   22.7       23.5   \n",
              "92          NaN            850  Midsize       24.8   26.7       28.5   \n",
              "\n",
              "    MPG.city  MPG.highway             AirBags DriveTrain  \\\n",
              "0       25.0         31.0                None      Front   \n",
              "1       18.0         25.0  Driver & Passenger      Front   \n",
              "2       20.0         26.0         Driver only      Front   \n",
              "3       19.0         26.0  Driver & Passenger        NaN   \n",
              "4       22.0         30.0                 NaN       Rear   \n",
              "5       22.0         31.0         Driver only        NaN   \n",
              "6       19.0         28.0         Driver only      Front   \n",
              "7       16.0         25.0         Driver only       Rear   \n",
              "8       19.0         27.0         Driver only      Front   \n",
              "9       16.0         25.0         Driver only      Front   \n",
              "10      16.0         25.0  Driver & Passenger      Front   \n",
              "11      25.0         36.0                 NaN        NaN   \n",
              "12      25.0         34.0         Driver only      Front   \n",
              "13      19.0         28.0  Driver & Passenger       Rear   \n",
              "14       NaN         29.0                None      Front   \n",
              "15      18.0         23.0                None      Front   \n",
              "16      15.0         20.0                None        4WD   \n",
              "17      17.0         26.0         Driver only       Rear   \n",
              "18      17.0         25.0         Driver only       Rear   \n",
              "19      20.0         28.0  Driver & Passenger      Front   \n",
              "20      23.0         28.0  Driver & Passenger      Front   \n",
              "21      20.0         26.0         Driver only      Front   \n",
              "22      29.0         33.0                None      Front   \n",
              "23      23.0         29.0         Driver only      Front   \n",
              "24      22.0         27.0         Driver only      Front   \n",
              "25      17.0         21.0         Driver only        4WD   \n",
              "26      21.0          NaN         Driver only      Front   \n",
              "27       NaN         24.0         Driver only        4WD   \n",
              "28      29.0         33.0                None      Front   \n",
              "29      20.0         28.0  Driver & Passenger      Front   \n",
              "..       ...          ...                 ...        ...   \n",
              "63      29.0         33.0         Driver only      Front   \n",
              "64      24.0         30.0         Driver only      Front   \n",
              "65      17.0         23.0                None      Front   \n",
              "66      21.0         26.0         Driver only      Front   \n",
              "67      24.0         31.0                None      Front   \n",
              "68      23.0         31.0         Driver only      Front   \n",
              "69      18.0         23.0                None      Front   \n",
              "70       NaN         28.0         Driver only      Front   \n",
              "71       NaN         30.0                None        4WD   \n",
              "72      31.0         41.0                None      Front   \n",
              "73       NaN         31.0                None        NaN   \n",
              "74      19.0         28.0  Driver & Passenger       Rear   \n",
              "75      19.0         27.0                None      Front   \n",
              "76      19.0         28.0  Driver & Passenger      Front   \n",
              "77      20.0         26.0                 NaN      Front   \n",
              "78       NaN         38.0         Driver only      Front   \n",
              "79      33.0         37.0                None        4WD   \n",
              "80      25.0         30.0                None        4WD   \n",
              "81      23.0         30.0         Driver only        4WD   \n",
              "82      39.0         43.0                None      Front   \n",
              "83      32.0         37.0         Driver only      Front   \n",
              "84      25.0         32.0                 NaN      Front   \n",
              "85      22.0         29.0         Driver only        NaN   \n",
              "86      18.0         22.0         Driver only        4WD   \n",
              "87      25.0         33.0                None      Front   \n",
              "88      17.0         21.0                None      Front   \n",
              "89      21.0         30.0                None      Front   \n",
              "90      18.0         25.0                None      Front   \n",
              "91      21.0         28.0         Driver only       Rear   \n",
              "92      20.0         28.0  Driver & Passenger      Front   \n",
              "\n",
              "              ...            Passengers  Length  Wheelbase  Width  \\\n",
              "0             ...                   5.0   177.0      102.0   68.0   \n",
              "1             ...                   5.0   195.0      115.0   71.0   \n",
              "2             ...                   5.0   180.0      102.0   67.0   \n",
              "3             ...                   6.0   193.0      106.0    NaN   \n",
              "4             ...                   4.0   186.0      109.0   69.0   \n",
              "5             ...                   6.0   189.0      105.0   69.0   \n",
              "6             ...                   6.0   200.0      111.0   74.0   \n",
              "7             ...                   6.0   216.0      116.0   78.0   \n",
              "8             ...                   5.0   198.0      108.0    NaN   \n",
              "9             ...                   6.0   206.0      114.0   73.0   \n",
              "10            ...                   5.0   204.0      111.0   74.0   \n",
              "11            ...                   5.0   182.0      101.0   66.0   \n",
              "12            ...                   5.0   184.0      103.0   68.0   \n",
              "13            ...                   4.0   193.0      101.0   74.0   \n",
              "14            ...                   6.0     NaN      108.0   71.0   \n",
              "15            ...                   7.0   178.0      110.0   74.0   \n",
              "16            ...                   8.0   194.0      111.0   78.0   \n",
              "17            ...                   6.0   214.0      116.0   77.0   \n",
              "18            ...                   2.0   179.0       96.0   74.0   \n",
              "19            ...                   6.0   203.0      113.0   74.0   \n",
              "20            ...                   6.0   183.0      104.0   68.0   \n",
              "21            ...                   6.0   203.0      110.0   69.0   \n",
              "22            ...                   5.0   174.0       98.0   66.0   \n",
              "23            ...                   5.0   172.0       97.0   67.0   \n",
              "24            ...                   6.0   181.0      104.0   68.0   \n",
              "25            ...                   7.0   175.0      112.0   72.0   \n",
              "26            ...                   6.0   192.0      105.0   69.0   \n",
              "27            ...                   4.0   180.0       97.0    NaN   \n",
              "28            ...                   5.0   174.0       98.0   66.0   \n",
              "29            ...                   6.0   202.0      113.0   74.0   \n",
              "..            ...                   ...     ...        ...    ...   \n",
              "63            ...                   5.0   170.0       96.0   66.0   \n",
              "64            ...                   5.0   181.0      103.0   67.0   \n",
              "65            ...                   7.0   190.0      112.0   74.0   \n",
              "66            ...                   5.0   188.0      104.0   69.0   \n",
              "67            ...                   5.0   188.0      103.0   67.0   \n",
              "68            ...                   5.0   190.0      105.0   70.0   \n",
              "69            ...                   7.0     NaN      110.0   74.0   \n",
              "70            ...                   6.0   201.0      111.0   74.0   \n",
              "71            ...                   4.0   173.0       97.0   67.0   \n",
              "72            ...                   4.0   177.0       99.0   66.0   \n",
              "73            ...                   5.0   181.0      101.0   66.0   \n",
              "74            ...                   4.0   196.0      101.0   75.0   \n",
              "75            ...                   5.0   195.0      108.0   72.0   \n",
              "76            ...                   6.0   177.0      111.0   74.0   \n",
              "77            ...                   5.0     NaN       99.0   67.0   \n",
              "78            ...                   5.0   176.0      102.0   68.0   \n",
              "79            ...                   4.0   146.0       90.0   60.0   \n",
              "80            ...                   5.0   175.0       97.0   65.0   \n",
              "81            ...                   5.0   179.0      102.0   67.0   \n",
              "82            ...                   4.0   161.0       93.0    NaN   \n",
              "83            ...                   NaN   162.0       94.0    NaN   \n",
              "84            ...                   4.0   174.0       99.0   69.0   \n",
              "85            ...                   5.0   188.0      103.0   70.0   \n",
              "86            ...                   7.0   187.0      113.0   71.0   \n",
              "87            ...                   4.0   163.0       93.0   63.0   \n",
              "88            ...                   7.0   187.0      115.0   72.0   \n",
              "89            ...                   5.0   180.0      103.0   67.0   \n",
              "90            ...                   4.0   159.0       97.0   66.0   \n",
              "91            ...                   5.0   190.0      104.0   67.0   \n",
              "92            ...                   5.0   184.0      105.0   69.0   \n",
              "\n",
              "    Turn.circle Rear.seat.room  Luggage.room  Weight   Origin  \\\n",
              "0          37.0           26.5           NaN  2705.0  non-USA   \n",
              "1          38.0           30.0          15.0  3560.0  non-USA   \n",
              "2          37.0           28.0          14.0  3375.0  non-USA   \n",
              "3          37.0           31.0          17.0  3405.0  non-USA   \n",
              "4          39.0           27.0          13.0  3640.0  non-USA   \n",
              "5          41.0           28.0          16.0     NaN      USA   \n",
              "6          42.0           30.5          17.0  3470.0      USA   \n",
              "7          45.0           30.5          21.0  4105.0      USA   \n",
              "8          41.0           26.5          14.0  3495.0      USA   \n",
              "9          43.0           35.0          18.0  3620.0      USA   \n",
              "10         44.0           31.0           NaN  3935.0      USA   \n",
              "11         38.0           25.0          13.0  2490.0      USA   \n",
              "12         39.0           26.0           NaN  2785.0      USA   \n",
              "13         43.0           25.0          13.0  3240.0      USA   \n",
              "14          NaN           28.5          16.0  3195.0      USA   \n",
              "15         44.0           30.5           NaN  3715.0      USA   \n",
              "16         42.0           33.5           NaN  4025.0      USA   \n",
              "17         42.0           29.5          20.0  3910.0      USA   \n",
              "18         43.0            NaN           NaN  3380.0      NaN   \n",
              "19          NaN           31.0          15.0  3515.0      USA   \n",
              "20         41.0           30.5          14.0  3085.0      USA   \n",
              "21         44.0           36.0          17.0  3570.0      USA   \n",
              "22         32.0            NaN          11.0  2270.0      USA   \n",
              "23         38.0           26.5           NaN  2670.0      USA   \n",
              "24         39.0           30.5           NaN  2970.0      USA   \n",
              "25         42.0           26.5           NaN  3705.0      USA   \n",
              "26         42.0           30.5          16.0  3080.0      USA   \n",
              "27         40.0           20.0          11.0  3805.0      USA   \n",
              "28         36.0           26.5          11.0  2295.0      USA   \n",
              "29         40.0           30.0          15.0  3490.0      USA   \n",
              "..          ...            ...           ...     ...      ...   \n",
              "63         33.0           26.0           NaN     NaN  non-USA   \n",
              "64         40.0           28.5          14.0  3050.0  non-USA   \n",
              "65         41.0           27.0           NaN  4100.0  non-USA   \n",
              "66         41.0           28.5          14.0  3200.0  non-USA   \n",
              "67         39.0           28.0          14.0  2910.0      USA   \n",
              "68         42.0           28.0          16.0  2890.0      USA   \n",
              "69         44.0           30.5           NaN  3715.0      USA   \n",
              "70         42.0           31.5          17.0  3470.0      USA   \n",
              "71         39.0           24.5           8.0  2640.0      NaN   \n",
              "72         35.0           25.5          17.0  2350.0      USA   \n",
              "73         39.0           25.0          13.0     NaN      USA   \n",
              "74         43.0           25.0          13.0  3240.0      USA   \n",
              "75         41.0           28.5          16.0  3450.0      USA   \n",
              "76         43.0           30.5          18.0  3495.0      USA   \n",
              "77         37.0           26.5          14.0  2775.0  non-USA   \n",
              "78         40.0           26.5           NaN  2495.0      USA   \n",
              "79         32.0           23.5          10.0  2045.0  non-USA   \n",
              "80         35.0           27.5          15.0  2490.0  non-USA   \n",
              "81         37.0           27.0          14.0  3085.0  non-USA   \n",
              "82         34.0           27.5          10.0  1965.0  non-USA   \n",
              "83         36.0           24.0          11.0  2055.0  non-USA   \n",
              "84          NaN           23.0          13.0  2950.0  non-USA   \n",
              "85         38.0           28.5          15.0  3030.0  non-USA   \n",
              "86         41.0           35.0           NaN  3785.0  non-USA   \n",
              "87         34.0           26.0          10.0  2240.0  non-USA   \n",
              "88         38.0           34.0           NaN  3960.0      NaN   \n",
              "89         35.0           31.5          14.0  2985.0  non-USA   \n",
              "90         36.0           26.0          15.0  2810.0  non-USA   \n",
              "91         37.0           29.5          14.0  2985.0  non-USA   \n",
              "92         38.0           30.0          15.0  3245.0  non-USA   \n",
              "\n",
              "                        Make  \n",
              "0              Acura Integra  \n",
              "1               Acura Legend  \n",
              "2                    Audi 90  \n",
              "3                   Audi 100  \n",
              "4                   BMW 535i  \n",
              "5              Buick Century  \n",
              "6              Buick LeSabre  \n",
              "7           Buick Roadmaster  \n",
              "8              Buick Riviera  \n",
              "9           Cadillac DeVille  \n",
              "10          Cadillac Seville  \n",
              "11        Chevrolet Cavalier  \n",
              "12         Chevrolet Corsica  \n",
              "13          Chevrolet Camaro  \n",
              "14          Chevrolet Lumina  \n",
              "15      Chevrolet Lumina_APV  \n",
              "16           Chevrolet Astro  \n",
              "17         Chevrolet Caprice  \n",
              "18        Chevrolet Corvette  \n",
              "19         Chrylser Concorde  \n",
              "20          Chrysler LeBaron  \n",
              "21         Chrysler Imperial  \n",
              "22                Dodge Colt  \n",
              "23              Dodge Shadow  \n",
              "24              Dodge Spirit  \n",
              "25             Dodge Caravan  \n",
              "26             Dodge Dynasty  \n",
              "27             Dodge Stealth  \n",
              "28              Eagle Summit  \n",
              "29              Eagle Vision  \n",
              "..                       ...  \n",
              "63             Nissan Sentra  \n",
              "64             Nissan Altima  \n",
              "65              Nissan Quest  \n",
              "66             Nissan Maxima  \n",
              "67        Oldsmobile Achieva  \n",
              "68  Oldsmobile Cutlass_Ciera  \n",
              "69     Oldsmobile Silhouette  \n",
              "70   Oldsmobile Eighty-Eight  \n",
              "71            Plymouth Laser  \n",
              "72            Pontiac LeMans  \n",
              "73                       NaN  \n",
              "74          Pontiac Firebird  \n",
              "75        Pontiac Grand_Prix  \n",
              "76        Pontiac Bonneville  \n",
              "77                  Saab 900  \n",
              "78                 Saturn SL  \n",
              "79              Subaru Justy  \n",
              "80             Subaru Loyale  \n",
              "81             Subaru Legacy  \n",
              "82              Suzuki Swift  \n",
              "83             Toyota Tercel  \n",
              "84             Toyota Celica  \n",
              "85              Toyota Camry  \n",
              "86             Toyota Previa  \n",
              "87            Volkswagen Fox  \n",
              "88        Volkswagen Eurovan  \n",
              "89         Volkswagen Passat  \n",
              "90        Volkswagen Corrado  \n",
              "91                 Volvo 240  \n",
              "92                 Volvo 850  \n",
              "\n",
              "[93 rows x 27 columns]"
            ]
          },
          "metadata": {
            "tags": []
          },
          "execution_count": 123
        }
      ]
    },
    {
      "cell_type": "markdown",
      "metadata": {
        "hidden": true,
        "id": "M7MNxATXttXd"
      },
      "source": [
        "**47\\.** Перевести индексы первого и третьего уровня в колонки"
      ]
    },
    {
      "cell_type": "code",
      "metadata": {
        "hidden": true,
        "id": "wOkGOR7tttXe",
        "outputId": "71972263-3c9f-4f8b-8448-a39cbf62a8e9"
      },
      "source": [
        "df = pd.DataFrame({\n",
        "    'school_code': ['s001','s002','s003','s001','s002','s004'],\n",
        "    'class': ['V', 'V', 'VI', 'VI', 'V', 'VI'],\n",
        "    'name': ['Alberto Franco','Gino Mcneill','Ryan Parkes', 'Eesha Hinton', 'Gino Mcneill', 'David Parkes'],\n",
        "    'date_of_birth': ['15/05/2002','17/05/2002','16/02/1999','25/09/1998','11/05/2002','15/09/1997'],\n",
        "    'weight': [35, 32, 33, 30, 31, 32],\n",
        "    't_id': ['t1', 't2', 't3', 't4', 't5', 't6']})\n",
        "df1 = df.set_index(['t_id', 'school_code', 'class'])\n",
        "df1"
      ],
      "execution_count": null,
      "outputs": [
        {
          "output_type": "execute_result",
          "data": {
            "text/html": [
              "<div>\n",
              "<style>\n",
              "    .dataframe thead tr:only-child th {\n",
              "        text-align: right;\n",
              "    }\n",
              "\n",
              "    .dataframe thead th {\n",
              "        text-align: left;\n",
              "    }\n",
              "\n",
              "    .dataframe tbody tr th {\n",
              "        vertical-align: top;\n",
              "    }\n",
              "</style>\n",
              "<table border=\"1\" class=\"dataframe\">\n",
              "  <thead>\n",
              "    <tr style=\"text-align: right;\">\n",
              "      <th></th>\n",
              "      <th></th>\n",
              "      <th></th>\n",
              "      <th>date_of_birth</th>\n",
              "      <th>name</th>\n",
              "      <th>weight</th>\n",
              "    </tr>\n",
              "    <tr>\n",
              "      <th>t_id</th>\n",
              "      <th>school_code</th>\n",
              "      <th>class</th>\n",
              "      <th></th>\n",
              "      <th></th>\n",
              "      <th></th>\n",
              "    </tr>\n",
              "  </thead>\n",
              "  <tbody>\n",
              "    <tr>\n",
              "      <th>t1</th>\n",
              "      <th>s001</th>\n",
              "      <th>V</th>\n",
              "      <td>15/05/2002</td>\n",
              "      <td>Alberto Franco</td>\n",
              "      <td>35</td>\n",
              "    </tr>\n",
              "    <tr>\n",
              "      <th>t2</th>\n",
              "      <th>s002</th>\n",
              "      <th>V</th>\n",
              "      <td>17/05/2002</td>\n",
              "      <td>Gino Mcneill</td>\n",
              "      <td>32</td>\n",
              "    </tr>\n",
              "    <tr>\n",
              "      <th>t3</th>\n",
              "      <th>s003</th>\n",
              "      <th>VI</th>\n",
              "      <td>16/02/1999</td>\n",
              "      <td>Ryan Parkes</td>\n",
              "      <td>33</td>\n",
              "    </tr>\n",
              "    <tr>\n",
              "      <th>t4</th>\n",
              "      <th>s001</th>\n",
              "      <th>VI</th>\n",
              "      <td>25/09/1998</td>\n",
              "      <td>Eesha Hinton</td>\n",
              "      <td>30</td>\n",
              "    </tr>\n",
              "    <tr>\n",
              "      <th>t5</th>\n",
              "      <th>s002</th>\n",
              "      <th>V</th>\n",
              "      <td>11/05/2002</td>\n",
              "      <td>Gino Mcneill</td>\n",
              "      <td>31</td>\n",
              "    </tr>\n",
              "    <tr>\n",
              "      <th>t6</th>\n",
              "      <th>s004</th>\n",
              "      <th>VI</th>\n",
              "      <td>15/09/1997</td>\n",
              "      <td>David Parkes</td>\n",
              "      <td>32</td>\n",
              "    </tr>\n",
              "  </tbody>\n",
              "</table>\n",
              "</div>"
            ],
            "text/plain": [
              "                       date_of_birth            name  weight\n",
              "t_id school_code class                                      \n",
              "t1   s001        V        15/05/2002  Alberto Franco      35\n",
              "t2   s002        V        17/05/2002    Gino Mcneill      32\n",
              "t3   s003        VI       16/02/1999     Ryan Parkes      33\n",
              "t4   s001        VI       25/09/1998    Eesha Hinton      30\n",
              "t5   s002        V        11/05/2002    Gino Mcneill      31\n",
              "t6   s004        VI       15/09/1997    David Parkes      32"
            ]
          },
          "metadata": {
            "tags": []
          },
          "execution_count": 2
        }
      ]
    },
    {
      "cell_type": "markdown",
      "metadata": {
        "hidden": true,
        "id": "X1Y4LRpEttXe"
      },
      "source": [
        "**48\\.** Вывести строку из Series и DataFrame по заданному индексу"
      ]
    },
    {
      "cell_type": "code",
      "metadata": {
        "collapsed": true,
        "hidden": true,
        "id": "JfX9n37sttXe"
      },
      "source": [
        "ds = pd.Series([1,3,5,7,9,11,13,15], index=[0,1,2,3,4,5,7,8])\n",
        "df = pd.DataFrame({\n",
        "    'school_code': ['s001','s002','s003','s001','s002','s004'],\n",
        "    'class': ['V', 'V', 'VI', 'VI', 'V', 'VI'],\n",
        "    'name': ['Alberto Franco','Gino Mcneill','Ryan Parkes', 'Eesha Hinton', 'Gino Mcneill', 'David Parkes'],\n",
        "    'date_of_birth': ['15/05/2002','17/05/2002','16/02/1999','25/09/1998','11/05/2002','15/09/1997'],\n",
        "    'weight': [35, 32, 33, 30, 31, 32]})\n",
        "\n",
        "indx = 4"
      ],
      "execution_count": null,
      "outputs": []
    },
    {
      "cell_type": "markdown",
      "metadata": {
        "hidden": true,
        "id": "KcAH3E5JttXf"
      },
      "source": [
        "**49\\.** Найти индексы строк с пропущенными данными"
      ]
    },
    {
      "cell_type": "code",
      "metadata": {
        "hidden": true,
        "id": "09GWA-1kttXf",
        "outputId": "9072710f-e915-461b-b8ad-dad74adc8248"
      },
      "source": [
        "df = pd.DataFrame({\n",
        "    'school_code': ['s001','s002','s003','s001','s002','s004'],\n",
        "    'class': ['V', 'V', 'VI', 'VI', 'V', 'VI'],\n",
        "    'name': ['Alberto Franco','Gino Mcneill','Ryan Parkes', 'Eesha Hinton', 'Gino Mcneill', 'David Parkes'],\n",
        "    'date_of_birth': ['15/05/2002','17/05/2002','16/02/1999','25/09/1998','11/05/2002','15/09/1997'],\n",
        "    'weight': [35, None, 33, 30, 31, None]},\n",
        "     index = ['t1', 't2', 't3', 't4', 't5', 't6'])\n",
        "df"
      ],
      "execution_count": null,
      "outputs": [
        {
          "output_type": "execute_result",
          "data": {
            "text/html": [
              "<div>\n",
              "<style>\n",
              "    .dataframe thead tr:only-child th {\n",
              "        text-align: right;\n",
              "    }\n",
              "\n",
              "    .dataframe thead th {\n",
              "        text-align: left;\n",
              "    }\n",
              "\n",
              "    .dataframe tbody tr th {\n",
              "        vertical-align: top;\n",
              "    }\n",
              "</style>\n",
              "<table border=\"1\" class=\"dataframe\">\n",
              "  <thead>\n",
              "    <tr style=\"text-align: right;\">\n",
              "      <th></th>\n",
              "      <th>class</th>\n",
              "      <th>date_of_birth</th>\n",
              "      <th>name</th>\n",
              "      <th>school_code</th>\n",
              "      <th>weight</th>\n",
              "    </tr>\n",
              "  </thead>\n",
              "  <tbody>\n",
              "    <tr>\n",
              "      <th>t1</th>\n",
              "      <td>V</td>\n",
              "      <td>15/05/2002</td>\n",
              "      <td>Alberto Franco</td>\n",
              "      <td>s001</td>\n",
              "      <td>35.0</td>\n",
              "    </tr>\n",
              "    <tr>\n",
              "      <th>t2</th>\n",
              "      <td>V</td>\n",
              "      <td>17/05/2002</td>\n",
              "      <td>Gino Mcneill</td>\n",
              "      <td>s002</td>\n",
              "      <td>NaN</td>\n",
              "    </tr>\n",
              "    <tr>\n",
              "      <th>t3</th>\n",
              "      <td>VI</td>\n",
              "      <td>16/02/1999</td>\n",
              "      <td>Ryan Parkes</td>\n",
              "      <td>s003</td>\n",
              "      <td>33.0</td>\n",
              "    </tr>\n",
              "    <tr>\n",
              "      <th>t4</th>\n",
              "      <td>VI</td>\n",
              "      <td>25/09/1998</td>\n",
              "      <td>Eesha Hinton</td>\n",
              "      <td>s001</td>\n",
              "      <td>30.0</td>\n",
              "    </tr>\n",
              "    <tr>\n",
              "      <th>t5</th>\n",
              "      <td>V</td>\n",
              "      <td>11/05/2002</td>\n",
              "      <td>Gino Mcneill</td>\n",
              "      <td>s002</td>\n",
              "      <td>31.0</td>\n",
              "    </tr>\n",
              "    <tr>\n",
              "      <th>t6</th>\n",
              "      <td>VI</td>\n",
              "      <td>15/09/1997</td>\n",
              "      <td>David Parkes</td>\n",
              "      <td>s004</td>\n",
              "      <td>NaN</td>\n",
              "    </tr>\n",
              "  </tbody>\n",
              "</table>\n",
              "</div>"
            ],
            "text/plain": [
              "   class date_of_birth            name school_code  weight\n",
              "t1     V    15/05/2002  Alberto Franco        s001    35.0\n",
              "t2     V    17/05/2002    Gino Mcneill        s002     NaN\n",
              "t3    VI    16/02/1999     Ryan Parkes        s003    33.0\n",
              "t4    VI    25/09/1998    Eesha Hinton        s001    30.0\n",
              "t5     V    11/05/2002    Gino Mcneill        s002    31.0\n",
              "t6    VI    15/09/1997    David Parkes        s004     NaN"
            ]
          },
          "metadata": {
            "tags": []
          },
          "execution_count": 4
        }
      ]
    },
    {
      "cell_type": "markdown",
      "metadata": {
        "hidden": true,
        "id": "sHKdkROkttYF"
      },
      "source": [
        "**50\\.** Сделать left join датафреймов"
      ]
    },
    {
      "cell_type": "code",
      "metadata": {
        "collapsed": true,
        "hidden": true,
        "id": "Ut6B-6bKttYF"
      },
      "source": [
        "data1 = pd.DataFrame({'key1': ['K0', 'K0', 'K1', 'K2'],\n",
        "                     'key2': ['K0', 'K1', 'K0', 'K1'],\n",
        "                     'P': ['P0', 'P1', 'P2', 'P3'],\n",
        "                     'Q': ['Q0', 'Q1', 'Q2', 'Q3']}) \n",
        "data2 = pd.DataFrame({'key1': ['K0', 'K1', 'K1', 'K2'],\n",
        "                      'key2': ['K0', 'K0', 'K0', 'K0'],\n",
        "                      'R': ['R0', 'R1', 'R2', 'R3'],\n",
        "                      'S': ['S0', 'S1', 'S2', 'S3']})"
      ],
      "execution_count": null,
      "outputs": []
    },
    {
      "cell_type": "markdown",
      "metadata": {
        "hidden": true,
        "id": "FjU91NUhttYG"
      },
      "source": [
        "**51\\.** Соединить два датафрейма"
      ]
    },
    {
      "cell_type": "code",
      "metadata": {
        "collapsed": true,
        "hidden": true,
        "id": "YjSx5zRfttYG"
      },
      "source": [
        "data1 = pd.DataFrame({'A': ['A0', 'A1', 'A2'],\n",
        "                      'B': ['B0', 'B1', 'B2']},\n",
        "                     index=['K0', 'K1', 'K2'])\n",
        "\n",
        "data2 = pd.DataFrame({'C': ['C0', 'C2', 'C3'],\n",
        "                      'D': ['D0', 'D2', 'D3']},\n",
        "                     index=['K0', 'K2', 'K3'])"
      ],
      "execution_count": null,
      "outputs": []
    },
    {
      "cell_type": "markdown",
      "metadata": {
        "hidden": true,
        "id": "WxL8AxMCttYG"
      },
      "source": [
        "**52\\.** Сгруппировать датафрейм по полям 'customer_id' и 'salesman_id' и отсортировать по sum of purch_amt внутри каждой группы"
      ]
    },
    {
      "cell_type": "code",
      "metadata": {
        "collapsed": true,
        "hidden": true,
        "id": "OPRhbHNUttYH"
      },
      "source": [
        "df = pd.DataFrame({\n",
        "'ord_no':[70001,70009,70002,70004,70007,70005,70008,70010,70003,70012,70011,70013],\n",
        "'purch_amt':[150.5,270.65,65.26,110.5,948.5,2400.6,5760,1983.43,2480.4,250.45, 75.29,3045.6],\n",
        "'ord_date': ['2012-10-05','2012-09-10','2012-10-05','2012-08-17','2012-09-10','2012-07-27','2012-09-10','2012-10-10','2012-10-10','2012-06-27','2012-08-17','2012-04-25'],\n",
        "'customer_id':[3001,3001,3005,3001,3005,3001,3005,3001,3005,3001,3005,3005],\n",
        "'salesman_id': [5002,5005,5001,5003,5002,5001,5001,5006,5003,5002,5007,5001]})"
      ],
      "execution_count": null,
      "outputs": []
    },
    {
      "cell_type": "markdown",
      "metadata": {
        "hidden": true,
        "id": "hnrIAXkLttYH"
      },
      "source": [
        "**53\\.** Сгруппировать датафрейм по месяцу и году из даты ord_date и найти общее количество заказов по годам и по месяцам"
      ]
    },
    {
      "cell_type": "code",
      "metadata": {
        "collapsed": true,
        "hidden": true,
        "id": "e06lUhbPttYI"
      },
      "source": [
        "df = pd.DataFrame({\n",
        "'ord_no':[70001,70009,70002,70004,70007,70005,70008,70010,70003,70012,70011,70013],\n",
        "'purch_amt':[150.5,270.65,65.26,110.5,948.5,2400.6,5760,1983.43,2480.4,250.45, 75.29,3045.6],\n",
        "'ord_date': ['05-10-2012','09-10-2012','05-10-2013','08-17-2013','10-09-2013','07-27-2014','10-09-2012','10-10-2012','10-10-2012','06-17-2014','07-08-2012','04-25-2012'],\n",
        "'customer_id':[3001,3001,3005,3001,3005,3001,3005,3001,3005,3001,3005,3005],\n",
        "'salesman_id': [5002,5005,5001,5003,5002,5001,5001,5006,5003,5002,5007,5001]})"
      ],
      "execution_count": null,
      "outputs": []
    },
    {
      "cell_type": "markdown",
      "metadata": {
        "heading_collapsed": true,
        "id": "Q6gCR87kttYI"
      },
      "source": [
        "# Regular expressions with Pandas"
      ]
    },
    {
      "cell_type": "markdown",
      "metadata": {
        "hidden": true,
        "id": "LDzyw1VLttYI"
      },
      "source": [
        "**1\\.** Выделить в отдельную колонку event_id первую цифру в кавычках, во вторую колонку event_probability вероятность (★☆☆) "
      ]
    },
    {
      "cell_type": "code",
      "metadata": {
        "collapsed": true,
        "hidden": true,
        "id": "o2ZJUAOkttYI"
      },
      "source": [
        "df=pd.DataFrame({'col1':[\"{'34': 0.9839372122311848}\",\n",
        "                         \"{'77': 0.6724645988404411}\",\n",
        "                         \"{'77': 0.6491011266207006}\",\n",
        "                         \"{'77': 0.6123085784265466}\",\n",
        "                         \"{'34': 0.87}\",\n",
        "                         \"{'77': 0.6225699652019304}\",\n",
        "                         \"{'3': 0.5470808226524633}\",\n",
        "                         \"{'77': 0.6233849004135044}\",\n",
        "                         \"{'77': 0.7050888998743866}\",\n",
        "                         \"{'52': 0.8945052223205372}\"]})\n",
        "\n",
        "#your code"
      ],
      "execution_count": 300,
      "outputs": []
    },
    {
      "cell_type": "markdown",
      "metadata": {
        "hidden": true,
        "id": "mbY-WH3bttYJ"
      },
      "source": [
        "**2\\.** Удалите все тэги, переносы строк из текстов новостей (★★★)\n",
        "\n",
        "(hint: df.column.str())"
      ]
    },
    {
      "cell_type": "code",
      "metadata": {
        "collapsed": true,
        "hidden": true,
        "id": "NeUdvfLIttYJ",
        "colab": {
          "base_uri": "https://localhost:8080/",
          "height": 386
        },
        "outputId": "c540abb0-48d2-4d6e-da22-2ae0690e8edf"
      },
      "source": [
        "df = pd.read_excel('news.xlsx')\n",
        "\n",
        "#your code"
      ],
      "execution_count": 301,
      "outputs": [
        {
          "output_type": "error",
          "ename": "FileNotFoundError",
          "evalue": "ignored",
          "traceback": [
            "\u001b[0;31m---------------------------------------------------------------------------\u001b[0m",
            "\u001b[0;31mFileNotFoundError\u001b[0m                         Traceback (most recent call last)",
            "\u001b[0;32m<ipython-input-301-a88d1d3381b4>\u001b[0m in \u001b[0;36m<module>\u001b[0;34m()\u001b[0m\n\u001b[0;32m----> 1\u001b[0;31m \u001b[0mdf\u001b[0m \u001b[0;34m=\u001b[0m \u001b[0mpd\u001b[0m\u001b[0;34m.\u001b[0m\u001b[0mread_excel\u001b[0m\u001b[0;34m(\u001b[0m\u001b[0;34m'news.xlsx'\u001b[0m\u001b[0;34m)\u001b[0m\u001b[0;34m\u001b[0m\u001b[0;34m\u001b[0m\u001b[0m\n\u001b[0m\u001b[1;32m      2\u001b[0m \u001b[0;34m\u001b[0m\u001b[0m\n\u001b[1;32m      3\u001b[0m \u001b[0;31m#your code\u001b[0m\u001b[0;34m\u001b[0m\u001b[0;34m\u001b[0m\u001b[0;34m\u001b[0m\u001b[0m\n",
            "\u001b[0;32m/usr/local/lib/python3.7/dist-packages/pandas/util/_decorators.py\u001b[0m in \u001b[0;36mwrapper\u001b[0;34m(*args, **kwargs)\u001b[0m\n\u001b[1;32m    294\u001b[0m                 )\n\u001b[1;32m    295\u001b[0m                 \u001b[0mwarnings\u001b[0m\u001b[0;34m.\u001b[0m\u001b[0mwarn\u001b[0m\u001b[0;34m(\u001b[0m\u001b[0mmsg\u001b[0m\u001b[0;34m,\u001b[0m \u001b[0mFutureWarning\u001b[0m\u001b[0;34m,\u001b[0m \u001b[0mstacklevel\u001b[0m\u001b[0;34m=\u001b[0m\u001b[0mstacklevel\u001b[0m\u001b[0;34m)\u001b[0m\u001b[0;34m\u001b[0m\u001b[0;34m\u001b[0m\u001b[0m\n\u001b[0;32m--> 296\u001b[0;31m             \u001b[0;32mreturn\u001b[0m \u001b[0mfunc\u001b[0m\u001b[0;34m(\u001b[0m\u001b[0;34m*\u001b[0m\u001b[0margs\u001b[0m\u001b[0;34m,\u001b[0m \u001b[0;34m**\u001b[0m\u001b[0mkwargs\u001b[0m\u001b[0;34m)\u001b[0m\u001b[0;34m\u001b[0m\u001b[0;34m\u001b[0m\u001b[0m\n\u001b[0m\u001b[1;32m    297\u001b[0m \u001b[0;34m\u001b[0m\u001b[0m\n\u001b[1;32m    298\u001b[0m         \u001b[0;32mreturn\u001b[0m \u001b[0mwrapper\u001b[0m\u001b[0;34m\u001b[0m\u001b[0;34m\u001b[0m\u001b[0m\n",
            "\u001b[0;32m/usr/local/lib/python3.7/dist-packages/pandas/io/excel/_base.py\u001b[0m in \u001b[0;36mread_excel\u001b[0;34m(io, sheet_name, header, names, index_col, usecols, squeeze, dtype, engine, converters, true_values, false_values, skiprows, nrows, na_values, keep_default_na, na_filter, verbose, parse_dates, date_parser, thousands, comment, skipfooter, convert_float, mangle_dupe_cols)\u001b[0m\n\u001b[1;32m    302\u001b[0m \u001b[0;34m\u001b[0m\u001b[0m\n\u001b[1;32m    303\u001b[0m     \u001b[0;32mif\u001b[0m \u001b[0;32mnot\u001b[0m \u001b[0misinstance\u001b[0m\u001b[0;34m(\u001b[0m\u001b[0mio\u001b[0m\u001b[0;34m,\u001b[0m \u001b[0mExcelFile\u001b[0m\u001b[0;34m)\u001b[0m\u001b[0;34m:\u001b[0m\u001b[0;34m\u001b[0m\u001b[0;34m\u001b[0m\u001b[0m\n\u001b[0;32m--> 304\u001b[0;31m         \u001b[0mio\u001b[0m \u001b[0;34m=\u001b[0m \u001b[0mExcelFile\u001b[0m\u001b[0;34m(\u001b[0m\u001b[0mio\u001b[0m\u001b[0;34m,\u001b[0m \u001b[0mengine\u001b[0m\u001b[0;34m=\u001b[0m\u001b[0mengine\u001b[0m\u001b[0;34m)\u001b[0m\u001b[0;34m\u001b[0m\u001b[0;34m\u001b[0m\u001b[0m\n\u001b[0m\u001b[1;32m    305\u001b[0m     \u001b[0;32melif\u001b[0m \u001b[0mengine\u001b[0m \u001b[0;32mand\u001b[0m \u001b[0mengine\u001b[0m \u001b[0;34m!=\u001b[0m \u001b[0mio\u001b[0m\u001b[0;34m.\u001b[0m\u001b[0mengine\u001b[0m\u001b[0;34m:\u001b[0m\u001b[0;34m\u001b[0m\u001b[0;34m\u001b[0m\u001b[0m\n\u001b[1;32m    306\u001b[0m         raise ValueError(\n",
            "\u001b[0;32m/usr/local/lib/python3.7/dist-packages/pandas/io/excel/_base.py\u001b[0m in \u001b[0;36m__init__\u001b[0;34m(self, path_or_buffer, engine)\u001b[0m\n\u001b[1;32m    865\u001b[0m         \u001b[0mself\u001b[0m\u001b[0;34m.\u001b[0m\u001b[0m_io\u001b[0m \u001b[0;34m=\u001b[0m \u001b[0mstringify_path\u001b[0m\u001b[0;34m(\u001b[0m\u001b[0mpath_or_buffer\u001b[0m\u001b[0;34m)\u001b[0m\u001b[0;34m\u001b[0m\u001b[0;34m\u001b[0m\u001b[0m\n\u001b[1;32m    866\u001b[0m \u001b[0;34m\u001b[0m\u001b[0m\n\u001b[0;32m--> 867\u001b[0;31m         \u001b[0mself\u001b[0m\u001b[0;34m.\u001b[0m\u001b[0m_reader\u001b[0m \u001b[0;34m=\u001b[0m \u001b[0mself\u001b[0m\u001b[0;34m.\u001b[0m\u001b[0m_engines\u001b[0m\u001b[0;34m[\u001b[0m\u001b[0mengine\u001b[0m\u001b[0;34m]\u001b[0m\u001b[0;34m(\u001b[0m\u001b[0mself\u001b[0m\u001b[0;34m.\u001b[0m\u001b[0m_io\u001b[0m\u001b[0;34m)\u001b[0m\u001b[0;34m\u001b[0m\u001b[0;34m\u001b[0m\u001b[0m\n\u001b[0m\u001b[1;32m    868\u001b[0m \u001b[0;34m\u001b[0m\u001b[0m\n\u001b[1;32m    869\u001b[0m     \u001b[0;32mdef\u001b[0m \u001b[0m__fspath__\u001b[0m\u001b[0;34m(\u001b[0m\u001b[0mself\u001b[0m\u001b[0;34m)\u001b[0m\u001b[0;34m:\u001b[0m\u001b[0;34m\u001b[0m\u001b[0;34m\u001b[0m\u001b[0m\n",
            "\u001b[0;32m/usr/local/lib/python3.7/dist-packages/pandas/io/excel/_xlrd.py\u001b[0m in \u001b[0;36m__init__\u001b[0;34m(self, filepath_or_buffer)\u001b[0m\n\u001b[1;32m     20\u001b[0m         \u001b[0merr_msg\u001b[0m \u001b[0;34m=\u001b[0m \u001b[0;34m\"Install xlrd >= 1.0.0 for Excel support\"\u001b[0m\u001b[0;34m\u001b[0m\u001b[0;34m\u001b[0m\u001b[0m\n\u001b[1;32m     21\u001b[0m         \u001b[0mimport_optional_dependency\u001b[0m\u001b[0;34m(\u001b[0m\u001b[0;34m\"xlrd\"\u001b[0m\u001b[0;34m,\u001b[0m \u001b[0mextra\u001b[0m\u001b[0;34m=\u001b[0m\u001b[0merr_msg\u001b[0m\u001b[0;34m)\u001b[0m\u001b[0;34m\u001b[0m\u001b[0;34m\u001b[0m\u001b[0m\n\u001b[0;32m---> 22\u001b[0;31m         \u001b[0msuper\u001b[0m\u001b[0;34m(\u001b[0m\u001b[0;34m)\u001b[0m\u001b[0;34m.\u001b[0m\u001b[0m__init__\u001b[0m\u001b[0;34m(\u001b[0m\u001b[0mfilepath_or_buffer\u001b[0m\u001b[0;34m)\u001b[0m\u001b[0;34m\u001b[0m\u001b[0;34m\u001b[0m\u001b[0m\n\u001b[0m\u001b[1;32m     23\u001b[0m \u001b[0;34m\u001b[0m\u001b[0m\n\u001b[1;32m     24\u001b[0m     \u001b[0;34m@\u001b[0m\u001b[0mproperty\u001b[0m\u001b[0;34m\u001b[0m\u001b[0;34m\u001b[0m\u001b[0m\n",
            "\u001b[0;32m/usr/local/lib/python3.7/dist-packages/pandas/io/excel/_base.py\u001b[0m in \u001b[0;36m__init__\u001b[0;34m(self, filepath_or_buffer)\u001b[0m\n\u001b[1;32m    351\u001b[0m             \u001b[0mself\u001b[0m\u001b[0;34m.\u001b[0m\u001b[0mbook\u001b[0m \u001b[0;34m=\u001b[0m \u001b[0mself\u001b[0m\u001b[0;34m.\u001b[0m\u001b[0mload_workbook\u001b[0m\u001b[0;34m(\u001b[0m\u001b[0mfilepath_or_buffer\u001b[0m\u001b[0;34m)\u001b[0m\u001b[0;34m\u001b[0m\u001b[0;34m\u001b[0m\u001b[0m\n\u001b[1;32m    352\u001b[0m         \u001b[0;32melif\u001b[0m \u001b[0misinstance\u001b[0m\u001b[0;34m(\u001b[0m\u001b[0mfilepath_or_buffer\u001b[0m\u001b[0;34m,\u001b[0m \u001b[0mstr\u001b[0m\u001b[0;34m)\u001b[0m\u001b[0;34m:\u001b[0m\u001b[0;34m\u001b[0m\u001b[0;34m\u001b[0m\u001b[0m\n\u001b[0;32m--> 353\u001b[0;31m             \u001b[0mself\u001b[0m\u001b[0;34m.\u001b[0m\u001b[0mbook\u001b[0m \u001b[0;34m=\u001b[0m \u001b[0mself\u001b[0m\u001b[0;34m.\u001b[0m\u001b[0mload_workbook\u001b[0m\u001b[0;34m(\u001b[0m\u001b[0mfilepath_or_buffer\u001b[0m\u001b[0;34m)\u001b[0m\u001b[0;34m\u001b[0m\u001b[0;34m\u001b[0m\u001b[0m\n\u001b[0m\u001b[1;32m    354\u001b[0m         \u001b[0;32melif\u001b[0m \u001b[0misinstance\u001b[0m\u001b[0;34m(\u001b[0m\u001b[0mfilepath_or_buffer\u001b[0m\u001b[0;34m,\u001b[0m \u001b[0mbytes\u001b[0m\u001b[0;34m)\u001b[0m\u001b[0;34m:\u001b[0m\u001b[0;34m\u001b[0m\u001b[0;34m\u001b[0m\u001b[0m\n\u001b[1;32m    355\u001b[0m             \u001b[0mself\u001b[0m\u001b[0;34m.\u001b[0m\u001b[0mbook\u001b[0m \u001b[0;34m=\u001b[0m \u001b[0mself\u001b[0m\u001b[0;34m.\u001b[0m\u001b[0mload_workbook\u001b[0m\u001b[0;34m(\u001b[0m\u001b[0mBytesIO\u001b[0m\u001b[0;34m(\u001b[0m\u001b[0mfilepath_or_buffer\u001b[0m\u001b[0;34m)\u001b[0m\u001b[0;34m)\u001b[0m\u001b[0;34m\u001b[0m\u001b[0;34m\u001b[0m\u001b[0m\n",
            "\u001b[0;32m/usr/local/lib/python3.7/dist-packages/pandas/io/excel/_xlrd.py\u001b[0m in \u001b[0;36mload_workbook\u001b[0;34m(self, filepath_or_buffer)\u001b[0m\n\u001b[1;32m     35\u001b[0m             \u001b[0;32mreturn\u001b[0m \u001b[0mopen_workbook\u001b[0m\u001b[0;34m(\u001b[0m\u001b[0mfile_contents\u001b[0m\u001b[0;34m=\u001b[0m\u001b[0mdata\u001b[0m\u001b[0;34m)\u001b[0m\u001b[0;34m\u001b[0m\u001b[0;34m\u001b[0m\u001b[0m\n\u001b[1;32m     36\u001b[0m         \u001b[0;32melse\u001b[0m\u001b[0;34m:\u001b[0m\u001b[0;34m\u001b[0m\u001b[0;34m\u001b[0m\u001b[0m\n\u001b[0;32m---> 37\u001b[0;31m             \u001b[0;32mreturn\u001b[0m \u001b[0mopen_workbook\u001b[0m\u001b[0;34m(\u001b[0m\u001b[0mfilepath_or_buffer\u001b[0m\u001b[0;34m)\u001b[0m\u001b[0;34m\u001b[0m\u001b[0;34m\u001b[0m\u001b[0m\n\u001b[0m\u001b[1;32m     38\u001b[0m \u001b[0;34m\u001b[0m\u001b[0m\n\u001b[1;32m     39\u001b[0m     \u001b[0;34m@\u001b[0m\u001b[0mproperty\u001b[0m\u001b[0;34m\u001b[0m\u001b[0;34m\u001b[0m\u001b[0m\n",
            "\u001b[0;32m/usr/local/lib/python3.7/dist-packages/xlrd/__init__.py\u001b[0m in \u001b[0;36mopen_workbook\u001b[0;34m(filename, logfile, verbosity, use_mmap, file_contents, encoding_override, formatting_info, on_demand, ragged_rows)\u001b[0m\n\u001b[1;32m    114\u001b[0m         \u001b[0mpeek\u001b[0m \u001b[0;34m=\u001b[0m \u001b[0mfile_contents\u001b[0m\u001b[0;34m[\u001b[0m\u001b[0;34m:\u001b[0m\u001b[0mpeeksz\u001b[0m\u001b[0;34m]\u001b[0m\u001b[0;34m\u001b[0m\u001b[0;34m\u001b[0m\u001b[0m\n\u001b[1;32m    115\u001b[0m     \u001b[0;32melse\u001b[0m\u001b[0;34m:\u001b[0m\u001b[0;34m\u001b[0m\u001b[0;34m\u001b[0m\u001b[0m\n\u001b[0;32m--> 116\u001b[0;31m         \u001b[0;32mwith\u001b[0m \u001b[0mopen\u001b[0m\u001b[0;34m(\u001b[0m\u001b[0mfilename\u001b[0m\u001b[0;34m,\u001b[0m \u001b[0;34m\"rb\"\u001b[0m\u001b[0;34m)\u001b[0m \u001b[0;32mas\u001b[0m \u001b[0mf\u001b[0m\u001b[0;34m:\u001b[0m\u001b[0;34m\u001b[0m\u001b[0;34m\u001b[0m\u001b[0m\n\u001b[0m\u001b[1;32m    117\u001b[0m             \u001b[0mpeek\u001b[0m \u001b[0;34m=\u001b[0m \u001b[0mf\u001b[0m\u001b[0;34m.\u001b[0m\u001b[0mread\u001b[0m\u001b[0;34m(\u001b[0m\u001b[0mpeeksz\u001b[0m\u001b[0;34m)\u001b[0m\u001b[0;34m\u001b[0m\u001b[0;34m\u001b[0m\u001b[0m\n\u001b[1;32m    118\u001b[0m     \u001b[0;32mif\u001b[0m \u001b[0mpeek\u001b[0m \u001b[0;34m==\u001b[0m \u001b[0;34mb\"PK\\x03\\x04\"\u001b[0m\u001b[0;34m:\u001b[0m \u001b[0;31m# a ZIP file\u001b[0m\u001b[0;34m\u001b[0m\u001b[0;34m\u001b[0m\u001b[0m\n",
            "\u001b[0;31mFileNotFoundError\u001b[0m: [Errno 2] No such file or directory: 'news.xlsx'"
          ]
        }
      ]
    },
    {
      "cell_type": "markdown",
      "metadata": {
        "hidden": true,
        "id": "fzkCoZB_ttYK"
      },
      "source": [
        "**3\\.** Проставьте флаг в колонку source_ria если текст новости содержит: риа новости, тасс, коммерсант. Перед поиском переведите тексты в lower и удалите все кроме букв. Данные после чистки из предыдушего задания (★★★)\n",
        "\n",
        "(hint: df.column.str())"
      ]
    },
    {
      "cell_type": "code",
      "metadata": {
        "collapsed": true,
        "hidden": true,
        "id": "ywLX0wYHttYN"
      },
      "source": [
        ""
      ],
      "execution_count": null,
      "outputs": []
    },
    {
      "cell_type": "markdown",
      "metadata": {
        "hidden": true,
        "id": "h91pPxpjttYN"
      },
      "source": [
        "**4\\.** Отфильтруйте строки с валидными емейлами (★★★)"
      ]
    },
    {
      "cell_type": "code",
      "metadata": {
        "collapsed": true,
        "hidden": true,
        "id": "0yNJHriattYN"
      },
      "source": [
        "emails = pd.Series(['buying books at amazom.com', 'rameses@egypt.com', 'matt@t.co', 'narendra@modi.com', 'kek lol@mail.ru'])\n",
        "\n",
        "#your code"
      ],
      "execution_count": null,
      "outputs": []
    },
    {
      "cell_type": "markdown",
      "metadata": {
        "hidden": true,
        "id": "Yc718ccYttYN"
      },
      "source": [
        "**5\\.** Напишите паттерн для поиска строки содержащей только буквы в верхнем и нижнем регистре, цифры и подчеркивание"
      ]
    },
    {
      "cell_type": "code",
      "metadata": {
        "collapsed": true,
        "hidden": true,
        "id": "DCDVZ7MLttYO"
      },
      "source": [
        ""
      ],
      "execution_count": null,
      "outputs": []
    },
    {
      "cell_type": "markdown",
      "metadata": {
        "hidden": true,
        "id": "aYUL86zxttYO"
      },
      "source": [
        "**6\\.** Замените пробелы на подчеркивание и наоборот"
      ]
    },
    {
      "cell_type": "code",
      "metadata": {
        "collapsed": true,
        "hidden": true,
        "id": "iqo2v-a0ttYO"
      },
      "source": [
        ""
      ],
      "execution_count": null,
      "outputs": []
    },
    {
      "cell_type": "markdown",
      "metadata": {
        "hidden": true,
        "id": "qnxwulqTttYO"
      },
      "source": [
        "**7\\.** Найдите слова длиной 3,4,5 "
      ]
    },
    {
      "cell_type": "code",
      "metadata": {
        "collapsed": true,
        "hidden": true,
        "id": "AecEufPRttYO"
      },
      "source": [
        ""
      ],
      "execution_count": null,
      "outputs": []
    },
    {
      "cell_type": "markdown",
      "metadata": {
        "hidden": true,
        "id": "BdfQMg-rttYP"
      },
      "source": [
        "**8\\.** Сделайте регистронезависимую замену(replace) во входной строке"
      ]
    },
    {
      "cell_type": "code",
      "metadata": {
        "collapsed": true,
        "hidden": true,
        "id": "32lFrxDgttYP"
      },
      "source": [
        ""
      ],
      "execution_count": null,
      "outputs": []
    }
  ]
}