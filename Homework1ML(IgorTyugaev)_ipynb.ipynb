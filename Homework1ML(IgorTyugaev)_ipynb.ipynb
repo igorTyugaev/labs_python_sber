{
  "nbformat": 4,
  "nbformat_minor": 0,
  "metadata": {
    "kernelspec": {
      "display_name": "Python 3",
      "language": "python",
      "name": "python3"
    },
    "language_info": {
      "codemirror_mode": {
        "name": "ipython",
        "version": 3
      },
      "file_extension": ".py",
      "mimetype": "text/x-python",
      "name": "python",
      "nbconvert_exporter": "python",
      "pygments_lexer": "ipython3",
      "version": "3.8.3"
    },
    "toc": {
      "base_numbering": 1,
      "nav_menu": {},
      "number_sections": true,
      "sideBar": true,
      "skip_h1_title": false,
      "title_cell": "Table of Contents",
      "title_sidebar": "Contents",
      "toc_cell": false,
      "toc_position": {},
      "toc_section_display": true,
      "toc_window_display": false
    },
    "varInspector": {
      "cols": {
        "lenName": 16,
        "lenType": 16,
        "lenVar": 40
      },
      "kernels_config": {
        "python": {
          "delete_cmd_postfix": "",
          "delete_cmd_prefix": "del ",
          "library": "var_list.py",
          "varRefreshCmd": "print(var_dic_list())"
        },
        "r": {
          "delete_cmd_postfix": ") ",
          "delete_cmd_prefix": "rm(",
          "library": "var_list.r",
          "varRefreshCmd": "cat(var_dic_list()) "
        }
      },
      "types_to_exclude": [
        "module",
        "function",
        "builtin_function_or_method",
        "instance",
        "_Feature"
      ],
      "window_display": false
    },
    "colab": {
      "name": "Копия блокнота \"Homework1ML(IgorTyugaev).ipynb\"",
      "provenance": [],
      "collapsed_sections": [
        "XrlvDWKIttXT",
        "XIuTdAKyttXb",
        "Q6gCR87kttYI"
      ],
      "toc_visible": true,
      "include_colab_link": true
    }
  },
  "cells": [
    {
      "cell_type": "markdown",
      "metadata": {
        "id": "view-in-github",
        "colab_type": "text"
      },
      "source": [
        "<a href=\"https://colab.research.google.com/github/igorTyugaev/labs_python_sber/blob/main/Homework1ML(IgorTyugaev)_ipynb.ipynb\" target=\"_parent\"><img src=\"https://colab.research.google.com/assets/colab-badge.svg\" alt=\"Open In Colab\"/></a>"
      ]
    },
    {
      "cell_type": "code",
      "metadata": {
        "id": "COqoWl0attWs"
      },
      "source": [
        "import numpy as np\n",
        "import pandas as pd"
      ],
      "execution_count": null,
      "outputs": []
    },
    {
      "cell_type": "markdown",
      "metadata": {
        "id": "0xRG2qOgttWt"
      },
      "source": [
        "**1\\.** Как создать pd.Series из листа, numpy array и словаря(dict)? (★☆☆)"
      ]
    },
    {
      "cell_type": "code",
      "metadata": {
        "id": "6KeLxoVattWu",
        "colab": {
          "base_uri": "https://localhost:8080/"
        },
        "outputId": "38b2882d-59fa-436d-ea10-bc44f8ebe882"
      },
      "source": [
        "mylist = list('abcedfghijklmnopqrstuvwxyz')\n",
        "myarr = np.arange(26)\n",
        "mydict = dict(zip(mylist, myarr))\n",
        "\n",
        "#your code\n",
        "s1 = pd.Series(mylist)\n",
        "s2 = pd.Series(myarr)\n",
        "s3 = pd.Series(mydict)\n",
        "\n",
        "print(s1.head())\n",
        "print(s2.head())\n",
        "print(s3.head())"
      ],
      "execution_count": null,
      "outputs": [
        {
          "output_type": "stream",
          "text": [
            "0    a\n",
            "1    b\n",
            "2    c\n",
            "3    e\n",
            "4    d\n",
            "dtype: object\n",
            "0    0\n",
            "1    1\n",
            "2    2\n",
            "3    3\n",
            "4    4\n",
            "dtype: int64\n",
            "a    0\n",
            "b    1\n",
            "c    2\n",
            "e    3\n",
            "d    4\n",
            "dtype: int64\n"
          ],
          "name": "stdout"
        }
      ]
    },
    {
      "cell_type": "markdown",
      "metadata": {
        "id": "abW9JFPTttWy"
      },
      "source": [
        "**2\\.** Как сделать превратить индексы из датафрейма в колонку? (★☆☆)"
      ]
    },
    {
      "cell_type": "code",
      "metadata": {
        "id": "WpyLEximttWz",
        "colab": {
          "base_uri": "https://localhost:8080/"
        },
        "outputId": "9c2521cc-3fbd-491b-8a79-c69f59b40434"
      },
      "source": [
        "df=pd.DataFrame(['a', 'b', 'c'])\n",
        "\n",
        "#your code\n",
        "print(\"Original: \\n\", df, \"\\n\")\n",
        "\n",
        "df_2 = df.copy()\n",
        "print(\"Transposed: \\n\", df_2.T, \"\\n\") # Если имелось ввиду транспонированная матрица\n",
        "\n",
        "df_3 = df.copy()\n",
        "df_3['index'] = df_3.index # Можем записать индексы как новый столбец\n",
        "print(\"Index to col: \\n\", df_3, \"\\n\")\n",
        "\n",
        "df_4 = df.copy()\n",
        "df_4 = df_4.reset_index() # Можем выполнить переиндесацию, при этом сох-я старые индексы (в колонку)\n",
        "print(\"Reset index: \\n\", df_4, \"\\n\")"
      ],
      "execution_count": null,
      "outputs": [
        {
          "output_type": "stream",
          "text": [
            "Original: \n",
            "    0\n",
            "0  a\n",
            "1  b\n",
            "2  c \n",
            "\n",
            "Transposed: \n",
            "    0  1  2\n",
            "0  a  b  c \n",
            "\n",
            "Index to col: \n",
            "    0  index\n",
            "0  a      0\n",
            "1  b      1\n",
            "2  c      2 \n",
            "\n",
            "Reset index: \n",
            "    index  0\n",
            "0      0  a\n",
            "1      1  b\n",
            "2      2  c \n",
            "\n"
          ],
          "name": "stdout"
        }
      ]
    },
    {
      "cell_type": "markdown",
      "metadata": {
        "id": "Gb_SbxZ7ttW0"
      },
      "source": [
        "**3\\.** Как из нескольких pd.Series сделать один датафрейм? (★★☆)\n",
        "\n",
        "(hint: pd.concat или словарь с колонками)"
      ]
    },
    {
      "cell_type": "code",
      "metadata": {
        "id": "ptKsFiyLttW3",
        "colab": {
          "base_uri": "https://localhost:8080/",
          "height": 143
        },
        "outputId": "dc4b666c-0944-4bee-fd6e-72c16656e74a"
      },
      "source": [
        "df1=pd.Series(['a', 'b', 'c'])\n",
        "df2=pd.Series(['aa', 'b1', 'c2'])\n",
        "df3=pd.Series(['44', '55', '66'])\n",
        "\n",
        "#your code\n",
        "df_4 = pd.concat([df1,df2,df3],axis=1) # Выполняем объеденение данных по столбцам\n",
        "# получили датафрейм\n",
        "# Но все-таки серии обычно считаються за строки,\n",
        "# поэтому выполним транспонирование\n",
        "df_4.T"
      ],
      "execution_count": null,
      "outputs": [
        {
          "output_type": "execute_result",
          "data": {
            "text/html": [
              "<div>\n",
              "<style scoped>\n",
              "    .dataframe tbody tr th:only-of-type {\n",
              "        vertical-align: middle;\n",
              "    }\n",
              "\n",
              "    .dataframe tbody tr th {\n",
              "        vertical-align: top;\n",
              "    }\n",
              "\n",
              "    .dataframe thead th {\n",
              "        text-align: right;\n",
              "    }\n",
              "</style>\n",
              "<table border=\"1\" class=\"dataframe\">\n",
              "  <thead>\n",
              "    <tr style=\"text-align: right;\">\n",
              "      <th></th>\n",
              "      <th>0</th>\n",
              "      <th>1</th>\n",
              "      <th>2</th>\n",
              "    </tr>\n",
              "  </thead>\n",
              "  <tbody>\n",
              "    <tr>\n",
              "      <th>0</th>\n",
              "      <td>a</td>\n",
              "      <td>b</td>\n",
              "      <td>c</td>\n",
              "    </tr>\n",
              "    <tr>\n",
              "      <th>1</th>\n",
              "      <td>aa</td>\n",
              "      <td>b1</td>\n",
              "      <td>c2</td>\n",
              "    </tr>\n",
              "    <tr>\n",
              "      <th>2</th>\n",
              "      <td>44</td>\n",
              "      <td>55</td>\n",
              "      <td>66</td>\n",
              "    </tr>\n",
              "  </tbody>\n",
              "</table>\n",
              "</div>"
            ],
            "text/plain": [
              "    0   1   2\n",
              "0   a   b   c\n",
              "1  aa  b1  c2\n",
              "2  44  55  66"
            ]
          },
          "metadata": {
            "tags": []
          },
          "execution_count": 233
        }
      ]
    },
    {
      "cell_type": "markdown",
      "metadata": {
        "id": "iuD_vRaQttW5"
      },
      "source": [
        "**4\\.** Как получить строки из series A, которые не содержатся в series B? (★★☆)"
      ]
    },
    {
      "cell_type": "code",
      "metadata": {
        "id": "vEueXjFnttW7",
        "colab": {
          "base_uri": "https://localhost:8080/"
        },
        "outputId": "96bfc092-ccea-498d-b9b0-dff459cabdb3"
      },
      "source": [
        "df1=pd.Series(['a', 'b', 'c'])\n",
        "df2=pd.Series(['a', 'b1', 'c2'])\n",
        "\n",
        "#your code\n",
        "# Понял это как LEFT OUTER JOIN для этих серий\n",
        "dfA = pd.DataFrame(df1)\n",
        "dfB = pd.DataFrame(df2)\n",
        "\n",
        "df_out = pd.merge(dfA, dfB, how=\"outer\", indicator=True)\n",
        "df_out.query('_merge==\"left_only\"')[0]"
      ],
      "execution_count": null,
      "outputs": [
        {
          "output_type": "execute_result",
          "data": {
            "text/plain": [
              "1    b\n",
              "2    c\n",
              "Name: 0, dtype: object"
            ]
          },
          "metadata": {
            "tags": []
          },
          "execution_count": 234
        }
      ]
    },
    {
      "cell_type": "markdown",
      "metadata": {
        "id": "bXOv8vTwttW8"
      },
      "source": [
        "**5\\.** Как получить из series/dataframe минимум, 25й персентиль, медиану, 75тый персентиль, максимум? (★☆☆)\n",
        "\n",
        "(hint: использовать одну команду)"
      ]
    },
    {
      "cell_type": "code",
      "metadata": {
        "collapsed": true,
        "id": "XlyuZMGEttW8",
        "colab": {
          "base_uri": "https://localhost:8080/"
        },
        "outputId": "187e30d8-473f-4761-95c9-3da81f1d4526"
      },
      "source": [
        "df1=pd.Series(np.arange(10, 99))\n",
        "\n",
        "#your code\n",
        "df1.describe()"
      ],
      "execution_count": null,
      "outputs": [
        {
          "output_type": "execute_result",
          "data": {
            "text/plain": [
              "count    89.000000\n",
              "mean     54.000000\n",
              "std      25.836021\n",
              "min      10.000000\n",
              "25%      32.000000\n",
              "50%      54.000000\n",
              "75%      76.000000\n",
              "max      98.000000\n",
              "dtype: float64"
            ]
          },
          "metadata": {
            "tags": []
          },
          "execution_count": 235
        }
      ]
    },
    {
      "cell_type": "markdown",
      "metadata": {
        "id": "b1dlZ5gQttW9"
      },
      "source": [
        "**6\\.** Как получить частоту\\долю для всех уникальных объектов в series? (★☆☆)"
      ]
    },
    {
      "cell_type": "code",
      "metadata": {
        "collapsed": true,
        "id": "4yXMGwrUttW9",
        "colab": {
          "base_uri": "https://localhost:8080/"
        },
        "outputId": "174ec377-4c81-413a-ad74-19c7771b78a0"
      },
      "source": [
        "df1=pd.Series(['a', 'b', 'c', 'g', 'v', 'a', 'a', 'a', 'u', 'a', 'b', 'c', 'c'])\n",
        "\n",
        "#your code\n",
        "df1.value_counts(normalize = True)"
      ],
      "execution_count": null,
      "outputs": [
        {
          "output_type": "execute_result",
          "data": {
            "text/plain": [
              "a    0.384615\n",
              "c    0.230769\n",
              "b    0.153846\n",
              "g    0.076923\n",
              "u    0.076923\n",
              "v    0.076923\n",
              "dtype: float64"
            ]
          },
          "metadata": {
            "tags": []
          },
          "execution_count": 236
        }
      ]
    },
    {
      "cell_type": "markdown",
      "metadata": {
        "id": "kThou-e9ttW-"
      },
      "source": [
        "**7\\.** Как оставить только топ-2 самых часто встречающихся значений, а все остальные значения заменить на 'other'?  (★★☆)"
      ]
    },
    {
      "cell_type": "code",
      "metadata": {
        "collapsed": true,
        "id": "BXPtjiBKttW-",
        "colab": {
          "base_uri": "https://localhost:8080/"
        },
        "outputId": "cb642315-17ba-457a-b311-097f5e6e7847"
      },
      "source": [
        "df1=pd.Series(['a', 'b', 'c', 'g', 'v', 'a', 'a', 'a', 'u', 'a', 'b', 'c', 'c'])\n",
        "\n",
        "#your code\n",
        "cor = df1.value_counts()[:2].index\n",
        "print(\"Топ-2 самых часто встречающихся значений:\", cor)\n",
        "df1.apply(lambda x: x if (x==cor[0] or x==cor[1]) else 'other')"
      ],
      "execution_count": null,
      "outputs": [
        {
          "output_type": "stream",
          "text": [
            "Топ-2 самых часто встречающихся значений: Index(['a', 'c'], dtype='object')\n"
          ],
          "name": "stdout"
        },
        {
          "output_type": "execute_result",
          "data": {
            "text/plain": [
              "0         a\n",
              "1     other\n",
              "2         c\n",
              "3     other\n",
              "4     other\n",
              "5         a\n",
              "6         a\n",
              "7         a\n",
              "8     other\n",
              "9         a\n",
              "10    other\n",
              "11        c\n",
              "12        c\n",
              "dtype: object"
            ]
          },
          "metadata": {
            "tags": []
          },
          "execution_count": 237
        }
      ]
    },
    {
      "cell_type": "markdown",
      "metadata": {
        "id": "7RfJCW8ottW_"
      },
      "source": [
        "**8\\.** Как разбить колонку с числовыми значениями на 10 групп одинакового размера?  (★★☆)\n",
        "\n",
        "(hint: pd.qcut)"
      ]
    },
    {
      "cell_type": "code",
      "metadata": {
        "collapsed": true,
        "id": "s-N0_3CzttW_",
        "colab": {
          "base_uri": "https://localhost:8080/"
        },
        "outputId": "161cd76d-ec08-439c-e36e-9163b8b4acc7"
      },
      "source": [
        "s = pd.Series(np.random.random(20))\n",
        "\n",
        "#your code\n",
        "pd.qcut(s, 10)"
      ],
      "execution_count": null,
      "outputs": [
        {
          "output_type": "execute_result",
          "data": {
            "text/plain": [
              "0      (0.266, 0.306]\n",
              "1      (0.751, 0.818]\n",
              "2     (0.0897, 0.132]\n",
              "3      (0.266, 0.306]\n",
              "4      (0.306, 0.454]\n",
              "5      (0.165, 0.266]\n",
              "6      (0.454, 0.492]\n",
              "7      (0.132, 0.165]\n",
              "8      (0.818, 0.992]\n",
              "9      (0.618, 0.751]\n",
              "10     (0.454, 0.492]\n",
              "11     (0.492, 0.618]\n",
              "12     (0.492, 0.618]\n",
              "13     (0.751, 0.818]\n",
              "14     (0.165, 0.266]\n",
              "15     (0.818, 0.992]\n",
              "16     (0.132, 0.165]\n",
              "17    (0.0897, 0.132]\n",
              "18     (0.306, 0.454]\n",
              "19     (0.618, 0.751]\n",
              "dtype: category\n",
              "Categories (10, interval[float64]): [(0.0897, 0.132] < (0.132, 0.165] < (0.165, 0.266] <\n",
              "                                     (0.266, 0.306] ... (0.492, 0.618] < (0.618, 0.751] <\n",
              "                                     (0.751, 0.818] < (0.818, 0.992]]"
            ]
          },
          "metadata": {
            "tags": []
          },
          "execution_count": 238
        }
      ]
    },
    {
      "cell_type": "markdown",
      "metadata": {
        "id": "6GVniHN_ttW_"
      },
      "source": [
        "**9\\.** Как найти позиции чисел, которые делятся на 3 без остатка из series?  (★★☆)\n",
        "\n",
        "(можно с помощью numpy и с помощью pandas)"
      ]
    },
    {
      "cell_type": "code",
      "metadata": {
        "collapsed": true,
        "id": "VeQGTUdDttXC",
        "colab": {
          "base_uri": "https://localhost:8080/"
        },
        "outputId": "0288267a-a5f7-416c-e6ae-2e667b1f26cc"
      },
      "source": [
        "s = pd.Series(np.random.randint(100, size=20))\n",
        "\n",
        "#your code\n",
        "s.loc[s % 3 == 0].index"
      ],
      "execution_count": null,
      "outputs": [
        {
          "output_type": "execute_result",
          "data": {
            "text/plain": [
              "Int64Index([0, 4, 9, 12, 13, 14], dtype='int64')"
            ]
          },
          "metadata": {
            "tags": []
          },
          "execution_count": 239
        }
      ]
    },
    {
      "cell_type": "markdown",
      "metadata": {
        "id": "n961W5YUttXC"
      },
      "source": [
        "**10\\.** Как извлечь из series строки по индексам?  (★☆☆)"
      ]
    },
    {
      "cell_type": "code",
      "metadata": {
        "collapsed": true,
        "id": "Nqxlw2crttXD",
        "colab": {
          "base_uri": "https://localhost:8080/"
        },
        "outputId": "9d2eedbb-d6e0-432f-dd8f-ceca6ec5b2c5"
      },
      "source": [
        "s = pd.Series(list('abcdefghijklmnopqrstuvwxyz'))\n",
        "pos = [0, 4, 8, 14, 20]\n",
        "\n",
        "#your code\n",
        "s.iloc[pos]"
      ],
      "execution_count": null,
      "outputs": [
        {
          "output_type": "execute_result",
          "data": {
            "text/plain": [
              "0     a\n",
              "4     e\n",
              "8     i\n",
              "14    o\n",
              "20    u\n",
              "dtype: object"
            ]
          },
          "metadata": {
            "tags": []
          },
          "execution_count": 240
        }
      ]
    },
    {
      "cell_type": "markdown",
      "metadata": {
        "id": "idtqyIkzttXD"
      },
      "source": [
        "**11\\.** Как сделать stack двух series вертикально и горизонтально? (★☆☆)\n",
        "\n",
        "(hint: pd.append, pd.concat)"
      ]
    },
    {
      "cell_type": "code",
      "metadata": {
        "collapsed": true,
        "id": "JTWLD028ttXE",
        "colab": {
          "base_uri": "https://localhost:8080/",
          "height": 206
        },
        "outputId": "e65962f9-5a88-48cc-944b-4d81e4d72b11"
      },
      "source": [
        "s1 = pd.Series(range(5))\n",
        "s2 = pd.Series(list('abcde'))\n",
        "\n",
        "#your code\n",
        "# Вертикальтно\n",
        "pd.concat([s1, s2])\n",
        "s1.append(s2)\n",
        "# Горизонтально\n",
        "pd.concat([s1, s2], axis=1)"
      ],
      "execution_count": null,
      "outputs": [
        {
          "output_type": "execute_result",
          "data": {
            "text/html": [
              "<div>\n",
              "<style scoped>\n",
              "    .dataframe tbody tr th:only-of-type {\n",
              "        vertical-align: middle;\n",
              "    }\n",
              "\n",
              "    .dataframe tbody tr th {\n",
              "        vertical-align: top;\n",
              "    }\n",
              "\n",
              "    .dataframe thead th {\n",
              "        text-align: right;\n",
              "    }\n",
              "</style>\n",
              "<table border=\"1\" class=\"dataframe\">\n",
              "  <thead>\n",
              "    <tr style=\"text-align: right;\">\n",
              "      <th></th>\n",
              "      <th>0</th>\n",
              "      <th>1</th>\n",
              "    </tr>\n",
              "  </thead>\n",
              "  <tbody>\n",
              "    <tr>\n",
              "      <th>0</th>\n",
              "      <td>0</td>\n",
              "      <td>a</td>\n",
              "    </tr>\n",
              "    <tr>\n",
              "      <th>1</th>\n",
              "      <td>1</td>\n",
              "      <td>b</td>\n",
              "    </tr>\n",
              "    <tr>\n",
              "      <th>2</th>\n",
              "      <td>2</td>\n",
              "      <td>c</td>\n",
              "    </tr>\n",
              "    <tr>\n",
              "      <th>3</th>\n",
              "      <td>3</td>\n",
              "      <td>d</td>\n",
              "    </tr>\n",
              "    <tr>\n",
              "      <th>4</th>\n",
              "      <td>4</td>\n",
              "      <td>e</td>\n",
              "    </tr>\n",
              "  </tbody>\n",
              "</table>\n",
              "</div>"
            ],
            "text/plain": [
              "   0  1\n",
              "0  0  a\n",
              "1  1  b\n",
              "2  2  c\n",
              "3  3  d\n",
              "4  4  e"
            ]
          },
          "metadata": {
            "tags": []
          },
          "execution_count": 241
        }
      ]
    },
    {
      "cell_type": "markdown",
      "metadata": {
        "id": "75DsCepJttXE"
      },
      "source": [
        "**12\\.** Как получить позиции строк из series A из другого series B? (★☆☆)\n",
        "\n",
        "(можно с помощью numpy и с помощью pandas)"
      ]
    },
    {
      "cell_type": "code",
      "metadata": {
        "collapsed": true,
        "id": "z51E6g5ittXF",
        "colab": {
          "base_uri": "https://localhost:8080/"
        },
        "outputId": "94d5067b-569c-4f5c-9b40-ea803be9f4c2"
      },
      "source": [
        "s1 = pd.Series([10, 9, 6, 5, 3, 1, 12, 8, 13])\n",
        "s2 = pd.Series([1, 3, 10, 13])\n",
        "\n",
        "#your code\n",
        "s1[s1.isin(s2)].index"
      ],
      "execution_count": null,
      "outputs": [
        {
          "output_type": "execute_result",
          "data": {
            "text/plain": [
              "Int64Index([0, 4, 5, 8], dtype='int64')"
            ]
          },
          "metadata": {
            "tags": []
          },
          "execution_count": 242
        }
      ]
    },
    {
      "cell_type": "markdown",
      "metadata": {
        "id": "6ni-v2A-ttXF"
      },
      "source": [
        "**13\\.** Как вычислить среднеквадратическую ошибку для истинных и предсказанных значений? (★★☆)"
      ]
    },
    {
      "cell_type": "code",
      "metadata": {
        "collapsed": true,
        "id": "vdTvNW1ZttXH",
        "colab": {
          "base_uri": "https://localhost:8080/"
        },
        "outputId": "e04ae41b-de2c-40e1-b1ba-3206cf417d45"
      },
      "source": [
        "truth = pd.Series(range(10))\n",
        "pred = pd.Series(range(10)) + np.random.random(10)\n",
        "\n",
        "#your code\n",
        "MSE = np.square(np.subtract(truth, pred)).mean() \n",
        "MSE"
      ],
      "execution_count": null,
      "outputs": [
        {
          "output_type": "execute_result",
          "data": {
            "text/plain": [
              "0.33442822260238864"
            ]
          },
          "metadata": {
            "tags": []
          },
          "execution_count": 243
        }
      ]
    },
    {
      "cell_type": "markdown",
      "metadata": {
        "id": "L7D2sWi2ttXH"
      },
      "source": [
        "**14\\.** Как конвертировать каждый первый элемент строке в series в верхний регистр? (★★☆)"
      ]
    },
    {
      "cell_type": "code",
      "metadata": {
        "collapsed": true,
        "id": "HchFvkGWttXI",
        "colab": {
          "base_uri": "https://localhost:8080/"
        },
        "outputId": "edfce26e-6636-4a46-9668-c6927e3ae0ad"
      },
      "source": [
        "s = pd.Series(['how', 'to', 'kick', 'ass?'])\n",
        "\n",
        "#your code\n",
        "s.apply(lambda x: x.capitalize())"
      ],
      "execution_count": null,
      "outputs": [
        {
          "output_type": "execute_result",
          "data": {
            "text/plain": [
              "0     How\n",
              "1      To\n",
              "2    Kick\n",
              "3    Ass?\n",
              "dtype: object"
            ]
          },
          "metadata": {
            "tags": []
          },
          "execution_count": 244
        }
      ]
    },
    {
      "cell_type": "markdown",
      "metadata": {
        "id": "MbDrI_QfttXI"
      },
      "source": [
        "**15\\.** Как посчитать количество символов в каждой строке? (★★☆)"
      ]
    },
    {
      "cell_type": "code",
      "metadata": {
        "collapsed": true,
        "id": "a0XzoMdyttXJ",
        "colab": {
          "base_uri": "https://localhost:8080/"
        },
        "outputId": "6f8374cf-0e35-45c8-8098-38f8ade32a0d"
      },
      "source": [
        "s = pd.Series(['how', 'to', 'kick', 'ass?'])\n",
        "\n",
        "#your code\n",
        "s.apply(lambda x: len(x))"
      ],
      "execution_count": null,
      "outputs": [
        {
          "output_type": "execute_result",
          "data": {
            "text/plain": [
              "0    3\n",
              "1    2\n",
              "2    4\n",
              "3    4\n",
              "dtype: int64"
            ]
          },
          "metadata": {
            "tags": []
          },
          "execution_count": 245
        }
      ]
    },
    {
      "cell_type": "markdown",
      "metadata": {
        "id": "LAvGxmzQttXJ"
      },
      "source": [
        "**16\\.** Как преобразовать даты в виде строк в timeseries?  (★☆☆)\n",
        "\n",
        "(hint: pd.to_datetime)"
      ]
    },
    {
      "cell_type": "code",
      "metadata": {
        "collapsed": true,
        "id": "LN9r-kNjttXK",
        "colab": {
          "base_uri": "https://localhost:8080/"
        },
        "outputId": "162116a4-da5c-4c54-8489-6871fe7cb40f"
      },
      "source": [
        "s = pd.Series(['01 Jan 2010', '02-02-2011', '20120303', '2013/04/04', '2014-05-05', '2015-06-06T12:20'])\n",
        "\n",
        "#your code\n",
        "pd.to_datetime(s)"
      ],
      "execution_count": null,
      "outputs": [
        {
          "output_type": "execute_result",
          "data": {
            "text/plain": [
              "0   2010-01-01 00:00:00\n",
              "1   2011-02-02 00:00:00\n",
              "2   2012-03-03 00:00:00\n",
              "3   2013-04-04 00:00:00\n",
              "4   2014-05-05 00:00:00\n",
              "5   2015-06-06 12:20:00\n",
              "dtype: datetime64[ns]"
            ]
          },
          "metadata": {
            "tags": []
          },
          "execution_count": 246
        }
      ]
    },
    {
      "cell_type": "markdown",
      "metadata": {
        "id": "aS5MBxbcttXK"
      },
      "source": [
        "**17\\.** Как получить день месяца, номер недели, день года и день недели из даты в виде строки? (★★☆)"
      ]
    },
    {
      "cell_type": "code",
      "metadata": {
        "collapsed": true,
        "id": "mBk5cc5XttXK",
        "colab": {
          "base_uri": "https://localhost:8080/"
        },
        "outputId": "0c964a27-9426-4ef1-f6fe-ad19a0f6fba0"
      },
      "source": [
        "s = pd.Series(['01 Jan 2010', '02-02-2011', '20120303', '2013/04/04', '2014-05-05', '2015-06-06T12:20'])\n",
        "\n",
        "#your code\n",
        "dt_series = pd.to_datetime(s)\n",
        "\n",
        "print(\"Date: \\n\", dt_series.apply(lambda x: x.date()), \"\\n\")\n",
        "\n",
        "print(\"Week number: \\n\", dt_series.apply(lambda x: x.week), \"\\n\")\n",
        "\n",
        "print(\"Day number of year: \\n\", dt_series.apply(lambda x: x.date()), \"\\n\")\n",
        "\n",
        "print(\"Day of week: \\n\", dt_series.apply(lambda x: x.dayofweek))"
      ],
      "execution_count": null,
      "outputs": [
        {
          "output_type": "stream",
          "text": [
            "Date: \n",
            " 0    2010-01-01\n",
            "1    2011-02-02\n",
            "2    2012-03-03\n",
            "3    2013-04-04\n",
            "4    2014-05-05\n",
            "5    2015-06-06\n",
            "dtype: object \n",
            "\n",
            "Week number: \n",
            " 0    53\n",
            "1     5\n",
            "2     9\n",
            "3    14\n",
            "4    19\n",
            "5    23\n",
            "dtype: int64 \n",
            "\n",
            "Day number of year: \n",
            " 0    2010-01-01\n",
            "1    2011-02-02\n",
            "2    2012-03-03\n",
            "3    2013-04-04\n",
            "4    2014-05-05\n",
            "5    2015-06-06\n",
            "dtype: object \n",
            "\n",
            "Day of week: \n",
            " 0    4\n",
            "1    2\n",
            "2    5\n",
            "3    3\n",
            "4    0\n",
            "5    5\n",
            "dtype: int64\n"
          ],
          "name": "stdout"
        }
      ]
    },
    {
      "cell_type": "markdown",
      "metadata": {
        "id": "olzpvkJqttXK"
      },
      "source": [
        "**18\\.** Как конвертировать дату из формата месяц-год в формат год-месяц-первое число? (★★☆)\n",
        "\n",
        "(hint: .strftime('%Y-%m-%d'))"
      ]
    },
    {
      "cell_type": "code",
      "metadata": {
        "collapsed": true,
        "id": "-uhX4V8YttXK",
        "colab": {
          "base_uri": "https://localhost:8080/"
        },
        "outputId": "8411ec9a-7709-4324-bf44-55e2732bc08b"
      },
      "source": [
        "s = pd.Series(['Jan 2017', 'Feb 2019', 'Mar 2012'])\n",
        "\n",
        "#your code\n",
        "dt_series = pd.to_datetime(s)\n",
        "dt_series.apply(lambda x: x.strftime('%Y-%m-%d'))"
      ],
      "execution_count": null,
      "outputs": [
        {
          "output_type": "execute_result",
          "data": {
            "text/plain": [
              "0    2017-01-01\n",
              "1    2019-02-01\n",
              "2    2012-03-01\n",
              "dtype: object"
            ]
          },
          "metadata": {
            "tags": []
          },
          "execution_count": 248
        }
      ]
    },
    {
      "cell_type": "markdown",
      "metadata": {
        "id": "IZDWGqKottXM"
      },
      "source": [
        "**19\\.** Как отфильтровать слова, содержащие не менее 2 гласных? (★★☆)"
      ]
    },
    {
      "cell_type": "code",
      "metadata": {
        "collapsed": true,
        "id": "wNn8w9VyttXM",
        "colab": {
          "base_uri": "https://localhost:8080/"
        },
        "outputId": "31cc8361-4c1b-4b5e-e78b-35ae03bf89f8"
      },
      "source": [
        "s = pd.Series(['Kitty', 'Cat', 'Plan', 'Python', 'Money'])\n",
        "\n",
        "#your code\n",
        "# Википедиа говорит:\n",
        "# \"Буква «Y» может обозначать как согласный, так и гласный звуки\"\n",
        "# Так что возможно два варианта\n",
        "print(s[s.str.count('(?i)[aeiou]') >=2], \"\\n\")\n",
        "# или с «Y»\n",
        "s[s.str.count('(?i)[aeiouy]') >=2]"
      ],
      "execution_count": null,
      "outputs": [
        {
          "output_type": "stream",
          "text": [
            "4    Money\n",
            "dtype: object \n",
            "\n"
          ],
          "name": "stdout"
        },
        {
          "output_type": "execute_result",
          "data": {
            "text/plain": [
              "0     Kitty\n",
              "3    Python\n",
              "4     Money\n",
              "dtype: object"
            ]
          },
          "metadata": {
            "tags": []
          },
          "execution_count": 249
        }
      ]
    },
    {
      "cell_type": "markdown",
      "metadata": {
        "id": "TS-pnqYQttXM"
      },
      "source": [
        "**20\\.** Заполните все пропущенные даты от минимальной до максимальной, значения при этом дожны быть равны предыдущей не пропущеной дате (★★★)"
      ]
    },
    {
      "cell_type": "code",
      "metadata": {
        "collapsed": true,
        "id": "YA1UxDTJttXN",
        "colab": {
          "base_uri": "https://localhost:8080/"
        },
        "outputId": "281ba310-83b5-4188-9edf-e8bad99a8285"
      },
      "source": [
        "s = pd.Series([1,10,3,np.nan], index=pd.to_datetime(['2000-01-01', '2000-01-03', '2000-01-06', '2000-01-08']))\n",
        "\n",
        "#your code\n",
        "# Найдем сначала max и min даты\n",
        "dt_series = pd.to_datetime(s.index)\n",
        "min_date = dt_series.min()\n",
        "max_date = dt_series.max()\n",
        "# Сформируем диапазон от min_date to max_date\n",
        "new_index = pd.date_range(min_date, max_date)\n",
        "# Выполним переиндексирование объекта s, c использованием интерполяции\n",
        "s.reindex(new_index, method='ffill')"
      ],
      "execution_count": null,
      "outputs": [
        {
          "output_type": "execute_result",
          "data": {
            "text/plain": [
              "2000-01-01     1.0\n",
              "2000-01-02     1.0\n",
              "2000-01-03    10.0\n",
              "2000-01-04    10.0\n",
              "2000-01-05    10.0\n",
              "2000-01-06     3.0\n",
              "2000-01-07     3.0\n",
              "2000-01-08     NaN\n",
              "Freq: D, dtype: float64"
            ]
          },
          "metadata": {
            "tags": []
          },
          "execution_count": 250
        }
      ]
    },
    {
      "cell_type": "markdown",
      "metadata": {
        "id": "6bdYN_L7ttXN"
      },
      "source": [
        "**21\\.** Считайте файл из CSV-файла по строчно и добавьте считанные строки в датафрейм (файл data/BostonHousing.csv)?  (★★☆)\n",
        "\n",
        "(hint: csv reader)"
      ]
    },
    {
      "cell_type": "code",
      "metadata": {
        "collapsed": true,
        "id": "KBY4iMGWttXO",
        "colab": {
          "base_uri": "https://localhost:8080/",
          "height": 307
        },
        "outputId": "c8dccaef-0eff-4071-c2f1-5d8a17ae0ecc"
      },
      "source": [
        "import csv\n",
        "df_read = pd.Series()\n",
        "    \n",
        "with open('BostonHousing.csv', 'r') as csv_file:\n",
        "  reader = csv.reader(csv_file)\n",
        "  for row in reader:\n",
        "    df_read = pd.concat([df_read, pd.Series(row)], axis=1)\n",
        "    # print(pd.Series(row))\n",
        "    # df_read.append(pd.DataFrame(pd.Series(row)))\n",
        "\n",
        "df_read = df_read.T\n",
        "df_read = df_read.rename(columns=df_read.iloc[1, :])\n",
        "df_read = df_read.iloc[2:, :]\n",
        "df_read.head()\n",
        "# ну, а по простому df_read = pd.read_csv(\"BostonHousing.csv\")"
      ],
      "execution_count": null,
      "outputs": [
        {
          "output_type": "stream",
          "text": [
            "/usr/local/lib/python3.7/dist-packages/ipykernel_launcher.py:2: DeprecationWarning: The default dtype for empty Series will be 'object' instead of 'float64' in a future version. Specify a dtype explicitly to silence this warning.\n",
            "  \n"
          ],
          "name": "stderr"
        },
        {
          "output_type": "error",
          "ename": "FileNotFoundError",
          "evalue": "ignored",
          "traceback": [
            "\u001b[0;31m---------------------------------------------------------------------------\u001b[0m",
            "\u001b[0;31mFileNotFoundError\u001b[0m                         Traceback (most recent call last)",
            "\u001b[0;32m<ipython-input-251-e45b1c32d4bf>\u001b[0m in \u001b[0;36m<module>\u001b[0;34m()\u001b[0m\n\u001b[1;32m      2\u001b[0m \u001b[0mdf_read\u001b[0m \u001b[0;34m=\u001b[0m \u001b[0mpd\u001b[0m\u001b[0;34m.\u001b[0m\u001b[0mSeries\u001b[0m\u001b[0;34m(\u001b[0m\u001b[0;34m)\u001b[0m\u001b[0;34m\u001b[0m\u001b[0;34m\u001b[0m\u001b[0m\n\u001b[1;32m      3\u001b[0m \u001b[0;34m\u001b[0m\u001b[0m\n\u001b[0;32m----> 4\u001b[0;31m \u001b[0;32mwith\u001b[0m \u001b[0mopen\u001b[0m\u001b[0;34m(\u001b[0m\u001b[0;34m'BostonHousing.csv'\u001b[0m\u001b[0;34m,\u001b[0m \u001b[0;34m'r'\u001b[0m\u001b[0;34m)\u001b[0m \u001b[0;32mas\u001b[0m \u001b[0mcsv_file\u001b[0m\u001b[0;34m:\u001b[0m\u001b[0;34m\u001b[0m\u001b[0;34m\u001b[0m\u001b[0m\n\u001b[0m\u001b[1;32m      5\u001b[0m   \u001b[0mreader\u001b[0m \u001b[0;34m=\u001b[0m \u001b[0mcsv\u001b[0m\u001b[0;34m.\u001b[0m\u001b[0mreader\u001b[0m\u001b[0;34m(\u001b[0m\u001b[0mcsv_file\u001b[0m\u001b[0;34m)\u001b[0m\u001b[0;34m\u001b[0m\u001b[0;34m\u001b[0m\u001b[0m\n\u001b[1;32m      6\u001b[0m   \u001b[0;32mfor\u001b[0m \u001b[0mrow\u001b[0m \u001b[0;32min\u001b[0m \u001b[0mreader\u001b[0m\u001b[0;34m:\u001b[0m\u001b[0;34m\u001b[0m\u001b[0;34m\u001b[0m\u001b[0m\n",
            "\u001b[0;31mFileNotFoundError\u001b[0m: [Errno 2] No such file or directory: 'BostonHousing.csv'"
          ]
        }
      ]
    },
    {
      "cell_type": "markdown",
      "metadata": {
        "id": "zFENPHSnttXO"
      },
      "source": [
        "**22\\.** Как изменить значения столбца при импорте csv в фрейм данных?\n",
        "Импортируйте датасет с помощью pd.read_csv, но колонку 'medv' (median house value) измените так, что если value < 25 = ‘Low’ и если > 25 = ‘High’.  (★★☆)\n",
        "\n",
        "(hint: pd.read_csv(....., converts={}))"
      ]
    },
    {
      "cell_type": "code",
      "metadata": {
        "collapsed": true,
        "id": "zvPkaxhtttXO"
      },
      "source": [
        "dir_file = 'https://raw.githubusercontent.com/selva86/datasets/master/BostonHousing.csv'\n",
        "df_read = pd.read_csv(dir_file, converters={'medv': lambda x: 'Low' if float(x) < 25 else 'High'})\n",
        "df_read.head()"
      ],
      "execution_count": null,
      "outputs": []
    },
    {
      "cell_type": "markdown",
      "metadata": {
        "id": "mf-lTqBSttXO"
      },
      "source": [
        "**23\\.** Как импортировать только указанные столбцы('crim' и 'medv') и только n строк из CSV-файла?  (★☆☆)"
      ]
    },
    {
      "cell_type": "code",
      "metadata": {
        "collapsed": true,
        "id": "3tWfcK4bttXO"
      },
      "source": [
        "# nrows - кол-во строк для считывания\n",
        "df_read = pd.read_csv(dir_file, nrows=5, usecols=['crim', 'medv'])\n",
        "df_read"
      ],
      "execution_count": null,
      "outputs": []
    },
    {
      "cell_type": "markdown",
      "metadata": {
        "id": "t25gsasZttXO"
      },
      "source": [
        "**24\\.** Как получить кол-во строк, кол-во столбцов, тип столбцов, кол-во столбцов с таким типом данных, итоговую статистику каждого столбца датафрейма?  (★☆☆)"
      ]
    },
    {
      "cell_type": "code",
      "metadata": {
        "collapsed": true,
        "id": "cXLm6yN3ttXP"
      },
      "source": [
        "df = pd.read_csv('https://raw.githubusercontent.com/selva86/datasets/master/Cars93_miss.csv')\n",
        "\n",
        "#  number of rows and columns\n",
        "print(\"Кол-во строк:\", len(df))\n",
        "print(\"Кол-во столбцов:\", len(df.columns))\n",
        "print(\"Кол-во строк и столбцов:\", df.shape)\n",
        "# datatypes\n",
        "\n",
        "# how many columns under each dtype\n",
        "\n",
        "# summary statistics\n",
        "df.info()"
      ],
      "execution_count": null,
      "outputs": []
    },
    {
      "cell_type": "markdown",
      "metadata": {
        "id": "aAh_sby2ttXP"
      },
      "source": [
        "**25\\.** Как извлечь номер строки и столбца конкретной ячейки с заданным критерием? (★☆☆)"
      ]
    },
    {
      "cell_type": "code",
      "metadata": {
        "collapsed": true,
        "id": "-EQOKgUHttXP"
      },
      "source": [
        "df = pd.read_csv('https://raw.githubusercontent.com/selva86/datasets/master/Cars93_miss.csv')\n",
        "\n",
        "# Get Manufacturer with highest price\n",
        "print(df.loc[df['Max.Price'].idxmax(), 'Manufacturer'])\n",
        "# Get Row and Column number\n",
        "print(df.loc[df['Max.Price'].idxmax()].name)\n",
        "# Get the value\n",
        "print(df.loc[df['Max.Price'].idxmax()]['Max.Price'])"
      ],
      "execution_count": null,
      "outputs": []
    },
    {
      "cell_type": "markdown",
      "metadata": {
        "id": "_845HktPttXQ"
      },
      "source": [
        "**26\\.** Переименнуйте колонку Type в CarType, в столбцах с '.' в названии замените её на '_'. Как добавить ко всем названиям колонок суффиксы?  (★☆☆)"
      ]
    },
    {
      "cell_type": "code",
      "metadata": {
        "id": "Ke2cFua2ttXQ"
      },
      "source": [
        "df = pd.read_csv('https://raw.githubusercontent.com/selva86/datasets/master/Cars93_miss.csv')\n",
        "\n",
        "#your code\n",
        "df = df.rename(columns={\"Type\": \"CarType\"})\n",
        "df.columns = df.columns.str.replace(r\".\", \"_\")\n",
        "df.head()"
      ],
      "execution_count": null,
      "outputs": []
    },
    {
      "cell_type": "markdown",
      "metadata": {
        "id": "u9qMR4S_ttXQ"
      },
      "source": [
        "**27\\.** Проверьте есть ли в датафрейме пропуски? Если да, посчитайте кол-во nan\\none в каждом столбце датафрейма  (★★☆)"
      ]
    },
    {
      "cell_type": "code",
      "metadata": {
        "collapsed": true,
        "id": "Xh7FJxBHttXQ"
      },
      "source": [
        "df = pd.read_csv('https://raw.githubusercontent.com/selva86/datasets/master/Cars93_miss.csv')\n",
        "\n",
        "#your code\n",
        "if(df.isnull().values.any()):\n",
        "  print(df.isna().sum())"
      ],
      "execution_count": null,
      "outputs": []
    },
    {
      "cell_type": "markdown",
      "metadata": {
        "id": "NpSnX2jettXR"
      },
      "source": [
        "**28\\.** Как заменить отсутствующие значения нескольких числовых столбцов средним?  (★★☆)"
      ]
    },
    {
      "cell_type": "code",
      "metadata": {
        "collapsed": true,
        "id": "FmgeNLbuttXR"
      },
      "source": [
        "df = pd.read_csv('https://raw.githubusercontent.com/selva86/datasets/master/Cars93_miss.csv')\n",
        "\n",
        "#your code\n",
        "df = df.fillna(df.mean())\n",
        "df.head()"
      ],
      "execution_count": null,
      "outputs": []
    },
    {
      "cell_type": "markdown",
      "metadata": {
        "id": "9WLujl6PttXR"
      },
      "source": [
        "**29\\.** Как выбрать конкретный столбец из датафрейма в качестве датафрейма, а не series?  (★☆☆)"
      ]
    },
    {
      "cell_type": "code",
      "metadata": {
        "collapsed": true,
        "id": "q4V4vYF0ttXR"
      },
      "source": [
        "df = pd.read_csv('https://raw.githubusercontent.com/selva86/datasets/master/Cars93_miss.csv')\n",
        "\n",
        "#your code\n",
        "# df.iloc[:, 0]\n",
        "# df.loc[:, 'Model']\n",
        "df[['Model']]"
      ],
      "execution_count": null,
      "outputs": []
    },
    {
      "cell_type": "markdown",
      "metadata": {
        "id": "pDh2FSnhttXS"
      },
      "source": [
        "**30\\.** Как изменить порядок столбцов данных? (☆☆☆)"
      ]
    },
    {
      "cell_type": "code",
      "metadata": {
        "collapsed": true,
        "id": "GC7fdmGKttXS"
      },
      "source": [
        "df = pd.read_csv('https://raw.githubusercontent.com/selva86/datasets/master/Cars93_miss.csv')\n",
        "\n",
        "#your code\n",
        "df = df.reindex(columns=sorted(df.columns))\n",
        "df.head()"
      ],
      "execution_count": null,
      "outputs": []
    },
    {
      "cell_type": "markdown",
      "metadata": {
        "id": "8yX6mfCmttXS"
      },
      "source": [
        "**31\\.** Как установить количество строк и столбцов, отображаемых в выводе? (☆☆☆)\n",
        "\n",
        "(hint: pd.set_option)"
      ]
    },
    {
      "cell_type": "code",
      "metadata": {
        "collapsed": true,
        "id": "DoDADYekttXS"
      },
      "source": [
        "df = pd.read_csv('https://raw.githubusercontent.com/selva86/datasets/master/Cars93_miss.csv')\n",
        "\n",
        "#your code\n",
        "pd.set_option('display.max_rows', 5)\n",
        "pd.set_option('display.max_columns', 3)\n",
        "df.head()"
      ],
      "execution_count": null,
      "outputs": []
    },
    {
      "cell_type": "markdown",
      "metadata": {
        "id": "5jH-cRcittXS"
      },
      "source": [
        "**32\\.** Как получить номер строки, в которой содержится максимальное значение в столбце? (★★☆)"
      ]
    },
    {
      "cell_type": "code",
      "metadata": {
        "collapsed": true,
        "id": "7mFvF_QUttXT"
      },
      "source": [
        "df = pd.DataFrame(np.random.randint(1, 30, 30).reshape(10,-1), columns=list('abc'))\n",
        "\n",
        "#your code\n",
        "df['b'].idxmax()"
      ],
      "execution_count": null,
      "outputs": []
    },
    {
      "cell_type": "markdown",
      "metadata": {
        "id": "MUXI06wgttXT"
      },
      "source": [
        "**33\\.** Как получить последние n строк датафрейма с суммой строк 100?  (★★★)"
      ]
    },
    {
      "cell_type": "code",
      "metadata": {
        "collapsed": true,
        "id": "okbITj5UttXT"
      },
      "source": [
        "df = pd.DataFrame(np.random.randint(1, 30, 30).reshape(10,-1), columns=list('abc'))\n",
        "# получить все строки сумма значений которых равна 100\n",
        "df = df.loc[df.sum(axis=1) == 100]\n",
        "# получить последние n строк датафрейма\n",
        "n = 3\n",
        "df.iloc[-n:]"
      ],
      "execution_count": null,
      "outputs": []
    },
    {
      "cell_type": "markdown",
      "metadata": {
        "heading_collapsed": true,
        "id": "XrlvDWKIttXT"
      },
      "source": [
        "### Выбросы (оutliers)"
      ]
    },
    {
      "cell_type": "markdown",
      "metadata": {
        "hidden": true,
        "id": "ST62o-3kttXT"
      },
      "source": [
        "* 5 Ways to Detect Outliers/Anomalies That Every Data Scientist Should Know (Python Code)\n",
        "\n",
        "https://towardsdatascience.com/5-ways-to-detect-outliers-that-every-data-scientist-should-know-python-code-70a54335a623"
      ]
    },
    {
      "cell_type": "markdown",
      "metadata": {
        "hidden": true,
        "id": "sCqJaYvattXT"
      },
      "source": [
        "**34\\.** Как найти и заменить выбросы из столбца Series или датафрейма? (★★★)\n",
        "\n",
        "Замените все значения из столбца ниже 5того и больше 95го персентиля, на пограничные значения.\n",
        "\n",
        "(hint: .quantile())"
      ]
    },
    {
      "cell_type": "code",
      "metadata": {
        "collapsed": true,
        "hidden": true,
        "id": "mf8j5PuyttXT"
      },
      "source": [
        "s = pd.Series(np.logspace(-2, 2, 30))\n",
        "\n",
        "#your code\n",
        "boundary_val_bottom = s.quantile(0.05)\n",
        "boundary_val_top = s.quantile(0.95)\n",
        "\n",
        "s = s.mask(s < boundary_val_bottom, boundary_val_bottom)\n",
        "s = s.mask(s > boundary_val_top, boundary_val_top)\n",
        "s.head()"
      ],
      "execution_count": null,
      "outputs": []
    },
    {
      "cell_type": "markdown",
      "metadata": {
        "hidden": true,
        "id": "ewHGCKnNttXU"
      },
      "source": [
        "**35\\.** Попробуйте реализовать метод Interquartile Range (IQR) (★★★)\n",
        "\n",
        "Почитать про него можно по ссылке выше."
      ]
    },
    {
      "cell_type": "code",
      "metadata": {
        "collapsed": true,
        "hidden": true,
        "id": "x3T_Cf6sttXU"
      },
      "source": [
        "s = pd.Series(np.logspace(-2, 2, 30))\n",
        "\n",
        "#your code\n",
        "def interquartile_range(df):\n",
        "    Q1 = df.quantile(0.25)\n",
        "    Q3 = df.quantile(0.75)\n",
        "    IQR = Q3 - Q1\n",
        "    lower_whisker = Q1 - 1.5*IQR\n",
        "    upper_whisker = Q3 + 1.5*IQR\n",
        "    return df.loc[((df >= lower_whisker) & (df <= upper_whisker))]\n",
        "\n",
        "interquartile_range(s)"
      ],
      "execution_count": null,
      "outputs": []
    },
    {
      "cell_type": "markdown",
      "metadata": {
        "hidden": true,
        "id": "vyR4hBBkttXU"
      },
      "source": [
        "**36\\.** Как поменять местами две строки данных? (★★★)"
      ]
    },
    {
      "cell_type": "code",
      "metadata": {
        "collapsed": true,
        "hidden": true,
        "id": "3mRRyWm6ttXU"
      },
      "source": [
        "df = pd.DataFrame(np.arange(25).reshape(5, -1))\n",
        "\n",
        "#your code\n",
        "def swap_rows(df, row_a, row_b):\n",
        "    a, b = df.iloc[row_a, :].copy(), df.iloc[row_b, :].copy()\n",
        "    df.iloc[row_a, :], df.iloc[row_b, :] = b, a\n",
        "    return df\n",
        "\n",
        "print(df.head()) # before\n",
        "print(swap_rows(df, 0, 1).head()) # after"
      ],
      "execution_count": null,
      "outputs": []
    },
    {
      "cell_type": "markdown",
      "metadata": {
        "heading_collapsed": true,
        "id": "y2AUfmvwttXU"
      },
      "source": [
        "### one-hot-encoding"
      ]
    },
    {
      "cell_type": "markdown",
      "metadata": {
        "hidden": true,
        "id": "wpa2T4Q8ttXV"
      },
      "source": [
        "**37\\.** Как создать однозначные кодировки категориальной переменной? (★★★)\n",
        "\n",
        "Сделайте one-hot кодировку столбца 'a'."
      ]
    },
    {
      "cell_type": "code",
      "metadata": {
        "collapsed": true,
        "hidden": true,
        "id": "IGZBmZqxttXV",
        "colab": {
          "base_uri": "https://localhost:8080/",
          "height": 206
        },
        "outputId": "480962dd-1bac-49a7-9a83-8217b03b5029"
      },
      "source": [
        "df = pd.DataFrame([['aa', 'kek'], ['ba', 'lol'], ['ab', 'kek'], ['aa', 'lol'], ['cc', 'kek']], columns=['a', 'b'])\n",
        "\n",
        "#your code\n",
        "pd.get_dummies(df['a'])"
      ],
      "execution_count": 38,
      "outputs": [
        {
          "output_type": "execute_result",
          "data": {
            "text/html": [
              "<div>\n",
              "<style scoped>\n",
              "    .dataframe tbody tr th:only-of-type {\n",
              "        vertical-align: middle;\n",
              "    }\n",
              "\n",
              "    .dataframe tbody tr th {\n",
              "        vertical-align: top;\n",
              "    }\n",
              "\n",
              "    .dataframe thead th {\n",
              "        text-align: right;\n",
              "    }\n",
              "</style>\n",
              "<table border=\"1\" class=\"dataframe\">\n",
              "  <thead>\n",
              "    <tr style=\"text-align: right;\">\n",
              "      <th></th>\n",
              "      <th>aa</th>\n",
              "      <th>ab</th>\n",
              "      <th>ba</th>\n",
              "      <th>cc</th>\n",
              "    </tr>\n",
              "  </thead>\n",
              "  <tbody>\n",
              "    <tr>\n",
              "      <th>0</th>\n",
              "      <td>1</td>\n",
              "      <td>0</td>\n",
              "      <td>0</td>\n",
              "      <td>0</td>\n",
              "    </tr>\n",
              "    <tr>\n",
              "      <th>1</th>\n",
              "      <td>0</td>\n",
              "      <td>0</td>\n",
              "      <td>1</td>\n",
              "      <td>0</td>\n",
              "    </tr>\n",
              "    <tr>\n",
              "      <th>2</th>\n",
              "      <td>0</td>\n",
              "      <td>1</td>\n",
              "      <td>0</td>\n",
              "      <td>0</td>\n",
              "    </tr>\n",
              "    <tr>\n",
              "      <th>3</th>\n",
              "      <td>1</td>\n",
              "      <td>0</td>\n",
              "      <td>0</td>\n",
              "      <td>0</td>\n",
              "    </tr>\n",
              "    <tr>\n",
              "      <th>4</th>\n",
              "      <td>0</td>\n",
              "      <td>0</td>\n",
              "      <td>0</td>\n",
              "      <td>1</td>\n",
              "    </tr>\n",
              "  </tbody>\n",
              "</table>\n",
              "</div>"
            ],
            "text/plain": [
              "   aa  ab  ba  cc\n",
              "0   1   0   0   0\n",
              "1   0   0   1   0\n",
              "2   0   1   0   0\n",
              "3   1   0   0   0\n",
              "4   0   0   0   1"
            ]
          },
          "metadata": {
            "tags": []
          },
          "execution_count": 38
        }
      ]
    },
    {
      "cell_type": "markdown",
      "metadata": {
        "hidden": true,
        "id": "cR8oEAezttXV"
      },
      "source": [
        "**38\\.** Нормализуйте все столбцы в датафрейме. (★★★)\n",
        "\n",
        "a) Нормализовать все столбцы df путем вычитания среднего значения столбца и деления на стандартное отклонение. \n",
        "\n",
        "b) Трансформируйте все столбцы df так, чтобы минимальное значение в каждом столбце было 0, а max = 1."
      ]
    },
    {
      "cell_type": "code",
      "metadata": {
        "collapsed": true,
        "hidden": true,
        "id": "ui1XhufyttXV"
      },
      "source": [
        "df = pd.DataFrame(np.random.randint(1,100, 80).reshape(8, -1))\n",
        "\n",
        "#your code\n",
        "df_norm_a = (df-df.mean()) / df.std()\n",
        "df_norm_b = (df - df.mean()) / (df.max() - df.min())"
      ],
      "execution_count": 45,
      "outputs": []
    },
    {
      "cell_type": "markdown",
      "metadata": {
        "hidden": true,
        "id": "cRapvdwMttXV"
      },
      "source": [
        "**39\\.** Как получить конкретную группу из датафрейма сгруппированного по ключу? (★★★)\n",
        "\n",
        "Сгруппируйте по 'name', и выведите данные по группе 'orange'.\n",
        "\n",
        "(hint: groupby(), get_group())"
      ]
    },
    {
      "cell_type": "code",
      "metadata": {
        "collapsed": true,
        "hidden": true,
        "id": "eFoZqPrittXW",
        "colab": {
          "base_uri": "https://localhost:8080/",
          "height": 143
        },
        "outputId": "841e22df-a1c5-45e0-abe1-0f23e4e87476"
      },
      "source": [
        "df = pd.DataFrame({'name': ['apple', 'banana', 'orange'] * 3,\n",
        "                   'taste': np.random.rand(9),\n",
        "                   'price': np.random.randint(0, 15, 9)})\n",
        "\n",
        "#your code\n",
        "df.groupby(['name']).get_group('orange')"
      ],
      "execution_count": 47,
      "outputs": [
        {
          "output_type": "execute_result",
          "data": {
            "text/html": [
              "<div>\n",
              "<style scoped>\n",
              "    .dataframe tbody tr th:only-of-type {\n",
              "        vertical-align: middle;\n",
              "    }\n",
              "\n",
              "    .dataframe tbody tr th {\n",
              "        vertical-align: top;\n",
              "    }\n",
              "\n",
              "    .dataframe thead th {\n",
              "        text-align: right;\n",
              "    }\n",
              "</style>\n",
              "<table border=\"1\" class=\"dataframe\">\n",
              "  <thead>\n",
              "    <tr style=\"text-align: right;\">\n",
              "      <th></th>\n",
              "      <th>name</th>\n",
              "      <th>taste</th>\n",
              "      <th>price</th>\n",
              "    </tr>\n",
              "  </thead>\n",
              "  <tbody>\n",
              "    <tr>\n",
              "      <th>2</th>\n",
              "      <td>orange</td>\n",
              "      <td>0.333957</td>\n",
              "      <td>14</td>\n",
              "    </tr>\n",
              "    <tr>\n",
              "      <th>5</th>\n",
              "      <td>orange</td>\n",
              "      <td>0.890841</td>\n",
              "      <td>8</td>\n",
              "    </tr>\n",
              "    <tr>\n",
              "      <th>8</th>\n",
              "      <td>orange</td>\n",
              "      <td>0.048351</td>\n",
              "      <td>14</td>\n",
              "    </tr>\n",
              "  </tbody>\n",
              "</table>\n",
              "</div>"
            ],
            "text/plain": [
              "     name     taste  price\n",
              "2  orange  0.333957     14\n",
              "5  orange  0.890841      8\n",
              "8  orange  0.048351     14"
            ]
          },
          "metadata": {
            "tags": []
          },
          "execution_count": 47
        }
      ]
    },
    {
      "cell_type": "markdown",
      "metadata": {
        "hidden": true,
        "id": "aNnfnfOPttXW"
      },
      "source": [
        "**40\\.** Как вычислить среднее значение по столбцу 'price' по каждому фрукту в датафрейме и сохранить сгруппированный столбец как другой столбец (не индекс)? (★★★)"
      ]
    },
    {
      "cell_type": "code",
      "metadata": {
        "collapsed": true,
        "hidden": true,
        "id": "mPkOvM7sttXW",
        "colab": {
          "base_uri": "https://localhost:8080/",
          "height": 175
        },
        "outputId": "b8949dd7-2fe5-466b-a2ea-1303e6d01fea"
      },
      "source": [
        "df = pd.DataFrame({'name': ['apple', 'banana', 'orange'] * 3,\n",
        "                   'taste': np.random.rand(9),\n",
        "                   'price': np.random.randint(0, 15, 9)})\n",
        "\n",
        "#your code\n",
        "df_mean = df.groupby(['name']).mean()\n",
        "df_mean"
      ],
      "execution_count": 63,
      "outputs": [
        {
          "output_type": "execute_result",
          "data": {
            "text/html": [
              "<div>\n",
              "<style scoped>\n",
              "    .dataframe tbody tr th:only-of-type {\n",
              "        vertical-align: middle;\n",
              "    }\n",
              "\n",
              "    .dataframe tbody tr th {\n",
              "        vertical-align: top;\n",
              "    }\n",
              "\n",
              "    .dataframe thead th {\n",
              "        text-align: right;\n",
              "    }\n",
              "</style>\n",
              "<table border=\"1\" class=\"dataframe\">\n",
              "  <thead>\n",
              "    <tr style=\"text-align: right;\">\n",
              "      <th></th>\n",
              "      <th>taste</th>\n",
              "      <th>price</th>\n",
              "    </tr>\n",
              "    <tr>\n",
              "      <th>name</th>\n",
              "      <th></th>\n",
              "      <th></th>\n",
              "    </tr>\n",
              "  </thead>\n",
              "  <tbody>\n",
              "    <tr>\n",
              "      <th>apple</th>\n",
              "      <td>0.293510</td>\n",
              "      <td>5.333333</td>\n",
              "    </tr>\n",
              "    <tr>\n",
              "      <th>banana</th>\n",
              "      <td>0.648408</td>\n",
              "      <td>4.000000</td>\n",
              "    </tr>\n",
              "    <tr>\n",
              "      <th>orange</th>\n",
              "      <td>0.375286</td>\n",
              "      <td>6.000000</td>\n",
              "    </tr>\n",
              "  </tbody>\n",
              "</table>\n",
              "</div>"
            ],
            "text/plain": [
              "           taste     price\n",
              "name                      \n",
              "apple   0.293510  5.333333\n",
              "banana  0.648408  4.000000\n",
              "orange  0.375286  6.000000"
            ]
          },
          "metadata": {
            "tags": []
          },
          "execution_count": 63
        }
      ]
    },
    {
      "cell_type": "markdown",
      "metadata": {
        "hidden": true,
        "id": "q2zzUxUYttXW"
      },
      "source": [
        "**41\\.** Как объединить два датафрейма по двум столбцам, чтобы в них остались только общие строки?  (★★★)\n",
        "\n",
        "Сделать merge двух датафреймов по колонкам ['fruit', 'weight'] и ['pazham', 'kilo'].\n",
        "\n",
        "(hint: pd.merge https://pandas.pydata.org/pandas-docs/stable/getting_started/10min.html#merge )"
      ]
    },
    {
      "cell_type": "code",
      "metadata": {
        "collapsed": true,
        "hidden": true,
        "id": "0WGbiSuMttXZ",
        "colab": {
          "base_uri": "https://localhost:8080/",
          "height": 238
        },
        "outputId": "d3403b9b-ed5a-44bc-caf8-9ad7c01fbfe2"
      },
      "source": [
        "df1 = pd.DataFrame({'fruit': ['apple', 'banana', 'orange'] * 3,\n",
        "                    'weight': ['high', 'medium', 'low'] * 3,\n",
        "                    'price': np.random.randint(0, 15, 9)})\n",
        "\n",
        "df2 = pd.DataFrame({'pazham': ['apple', 'orange', 'pine'] * 2,\n",
        "                    'kilo': ['high', 'low'] * 3,\n",
        "                    'price': np.random.randint(0, 15, 6)})\n",
        "\n",
        "#your code\n",
        "df1.merge(df2, how = 'inner', left_on=['fruit', 'weight'], right_on=['pazham', 'kilo'])"
      ],
      "execution_count": 49,
      "outputs": [
        {
          "output_type": "execute_result",
          "data": {
            "text/html": [
              "<div>\n",
              "<style scoped>\n",
              "    .dataframe tbody tr th:only-of-type {\n",
              "        vertical-align: middle;\n",
              "    }\n",
              "\n",
              "    .dataframe tbody tr th {\n",
              "        vertical-align: top;\n",
              "    }\n",
              "\n",
              "    .dataframe thead th {\n",
              "        text-align: right;\n",
              "    }\n",
              "</style>\n",
              "<table border=\"1\" class=\"dataframe\">\n",
              "  <thead>\n",
              "    <tr style=\"text-align: right;\">\n",
              "      <th></th>\n",
              "      <th>fruit</th>\n",
              "      <th>weight</th>\n",
              "      <th>price_x</th>\n",
              "      <th>pazham</th>\n",
              "      <th>kilo</th>\n",
              "      <th>price_y</th>\n",
              "    </tr>\n",
              "  </thead>\n",
              "  <tbody>\n",
              "    <tr>\n",
              "      <th>0</th>\n",
              "      <td>apple</td>\n",
              "      <td>high</td>\n",
              "      <td>12</td>\n",
              "      <td>apple</td>\n",
              "      <td>high</td>\n",
              "      <td>14</td>\n",
              "    </tr>\n",
              "    <tr>\n",
              "      <th>1</th>\n",
              "      <td>apple</td>\n",
              "      <td>high</td>\n",
              "      <td>6</td>\n",
              "      <td>apple</td>\n",
              "      <td>high</td>\n",
              "      <td>14</td>\n",
              "    </tr>\n",
              "    <tr>\n",
              "      <th>2</th>\n",
              "      <td>apple</td>\n",
              "      <td>high</td>\n",
              "      <td>4</td>\n",
              "      <td>apple</td>\n",
              "      <td>high</td>\n",
              "      <td>14</td>\n",
              "    </tr>\n",
              "    <tr>\n",
              "      <th>3</th>\n",
              "      <td>orange</td>\n",
              "      <td>low</td>\n",
              "      <td>0</td>\n",
              "      <td>orange</td>\n",
              "      <td>low</td>\n",
              "      <td>13</td>\n",
              "    </tr>\n",
              "    <tr>\n",
              "      <th>4</th>\n",
              "      <td>orange</td>\n",
              "      <td>low</td>\n",
              "      <td>9</td>\n",
              "      <td>orange</td>\n",
              "      <td>low</td>\n",
              "      <td>13</td>\n",
              "    </tr>\n",
              "    <tr>\n",
              "      <th>5</th>\n",
              "      <td>orange</td>\n",
              "      <td>low</td>\n",
              "      <td>8</td>\n",
              "      <td>orange</td>\n",
              "      <td>low</td>\n",
              "      <td>13</td>\n",
              "    </tr>\n",
              "  </tbody>\n",
              "</table>\n",
              "</div>"
            ],
            "text/plain": [
              "    fruit weight  price_x  pazham  kilo  price_y\n",
              "0   apple   high       12   apple  high       14\n",
              "1   apple   high        6   apple  high       14\n",
              "2   apple   high        4   apple  high       14\n",
              "3  orange    low        0  orange   low       13\n",
              "4  orange    low        9  orange   low       13\n",
              "5  orange    low        8  orange   low       13"
            ]
          },
          "metadata": {
            "tags": []
          },
          "execution_count": 49
        }
      ]
    },
    {
      "cell_type": "markdown",
      "metadata": {
        "hidden": true,
        "id": "2fDe_qgYttXZ"
      },
      "source": [
        "**42\\.** Как удалить строки из датафрейма А, которые присутствуют в датафрейме B? (★★★)\n"
      ]
    },
    {
      "cell_type": "code",
      "metadata": {
        "collapsed": true,
        "hidden": true,
        "id": "5TOBAOcjttXZ",
        "colab": {
          "base_uri": "https://localhost:8080/",
          "height": 269
        },
        "outputId": "441fd987-cbc4-4f61-d292-9e3ef640166a"
      },
      "source": [
        "df1 = pd.DataFrame({'fruit': ['apple', 'orange', 'banana'] * 3,\n",
        "                    'weight': ['high', 'medium', 'low'] * 3,\n",
        "                    'price': np.arange(9)})\n",
        "\n",
        "df2 = pd.DataFrame({'fruit': ['apple', 'orange', 'pine'] * 2,\n",
        "                    'weight': ['high', 'medium'] * 3,\n",
        "                    'price': np.arange(6)})\n",
        "\n",
        "#your code\n",
        "df = pd.merge(df1, df2, how=\"outer\", indicator=True).query('_merge==\"left_only\"')\n",
        "df.reset_index(drop=True).drop('_merge', 1)"
      ],
      "execution_count": 75,
      "outputs": [
        {
          "output_type": "execute_result",
          "data": {
            "text/html": [
              "<div>\n",
              "<style scoped>\n",
              "    .dataframe tbody tr th:only-of-type {\n",
              "        vertical-align: middle;\n",
              "    }\n",
              "\n",
              "    .dataframe tbody tr th {\n",
              "        vertical-align: top;\n",
              "    }\n",
              "\n",
              "    .dataframe thead th {\n",
              "        text-align: right;\n",
              "    }\n",
              "</style>\n",
              "<table border=\"1\" class=\"dataframe\">\n",
              "  <thead>\n",
              "    <tr style=\"text-align: right;\">\n",
              "      <th></th>\n",
              "      <th>fruit</th>\n",
              "      <th>weight</th>\n",
              "      <th>price</th>\n",
              "    </tr>\n",
              "  </thead>\n",
              "  <tbody>\n",
              "    <tr>\n",
              "      <th>0</th>\n",
              "      <td>banana</td>\n",
              "      <td>low</td>\n",
              "      <td>2</td>\n",
              "    </tr>\n",
              "    <tr>\n",
              "      <th>1</th>\n",
              "      <td>apple</td>\n",
              "      <td>high</td>\n",
              "      <td>3</td>\n",
              "    </tr>\n",
              "    <tr>\n",
              "      <th>2</th>\n",
              "      <td>orange</td>\n",
              "      <td>medium</td>\n",
              "      <td>4</td>\n",
              "    </tr>\n",
              "    <tr>\n",
              "      <th>3</th>\n",
              "      <td>banana</td>\n",
              "      <td>low</td>\n",
              "      <td>5</td>\n",
              "    </tr>\n",
              "    <tr>\n",
              "      <th>4</th>\n",
              "      <td>apple</td>\n",
              "      <td>high</td>\n",
              "      <td>6</td>\n",
              "    </tr>\n",
              "    <tr>\n",
              "      <th>5</th>\n",
              "      <td>orange</td>\n",
              "      <td>medium</td>\n",
              "      <td>7</td>\n",
              "    </tr>\n",
              "    <tr>\n",
              "      <th>6</th>\n",
              "      <td>banana</td>\n",
              "      <td>low</td>\n",
              "      <td>8</td>\n",
              "    </tr>\n",
              "  </tbody>\n",
              "</table>\n",
              "</div>"
            ],
            "text/plain": [
              "    fruit  weight  price\n",
              "0  banana     low      2\n",
              "1   apple    high      3\n",
              "2  orange  medium      4\n",
              "3  banana     low      5\n",
              "4   apple    high      6\n",
              "5  orange  medium      7\n",
              "6  banana     low      8"
            ]
          },
          "metadata": {
            "tags": []
          },
          "execution_count": 75
        }
      ]
    },
    {
      "cell_type": "markdown",
      "metadata": {
        "hidden": true,
        "id": "1WgWpnlEttXZ"
      },
      "source": [
        "**43\\.** Как получить номера строк, в которых совпадают значения двух столбцов? (★★★)\n",
        "\n",
        "(hint: np.where)"
      ]
    },
    {
      "cell_type": "code",
      "metadata": {
        "collapsed": true,
        "hidden": true,
        "id": "z7lS-hMPttXa",
        "colab": {
          "base_uri": "https://localhost:8080/"
        },
        "outputId": "5023b3c3-c2a3-48f8-f071-f889961b7e9e"
      },
      "source": [
        "df = pd.DataFrame({'fruit1': np.random.choice(['apple', 'orange', 'banana'], 10),\n",
        "                    'fruit2': np.random.choice(['apple', 'orange', 'banana'], 10)})\n",
        "\n",
        "\n",
        "#your code\n",
        "df_out = df.loc[df['fruit1'] == df['fruit2']]\n",
        "list(df_out.index)"
      ],
      "execution_count": 86,
      "outputs": [
        {
          "output_type": "execute_result",
          "data": {
            "text/plain": [
              "[0, 2, 3, 7, 9]"
            ]
          },
          "metadata": {
            "tags": []
          },
          "execution_count": 86
        }
      ]
    },
    {
      "cell_type": "markdown",
      "metadata": {
        "hidden": true,
        "id": "4UKch6B_ttXa"
      },
      "source": [
        "**44\\.** Создайте столбец a_shift со сдвигом на одну строку назад. (★★★)\n",
        "\n",
        "(hint: .shift())"
      ]
    },
    {
      "cell_type": "code",
      "metadata": {
        "collapsed": true,
        "hidden": true,
        "id": "TUnd9r1dttXa",
        "colab": {
          "base_uri": "https://localhost:8080/",
          "height": 206
        },
        "outputId": "3f8cd3f6-91a2-4396-d60d-d2130ed132cc"
      },
      "source": [
        "df = pd.DataFrame(np.random.randint(1, 100, 20).reshape(-1, 4), columns = list('abcd'))\n",
        "\n",
        "#your code\n",
        "df['a_shift'] = df['a'].shift(-1, axis = 0) \n",
        "df"
      ],
      "execution_count": 91,
      "outputs": [
        {
          "output_type": "execute_result",
          "data": {
            "text/html": [
              "<div>\n",
              "<style scoped>\n",
              "    .dataframe tbody tr th:only-of-type {\n",
              "        vertical-align: middle;\n",
              "    }\n",
              "\n",
              "    .dataframe tbody tr th {\n",
              "        vertical-align: top;\n",
              "    }\n",
              "\n",
              "    .dataframe thead th {\n",
              "        text-align: right;\n",
              "    }\n",
              "</style>\n",
              "<table border=\"1\" class=\"dataframe\">\n",
              "  <thead>\n",
              "    <tr style=\"text-align: right;\">\n",
              "      <th></th>\n",
              "      <th>a</th>\n",
              "      <th>b</th>\n",
              "      <th>c</th>\n",
              "      <th>d</th>\n",
              "      <th>a_shift</th>\n",
              "    </tr>\n",
              "  </thead>\n",
              "  <tbody>\n",
              "    <tr>\n",
              "      <th>0</th>\n",
              "      <td>40</td>\n",
              "      <td>88</td>\n",
              "      <td>92</td>\n",
              "      <td>84</td>\n",
              "      <td>26.0</td>\n",
              "    </tr>\n",
              "    <tr>\n",
              "      <th>1</th>\n",
              "      <td>26</td>\n",
              "      <td>2</td>\n",
              "      <td>63</td>\n",
              "      <td>44</td>\n",
              "      <td>98.0</td>\n",
              "    </tr>\n",
              "    <tr>\n",
              "      <th>2</th>\n",
              "      <td>98</td>\n",
              "      <td>95</td>\n",
              "      <td>58</td>\n",
              "      <td>24</td>\n",
              "      <td>34.0</td>\n",
              "    </tr>\n",
              "    <tr>\n",
              "      <th>3</th>\n",
              "      <td>34</td>\n",
              "      <td>22</td>\n",
              "      <td>45</td>\n",
              "      <td>5</td>\n",
              "      <td>87.0</td>\n",
              "    </tr>\n",
              "    <tr>\n",
              "      <th>4</th>\n",
              "      <td>87</td>\n",
              "      <td>76</td>\n",
              "      <td>68</td>\n",
              "      <td>78</td>\n",
              "      <td>NaN</td>\n",
              "    </tr>\n",
              "  </tbody>\n",
              "</table>\n",
              "</div>"
            ],
            "text/plain": [
              "    a   b   c   d  a_shift\n",
              "0  40  88  92  84     26.0\n",
              "1  26   2  63  44     98.0\n",
              "2  98  95  58  24     34.0\n",
              "3  34  22  45   5     87.0\n",
              "4  87  76  68  78      NaN"
            ]
          },
          "metadata": {
            "tags": []
          },
          "execution_count": 91
        }
      ]
    },
    {
      "cell_type": "markdown",
      "metadata": {
        "hidden": true,
        "id": "ubBuAWs2ttXa"
      },
      "source": [
        "**45\\.** Как разбить текстовый столбец на три отдельных столбца? (★★★)\n",
        "\n",
        "Разбить на три столбцы STD, City, State"
      ]
    },
    {
      "cell_type": "code",
      "metadata": {
        "collapsed": true,
        "hidden": true,
        "id": "87s9lDrbttXb"
      },
      "source": [
        "df = pd.DataFrame([\"STD, City    State\",\n",
        "\"33, Kolkata    West Bengal\",\n",
        "\"44, Chennai    Tamil Nadu\",\n",
        "\"40, Hyderabad    Telengana\",\n",
        "\"80, Bangalore    Karnataka\"], columns=['row'])\n",
        "\n",
        "#your code"
      ],
      "execution_count": null,
      "outputs": []
    },
    {
      "cell_type": "markdown",
      "metadata": {
        "heading_collapsed": true,
        "id": "XIuTdAKyttXb"
      },
      "source": [
        "### **46\\.** Ну а теперь все вместе.  (★★★★★★★★★★)"
      ]
    },
    {
      "cell_type": "markdown",
      "metadata": {
        "hidden": true,
        "id": "LQZAr1nDttXb"
      },
      "source": [
        "* Заменяем все точки в названии на '_'\n",
        "* Выделить категориальные признаки\n",
        "* Посчитать кол-во уникальных значений во всех текстовых\\категориальных столбцах. \n",
        "* Колонки с только уникальными значениями удаляем (например Model и Make)\n",
        "* Для столбцов у которых значений более 10, оставляем топ 10 значений, остальные заменяем на 'other'\n",
        "* Числовые столбцы проверяем на пропуски. Подсчитываем кол-во nan\\none и делим на размер датафрейма -сохраняем в отдельный датафрейм, это доля пропусков в каждом столбце\n",
        "* Чистим выбросы. Во всех числовых столбцах заменяем все значения столбца меньше 5го персентиля и больше 95ого персентиля на эти пограничные значения.\n",
        "* Заполняем пропуски в числовых столбцах на среднее по столбцу, в текстовых столбцах на 'other'\n",
        "* Все категориальные признаки превращаем в one-hot-encoding\n",
        "* Создать новый столбец Length_Width = Length * Width\n",
        "* Столбцы MPG_cityми MPG_highway из MPG перевести в единицы LPG (литры \\100 км) = (100 * 3,785)  / (MPG * 1,609)\n",
        "* Посчитать среднюю цену по каждому типу машины у каждого производителя\n",
        "* Посчитать максимальные Length и Width по Type\n",
        "* Посчитать кол-во моделей машин по типу машины и наличию подушки безопасности (агрегирование по столбцам Type и AirBags)\n",
        "* Посчитать кол-во машин по каждому типу машины у каждого производителя(агрегирование по столбцам Type и Manufacturer)\n",
        "* Посчитать кол-во машин по Manufacturer-Man_trans_avail\n",
        "* Вывести у какой модели, какого изготовителя максимальная вместимость по пассажирам"
      ]
    },
    {
      "cell_type": "code",
      "metadata": {
        "collapsed": true,
        "hidden": true,
        "id": "tHqB40nsttXc"
      },
      "source": [
        "df = pd.read_csv('https://raw.githubusercontent.com/selva86/datasets/master/Cars93_miss.csv')\n",
        "\n",
        "#your code"
      ],
      "execution_count": null,
      "outputs": []
    },
    {
      "cell_type": "code",
      "metadata": {
        "hidden": true,
        "id": "UdBxIPd6ttXc"
      },
      "source": [
        "df"
      ],
      "execution_count": null,
      "outputs": []
    },
    {
      "cell_type": "markdown",
      "metadata": {
        "hidden": true,
        "id": "M7MNxATXttXd"
      },
      "source": [
        "**47\\.** Перевести индексы первого и третьего уровня в колонки"
      ]
    },
    {
      "cell_type": "code",
      "metadata": {
        "hidden": true,
        "id": "wOkGOR7tttXe"
      },
      "source": [
        "df = pd.DataFrame({\n",
        "    'school_code': ['s001','s002','s003','s001','s002','s004'],\n",
        "    'class': ['V', 'V', 'VI', 'VI', 'V', 'VI'],\n",
        "    'name': ['Alberto Franco','Gino Mcneill','Ryan Parkes', 'Eesha Hinton', 'Gino Mcneill', 'David Parkes'],\n",
        "    'date_of_birth': ['15/05/2002','17/05/2002','16/02/1999','25/09/1998','11/05/2002','15/09/1997'],\n",
        "    'weight': [35, 32, 33, 30, 31, 32],\n",
        "    't_id': ['t1', 't2', 't3', 't4', 't5', 't6']})\n",
        "df1 = df.set_index(['t_id', 'school_code', 'class'])\n",
        "df1"
      ],
      "execution_count": null,
      "outputs": []
    },
    {
      "cell_type": "markdown",
      "metadata": {
        "hidden": true,
        "id": "X1Y4LRpEttXe"
      },
      "source": [
        "**48\\.** Вывести строку из Series и DataFrame по заданному индексу"
      ]
    },
    {
      "cell_type": "code",
      "metadata": {
        "collapsed": true,
        "hidden": true,
        "id": "JfX9n37sttXe"
      },
      "source": [
        "ds = pd.Series([1,3,5,7,9,11,13,15], index=[0,1,2,3,4,5,7,8])\n",
        "df = pd.DataFrame({\n",
        "    'school_code': ['s001','s002','s003','s001','s002','s004'],\n",
        "    'class': ['V', 'V', 'VI', 'VI', 'V', 'VI'],\n",
        "    'name': ['Alberto Franco','Gino Mcneill','Ryan Parkes', 'Eesha Hinton', 'Gino Mcneill', 'David Parkes'],\n",
        "    'date_of_birth': ['15/05/2002','17/05/2002','16/02/1999','25/09/1998','11/05/2002','15/09/1997'],\n",
        "    'weight': [35, 32, 33, 30, 31, 32]})\n",
        "\n",
        "indx = 4"
      ],
      "execution_count": null,
      "outputs": []
    },
    {
      "cell_type": "markdown",
      "metadata": {
        "hidden": true,
        "id": "KcAH3E5JttXf"
      },
      "source": [
        "**49\\.** Найти индексы строк с пропущенными данными"
      ]
    },
    {
      "cell_type": "code",
      "metadata": {
        "hidden": true,
        "id": "09GWA-1kttXf"
      },
      "source": [
        "df = pd.DataFrame({\n",
        "    'school_code': ['s001','s002','s003','s001','s002','s004'],\n",
        "    'class': ['V', 'V', 'VI', 'VI', 'V', 'VI'],\n",
        "    'name': ['Alberto Franco','Gino Mcneill','Ryan Parkes', 'Eesha Hinton', 'Gino Mcneill', 'David Parkes'],\n",
        "    'date_of_birth': ['15/05/2002','17/05/2002','16/02/1999','25/09/1998','11/05/2002','15/09/1997'],\n",
        "    'weight': [35, None, 33, 30, 31, None]},\n",
        "     index = ['t1', 't2', 't3', 't4', 't5', 't6'])\n",
        "df"
      ],
      "execution_count": null,
      "outputs": []
    },
    {
      "cell_type": "markdown",
      "metadata": {
        "hidden": true,
        "id": "sHKdkROkttYF"
      },
      "source": [
        "**50\\.** Сделать left join датафреймов"
      ]
    },
    {
      "cell_type": "code",
      "metadata": {
        "collapsed": true,
        "hidden": true,
        "id": "Ut6B-6bKttYF"
      },
      "source": [
        "data1 = pd.DataFrame({'key1': ['K0', 'K0', 'K1', 'K2'],\n",
        "                     'key2': ['K0', 'K1', 'K0', 'K1'],\n",
        "                     'P': ['P0', 'P1', 'P2', 'P3'],\n",
        "                     'Q': ['Q0', 'Q1', 'Q2', 'Q3']}) \n",
        "data2 = pd.DataFrame({'key1': ['K0', 'K1', 'K1', 'K2'],\n",
        "                      'key2': ['K0', 'K0', 'K0', 'K0'],\n",
        "                      'R': ['R0', 'R1', 'R2', 'R3'],\n",
        "                      'S': ['S0', 'S1', 'S2', 'S3']})"
      ],
      "execution_count": null,
      "outputs": []
    },
    {
      "cell_type": "markdown",
      "metadata": {
        "hidden": true,
        "id": "FjU91NUhttYG"
      },
      "source": [
        "**51\\.** Соединить два датафрейма"
      ]
    },
    {
      "cell_type": "code",
      "metadata": {
        "collapsed": true,
        "hidden": true,
        "id": "YjSx5zRfttYG"
      },
      "source": [
        "data1 = pd.DataFrame({'A': ['A0', 'A1', 'A2'],\n",
        "                      'B': ['B0', 'B1', 'B2']},\n",
        "                     index=['K0', 'K1', 'K2'])\n",
        "\n",
        "data2 = pd.DataFrame({'C': ['C0', 'C2', 'C3'],\n",
        "                      'D': ['D0', 'D2', 'D3']},\n",
        "                     index=['K0', 'K2', 'K3'])"
      ],
      "execution_count": null,
      "outputs": []
    },
    {
      "cell_type": "markdown",
      "metadata": {
        "hidden": true,
        "id": "WxL8AxMCttYG"
      },
      "source": [
        "**52\\.** Сгруппировать датафрейм по полям 'customer_id' и 'salesman_id' и отсортировать по sum of purch_amt внутри каждой группы"
      ]
    },
    {
      "cell_type": "code",
      "metadata": {
        "collapsed": true,
        "hidden": true,
        "id": "OPRhbHNUttYH"
      },
      "source": [
        "df = pd.DataFrame({\n",
        "'ord_no':[70001,70009,70002,70004,70007,70005,70008,70010,70003,70012,70011,70013],\n",
        "'purch_amt':[150.5,270.65,65.26,110.5,948.5,2400.6,5760,1983.43,2480.4,250.45, 75.29,3045.6],\n",
        "'ord_date': ['2012-10-05','2012-09-10','2012-10-05','2012-08-17','2012-09-10','2012-07-27','2012-09-10','2012-10-10','2012-10-10','2012-06-27','2012-08-17','2012-04-25'],\n",
        "'customer_id':[3001,3001,3005,3001,3005,3001,3005,3001,3005,3001,3005,3005],\n",
        "'salesman_id': [5002,5005,5001,5003,5002,5001,5001,5006,5003,5002,5007,5001]})"
      ],
      "execution_count": null,
      "outputs": []
    },
    {
      "cell_type": "markdown",
      "metadata": {
        "hidden": true,
        "id": "hnrIAXkLttYH"
      },
      "source": [
        "**53\\.** Сгруппировать датафрейм по месяцу и году из даты ord_date и найти общее количество заказов по годам и по месяцам"
      ]
    },
    {
      "cell_type": "code",
      "metadata": {
        "collapsed": true,
        "hidden": true,
        "id": "e06lUhbPttYI"
      },
      "source": [
        "df = pd.DataFrame({\n",
        "'ord_no':[70001,70009,70002,70004,70007,70005,70008,70010,70003,70012,70011,70013],\n",
        "'purch_amt':[150.5,270.65,65.26,110.5,948.5,2400.6,5760,1983.43,2480.4,250.45, 75.29,3045.6],\n",
        "'ord_date': ['05-10-2012','09-10-2012','05-10-2013','08-17-2013','10-09-2013','07-27-2014','10-09-2012','10-10-2012','10-10-2012','06-17-2014','07-08-2012','04-25-2012'],\n",
        "'customer_id':[3001,3001,3005,3001,3005,3001,3005,3001,3005,3001,3005,3005],\n",
        "'salesman_id': [5002,5005,5001,5003,5002,5001,5001,5006,5003,5002,5007,5001]})"
      ],
      "execution_count": null,
      "outputs": []
    },
    {
      "cell_type": "markdown",
      "metadata": {
        "heading_collapsed": true,
        "id": "Q6gCR87kttYI"
      },
      "source": [
        "# Regular expressions with Pandas"
      ]
    },
    {
      "cell_type": "markdown",
      "metadata": {
        "hidden": true,
        "id": "LDzyw1VLttYI"
      },
      "source": [
        "**1\\.** Выделить в отдельную колонку event_id первую цифру в кавычках, во вторую колонку event_probability вероятность (★☆☆) "
      ]
    },
    {
      "cell_type": "code",
      "metadata": {
        "collapsed": true,
        "hidden": true,
        "id": "o2ZJUAOkttYI",
        "colab": {
          "base_uri": "https://localhost:8080/",
          "height": 363
        },
        "outputId": "ee8de2df-b325-47a5-a683-97a579c79b8f"
      },
      "source": [
        "df=pd.DataFrame({'col1':[\"{'34': 0.9839372122311848}\",\n",
        "                         \"{'77': 0.6724645988404411}\",\n",
        "                         \"{'77': 0.6491011266207006}\",\n",
        "                         \"{'77': 0.6123085784265466}\",\n",
        "                         \"{'34': 0.87}\",\n",
        "                         \"{'77': 0.6225699652019304}\",\n",
        "                         \"{'3': 0.5470808226524633}\",\n",
        "                         \"{'77': 0.6233849004135044}\",\n",
        "                         \"{'77': 0.7050888998743866}\",\n",
        "                         \"{'52': 0.8945052223205372}\"]})\n",
        "\n",
        "#your code\n",
        "df['event_probability'] = df['col1'].str.extract(r'(\\d+.\\d+)')\n",
        "df['col1'] = df['col1'].str.extract(r'(\\d+)')\n",
        "df = df.rename(columns={'col1': 'event_id'})\n",
        "df"
      ],
      "execution_count": null,
      "outputs": [
        {
          "output_type": "execute_result",
          "data": {
            "text/html": [
              "<div>\n",
              "<style scoped>\n",
              "    .dataframe tbody tr th:only-of-type {\n",
              "        vertical-align: middle;\n",
              "    }\n",
              "\n",
              "    .dataframe tbody tr th {\n",
              "        vertical-align: top;\n",
              "    }\n",
              "\n",
              "    .dataframe thead th {\n",
              "        text-align: right;\n",
              "    }\n",
              "</style>\n",
              "<table border=\"1\" class=\"dataframe\">\n",
              "  <thead>\n",
              "    <tr style=\"text-align: right;\">\n",
              "      <th></th>\n",
              "      <th>event_id</th>\n",
              "      <th>event_probability</th>\n",
              "    </tr>\n",
              "  </thead>\n",
              "  <tbody>\n",
              "    <tr>\n",
              "      <th>0</th>\n",
              "      <td>34</td>\n",
              "      <td>0.9839372122311848</td>\n",
              "    </tr>\n",
              "    <tr>\n",
              "      <th>1</th>\n",
              "      <td>77</td>\n",
              "      <td>0.6724645988404411</td>\n",
              "    </tr>\n",
              "    <tr>\n",
              "      <th>2</th>\n",
              "      <td>77</td>\n",
              "      <td>0.6491011266207006</td>\n",
              "    </tr>\n",
              "    <tr>\n",
              "      <th>3</th>\n",
              "      <td>77</td>\n",
              "      <td>0.6123085784265466</td>\n",
              "    </tr>\n",
              "    <tr>\n",
              "      <th>4</th>\n",
              "      <td>34</td>\n",
              "      <td>0.87</td>\n",
              "    </tr>\n",
              "    <tr>\n",
              "      <th>5</th>\n",
              "      <td>77</td>\n",
              "      <td>0.6225699652019304</td>\n",
              "    </tr>\n",
              "    <tr>\n",
              "      <th>6</th>\n",
              "      <td>3</td>\n",
              "      <td>0.5470808226524633</td>\n",
              "    </tr>\n",
              "    <tr>\n",
              "      <th>7</th>\n",
              "      <td>77</td>\n",
              "      <td>0.6233849004135044</td>\n",
              "    </tr>\n",
              "    <tr>\n",
              "      <th>8</th>\n",
              "      <td>77</td>\n",
              "      <td>0.7050888998743866</td>\n",
              "    </tr>\n",
              "    <tr>\n",
              "      <th>9</th>\n",
              "      <td>52</td>\n",
              "      <td>0.8945052223205372</td>\n",
              "    </tr>\n",
              "  </tbody>\n",
              "</table>\n",
              "</div>"
            ],
            "text/plain": [
              "  event_id   event_probability\n",
              "0       34  0.9839372122311848\n",
              "1       77  0.6724645988404411\n",
              "2       77  0.6491011266207006\n",
              "3       77  0.6123085784265466\n",
              "4       34                0.87\n",
              "5       77  0.6225699652019304\n",
              "6        3  0.5470808226524633\n",
              "7       77  0.6233849004135044\n",
              "8       77  0.7050888998743866\n",
              "9       52  0.8945052223205372"
            ]
          },
          "metadata": {
            "tags": []
          },
          "execution_count": 253
        }
      ]
    },
    {
      "cell_type": "markdown",
      "metadata": {
        "hidden": true,
        "id": "mbY-WH3bttYJ"
      },
      "source": [
        "**2\\.** Удалите все тэги, переносы строк из текстов новостей (★★★)\n",
        "\n",
        "(hint: df.column.str())"
      ]
    },
    {
      "cell_type": "code",
      "metadata": {
        "collapsed": true,
        "hidden": true,
        "id": "NeUdvfLIttYJ",
        "colab": {
          "base_uri": "https://localhost:8080/",
          "height": 206
        },
        "outputId": "bacd9823-2841-45d2-a4ae-4f3817aa323b"
      },
      "source": [
        "df = pd.read_excel('news.xlsx')\n",
        "\n",
        "#your code\n",
        "# удаляем html tags\n",
        "df.replace(r'(<[^>]*>)','',regex=True, inplace = True)\n",
        "# удаляем пробелы в начале и конце строки и символы переноса строки.\n",
        "df.replace(r'(^\\s+|\\n|\\r|\\s+$)','',regex=True, inplace = True)\n",
        "df.head()"
      ],
      "execution_count": null,
      "outputs": [
        {
          "output_type": "execute_result",
          "data": {
            "text/html": [
              "<div>\n",
              "<style scoped>\n",
              "    .dataframe tbody tr th:only-of-type {\n",
              "        vertical-align: middle;\n",
              "    }\n",
              "\n",
              "    .dataframe tbody tr th {\n",
              "        vertical-align: top;\n",
              "    }\n",
              "\n",
              "    .dataframe thead th {\n",
              "        text-align: right;\n",
              "    }\n",
              "</style>\n",
              "<table border=\"1\" class=\"dataframe\">\n",
              "  <thead>\n",
              "    <tr style=\"text-align: right;\">\n",
              "      <th></th>\n",
              "      <th>text</th>\n",
              "    </tr>\n",
              "  </thead>\n",
              "  <tbody>\n",
              "    <tr>\n",
              "      <th>0</th>\n",
              "      <td>Сообщение о существенном факте         о выпла...</td>\n",
              "    </tr>\n",
              "    <tr>\n",
              "      <th>1</th>\n",
              "      <td>НИЖНИЙ      НОВГОРОД, 3 декабря 2019, 22:41 - ...</td>\n",
              "    </tr>\n",
              "    <tr>\n",
              "      <th>2</th>\n",
              "      <td>УЛЬЯНОВСК, 3 декабря 2019, 11:38 - REGNUM В   ...</td>\n",
              "    </tr>\n",
              "    <tr>\n",
              "      <th>3</th>\n",
              "      <td>Самарская область признана одним из лидеров ре...</td>\n",
              "    </tr>\n",
              "    <tr>\n",
              "      <th>4</th>\n",
              "      <td>Окружная администрация Якутска подписала согла...</td>\n",
              "    </tr>\n",
              "  </tbody>\n",
              "</table>\n",
              "</div>"
            ],
            "text/plain": [
              "                                                text\n",
              "0  Сообщение о существенном факте         о выпла...\n",
              "1  НИЖНИЙ      НОВГОРОД, 3 декабря 2019, 22:41 - ...\n",
              "2  УЛЬЯНОВСК, 3 декабря 2019, 11:38 - REGNUM В   ...\n",
              "3  Самарская область признана одним из лидеров ре...\n",
              "4  Окружная администрация Якутска подписала согла..."
            ]
          },
          "metadata": {
            "tags": []
          },
          "execution_count": 254
        }
      ]
    },
    {
      "cell_type": "markdown",
      "metadata": {
        "id": "4XNu0Qj5euvY"
      },
      "source": [
        ""
      ]
    },
    {
      "cell_type": "markdown",
      "metadata": {
        "hidden": true,
        "id": "fzkCoZB_ttYK"
      },
      "source": [
        "**3\\.** Проставьте флаг в колонку source_ria если текст новости содержит: риа новости, тасс, коммерсант. Перед поиском переведите тексты в lower и удалите все кроме букв. Данные после чистки из предыдушего задания (★★★)\n",
        "\n",
        "(hint: df.column.str())"
      ]
    },
    {
      "cell_type": "code",
      "metadata": {
        "collapsed": true,
        "hidden": true,
        "id": "ywLX0wYHttYN",
        "colab": {
          "base_uri": "https://localhost:8080/",
          "height": 677
        },
        "outputId": "4e2e884a-a6a6-418b-c233-8e28260ffa5a"
      },
      "source": [
        "# переведите тексты в lower\n",
        "df[\"text\"] = df[\"text\"].str.lower()\n",
        "# удалите все кроме букв, пробелы оставил) \n",
        "df.replace(r'([^ a-zа-яё])',' ',regex=True, inplace = True)\n",
        "# там ещё есть лишние пробелы. Давайте их тоже уберем \n",
        "df.replace(r'\\s+',' ', regex=True, inplace = True)\n",
        "df['source_ria'] = df['text'].str.match(r'.*(риа новости|тасс|коммерсант).*')\n",
        "# df.head()\n",
        "df"
      ],
      "execution_count": null,
      "outputs": [
        {
          "output_type": "execute_result",
          "data": {
            "text/html": [
              "<div>\n",
              "<style scoped>\n",
              "    .dataframe tbody tr th:only-of-type {\n",
              "        vertical-align: middle;\n",
              "    }\n",
              "\n",
              "    .dataframe tbody tr th {\n",
              "        vertical-align: top;\n",
              "    }\n",
              "\n",
              "    .dataframe thead th {\n",
              "        text-align: right;\n",
              "    }\n",
              "</style>\n",
              "<table border=\"1\" class=\"dataframe\">\n",
              "  <thead>\n",
              "    <tr style=\"text-align: right;\">\n",
              "      <th></th>\n",
              "      <th>text</th>\n",
              "      <th>source_ria</th>\n",
              "    </tr>\n",
              "  </thead>\n",
              "  <tbody>\n",
              "    <tr>\n",
              "      <th>0</th>\n",
              "      <td>сообщение о существенном факте о выплаченных д...</td>\n",
              "      <td>False</td>\n",
              "    </tr>\n",
              "    <tr>\n",
              "      <th>1</th>\n",
              "      <td>нижний новгород декабря regnum бывший глава му...</td>\n",
              "      <td>False</td>\n",
              "    </tr>\n",
              "    <tr>\n",
              "      <th>2</th>\n",
              "      <td>ульяновск декабря regnum в ульяновском индустр...</td>\n",
              "      <td>False</td>\n",
              "    </tr>\n",
              "    <tr>\n",
              "      <th>3</th>\n",
              "      <td>самарская область признана одним из лидеров ре...</td>\n",
              "      <td>False</td>\n",
              "    </tr>\n",
              "    <tr>\n",
              "      <th>4</th>\n",
              "      <td>окружная администрация якутска подписала согла...</td>\n",
              "      <td>False</td>\n",
              "    </tr>\n",
              "    <tr>\n",
              "      <th>5</th>\n",
              "      <td>во время рабочей поездки по смоленску и смолен...</td>\n",
              "      <td>False</td>\n",
              "    </tr>\n",
              "    <tr>\n",
              "      <th>6</th>\n",
              "      <td>сегодня ввп россии на процентов наполняется за...</td>\n",
              "      <td>False</td>\n",
              "    </tr>\n",
              "    <tr>\n",
              "      <th>7</th>\n",
              "      <td>уфа декабря regnum более млрд рублей инвестиру...</td>\n",
              "      <td>False</td>\n",
              "    </tr>\n",
              "    <tr>\n",
              "      <th>8</th>\n",
              "      <td>минеральные воды ставропольский край декабря т...</td>\n",
              "      <td>True</td>\n",
              "    </tr>\n",
              "    <tr>\n",
              "      <th>9</th>\n",
              "      <td>декабря в большом зале администрации сузунско...</td>\n",
              "      <td>False</td>\n",
              "    </tr>\n",
              "    <tr>\n",
              "      <th>10</th>\n",
              "      <td>конкурс на реконструкцию впп в новосибирском а...</td>\n",
              "      <td>True</td>\n",
              "    </tr>\n",
              "    <tr>\n",
              "      <th>11</th>\n",
              "      <td>название компании непубличное акционерное обще...</td>\n",
              "      <td>False</td>\n",
              "    </tr>\n",
              "    <tr>\n",
              "      <th>12</th>\n",
              "      <td>москва дек риа новости прайм российский произв...</td>\n",
              "      <td>True</td>\n",
              "    </tr>\n",
              "    <tr>\n",
              "      <th>13</th>\n",
              "      <td>москва декабря тасс топливная компания росатом...</td>\n",
              "      <td>True</td>\n",
              "    </tr>\n",
              "    <tr>\n",
              "      <th>14</th>\n",
              "      <td>в этом году в калтасинском районе агрохолдинг ...</td>\n",
              "      <td>False</td>\n",
              "    </tr>\n",
              "    <tr>\n",
              "      <th>15</th>\n",
              "      <td>софия декабря regnum правительство болгарии од...</td>\n",
              "      <td>False</td>\n",
              "    </tr>\n",
              "    <tr>\n",
              "      <th>16</th>\n",
              "      <td>дата on источник управление по связям с общест...</td>\n",
              "      <td>False</td>\n",
              "    </tr>\n",
              "    <tr>\n",
              "      <th>17</th>\n",
              "      <td>нур султан казинформ депутаты сената парламент...</td>\n",
              "      <td>False</td>\n",
              "    </tr>\n",
              "    <tr>\n",
              "      <th>18</th>\n",
              "      <td>samsung heavy industries поставит верфи звезда...</td>\n",
              "      <td>True</td>\n",
              "    </tr>\n",
              "    <tr>\n",
              "      <th>19</th>\n",
              "      <td>в администрации краснодарского края подвели пр...</td>\n",
              "      <td>False</td>\n",
              "    </tr>\n",
              "  </tbody>\n",
              "</table>\n",
              "</div>"
            ],
            "text/plain": [
              "                                                 text  source_ria\n",
              "0   сообщение о существенном факте о выплаченных д...       False\n",
              "1   нижний новгород декабря regnum бывший глава му...       False\n",
              "2   ульяновск декабря regnum в ульяновском индустр...       False\n",
              "3   самарская область признана одним из лидеров ре...       False\n",
              "4   окружная администрация якутска подписала согла...       False\n",
              "5   во время рабочей поездки по смоленску и смолен...       False\n",
              "6   сегодня ввп россии на процентов наполняется за...       False\n",
              "7   уфа декабря regnum более млрд рублей инвестиру...       False\n",
              "8   минеральные воды ставропольский край декабря т...        True\n",
              "9    декабря в большом зале администрации сузунско...       False\n",
              "10  конкурс на реконструкцию впп в новосибирском а...        True\n",
              "11  название компании непубличное акционерное обще...       False\n",
              "12  москва дек риа новости прайм российский произв...        True\n",
              "13  москва декабря тасс топливная компания росатом...        True\n",
              "14  в этом году в калтасинском районе агрохолдинг ...       False\n",
              "15  софия декабря regnum правительство болгарии од...       False\n",
              "16  дата on источник управление по связям с общест...       False\n",
              "17  нур султан казинформ депутаты сената парламент...       False\n",
              "18  samsung heavy industries поставит верфи звезда...        True\n",
              "19  в администрации краснодарского края подвели пр...       False"
            ]
          },
          "metadata": {
            "tags": []
          },
          "execution_count": 256
        }
      ]
    },
    {
      "cell_type": "markdown",
      "metadata": {
        "hidden": true,
        "id": "h91pPxpjttYN"
      },
      "source": [
        "**4\\.** Отфильтруйте строки с валидными емейлами (★★★)"
      ]
    },
    {
      "cell_type": "code",
      "metadata": {
        "collapsed": true,
        "hidden": true,
        "id": "0yNJHriattYN"
      },
      "source": [
        "emails = pd.Series(['buying books at amazom.com', 'rameses@egypt.com', 'matt@t.co', 'narendra@modi.com', 'kek lol@mail.ru'])\n",
        "\n",
        "#your code\n",
        "emails.str.extract(r'(^[a-zA-Z0-9_.+-]+@[a-zA-Z0-9-]+\\.[a-zA-Z0-9-.]+$)').dropna()"
      ],
      "execution_count": null,
      "outputs": []
    },
    {
      "cell_type": "markdown",
      "metadata": {
        "hidden": true,
        "id": "Yc718ccYttYN"
      },
      "source": [
        "**5\\.** Напишите паттерн для поиска строки содержащей только буквы в верхнем и нижнем регистре, цифры и подчеркивание"
      ]
    },
    {
      "cell_type": "code",
      "metadata": {
        "collapsed": true,
        "hidden": true,
        "id": "DCDVZ7MLttYO",
        "colab": {
          "base_uri": "https://localhost:8080/"
        },
        "outputId": "64fe1ed2-0643-460c-a514-5308f679888c"
      },
      "source": [
        "import re\n",
        "str_demo = \"ABC rameses@egypt.com word mdfe 55555 narendra ewfwv llol lll 103058jf sdfsfsfsd fg\"\n",
        "re.findall(r'(\\b\\w+|\\d+|[_]+\\b)', str_demo)"
      ],
      "execution_count": null,
      "outputs": [
        {
          "output_type": "execute_result",
          "data": {
            "text/plain": [
              "['ABC',\n",
              " 'rameses',\n",
              " 'egypt',\n",
              " 'com',\n",
              " 'word',\n",
              " 'mdfe',\n",
              " '55555',\n",
              " 'narendra',\n",
              " 'ewfwv',\n",
              " 'llol',\n",
              " 'lll',\n",
              " '103058jf',\n",
              " 'sdfsfsfsd',\n",
              " 'fg']"
            ]
          },
          "metadata": {
            "tags": []
          },
          "execution_count": 34
        }
      ]
    },
    {
      "cell_type": "markdown",
      "metadata": {
        "hidden": true,
        "id": "aYUL86zxttYO"
      },
      "source": [
        "**6\\.** Замените пробелы на подчеркивание и наоборот"
      ]
    },
    {
      "cell_type": "code",
      "metadata": {
        "collapsed": true,
        "hidden": true,
        "id": "iqo2v-a0ttYO",
        "colab": {
          "base_uri": "https://localhost:8080/",
          "height": 230
        },
        "outputId": "cca135bf-fad6-4b3d-fb7b-663e3c3fe09f"
      },
      "source": [
        "df_new = df.copy()\n",
        "df_new.replace(r'\\s','_',regex=True, inplace = True)\n",
        "df_new.replace(r'_', ' ',regex=True, inplace = True)"
      ],
      "execution_count": null,
      "outputs": [
        {
          "output_type": "error",
          "ename": "NameError",
          "evalue": "ignored",
          "traceback": [
            "\u001b[0;31m---------------------------------------------------------------------------\u001b[0m",
            "\u001b[0;31mNameError\u001b[0m                                 Traceback (most recent call last)",
            "\u001b[0;32m<ipython-input-27-644c24b17d5a>\u001b[0m in \u001b[0;36m<module>\u001b[0;34m()\u001b[0m\n\u001b[0;32m----> 1\u001b[0;31m \u001b[0mdf_new\u001b[0m \u001b[0;34m=\u001b[0m \u001b[0mdf\u001b[0m\u001b[0;34m.\u001b[0m\u001b[0mcopy\u001b[0m\u001b[0;34m(\u001b[0m\u001b[0;34m)\u001b[0m\u001b[0;34m\u001b[0m\u001b[0;34m\u001b[0m\u001b[0m\n\u001b[0m\u001b[1;32m      2\u001b[0m \u001b[0mdf_new\u001b[0m\u001b[0;34m.\u001b[0m\u001b[0mreplace\u001b[0m\u001b[0;34m(\u001b[0m\u001b[0;34mr'\\s'\u001b[0m\u001b[0;34m,\u001b[0m\u001b[0;34m'_'\u001b[0m\u001b[0;34m,\u001b[0m\u001b[0mregex\u001b[0m\u001b[0;34m=\u001b[0m\u001b[0;32mTrue\u001b[0m\u001b[0;34m,\u001b[0m \u001b[0minplace\u001b[0m \u001b[0;34m=\u001b[0m \u001b[0;32mTrue\u001b[0m\u001b[0;34m)\u001b[0m\u001b[0;34m\u001b[0m\u001b[0;34m\u001b[0m\u001b[0m\n\u001b[1;32m      3\u001b[0m \u001b[0mdf_new\u001b[0m\u001b[0;34m.\u001b[0m\u001b[0mreplace\u001b[0m\u001b[0;34m(\u001b[0m\u001b[0;34mr'_'\u001b[0m\u001b[0;34m,\u001b[0m \u001b[0;34m' '\u001b[0m\u001b[0;34m,\u001b[0m\u001b[0mregex\u001b[0m\u001b[0;34m=\u001b[0m\u001b[0;32mTrue\u001b[0m\u001b[0;34m,\u001b[0m \u001b[0minplace\u001b[0m \u001b[0;34m=\u001b[0m \u001b[0;32mTrue\u001b[0m\u001b[0;34m)\u001b[0m\u001b[0;34m\u001b[0m\u001b[0;34m\u001b[0m\u001b[0m\n\u001b[1;32m      4\u001b[0m \u001b[0mdf_new\u001b[0m\u001b[0;34m.\u001b[0m\u001b[0mhead\u001b[0m\u001b[0;34m(\u001b[0m\u001b[0;34m)\u001b[0m\u001b[0;34m\u001b[0m\u001b[0;34m\u001b[0m\u001b[0m\n",
            "\u001b[0;31mNameError\u001b[0m: name 'df' is not defined"
          ]
        }
      ]
    },
    {
      "cell_type": "markdown",
      "metadata": {
        "hidden": true,
        "id": "qnxwulqTttYO"
      },
      "source": [
        "**7\\.** Найдите слова длиной 3,4,5 "
      ]
    },
    {
      "cell_type": "code",
      "metadata": {
        "collapsed": true,
        "hidden": true,
        "id": "AecEufPRttYO",
        "colab": {
          "base_uri": "https://localhost:8080/"
        },
        "outputId": "aaad6c6e-1d4a-4fe1-d01c-62c5b2d4d5ae"
      },
      "source": [
        "str_demo = \"ABC rameses@egypt.com word mdfe 55555 narendra ewfwv llol lll 103058jf sdfsfsfsd fg\"\n",
        "re.findall(r'(\\b[\\wа-яёА-ЯЁ]{3,5}\\b)', str_demo)"
      ],
      "execution_count": null,
      "outputs": [
        {
          "output_type": "execute_result",
          "data": {
            "text/plain": [
              "['ABC', 'egypt', 'com', 'word', 'mdfe', '55555', 'ewfwv', 'llol', 'lll']"
            ]
          },
          "metadata": {
            "tags": []
          },
          "execution_count": 28
        }
      ]
    },
    {
      "cell_type": "markdown",
      "metadata": {
        "hidden": true,
        "id": "BdfQMg-rttYP"
      },
      "source": [
        "**8\\.** Сделайте регистронезависимую замену(replace) во входной строке"
      ]
    },
    {
      "cell_type": "code",
      "metadata": {
        "collapsed": true,
        "hidden": true,
        "id": "32lFrxDgttYP"
      },
      "source": [
        ""
      ],
      "execution_count": null,
      "outputs": []
    }
  ]
}