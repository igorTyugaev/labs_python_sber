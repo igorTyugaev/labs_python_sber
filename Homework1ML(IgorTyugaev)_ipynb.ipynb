{
  "nbformat": 4,
  "nbformat_minor": 0,
  "metadata": {
    "kernelspec": {
      "display_name": "Python 3",
      "language": "python",
      "name": "python3"
    },
    "language_info": {
      "codemirror_mode": {
        "name": "ipython",
        "version": 3
      },
      "file_extension": ".py",
      "mimetype": "text/x-python",
      "name": "python",
      "nbconvert_exporter": "python",
      "pygments_lexer": "ipython3",
      "version": "3.8.3"
    },
    "toc": {
      "base_numbering": 1,
      "nav_menu": {},
      "number_sections": true,
      "sideBar": true,
      "skip_h1_title": false,
      "title_cell": "Table of Contents",
      "title_sidebar": "Contents",
      "toc_cell": false,
      "toc_position": {},
      "toc_section_display": true,
      "toc_window_display": false
    },
    "varInspector": {
      "cols": {
        "lenName": 16,
        "lenType": 16,
        "lenVar": 40
      },
      "kernels_config": {
        "python": {
          "delete_cmd_postfix": "",
          "delete_cmd_prefix": "del ",
          "library": "var_list.py",
          "varRefreshCmd": "print(var_dic_list())"
        },
        "r": {
          "delete_cmd_postfix": ") ",
          "delete_cmd_prefix": "rm(",
          "library": "var_list.r",
          "varRefreshCmd": "cat(var_dic_list()) "
        }
      },
      "types_to_exclude": [
        "module",
        "function",
        "builtin_function_or_method",
        "instance",
        "_Feature"
      ],
      "window_display": false
    },
    "colab": {
      "name": "Копия блокнота \"Homework1ML(IgorTyugaev).ipynb\"",
      "provenance": [],
      "collapsed_sections": [
        "XrlvDWKIttXT"
      ],
      "toc_visible": true,
      "include_colab_link": true
    }
  },
  "cells": [
    {
      "cell_type": "markdown",
      "metadata": {
        "id": "view-in-github",
        "colab_type": "text"
      },
      "source": [
        "<a href=\"https://colab.research.google.com/github/igorTyugaev/labs_python_sber/blob/main/Homework1ML(IgorTyugaev)_ipynb.ipynb\" target=\"_parent\"><img src=\"https://colab.research.google.com/assets/colab-badge.svg\" alt=\"Open In Colab\"/></a>"
      ]
    },
    {
      "cell_type": "code",
      "metadata": {
        "id": "COqoWl0attWs"
      },
      "source": [
        "import numpy as np\n",
        "import pandas as pd"
      ],
      "execution_count": 201,
      "outputs": []
    },
    {
      "cell_type": "markdown",
      "metadata": {
        "id": "0xRG2qOgttWt"
      },
      "source": [
        "**1\\.** Как создать pd.Series из листа, numpy array и словаря(dict)? (★☆☆)"
      ]
    },
    {
      "cell_type": "code",
      "metadata": {
        "id": "6KeLxoVattWu",
        "colab": {
          "base_uri": "https://localhost:8080/"
        },
        "outputId": "d371bc3f-b527-43e7-da4a-af436780a865"
      },
      "source": [
        "mylist = list('abcedfghijklmnopqrstuvwxyz')\n",
        "myarr = np.arange(26)\n",
        "mydict = dict(zip(mylist, myarr))\n",
        "\n",
        "#your code\n",
        "s1 = pd.Series(mylist)\n",
        "s2 = pd.Series(myarr)\n",
        "s3 = pd.Series(mydict)\n",
        "\n",
        "print(s1.head())\n",
        "print(s2.head())\n",
        "print(s3.head())"
      ],
      "execution_count": 202,
      "outputs": [
        {
          "output_type": "stream",
          "text": [
            "0    a\n",
            "1    b\n",
            "2    c\n",
            "3    e\n",
            "4    d\n",
            "dtype: object\n",
            "0    0\n",
            "1    1\n",
            "2    2\n",
            "3    3\n",
            "4    4\n",
            "dtype: int64\n",
            "a    0\n",
            "b    1\n",
            "c    2\n",
            "e    3\n",
            "d    4\n",
            "dtype: int64\n"
          ],
          "name": "stdout"
        }
      ]
    },
    {
      "cell_type": "markdown",
      "metadata": {
        "id": "abW9JFPTttWy"
      },
      "source": [
        "**2\\.** Как сделать превратить индексы из датафрейма в колонку? (★☆☆)"
      ]
    },
    {
      "cell_type": "code",
      "metadata": {
        "id": "WpyLEximttWz",
        "colab": {
          "base_uri": "https://localhost:8080/"
        },
        "outputId": "4c4ab8d6-09db-4d9d-ff14-c25d8719601d"
      },
      "source": [
        "df=pd.DataFrame(['a', 'b', 'c'])\n",
        "\n",
        "#your code\n",
        "print(\"Original: \\n\", df, \"\\n\")\n",
        "\n",
        "df_2 = df.copy()\n",
        "print(\"Transposed: \\n\", df_2.T, \"\\n\") # Если имелось ввиду транспонированная матрица\n",
        "\n",
        "df_3 = df.copy()\n",
        "df_3['index'] = df_3.index # Можем записать индексы как новый столбец\n",
        "print(\"Index to col: \\n\", df_3, \"\\n\")\n",
        "\n",
        "df_4 = df.copy()\n",
        "df_4 = df_4.reset_index() # Можем выполнить переиндесацию, при этом сох-я старые индексы (в колонку)\n",
        "print(\"Reset index: \\n\", df_4, \"\\n\")"
      ],
      "execution_count": 203,
      "outputs": [
        {
          "output_type": "stream",
          "text": [
            "Original: \n",
            "    0\n",
            "0  a\n",
            "1  b\n",
            "2  c \n",
            "\n",
            "Transposed: \n",
            "    0  1  2\n",
            "0  a  b  c \n",
            "\n",
            "Index to col: \n",
            "    0  index\n",
            "0  a      0\n",
            "1  b      1\n",
            "2  c      2 \n",
            "\n",
            "Reset index: \n",
            "    index  0\n",
            "0      0  a\n",
            "1      1  b\n",
            "2      2  c \n",
            "\n"
          ],
          "name": "stdout"
        }
      ]
    },
    {
      "cell_type": "markdown",
      "metadata": {
        "id": "Gb_SbxZ7ttW0"
      },
      "source": [
        "**3\\.** Как из нескольких pd.Series сделать один датафрейм? (★★☆)\n",
        "\n",
        "(hint: pd.concat или словарь с колонками)"
      ]
    },
    {
      "cell_type": "code",
      "metadata": {
        "id": "ptKsFiyLttW3",
        "colab": {
          "base_uri": "https://localhost:8080/",
          "height": 143
        },
        "outputId": "ce448230-9fe1-4030-93f3-6f767644b100"
      },
      "source": [
        "df1=pd.Series(['a', 'b', 'c'])\n",
        "df2=pd.Series(['aa', 'b1', 'c2'])\n",
        "df3=pd.Series(['44', '55', '66'])\n",
        "\n",
        "#your code\n",
        "df_4 = pd.concat([df1,df2,df3],axis=1) # Выполняем объеденение данных по столбцам\n",
        "# получили датафрейм\n",
        "# Но все-таки серии обычно считаються за строки,\n",
        "# поэтому выполним транспонирование\n",
        "df_4.T"
      ],
      "execution_count": 204,
      "outputs": [
        {
          "output_type": "execute_result",
          "data": {
            "text/html": [
              "<div>\n",
              "<style scoped>\n",
              "    .dataframe tbody tr th:only-of-type {\n",
              "        vertical-align: middle;\n",
              "    }\n",
              "\n",
              "    .dataframe tbody tr th {\n",
              "        vertical-align: top;\n",
              "    }\n",
              "\n",
              "    .dataframe thead th {\n",
              "        text-align: right;\n",
              "    }\n",
              "</style>\n",
              "<table border=\"1\" class=\"dataframe\">\n",
              "  <thead>\n",
              "    <tr style=\"text-align: right;\">\n",
              "      <th></th>\n",
              "      <th>0</th>\n",
              "      <th>1</th>\n",
              "      <th>2</th>\n",
              "    </tr>\n",
              "  </thead>\n",
              "  <tbody>\n",
              "    <tr>\n",
              "      <th>0</th>\n",
              "      <td>a</td>\n",
              "      <td>b</td>\n",
              "      <td>c</td>\n",
              "    </tr>\n",
              "    <tr>\n",
              "      <th>1</th>\n",
              "      <td>aa</td>\n",
              "      <td>b1</td>\n",
              "      <td>c2</td>\n",
              "    </tr>\n",
              "    <tr>\n",
              "      <th>2</th>\n",
              "      <td>44</td>\n",
              "      <td>55</td>\n",
              "      <td>66</td>\n",
              "    </tr>\n",
              "  </tbody>\n",
              "</table>\n",
              "</div>"
            ],
            "text/plain": [
              "    0   1   2\n",
              "0   a   b   c\n",
              "1  aa  b1  c2\n",
              "2  44  55  66"
            ]
          },
          "metadata": {
            "tags": []
          },
          "execution_count": 204
        }
      ]
    },
    {
      "cell_type": "markdown",
      "metadata": {
        "id": "iuD_vRaQttW5"
      },
      "source": [
        "**4\\.** Как получить строки из series A, которые не содержатся в series B? (★★☆)"
      ]
    },
    {
      "cell_type": "code",
      "metadata": {
        "id": "vEueXjFnttW7",
        "colab": {
          "base_uri": "https://localhost:8080/"
        },
        "outputId": "797f99e2-b293-4d3f-8b6c-c5c636d3a969"
      },
      "source": [
        "df1=pd.Series(['a', 'b', 'c'])\n",
        "df2=pd.Series(['a', 'b1', 'c2'])\n",
        "\n",
        "#your code\n",
        "# Понял это как LEFT OUTER JOIN для этих серий\n",
        "dfA = pd.DataFrame(df1)\n",
        "dfB = pd.DataFrame(df2)\n",
        "\n",
        "df_out = pd.merge(dfA, dfB, how=\"outer\", indicator=True)\n",
        "df_out.query('_merge==\"left_only\"')[0]"
      ],
      "execution_count": 205,
      "outputs": [
        {
          "output_type": "execute_result",
          "data": {
            "text/plain": [
              "1    b\n",
              "2    c\n",
              "Name: 0, dtype: object"
            ]
          },
          "metadata": {
            "tags": []
          },
          "execution_count": 205
        }
      ]
    },
    {
      "cell_type": "markdown",
      "metadata": {
        "id": "bXOv8vTwttW8"
      },
      "source": [
        "**5\\.** Как получить из series/dataframe минимум, 25й персентиль, медиану, 75тый персентиль, максимум? (★☆☆)\n",
        "\n",
        "(hint: использовать одну команду)"
      ]
    },
    {
      "cell_type": "code",
      "metadata": {
        "collapsed": true,
        "id": "XlyuZMGEttW8",
        "colab": {
          "base_uri": "https://localhost:8080/"
        },
        "outputId": "ca626879-ffa3-4eea-a69a-8927043d4ea9"
      },
      "source": [
        "df1=pd.Series(np.arange(10, 99))\n",
        "\n",
        "#your code\n",
        "df1.describe()"
      ],
      "execution_count": 206,
      "outputs": [
        {
          "output_type": "execute_result",
          "data": {
            "text/plain": [
              "count    89.000000\n",
              "mean     54.000000\n",
              "std      25.836021\n",
              "min      10.000000\n",
              "25%      32.000000\n",
              "50%      54.000000\n",
              "75%      76.000000\n",
              "max      98.000000\n",
              "dtype: float64"
            ]
          },
          "metadata": {
            "tags": []
          },
          "execution_count": 206
        }
      ]
    },
    {
      "cell_type": "markdown",
      "metadata": {
        "id": "b1dlZ5gQttW9"
      },
      "source": [
        "**6\\.** Как получить частоту\\долю для всех уникальных объектов в series? (★☆☆)"
      ]
    },
    {
      "cell_type": "code",
      "metadata": {
        "collapsed": true,
        "id": "4yXMGwrUttW9",
        "colab": {
          "base_uri": "https://localhost:8080/"
        },
        "outputId": "46ba606f-e3c2-4cde-d553-15e38710c793"
      },
      "source": [
        "df1=pd.Series(['a', 'b', 'c', 'g', 'v', 'a', 'a', 'a', 'u', 'a', 'b', 'c', 'c'])\n",
        "\n",
        "#your code\n",
        "df1.value_counts(normalize = True)"
      ],
      "execution_count": 207,
      "outputs": [
        {
          "output_type": "execute_result",
          "data": {
            "text/plain": [
              "a    0.384615\n",
              "c    0.230769\n",
              "b    0.153846\n",
              "u    0.076923\n",
              "v    0.076923\n",
              "g    0.076923\n",
              "dtype: float64"
            ]
          },
          "metadata": {
            "tags": []
          },
          "execution_count": 207
        }
      ]
    },
    {
      "cell_type": "markdown",
      "metadata": {
        "id": "kThou-e9ttW-"
      },
      "source": [
        "**7\\.** Как оставить только топ-2 самых часто встречающихся значений, а все остальные значения заменить на 'other'?  (★★☆)"
      ]
    },
    {
      "cell_type": "code",
      "metadata": {
        "collapsed": true,
        "id": "BXPtjiBKttW-",
        "colab": {
          "base_uri": "https://localhost:8080/"
        },
        "outputId": "4609d6e6-ad8a-4a66-f50f-8a89cf502bec"
      },
      "source": [
        "df1=pd.Series(['a', 'b', 'c', 'g', 'v', 'a', 'a', 'a', 'u', 'a', 'b', 'c', 'c'])\n",
        "\n",
        "#your code\n",
        "cor = df1.value_counts()[:2].index\n",
        "print(\"Топ-2 самых часто встречающихся значений:\", cor)\n",
        "df1.apply(lambda x: x if (x==cor[0] or x==cor[1]) else 'other')"
      ],
      "execution_count": 208,
      "outputs": [
        {
          "output_type": "stream",
          "text": [
            "Топ-2 самых часто встречающихся значений: Index(['a', 'c'], dtype='object')\n"
          ],
          "name": "stdout"
        },
        {
          "output_type": "execute_result",
          "data": {
            "text/plain": [
              "0         a\n",
              "1     other\n",
              "2         c\n",
              "3     other\n",
              "4     other\n",
              "5         a\n",
              "6         a\n",
              "7         a\n",
              "8     other\n",
              "9         a\n",
              "10    other\n",
              "11        c\n",
              "12        c\n",
              "dtype: object"
            ]
          },
          "metadata": {
            "tags": []
          },
          "execution_count": 208
        }
      ]
    },
    {
      "cell_type": "markdown",
      "metadata": {
        "id": "7RfJCW8ottW_"
      },
      "source": [
        "**8\\.** Как разбить колонку с числовыми значениями на 10 групп одинакового размера?  (★★☆)\n",
        "\n",
        "(hint: pd.qcut)"
      ]
    },
    {
      "cell_type": "code",
      "metadata": {
        "collapsed": true,
        "id": "s-N0_3CzttW_",
        "colab": {
          "base_uri": "https://localhost:8080/"
        },
        "outputId": "0a425a1a-c93f-4d08-8dd2-470f0a901fc5"
      },
      "source": [
        "s = pd.Series(np.random.random(20))\n",
        "\n",
        "#your code\n",
        "pd.qcut(s, 10)"
      ],
      "execution_count": 209,
      "outputs": [
        {
          "output_type": "execute_result",
          "data": {
            "text/plain": [
              "0     (0.0605, 0.126]\n",
              "1     (0.0605, 0.126]\n",
              "2      (0.497, 0.516]\n",
              "3      (0.719, 0.967]\n",
              "4      (0.663, 0.719]\n",
              "5      (0.516, 0.553]\n",
              "6      (0.497, 0.516]\n",
              "7       (0.126, 0.22]\n",
              "8      (0.719, 0.967]\n",
              "9      (0.553, 0.636]\n",
              "10     (0.636, 0.663]\n",
              "11     (0.553, 0.636]\n",
              "12      (0.22, 0.427]\n",
              "13      (0.126, 0.22]\n",
              "14     (0.636, 0.663]\n",
              "15     (0.427, 0.497]\n",
              "16      (0.22, 0.427]\n",
              "17     (0.663, 0.719]\n",
              "18     (0.427, 0.497]\n",
              "19     (0.516, 0.553]\n",
              "dtype: category\n",
              "Categories (10, interval[float64]): [(0.0605, 0.126] < (0.126, 0.22] < (0.22, 0.427] < (0.427, 0.497] <\n",
              "                                     ... < (0.553, 0.636] < (0.636, 0.663] <\n",
              "                                     (0.663, 0.719] < (0.719, 0.967]]"
            ]
          },
          "metadata": {
            "tags": []
          },
          "execution_count": 209
        }
      ]
    },
    {
      "cell_type": "markdown",
      "metadata": {
        "id": "6GVniHN_ttW_"
      },
      "source": [
        "**9\\.** Как найти позиции чисел, которые делятся на 3 без остатка из series?  (★★☆)\n",
        "\n",
        "(можно с помощью numpy и с помощью pandas)"
      ]
    },
    {
      "cell_type": "code",
      "metadata": {
        "collapsed": true,
        "id": "VeQGTUdDttXC",
        "colab": {
          "base_uri": "https://localhost:8080/"
        },
        "outputId": "0d25ad68-147f-4463-b628-e3176afdedf1"
      },
      "source": [
        "s = pd.Series(np.random.randint(100, size=20))\n",
        "\n",
        "#your code\n",
        "s.loc[s % 3 == 0].index"
      ],
      "execution_count": 210,
      "outputs": [
        {
          "output_type": "execute_result",
          "data": {
            "text/plain": [
              "Int64Index([0, 6, 7, 13, 15, 16, 17, 18, 19], dtype='int64')"
            ]
          },
          "metadata": {
            "tags": []
          },
          "execution_count": 210
        }
      ]
    },
    {
      "cell_type": "markdown",
      "metadata": {
        "id": "n961W5YUttXC"
      },
      "source": [
        "**10\\.** Как извлечь из series строки по индексам?  (★☆☆)"
      ]
    },
    {
      "cell_type": "code",
      "metadata": {
        "collapsed": true,
        "id": "Nqxlw2crttXD",
        "colab": {
          "base_uri": "https://localhost:8080/"
        },
        "outputId": "99b906da-21ee-4eb3-bb1b-3a9264a15fef"
      },
      "source": [
        "s = pd.Series(list('abcdefghijklmnopqrstuvwxyz'))\n",
        "pos = [0, 4, 8, 14, 20]\n",
        "\n",
        "#your code\n",
        "s.iloc[pos]"
      ],
      "execution_count": 211,
      "outputs": [
        {
          "output_type": "execute_result",
          "data": {
            "text/plain": [
              "0     a\n",
              "4     e\n",
              "8     i\n",
              "14    o\n",
              "20    u\n",
              "dtype: object"
            ]
          },
          "metadata": {
            "tags": []
          },
          "execution_count": 211
        }
      ]
    },
    {
      "cell_type": "markdown",
      "metadata": {
        "id": "idtqyIkzttXD"
      },
      "source": [
        "**11\\.** Как сделать stack двух series вертикально и горизонтально? (★☆☆)\n",
        "\n",
        "(hint: pd.append, pd.concat)"
      ]
    },
    {
      "cell_type": "code",
      "metadata": {
        "collapsed": true,
        "id": "JTWLD028ttXE",
        "colab": {
          "base_uri": "https://localhost:8080/",
          "height": 206
        },
        "outputId": "3dd44e22-d75e-499f-dd6b-64d6a213d35f"
      },
      "source": [
        "s1 = pd.Series(range(5))\n",
        "s2 = pd.Series(list('abcde'))\n",
        "\n",
        "#your code\n",
        "# Вертикальтно\n",
        "pd.concat([s1, s2])\n",
        "s1.append(s2)\n",
        "# Горизонтально\n",
        "pd.concat([s1, s2], axis=1)"
      ],
      "execution_count": 212,
      "outputs": [
        {
          "output_type": "execute_result",
          "data": {
            "text/html": [
              "<div>\n",
              "<style scoped>\n",
              "    .dataframe tbody tr th:only-of-type {\n",
              "        vertical-align: middle;\n",
              "    }\n",
              "\n",
              "    .dataframe tbody tr th {\n",
              "        vertical-align: top;\n",
              "    }\n",
              "\n",
              "    .dataframe thead th {\n",
              "        text-align: right;\n",
              "    }\n",
              "</style>\n",
              "<table border=\"1\" class=\"dataframe\">\n",
              "  <thead>\n",
              "    <tr style=\"text-align: right;\">\n",
              "      <th></th>\n",
              "      <th>0</th>\n",
              "      <th>1</th>\n",
              "    </tr>\n",
              "  </thead>\n",
              "  <tbody>\n",
              "    <tr>\n",
              "      <th>0</th>\n",
              "      <td>0</td>\n",
              "      <td>a</td>\n",
              "    </tr>\n",
              "    <tr>\n",
              "      <th>1</th>\n",
              "      <td>1</td>\n",
              "      <td>b</td>\n",
              "    </tr>\n",
              "    <tr>\n",
              "      <th>2</th>\n",
              "      <td>2</td>\n",
              "      <td>c</td>\n",
              "    </tr>\n",
              "    <tr>\n",
              "      <th>3</th>\n",
              "      <td>3</td>\n",
              "      <td>d</td>\n",
              "    </tr>\n",
              "    <tr>\n",
              "      <th>4</th>\n",
              "      <td>4</td>\n",
              "      <td>e</td>\n",
              "    </tr>\n",
              "  </tbody>\n",
              "</table>\n",
              "</div>"
            ],
            "text/plain": [
              "   0  1\n",
              "0  0  a\n",
              "1  1  b\n",
              "2  2  c\n",
              "3  3  d\n",
              "4  4  e"
            ]
          },
          "metadata": {
            "tags": []
          },
          "execution_count": 212
        }
      ]
    },
    {
      "cell_type": "markdown",
      "metadata": {
        "id": "75DsCepJttXE"
      },
      "source": [
        "**12\\.** Как получить позиции строк из series A из другого series B? (★☆☆)\n",
        "\n",
        "(можно с помощью numpy и с помощью pandas)"
      ]
    },
    {
      "cell_type": "code",
      "metadata": {
        "collapsed": true,
        "id": "z51E6g5ittXF",
        "colab": {
          "base_uri": "https://localhost:8080/"
        },
        "outputId": "3302b408-c6f3-4ff2-afa9-8694bf44b6b8"
      },
      "source": [
        "s1 = pd.Series([10, 9, 6, 5, 3, 1, 12, 8, 13])\n",
        "s2 = pd.Series([1, 3, 10, 13])\n",
        "\n",
        "#your code\n",
        "s1[s1.isin(s2)].index"
      ],
      "execution_count": 213,
      "outputs": [
        {
          "output_type": "execute_result",
          "data": {
            "text/plain": [
              "Int64Index([0, 4, 5, 8], dtype='int64')"
            ]
          },
          "metadata": {
            "tags": []
          },
          "execution_count": 213
        }
      ]
    },
    {
      "cell_type": "markdown",
      "metadata": {
        "id": "6ni-v2A-ttXF"
      },
      "source": [
        "**13\\.** Как вычислить среднеквадратическую ошибку для истинных и предсказанных значений? (★★☆)"
      ]
    },
    {
      "cell_type": "code",
      "metadata": {
        "collapsed": true,
        "id": "vdTvNW1ZttXH",
        "colab": {
          "base_uri": "https://localhost:8080/"
        },
        "outputId": "6c1b914f-41ea-4322-d478-0809249cd244"
      },
      "source": [
        "truth = pd.Series(range(10))\n",
        "pred = pd.Series(range(10)) + np.random.random(10)\n",
        "\n",
        "#your code\n",
        "MSE = np.square(np.subtract(truth, pred)).mean() \n",
        "MSE"
      ],
      "execution_count": 214,
      "outputs": [
        {
          "output_type": "execute_result",
          "data": {
            "text/plain": [
              "0.5098031544772571"
            ]
          },
          "metadata": {
            "tags": []
          },
          "execution_count": 214
        }
      ]
    },
    {
      "cell_type": "markdown",
      "metadata": {
        "id": "L7D2sWi2ttXH"
      },
      "source": [
        "**14\\.** Как конвертировать каждый первый элемент строке в series в верхний регистр? (★★☆)"
      ]
    },
    {
      "cell_type": "code",
      "metadata": {
        "collapsed": true,
        "id": "HchFvkGWttXI",
        "colab": {
          "base_uri": "https://localhost:8080/"
        },
        "outputId": "11480b1a-e9ad-44a2-bf82-92517c713f3a"
      },
      "source": [
        "s = pd.Series(['how', 'to', 'kick', 'ass?'])\n",
        "\n",
        "#your code\n",
        "s.apply(lambda x: x.capitalize())"
      ],
      "execution_count": 215,
      "outputs": [
        {
          "output_type": "execute_result",
          "data": {
            "text/plain": [
              "0     How\n",
              "1      To\n",
              "2    Kick\n",
              "3    Ass?\n",
              "dtype: object"
            ]
          },
          "metadata": {
            "tags": []
          },
          "execution_count": 215
        }
      ]
    },
    {
      "cell_type": "markdown",
      "metadata": {
        "id": "MbDrI_QfttXI"
      },
      "source": [
        "**15\\.** Как посчитать количество символов в каждой строке? (★★☆)"
      ]
    },
    {
      "cell_type": "code",
      "metadata": {
        "collapsed": true,
        "id": "a0XzoMdyttXJ",
        "colab": {
          "base_uri": "https://localhost:8080/"
        },
        "outputId": "f8e15c80-9635-4d51-9b9f-e3b939212f62"
      },
      "source": [
        "s = pd.Series(['how', 'to', 'kick', 'ass?'])\n",
        "\n",
        "#your code\n",
        "s.apply(lambda x: len(x))"
      ],
      "execution_count": 216,
      "outputs": [
        {
          "output_type": "execute_result",
          "data": {
            "text/plain": [
              "0    3\n",
              "1    2\n",
              "2    4\n",
              "3    4\n",
              "dtype: int64"
            ]
          },
          "metadata": {
            "tags": []
          },
          "execution_count": 216
        }
      ]
    },
    {
      "cell_type": "markdown",
      "metadata": {
        "id": "LAvGxmzQttXJ"
      },
      "source": [
        "**16\\.** Как преобразовать даты в виде строк в timeseries?  (★☆☆)\n",
        "\n",
        "(hint: pd.to_datetime)"
      ]
    },
    {
      "cell_type": "code",
      "metadata": {
        "collapsed": true,
        "id": "LN9r-kNjttXK",
        "colab": {
          "base_uri": "https://localhost:8080/"
        },
        "outputId": "bf09e377-48ec-4576-cff7-7c85ac61b577"
      },
      "source": [
        "s = pd.Series(['01 Jan 2010', '02-02-2011', '20120303', '2013/04/04', '2014-05-05', '2015-06-06T12:20'])\n",
        "\n",
        "#your code\n",
        "pd.to_datetime(s)"
      ],
      "execution_count": 217,
      "outputs": [
        {
          "output_type": "execute_result",
          "data": {
            "text/plain": [
              "0   2010-01-01 00:00:00\n",
              "1   2011-02-02 00:00:00\n",
              "2   2012-03-03 00:00:00\n",
              "3   2013-04-04 00:00:00\n",
              "4   2014-05-05 00:00:00\n",
              "5   2015-06-06 12:20:00\n",
              "dtype: datetime64[ns]"
            ]
          },
          "metadata": {
            "tags": []
          },
          "execution_count": 217
        }
      ]
    },
    {
      "cell_type": "markdown",
      "metadata": {
        "id": "aS5MBxbcttXK"
      },
      "source": [
        "**17\\.** Как получить день месяца, номер недели, день года и день недели из даты в виде строки? (★★☆)"
      ]
    },
    {
      "cell_type": "code",
      "metadata": {
        "collapsed": true,
        "id": "mBk5cc5XttXK",
        "colab": {
          "base_uri": "https://localhost:8080/"
        },
        "outputId": "e4803fc7-4efa-4667-c510-3e88932a2c5c"
      },
      "source": [
        "s = pd.Series(['01 Jan 2010', '02-02-2011', '20120303', '2013/04/04', '2014-05-05', '2015-06-06T12:20'])\n",
        "\n",
        "#your code\n",
        "dt_series = pd.to_datetime(s)\n",
        "\n",
        "print(\"Date: \\n\", dt_series.apply(lambda x: x.date()), \"\\n\")\n",
        "\n",
        "print(\"Week number: \\n\", dt_series.apply(lambda x: x.week), \"\\n\")\n",
        "\n",
        "print(\"Day number of year: \\n\", dt_series.apply(lambda x: x.date()), \"\\n\")\n",
        "\n",
        "print(\"Day of week: \\n\", dt_series.apply(lambda x: x.dayofweek))"
      ],
      "execution_count": 218,
      "outputs": [
        {
          "output_type": "stream",
          "text": [
            "Date: \n",
            " 0    2010-01-01\n",
            "1    2011-02-02\n",
            "2    2012-03-03\n",
            "3    2013-04-04\n",
            "4    2014-05-05\n",
            "5    2015-06-06\n",
            "dtype: object \n",
            "\n",
            "Week number: \n",
            " 0    53\n",
            "1     5\n",
            "2     9\n",
            "3    14\n",
            "4    19\n",
            "5    23\n",
            "dtype: int64 \n",
            "\n",
            "Day number of year: \n",
            " 0    2010-01-01\n",
            "1    2011-02-02\n",
            "2    2012-03-03\n",
            "3    2013-04-04\n",
            "4    2014-05-05\n",
            "5    2015-06-06\n",
            "dtype: object \n",
            "\n",
            "Day of week: \n",
            " 0    4\n",
            "1    2\n",
            "2    5\n",
            "3    3\n",
            "4    0\n",
            "5    5\n",
            "dtype: int64\n"
          ],
          "name": "stdout"
        }
      ]
    },
    {
      "cell_type": "markdown",
      "metadata": {
        "id": "olzpvkJqttXK"
      },
      "source": [
        "**18\\.** Как конвертировать дату из формата месяц-год в формат год-месяц-первое число? (★★☆)\n",
        "\n",
        "(hint: .strftime('%Y-%m-%d'))"
      ]
    },
    {
      "cell_type": "code",
      "metadata": {
        "collapsed": true,
        "id": "-uhX4V8YttXK",
        "colab": {
          "base_uri": "https://localhost:8080/"
        },
        "outputId": "a7c94ace-e003-416c-cb17-cec7384f42ad"
      },
      "source": [
        "s = pd.Series(['Jan 2017', 'Feb 2019', 'Mar 2012'])\n",
        "\n",
        "#your code\n",
        "dt_series = pd.to_datetime(s)\n",
        "dt_series.apply(lambda x: x.strftime('%Y-%m-%d'))"
      ],
      "execution_count": 219,
      "outputs": [
        {
          "output_type": "execute_result",
          "data": {
            "text/plain": [
              "0    2017-01-01\n",
              "1    2019-02-01\n",
              "2    2012-03-01\n",
              "dtype: object"
            ]
          },
          "metadata": {
            "tags": []
          },
          "execution_count": 219
        }
      ]
    },
    {
      "cell_type": "markdown",
      "metadata": {
        "id": "IZDWGqKottXM"
      },
      "source": [
        "**19\\.** Как отфильтровать слова, содержащие не менее 2 гласных? (★★☆)"
      ]
    },
    {
      "cell_type": "code",
      "metadata": {
        "collapsed": true,
        "id": "wNn8w9VyttXM",
        "colab": {
          "base_uri": "https://localhost:8080/"
        },
        "outputId": "59c4d251-b8e5-4fbf-9b29-53563f784a7d"
      },
      "source": [
        "s = pd.Series(['Kitty', 'Cat', 'Plan', 'Python', 'Money'])\n",
        "\n",
        "#your code\n",
        "# Википедиа говорит:\n",
        "# \"Буква «Y» может обозначать как согласный, так и гласный звуки\"\n",
        "# Так что возможно два варианта\n",
        "print(s[s.str.count('(?i)[aeiou]') >=2], \"\\n\")\n",
        "# или с «Y»\n",
        "s[s.str.count('(?i)[aeiouy]') >=2]"
      ],
      "execution_count": 220,
      "outputs": [
        {
          "output_type": "stream",
          "text": [
            "4    Money\n",
            "dtype: object \n",
            "\n"
          ],
          "name": "stdout"
        },
        {
          "output_type": "execute_result",
          "data": {
            "text/plain": [
              "0     Kitty\n",
              "3    Python\n",
              "4     Money\n",
              "dtype: object"
            ]
          },
          "metadata": {
            "tags": []
          },
          "execution_count": 220
        }
      ]
    },
    {
      "cell_type": "markdown",
      "metadata": {
        "id": "TS-pnqYQttXM"
      },
      "source": [
        "**20\\.** Заполните все пропущенные даты от минимальной до максимальной, значения при этом дожны быть равны предыдущей не пропущеной дате (★★★)"
      ]
    },
    {
      "cell_type": "code",
      "metadata": {
        "collapsed": true,
        "id": "YA1UxDTJttXN",
        "colab": {
          "base_uri": "https://localhost:8080/"
        },
        "outputId": "3e34d9c5-d56e-47ad-c5a1-09b8253f5675"
      },
      "source": [
        "s = pd.Series([1,10,3,np.nan], index=pd.to_datetime(['2000-01-01', '2000-01-03', '2000-01-06', '2000-01-08']))\n",
        "\n",
        "#your code\n",
        "# Найдем сначала max и min даты\n",
        "dt_series = pd.to_datetime(s.index)\n",
        "min_date = dt_series.min()\n",
        "max_date = dt_series.max()\n",
        "# Сформируем диапазон от min_date to max_date\n",
        "new_index = pd.date_range(min_date, max_date)\n",
        "# Выполним переиндексирование объекта s, c использованием интерполяции\n",
        "s.reindex(new_index, method='ffill')"
      ],
      "execution_count": 221,
      "outputs": [
        {
          "output_type": "execute_result",
          "data": {
            "text/plain": [
              "2000-01-01     1.0\n",
              "2000-01-02     1.0\n",
              "2000-01-03    10.0\n",
              "2000-01-04    10.0\n",
              "2000-01-05    10.0\n",
              "2000-01-06     3.0\n",
              "2000-01-07     3.0\n",
              "2000-01-08     NaN\n",
              "Freq: D, dtype: float64"
            ]
          },
          "metadata": {
            "tags": []
          },
          "execution_count": 221
        }
      ]
    },
    {
      "cell_type": "markdown",
      "metadata": {
        "id": "6bdYN_L7ttXN"
      },
      "source": [
        "**21\\.** Считайте файл из CSV-файла по строчно и добавьте считанные строки в датафрейм (файл data/BostonHousing.csv)?  (★★☆)\n",
        "\n",
        "(hint: csv reader)"
      ]
    },
    {
      "cell_type": "code",
      "metadata": {
        "collapsed": true,
        "id": "KBY4iMGWttXO",
        "colab": {
          "base_uri": "https://localhost:8080/",
          "height": 264
        },
        "outputId": "22c49844-8408-420c-b1ee-cb7bbf32b6cc"
      },
      "source": [
        "import csv\n",
        "df_read = pd.Series()\n",
        "    \n",
        "with open('BostonHousing.csv', 'r') as csv_file:\n",
        "  reader = csv.reader(csv_file)\n",
        "  for row in reader:\n",
        "    df_read = pd.concat([df_read, pd.Series(row)], axis=1)\n",
        "    # print(pd.Series(row))\n",
        "    # df_read.append(pd.DataFrame(pd.Series(row)))\n",
        "\n",
        "df_read = df_read.T\n",
        "df_read = df_read.rename(columns=df_read.iloc[1, :])\n",
        "df_read = df_read.iloc[2:, :]\n",
        "df_read.head()\n",
        "# ну, а по простому df_read = pd.read_csv(\"BostonHousing.csv\")"
      ],
      "execution_count": 222,
      "outputs": [
        {
          "output_type": "stream",
          "text": [
            "/usr/local/lib/python3.7/dist-packages/ipykernel_launcher.py:2: DeprecationWarning: The default dtype for empty Series will be 'object' instead of 'float64' in a future version. Specify a dtype explicitly to silence this warning.\n",
            "  \n"
          ],
          "name": "stderr"
        },
        {
          "output_type": "execute_result",
          "data": {
            "text/html": [
              "<div>\n",
              "<style scoped>\n",
              "    .dataframe tbody tr th:only-of-type {\n",
              "        vertical-align: middle;\n",
              "    }\n",
              "\n",
              "    .dataframe tbody tr th {\n",
              "        vertical-align: top;\n",
              "    }\n",
              "\n",
              "    .dataframe thead th {\n",
              "        text-align: right;\n",
              "    }\n",
              "</style>\n",
              "<table border=\"1\" class=\"dataframe\">\n",
              "  <thead>\n",
              "    <tr style=\"text-align: right;\">\n",
              "      <th></th>\n",
              "      <th>crim</th>\n",
              "      <th>zn</th>\n",
              "      <th>indus</th>\n",
              "      <th>chas</th>\n",
              "      <th>nox</th>\n",
              "      <th>rm</th>\n",
              "      <th>age</th>\n",
              "      <th>dis</th>\n",
              "      <th>rad</th>\n",
              "      <th>tax</th>\n",
              "      <th>ptratio</th>\n",
              "      <th>b</th>\n",
              "      <th>lstat</th>\n",
              "      <th>medv</th>\n",
              "    </tr>\n",
              "  </thead>\n",
              "  <tbody>\n",
              "    <tr>\n",
              "      <th>0</th>\n",
              "      <td>0.00632</td>\n",
              "      <td>18</td>\n",
              "      <td>2.31</td>\n",
              "      <td>0</td>\n",
              "      <td>0.538</td>\n",
              "      <td>6.575</td>\n",
              "      <td>65.2</td>\n",
              "      <td>4.09</td>\n",
              "      <td>1</td>\n",
              "      <td>296</td>\n",
              "      <td>15.3</td>\n",
              "      <td>396.9</td>\n",
              "      <td>4.98</td>\n",
              "      <td>24</td>\n",
              "    </tr>\n",
              "    <tr>\n",
              "      <th>0</th>\n",
              "      <td>0.02731</td>\n",
              "      <td>0</td>\n",
              "      <td>7.07</td>\n",
              "      <td>0</td>\n",
              "      <td>0.469</td>\n",
              "      <td>6.421</td>\n",
              "      <td>78.9</td>\n",
              "      <td>4.9671</td>\n",
              "      <td>2</td>\n",
              "      <td>242</td>\n",
              "      <td>17.8</td>\n",
              "      <td>396.9</td>\n",
              "      <td>9.14</td>\n",
              "      <td>21.6</td>\n",
              "    </tr>\n",
              "    <tr>\n",
              "      <th>0</th>\n",
              "      <td>0.02729</td>\n",
              "      <td>0</td>\n",
              "      <td>7.07</td>\n",
              "      <td>0</td>\n",
              "      <td>0.469</td>\n",
              "      <td>7.185</td>\n",
              "      <td>61.1</td>\n",
              "      <td>4.9671</td>\n",
              "      <td>2</td>\n",
              "      <td>242</td>\n",
              "      <td>17.8</td>\n",
              "      <td>392.83</td>\n",
              "      <td>4.03</td>\n",
              "      <td>34.7</td>\n",
              "    </tr>\n",
              "    <tr>\n",
              "      <th>0</th>\n",
              "      <td>0.03237</td>\n",
              "      <td>0</td>\n",
              "      <td>2.18</td>\n",
              "      <td>0</td>\n",
              "      <td>0.458</td>\n",
              "      <td>6.998</td>\n",
              "      <td>45.8</td>\n",
              "      <td>6.0622</td>\n",
              "      <td>3</td>\n",
              "      <td>222</td>\n",
              "      <td>18.7</td>\n",
              "      <td>394.63</td>\n",
              "      <td>2.94</td>\n",
              "      <td>33.4</td>\n",
              "    </tr>\n",
              "    <tr>\n",
              "      <th>0</th>\n",
              "      <td>0.06905</td>\n",
              "      <td>0</td>\n",
              "      <td>2.18</td>\n",
              "      <td>0</td>\n",
              "      <td>0.458</td>\n",
              "      <td>7.147</td>\n",
              "      <td>54.2</td>\n",
              "      <td>6.0622</td>\n",
              "      <td>3</td>\n",
              "      <td>222</td>\n",
              "      <td>18.7</td>\n",
              "      <td>396.9</td>\n",
              "      <td>5.33</td>\n",
              "      <td>36.2</td>\n",
              "    </tr>\n",
              "  </tbody>\n",
              "</table>\n",
              "</div>"
            ],
            "text/plain": [
              "      crim  zn indus chas    nox     rm  ... rad  tax ptratio       b lstat  medv\n",
              "0  0.00632  18  2.31    0  0.538  6.575  ...   1  296    15.3   396.9  4.98    24\n",
              "0  0.02731   0  7.07    0  0.469  6.421  ...   2  242    17.8   396.9  9.14  21.6\n",
              "0  0.02729   0  7.07    0  0.469  7.185  ...   2  242    17.8  392.83  4.03  34.7\n",
              "0  0.03237   0  2.18    0  0.458  6.998  ...   3  222    18.7  394.63  2.94  33.4\n",
              "0  0.06905   0  2.18    0  0.458  7.147  ...   3  222    18.7   396.9  5.33  36.2\n",
              "\n",
              "[5 rows x 14 columns]"
            ]
          },
          "metadata": {
            "tags": []
          },
          "execution_count": 222
        }
      ]
    },
    {
      "cell_type": "markdown",
      "metadata": {
        "id": "zFENPHSnttXO"
      },
      "source": [
        "**22\\.** Как изменить значения столбца при импорте csv в фрейм данных?\n",
        "Импортируйте датасет с помощью pd.read_csv, но колонку 'medv' (median house value) измените так, что если value < 25 = ‘Low’ и если > 25 = ‘High’.  (★★☆)\n",
        "\n",
        "(hint: pd.read_csv(....., converts={}))"
      ]
    },
    {
      "cell_type": "code",
      "metadata": {
        "collapsed": true,
        "id": "zvPkaxhtttXO",
        "colab": {
          "base_uri": "https://localhost:8080/",
          "height": 206
        },
        "outputId": "8a28eccd-d601-4710-9a6e-fdc5dd92bcbc"
      },
      "source": [
        "dir_file = 'https://raw.githubusercontent.com/selva86/datasets/master/BostonHousing.csv'\n",
        "df_read = pd.read_csv(dir_file, converters={'medv': lambda x: 'Low' if float(x) < 25 else 'High'})\n",
        "df_read.head()"
      ],
      "execution_count": 223,
      "outputs": [
        {
          "output_type": "execute_result",
          "data": {
            "text/html": [
              "<div>\n",
              "<style scoped>\n",
              "    .dataframe tbody tr th:only-of-type {\n",
              "        vertical-align: middle;\n",
              "    }\n",
              "\n",
              "    .dataframe tbody tr th {\n",
              "        vertical-align: top;\n",
              "    }\n",
              "\n",
              "    .dataframe thead th {\n",
              "        text-align: right;\n",
              "    }\n",
              "</style>\n",
              "<table border=\"1\" class=\"dataframe\">\n",
              "  <thead>\n",
              "    <tr style=\"text-align: right;\">\n",
              "      <th></th>\n",
              "      <th>crim</th>\n",
              "      <th>zn</th>\n",
              "      <th>indus</th>\n",
              "      <th>chas</th>\n",
              "      <th>nox</th>\n",
              "      <th>rm</th>\n",
              "      <th>age</th>\n",
              "      <th>dis</th>\n",
              "      <th>rad</th>\n",
              "      <th>tax</th>\n",
              "      <th>ptratio</th>\n",
              "      <th>b</th>\n",
              "      <th>lstat</th>\n",
              "      <th>medv</th>\n",
              "    </tr>\n",
              "  </thead>\n",
              "  <tbody>\n",
              "    <tr>\n",
              "      <th>0</th>\n",
              "      <td>0.00632</td>\n",
              "      <td>18.0</td>\n",
              "      <td>2.31</td>\n",
              "      <td>0</td>\n",
              "      <td>0.538</td>\n",
              "      <td>6.575</td>\n",
              "      <td>65.2</td>\n",
              "      <td>4.0900</td>\n",
              "      <td>1</td>\n",
              "      <td>296</td>\n",
              "      <td>15.3</td>\n",
              "      <td>396.90</td>\n",
              "      <td>4.98</td>\n",
              "      <td>Low</td>\n",
              "    </tr>\n",
              "    <tr>\n",
              "      <th>1</th>\n",
              "      <td>0.02731</td>\n",
              "      <td>0.0</td>\n",
              "      <td>7.07</td>\n",
              "      <td>0</td>\n",
              "      <td>0.469</td>\n",
              "      <td>6.421</td>\n",
              "      <td>78.9</td>\n",
              "      <td>4.9671</td>\n",
              "      <td>2</td>\n",
              "      <td>242</td>\n",
              "      <td>17.8</td>\n",
              "      <td>396.90</td>\n",
              "      <td>9.14</td>\n",
              "      <td>Low</td>\n",
              "    </tr>\n",
              "    <tr>\n",
              "      <th>2</th>\n",
              "      <td>0.02729</td>\n",
              "      <td>0.0</td>\n",
              "      <td>7.07</td>\n",
              "      <td>0</td>\n",
              "      <td>0.469</td>\n",
              "      <td>7.185</td>\n",
              "      <td>61.1</td>\n",
              "      <td>4.9671</td>\n",
              "      <td>2</td>\n",
              "      <td>242</td>\n",
              "      <td>17.8</td>\n",
              "      <td>392.83</td>\n",
              "      <td>4.03</td>\n",
              "      <td>High</td>\n",
              "    </tr>\n",
              "    <tr>\n",
              "      <th>3</th>\n",
              "      <td>0.03237</td>\n",
              "      <td>0.0</td>\n",
              "      <td>2.18</td>\n",
              "      <td>0</td>\n",
              "      <td>0.458</td>\n",
              "      <td>6.998</td>\n",
              "      <td>45.8</td>\n",
              "      <td>6.0622</td>\n",
              "      <td>3</td>\n",
              "      <td>222</td>\n",
              "      <td>18.7</td>\n",
              "      <td>394.63</td>\n",
              "      <td>2.94</td>\n",
              "      <td>High</td>\n",
              "    </tr>\n",
              "    <tr>\n",
              "      <th>4</th>\n",
              "      <td>0.06905</td>\n",
              "      <td>0.0</td>\n",
              "      <td>2.18</td>\n",
              "      <td>0</td>\n",
              "      <td>0.458</td>\n",
              "      <td>7.147</td>\n",
              "      <td>54.2</td>\n",
              "      <td>6.0622</td>\n",
              "      <td>3</td>\n",
              "      <td>222</td>\n",
              "      <td>18.7</td>\n",
              "      <td>396.90</td>\n",
              "      <td>5.33</td>\n",
              "      <td>High</td>\n",
              "    </tr>\n",
              "  </tbody>\n",
              "</table>\n",
              "</div>"
            ],
            "text/plain": [
              "      crim    zn  indus  chas    nox  ...  tax  ptratio       b  lstat  medv\n",
              "0  0.00632  18.0   2.31     0  0.538  ...  296     15.3  396.90   4.98   Low\n",
              "1  0.02731   0.0   7.07     0  0.469  ...  242     17.8  396.90   9.14   Low\n",
              "2  0.02729   0.0   7.07     0  0.469  ...  242     17.8  392.83   4.03  High\n",
              "3  0.03237   0.0   2.18     0  0.458  ...  222     18.7  394.63   2.94  High\n",
              "4  0.06905   0.0   2.18     0  0.458  ...  222     18.7  396.90   5.33  High\n",
              "\n",
              "[5 rows x 14 columns]"
            ]
          },
          "metadata": {
            "tags": []
          },
          "execution_count": 223
        }
      ]
    },
    {
      "cell_type": "markdown",
      "metadata": {
        "id": "mf-lTqBSttXO"
      },
      "source": [
        "**23\\.** Как импортировать только указанные столбцы('crim' и 'medv') и только n строк из CSV-файла?  (★☆☆)"
      ]
    },
    {
      "cell_type": "code",
      "metadata": {
        "collapsed": true,
        "id": "3tWfcK4bttXO",
        "colab": {
          "base_uri": "https://localhost:8080/",
          "height": 206
        },
        "outputId": "efeb6e33-3ab5-468a-b47b-1e4d1c229191"
      },
      "source": [
        "# nrows - кол-во строк для считывания\n",
        "df_read = pd.read_csv(dir_file, nrows=5, usecols=['crim', 'medv'])\n",
        "df_read"
      ],
      "execution_count": 224,
      "outputs": [
        {
          "output_type": "execute_result",
          "data": {
            "text/html": [
              "<div>\n",
              "<style scoped>\n",
              "    .dataframe tbody tr th:only-of-type {\n",
              "        vertical-align: middle;\n",
              "    }\n",
              "\n",
              "    .dataframe tbody tr th {\n",
              "        vertical-align: top;\n",
              "    }\n",
              "\n",
              "    .dataframe thead th {\n",
              "        text-align: right;\n",
              "    }\n",
              "</style>\n",
              "<table border=\"1\" class=\"dataframe\">\n",
              "  <thead>\n",
              "    <tr style=\"text-align: right;\">\n",
              "      <th></th>\n",
              "      <th>crim</th>\n",
              "      <th>medv</th>\n",
              "    </tr>\n",
              "  </thead>\n",
              "  <tbody>\n",
              "    <tr>\n",
              "      <th>0</th>\n",
              "      <td>0.00632</td>\n",
              "      <td>24.0</td>\n",
              "    </tr>\n",
              "    <tr>\n",
              "      <th>1</th>\n",
              "      <td>0.02731</td>\n",
              "      <td>21.6</td>\n",
              "    </tr>\n",
              "    <tr>\n",
              "      <th>2</th>\n",
              "      <td>0.02729</td>\n",
              "      <td>34.7</td>\n",
              "    </tr>\n",
              "    <tr>\n",
              "      <th>3</th>\n",
              "      <td>0.03237</td>\n",
              "      <td>33.4</td>\n",
              "    </tr>\n",
              "    <tr>\n",
              "      <th>4</th>\n",
              "      <td>0.06905</td>\n",
              "      <td>36.2</td>\n",
              "    </tr>\n",
              "  </tbody>\n",
              "</table>\n",
              "</div>"
            ],
            "text/plain": [
              "      crim  medv\n",
              "0  0.00632  24.0\n",
              "1  0.02731  21.6\n",
              "2  0.02729  34.7\n",
              "3  0.03237  33.4\n",
              "4  0.06905  36.2"
            ]
          },
          "metadata": {
            "tags": []
          },
          "execution_count": 224
        }
      ]
    },
    {
      "cell_type": "markdown",
      "metadata": {
        "id": "t25gsasZttXO"
      },
      "source": [
        "**24\\.** Как получить кол-во строк, кол-во столбцов, тип столбцов, кол-во столбцов с таким типом данных, итоговую статистику каждого столбца датафрейма?  (★☆☆)"
      ]
    },
    {
      "cell_type": "code",
      "metadata": {
        "collapsed": true,
        "id": "cXLm6yN3ttXP",
        "colab": {
          "base_uri": "https://localhost:8080/"
        },
        "outputId": "b99e3708-feae-4ac0-c61d-23cd43727164"
      },
      "source": [
        "df = pd.read_csv('https://raw.githubusercontent.com/selva86/datasets/master/Cars93_miss.csv')\n",
        "\n",
        "#  number of rows and columns\n",
        "print(\"Кол-во строк:\", len(df))\n",
        "print(\"Кол-во столбцов:\", len(df.columns))\n",
        "print(\"Кол-во строк и столбцов:\", df.shape)\n",
        "# datatypes\n",
        "\n",
        "# how many columns under each dtype\n",
        "\n",
        "# summary statistics\n",
        "df.info()"
      ],
      "execution_count": 225,
      "outputs": [
        {
          "output_type": "stream",
          "text": [
            "Кол-во строк: 93\n",
            "Кол-во столбцов: 27\n",
            "Кол-во строк и столбцов: (93, 27)\n",
            "<class 'pandas.core.frame.DataFrame'>\n",
            "RangeIndex: 93 entries, 0 to 92\n",
            "Data columns (total 27 columns):\n",
            " #   Column              Non-Null Count  Dtype  \n",
            "---  ------              --------------  -----  \n",
            " 0   Manufacturer        89 non-null     object \n",
            " 1   Model               92 non-null     object \n",
            " 2   Type                90 non-null     object \n",
            " 3   Min.Price           86 non-null     float64\n",
            " 4   Price               91 non-null     float64\n",
            " 5   Max.Price           88 non-null     float64\n",
            " 6   MPG.city            84 non-null     float64\n",
            " 7   MPG.highway         91 non-null     float64\n",
            " 8   AirBags             87 non-null     object \n",
            " 9   DriveTrain          86 non-null     object \n",
            " 10  Cylinders           88 non-null     object \n",
            " 11  EngineSize          91 non-null     float64\n",
            " 12  Horsepower          86 non-null     float64\n",
            " 13  RPM                 90 non-null     float64\n",
            " 14  Rev.per.mile        87 non-null     float64\n",
            " 15  Man.trans.avail     88 non-null     object \n",
            " 16  Fuel.tank.capacity  85 non-null     float64\n",
            " 17  Passengers          91 non-null     float64\n",
            " 18  Length              89 non-null     float64\n",
            " 19  Wheelbase           92 non-null     float64\n",
            " 20  Width               87 non-null     float64\n",
            " 21  Turn.circle         88 non-null     float64\n",
            " 22  Rear.seat.room      89 non-null     float64\n",
            " 23  Luggage.room        74 non-null     float64\n",
            " 24  Weight              86 non-null     float64\n",
            " 25  Origin              88 non-null     object \n",
            " 26  Make                90 non-null     object \n",
            "dtypes: float64(18), object(9)\n",
            "memory usage: 19.7+ KB\n"
          ],
          "name": "stdout"
        }
      ]
    },
    {
      "cell_type": "markdown",
      "metadata": {
        "id": "aAh_sby2ttXP"
      },
      "source": [
        "**25\\.** Как извлечь номер строки и столбца конкретной ячейки с заданным критерием? (★☆☆)"
      ]
    },
    {
      "cell_type": "code",
      "metadata": {
        "collapsed": true,
        "id": "-EQOKgUHttXP",
        "colab": {
          "base_uri": "https://localhost:8080/"
        },
        "outputId": "b65c7b05-daa7-4ca4-a946-dc6e6f881c5b"
      },
      "source": [
        "df = pd.read_csv('https://raw.githubusercontent.com/selva86/datasets/master/Cars93_miss.csv')\n",
        "\n",
        "# Get Manufacturer with highest price\n",
        "print(df.loc[df['Max.Price'].idxmax(), 'Manufacturer'])\n",
        "# Get Row and Column number\n",
        "print(df.loc[df['Max.Price'].idxmax()].name)\n",
        "# Get the value\n",
        "print(df.loc[df['Max.Price'].idxmax()]['Max.Price'])"
      ],
      "execution_count": 226,
      "outputs": [
        {
          "output_type": "stream",
          "text": [
            "Mercedes-Benz\n",
            "58\n",
            "80.0\n"
          ],
          "name": "stdout"
        }
      ]
    },
    {
      "cell_type": "markdown",
      "metadata": {
        "id": "_845HktPttXQ"
      },
      "source": [
        "**26\\.** Переименнуйте колонку Type в CarType, в столбцах с '.' в названии замените её на '_'. Как добавить ко всем названиям колонок суффиксы?  (★☆☆)"
      ]
    },
    {
      "cell_type": "code",
      "metadata": {
        "id": "Ke2cFua2ttXQ",
        "colab": {
          "base_uri": "https://localhost:8080/",
          "height": 313
        },
        "outputId": "0ef31641-dfc0-40cb-beea-8143a7fc286a"
      },
      "source": [
        "df = pd.read_csv('https://raw.githubusercontent.com/selva86/datasets/master/Cars93_miss.csv')\n",
        "\n",
        "#your code\n",
        "df = df.rename(columns={\"Type\": \"CarType\"})\n",
        "df.columns = df.columns.str.replace(r\".\", \"_\")\n",
        "df.head()"
      ],
      "execution_count": 227,
      "outputs": [
        {
          "output_type": "execute_result",
          "data": {
            "text/html": [
              "<div>\n",
              "<style scoped>\n",
              "    .dataframe tbody tr th:only-of-type {\n",
              "        vertical-align: middle;\n",
              "    }\n",
              "\n",
              "    .dataframe tbody tr th {\n",
              "        vertical-align: top;\n",
              "    }\n",
              "\n",
              "    .dataframe thead th {\n",
              "        text-align: right;\n",
              "    }\n",
              "</style>\n",
              "<table border=\"1\" class=\"dataframe\">\n",
              "  <thead>\n",
              "    <tr style=\"text-align: right;\">\n",
              "      <th></th>\n",
              "      <th>Manufacturer</th>\n",
              "      <th>Model</th>\n",
              "      <th>CarType</th>\n",
              "      <th>Min_Price</th>\n",
              "      <th>Price</th>\n",
              "      <th>Max_Price</th>\n",
              "      <th>MPG_city</th>\n",
              "      <th>MPG_highway</th>\n",
              "      <th>AirBags</th>\n",
              "      <th>DriveTrain</th>\n",
              "      <th>Cylinders</th>\n",
              "      <th>EngineSize</th>\n",
              "      <th>Horsepower</th>\n",
              "      <th>RPM</th>\n",
              "      <th>Rev_per_mile</th>\n",
              "      <th>Man_trans_avail</th>\n",
              "      <th>Fuel_tank_capacity</th>\n",
              "      <th>Passengers</th>\n",
              "      <th>Length</th>\n",
              "      <th>Wheelbase</th>\n",
              "      <th>Width</th>\n",
              "      <th>Turn_circle</th>\n",
              "      <th>Rear_seat_room</th>\n",
              "      <th>Luggage_room</th>\n",
              "      <th>Weight</th>\n",
              "      <th>Origin</th>\n",
              "      <th>Make</th>\n",
              "    </tr>\n",
              "  </thead>\n",
              "  <tbody>\n",
              "    <tr>\n",
              "      <th>0</th>\n",
              "      <td>Acura</td>\n",
              "      <td>Integra</td>\n",
              "      <td>Small</td>\n",
              "      <td>12.9</td>\n",
              "      <td>15.9</td>\n",
              "      <td>18.8</td>\n",
              "      <td>25.0</td>\n",
              "      <td>31.0</td>\n",
              "      <td>None</td>\n",
              "      <td>Front</td>\n",
              "      <td>4</td>\n",
              "      <td>1.8</td>\n",
              "      <td>140.0</td>\n",
              "      <td>6300.0</td>\n",
              "      <td>2890.0</td>\n",
              "      <td>Yes</td>\n",
              "      <td>13.2</td>\n",
              "      <td>5.0</td>\n",
              "      <td>177.0</td>\n",
              "      <td>102.0</td>\n",
              "      <td>68.0</td>\n",
              "      <td>37.0</td>\n",
              "      <td>26.5</td>\n",
              "      <td>NaN</td>\n",
              "      <td>2705.0</td>\n",
              "      <td>non-USA</td>\n",
              "      <td>Acura Integra</td>\n",
              "    </tr>\n",
              "    <tr>\n",
              "      <th>1</th>\n",
              "      <td>NaN</td>\n",
              "      <td>Legend</td>\n",
              "      <td>Midsize</td>\n",
              "      <td>29.2</td>\n",
              "      <td>33.9</td>\n",
              "      <td>38.7</td>\n",
              "      <td>18.0</td>\n",
              "      <td>25.0</td>\n",
              "      <td>Driver &amp; Passenger</td>\n",
              "      <td>Front</td>\n",
              "      <td>6</td>\n",
              "      <td>3.2</td>\n",
              "      <td>200.0</td>\n",
              "      <td>5500.0</td>\n",
              "      <td>2335.0</td>\n",
              "      <td>Yes</td>\n",
              "      <td>18.0</td>\n",
              "      <td>5.0</td>\n",
              "      <td>195.0</td>\n",
              "      <td>115.0</td>\n",
              "      <td>71.0</td>\n",
              "      <td>38.0</td>\n",
              "      <td>30.0</td>\n",
              "      <td>15.0</td>\n",
              "      <td>3560.0</td>\n",
              "      <td>non-USA</td>\n",
              "      <td>Acura Legend</td>\n",
              "    </tr>\n",
              "    <tr>\n",
              "      <th>2</th>\n",
              "      <td>Audi</td>\n",
              "      <td>90</td>\n",
              "      <td>Compact</td>\n",
              "      <td>25.9</td>\n",
              "      <td>29.1</td>\n",
              "      <td>32.3</td>\n",
              "      <td>20.0</td>\n",
              "      <td>26.0</td>\n",
              "      <td>Driver only</td>\n",
              "      <td>Front</td>\n",
              "      <td>6</td>\n",
              "      <td>2.8</td>\n",
              "      <td>172.0</td>\n",
              "      <td>5500.0</td>\n",
              "      <td>2280.0</td>\n",
              "      <td>Yes</td>\n",
              "      <td>16.9</td>\n",
              "      <td>5.0</td>\n",
              "      <td>180.0</td>\n",
              "      <td>102.0</td>\n",
              "      <td>67.0</td>\n",
              "      <td>37.0</td>\n",
              "      <td>28.0</td>\n",
              "      <td>14.0</td>\n",
              "      <td>3375.0</td>\n",
              "      <td>non-USA</td>\n",
              "      <td>Audi 90</td>\n",
              "    </tr>\n",
              "    <tr>\n",
              "      <th>3</th>\n",
              "      <td>Audi</td>\n",
              "      <td>100</td>\n",
              "      <td>Midsize</td>\n",
              "      <td>NaN</td>\n",
              "      <td>37.7</td>\n",
              "      <td>44.6</td>\n",
              "      <td>19.0</td>\n",
              "      <td>26.0</td>\n",
              "      <td>Driver &amp; Passenger</td>\n",
              "      <td>NaN</td>\n",
              "      <td>6</td>\n",
              "      <td>NaN</td>\n",
              "      <td>172.0</td>\n",
              "      <td>5500.0</td>\n",
              "      <td>2535.0</td>\n",
              "      <td>NaN</td>\n",
              "      <td>21.1</td>\n",
              "      <td>6.0</td>\n",
              "      <td>193.0</td>\n",
              "      <td>106.0</td>\n",
              "      <td>NaN</td>\n",
              "      <td>37.0</td>\n",
              "      <td>31.0</td>\n",
              "      <td>17.0</td>\n",
              "      <td>3405.0</td>\n",
              "      <td>non-USA</td>\n",
              "      <td>Audi 100</td>\n",
              "    </tr>\n",
              "    <tr>\n",
              "      <th>4</th>\n",
              "      <td>BMW</td>\n",
              "      <td>535i</td>\n",
              "      <td>Midsize</td>\n",
              "      <td>NaN</td>\n",
              "      <td>30.0</td>\n",
              "      <td>NaN</td>\n",
              "      <td>22.0</td>\n",
              "      <td>30.0</td>\n",
              "      <td>NaN</td>\n",
              "      <td>Rear</td>\n",
              "      <td>4</td>\n",
              "      <td>3.5</td>\n",
              "      <td>208.0</td>\n",
              "      <td>5700.0</td>\n",
              "      <td>2545.0</td>\n",
              "      <td>Yes</td>\n",
              "      <td>21.1</td>\n",
              "      <td>4.0</td>\n",
              "      <td>186.0</td>\n",
              "      <td>109.0</td>\n",
              "      <td>69.0</td>\n",
              "      <td>39.0</td>\n",
              "      <td>27.0</td>\n",
              "      <td>13.0</td>\n",
              "      <td>3640.0</td>\n",
              "      <td>non-USA</td>\n",
              "      <td>BMW 535i</td>\n",
              "    </tr>\n",
              "  </tbody>\n",
              "</table>\n",
              "</div>"
            ],
            "text/plain": [
              "  Manufacturer    Model  CarType  ...  Weight   Origin           Make\n",
              "0        Acura  Integra    Small  ...  2705.0  non-USA  Acura Integra\n",
              "1          NaN   Legend  Midsize  ...  3560.0  non-USA   Acura Legend\n",
              "2         Audi       90  Compact  ...  3375.0  non-USA        Audi 90\n",
              "3         Audi      100  Midsize  ...  3405.0  non-USA       Audi 100\n",
              "4          BMW     535i  Midsize  ...  3640.0  non-USA       BMW 535i\n",
              "\n",
              "[5 rows x 27 columns]"
            ]
          },
          "metadata": {
            "tags": []
          },
          "execution_count": 227
        }
      ]
    },
    {
      "cell_type": "markdown",
      "metadata": {
        "id": "u9qMR4S_ttXQ"
      },
      "source": [
        "**27\\.** Проверьте есть ли в датафрейме пропуски? Если да, посчитайте кол-во nan\\none в каждом столбце датафрейма  (★★☆)"
      ]
    },
    {
      "cell_type": "code",
      "metadata": {
        "collapsed": true,
        "id": "Xh7FJxBHttXQ",
        "colab": {
          "base_uri": "https://localhost:8080/"
        },
        "outputId": "e50c482a-508d-40fb-8b14-4337ff86f8df"
      },
      "source": [
        "df = pd.read_csv('https://raw.githubusercontent.com/selva86/datasets/master/Cars93_miss.csv')\n",
        "\n",
        "#your code\n",
        "if(df.isnull().values.any()):\n",
        "  print(df.isna().sum())"
      ],
      "execution_count": 228,
      "outputs": [
        {
          "output_type": "stream",
          "text": [
            "Manufacturer           4\n",
            "Model                  1\n",
            "Type                   3\n",
            "Min.Price              7\n",
            "Price                  2\n",
            "Max.Price              5\n",
            "MPG.city               9\n",
            "MPG.highway            2\n",
            "AirBags                6\n",
            "DriveTrain             7\n",
            "Cylinders              5\n",
            "EngineSize             2\n",
            "Horsepower             7\n",
            "RPM                    3\n",
            "Rev.per.mile           6\n",
            "Man.trans.avail        5\n",
            "Fuel.tank.capacity     8\n",
            "Passengers             2\n",
            "Length                 4\n",
            "Wheelbase              1\n",
            "Width                  6\n",
            "Turn.circle            5\n",
            "Rear.seat.room         4\n",
            "Luggage.room          19\n",
            "Weight                 7\n",
            "Origin                 5\n",
            "Make                   3\n",
            "dtype: int64\n"
          ],
          "name": "stdout"
        }
      ]
    },
    {
      "cell_type": "markdown",
      "metadata": {
        "id": "NpSnX2jettXR"
      },
      "source": [
        "**28\\.** Как заменить отсутствующие значения нескольких числовых столбцов средним?  (★★☆)"
      ]
    },
    {
      "cell_type": "code",
      "metadata": {
        "collapsed": true,
        "id": "FmgeNLbuttXR",
        "colab": {
          "base_uri": "https://localhost:8080/",
          "height": 313
        },
        "outputId": "c8ca32ae-cde7-4133-f45d-ff210bfe7ed1"
      },
      "source": [
        "df = pd.read_csv('https://raw.githubusercontent.com/selva86/datasets/master/Cars93_miss.csv')\n",
        "\n",
        "#your code\n",
        "df = df.fillna(df.mean())\n",
        "df.head()"
      ],
      "execution_count": 229,
      "outputs": [
        {
          "output_type": "execute_result",
          "data": {
            "text/html": [
              "<div>\n",
              "<style scoped>\n",
              "    .dataframe tbody tr th:only-of-type {\n",
              "        vertical-align: middle;\n",
              "    }\n",
              "\n",
              "    .dataframe tbody tr th {\n",
              "        vertical-align: top;\n",
              "    }\n",
              "\n",
              "    .dataframe thead th {\n",
              "        text-align: right;\n",
              "    }\n",
              "</style>\n",
              "<table border=\"1\" class=\"dataframe\">\n",
              "  <thead>\n",
              "    <tr style=\"text-align: right;\">\n",
              "      <th></th>\n",
              "      <th>Manufacturer</th>\n",
              "      <th>Model</th>\n",
              "      <th>Type</th>\n",
              "      <th>Min.Price</th>\n",
              "      <th>Price</th>\n",
              "      <th>Max.Price</th>\n",
              "      <th>MPG.city</th>\n",
              "      <th>MPG.highway</th>\n",
              "      <th>AirBags</th>\n",
              "      <th>DriveTrain</th>\n",
              "      <th>Cylinders</th>\n",
              "      <th>EngineSize</th>\n",
              "      <th>Horsepower</th>\n",
              "      <th>RPM</th>\n",
              "      <th>Rev.per.mile</th>\n",
              "      <th>Man.trans.avail</th>\n",
              "      <th>Fuel.tank.capacity</th>\n",
              "      <th>Passengers</th>\n",
              "      <th>Length</th>\n",
              "      <th>Wheelbase</th>\n",
              "      <th>Width</th>\n",
              "      <th>Turn.circle</th>\n",
              "      <th>Rear.seat.room</th>\n",
              "      <th>Luggage.room</th>\n",
              "      <th>Weight</th>\n",
              "      <th>Origin</th>\n",
              "      <th>Make</th>\n",
              "    </tr>\n",
              "  </thead>\n",
              "  <tbody>\n",
              "    <tr>\n",
              "      <th>0</th>\n",
              "      <td>Acura</td>\n",
              "      <td>Integra</td>\n",
              "      <td>Small</td>\n",
              "      <td>12.900000</td>\n",
              "      <td>15.9</td>\n",
              "      <td>18.800000</td>\n",
              "      <td>25.0</td>\n",
              "      <td>31.0</td>\n",
              "      <td>None</td>\n",
              "      <td>Front</td>\n",
              "      <td>4</td>\n",
              "      <td>1.800000</td>\n",
              "      <td>140.0</td>\n",
              "      <td>6300.0</td>\n",
              "      <td>2890.0</td>\n",
              "      <td>Yes</td>\n",
              "      <td>13.2</td>\n",
              "      <td>5.0</td>\n",
              "      <td>177.0</td>\n",
              "      <td>102.0</td>\n",
              "      <td>68.000000</td>\n",
              "      <td>37.0</td>\n",
              "      <td>26.5</td>\n",
              "      <td>13.986486</td>\n",
              "      <td>2705.0</td>\n",
              "      <td>non-USA</td>\n",
              "      <td>Acura Integra</td>\n",
              "    </tr>\n",
              "    <tr>\n",
              "      <th>1</th>\n",
              "      <td>NaN</td>\n",
              "      <td>Legend</td>\n",
              "      <td>Midsize</td>\n",
              "      <td>29.200000</td>\n",
              "      <td>33.9</td>\n",
              "      <td>38.700000</td>\n",
              "      <td>18.0</td>\n",
              "      <td>25.0</td>\n",
              "      <td>Driver &amp; Passenger</td>\n",
              "      <td>Front</td>\n",
              "      <td>6</td>\n",
              "      <td>3.200000</td>\n",
              "      <td>200.0</td>\n",
              "      <td>5500.0</td>\n",
              "      <td>2335.0</td>\n",
              "      <td>Yes</td>\n",
              "      <td>18.0</td>\n",
              "      <td>5.0</td>\n",
              "      <td>195.0</td>\n",
              "      <td>115.0</td>\n",
              "      <td>71.000000</td>\n",
              "      <td>38.0</td>\n",
              "      <td>30.0</td>\n",
              "      <td>15.000000</td>\n",
              "      <td>3560.0</td>\n",
              "      <td>non-USA</td>\n",
              "      <td>Acura Legend</td>\n",
              "    </tr>\n",
              "    <tr>\n",
              "      <th>2</th>\n",
              "      <td>Audi</td>\n",
              "      <td>90</td>\n",
              "      <td>Compact</td>\n",
              "      <td>25.900000</td>\n",
              "      <td>29.1</td>\n",
              "      <td>32.300000</td>\n",
              "      <td>20.0</td>\n",
              "      <td>26.0</td>\n",
              "      <td>Driver only</td>\n",
              "      <td>Front</td>\n",
              "      <td>6</td>\n",
              "      <td>2.800000</td>\n",
              "      <td>172.0</td>\n",
              "      <td>5500.0</td>\n",
              "      <td>2280.0</td>\n",
              "      <td>Yes</td>\n",
              "      <td>16.9</td>\n",
              "      <td>5.0</td>\n",
              "      <td>180.0</td>\n",
              "      <td>102.0</td>\n",
              "      <td>67.000000</td>\n",
              "      <td>37.0</td>\n",
              "      <td>28.0</td>\n",
              "      <td>14.000000</td>\n",
              "      <td>3375.0</td>\n",
              "      <td>non-USA</td>\n",
              "      <td>Audi 90</td>\n",
              "    </tr>\n",
              "    <tr>\n",
              "      <th>3</th>\n",
              "      <td>Audi</td>\n",
              "      <td>100</td>\n",
              "      <td>Midsize</td>\n",
              "      <td>17.118605</td>\n",
              "      <td>37.7</td>\n",
              "      <td>44.600000</td>\n",
              "      <td>19.0</td>\n",
              "      <td>26.0</td>\n",
              "      <td>Driver &amp; Passenger</td>\n",
              "      <td>NaN</td>\n",
              "      <td>6</td>\n",
              "      <td>2.658242</td>\n",
              "      <td>172.0</td>\n",
              "      <td>5500.0</td>\n",
              "      <td>2535.0</td>\n",
              "      <td>NaN</td>\n",
              "      <td>21.1</td>\n",
              "      <td>6.0</td>\n",
              "      <td>193.0</td>\n",
              "      <td>106.0</td>\n",
              "      <td>69.448276</td>\n",
              "      <td>37.0</td>\n",
              "      <td>31.0</td>\n",
              "      <td>17.000000</td>\n",
              "      <td>3405.0</td>\n",
              "      <td>non-USA</td>\n",
              "      <td>Audi 100</td>\n",
              "    </tr>\n",
              "    <tr>\n",
              "      <th>4</th>\n",
              "      <td>BMW</td>\n",
              "      <td>535i</td>\n",
              "      <td>Midsize</td>\n",
              "      <td>17.118605</td>\n",
              "      <td>30.0</td>\n",
              "      <td>21.459091</td>\n",
              "      <td>22.0</td>\n",
              "      <td>30.0</td>\n",
              "      <td>NaN</td>\n",
              "      <td>Rear</td>\n",
              "      <td>4</td>\n",
              "      <td>3.500000</td>\n",
              "      <td>208.0</td>\n",
              "      <td>5700.0</td>\n",
              "      <td>2545.0</td>\n",
              "      <td>Yes</td>\n",
              "      <td>21.1</td>\n",
              "      <td>4.0</td>\n",
              "      <td>186.0</td>\n",
              "      <td>109.0</td>\n",
              "      <td>69.000000</td>\n",
              "      <td>39.0</td>\n",
              "      <td>27.0</td>\n",
              "      <td>13.000000</td>\n",
              "      <td>3640.0</td>\n",
              "      <td>non-USA</td>\n",
              "      <td>BMW 535i</td>\n",
              "    </tr>\n",
              "  </tbody>\n",
              "</table>\n",
              "</div>"
            ],
            "text/plain": [
              "  Manufacturer    Model     Type  ...  Weight   Origin           Make\n",
              "0        Acura  Integra    Small  ...  2705.0  non-USA  Acura Integra\n",
              "1          NaN   Legend  Midsize  ...  3560.0  non-USA   Acura Legend\n",
              "2         Audi       90  Compact  ...  3375.0  non-USA        Audi 90\n",
              "3         Audi      100  Midsize  ...  3405.0  non-USA       Audi 100\n",
              "4          BMW     535i  Midsize  ...  3640.0  non-USA       BMW 535i\n",
              "\n",
              "[5 rows x 27 columns]"
            ]
          },
          "metadata": {
            "tags": []
          },
          "execution_count": 229
        }
      ]
    },
    {
      "cell_type": "markdown",
      "metadata": {
        "id": "9WLujl6PttXR"
      },
      "source": [
        "**29\\.** Как выбрать конкретный столбец из датафрейма в качестве датафрейма, а не series?  (★☆☆)"
      ]
    },
    {
      "cell_type": "code",
      "metadata": {
        "collapsed": true,
        "id": "q4V4vYF0ttXR",
        "colab": {
          "base_uri": "https://localhost:8080/",
          "height": 424
        },
        "outputId": "b1b90ce8-57fe-438d-cf58-65f79947db5b"
      },
      "source": [
        "df = pd.read_csv('https://raw.githubusercontent.com/selva86/datasets/master/Cars93_miss.csv')\n",
        "\n",
        "#your code\n",
        "# df.iloc[:, 0]\n",
        "# df.loc[:, 'Model']\n",
        "df[['Model']]"
      ],
      "execution_count": 230,
      "outputs": [
        {
          "output_type": "execute_result",
          "data": {
            "text/html": [
              "<div>\n",
              "<style scoped>\n",
              "    .dataframe tbody tr th:only-of-type {\n",
              "        vertical-align: middle;\n",
              "    }\n",
              "\n",
              "    .dataframe tbody tr th {\n",
              "        vertical-align: top;\n",
              "    }\n",
              "\n",
              "    .dataframe thead th {\n",
              "        text-align: right;\n",
              "    }\n",
              "</style>\n",
              "<table border=\"1\" class=\"dataframe\">\n",
              "  <thead>\n",
              "    <tr style=\"text-align: right;\">\n",
              "      <th></th>\n",
              "      <th>Model</th>\n",
              "    </tr>\n",
              "  </thead>\n",
              "  <tbody>\n",
              "    <tr>\n",
              "      <th>0</th>\n",
              "      <td>Integra</td>\n",
              "    </tr>\n",
              "    <tr>\n",
              "      <th>1</th>\n",
              "      <td>Legend</td>\n",
              "    </tr>\n",
              "    <tr>\n",
              "      <th>2</th>\n",
              "      <td>90</td>\n",
              "    </tr>\n",
              "    <tr>\n",
              "      <th>3</th>\n",
              "      <td>100</td>\n",
              "    </tr>\n",
              "    <tr>\n",
              "      <th>4</th>\n",
              "      <td>535i</td>\n",
              "    </tr>\n",
              "    <tr>\n",
              "      <th>...</th>\n",
              "      <td>...</td>\n",
              "    </tr>\n",
              "    <tr>\n",
              "      <th>88</th>\n",
              "      <td>Eurovan</td>\n",
              "    </tr>\n",
              "    <tr>\n",
              "      <th>89</th>\n",
              "      <td>Passat</td>\n",
              "    </tr>\n",
              "    <tr>\n",
              "      <th>90</th>\n",
              "      <td>Corrado</td>\n",
              "    </tr>\n",
              "    <tr>\n",
              "      <th>91</th>\n",
              "      <td>240</td>\n",
              "    </tr>\n",
              "    <tr>\n",
              "      <th>92</th>\n",
              "      <td>850</td>\n",
              "    </tr>\n",
              "  </tbody>\n",
              "</table>\n",
              "<p>93 rows × 1 columns</p>\n",
              "</div>"
            ],
            "text/plain": [
              "      Model\n",
              "0   Integra\n",
              "1    Legend\n",
              "2        90\n",
              "3       100\n",
              "4      535i\n",
              "..      ...\n",
              "88  Eurovan\n",
              "89   Passat\n",
              "90  Corrado\n",
              "91      240\n",
              "92      850\n",
              "\n",
              "[93 rows x 1 columns]"
            ]
          },
          "metadata": {
            "tags": []
          },
          "execution_count": 230
        }
      ]
    },
    {
      "cell_type": "markdown",
      "metadata": {
        "id": "pDh2FSnhttXS"
      },
      "source": [
        "**30\\.** Как изменить порядок столбцов данных? (☆☆☆)"
      ]
    },
    {
      "cell_type": "code",
      "metadata": {
        "collapsed": true,
        "id": "GC7fdmGKttXS",
        "colab": {
          "base_uri": "https://localhost:8080/",
          "height": 313
        },
        "outputId": "91ab2440-45cf-48c8-f0c9-946d23c43952"
      },
      "source": [
        "df = pd.read_csv('https://raw.githubusercontent.com/selva86/datasets/master/Cars93_miss.csv')\n",
        "\n",
        "#your code\n",
        "df = df.reindex(columns=sorted(df.columns))\n",
        "df.head()"
      ],
      "execution_count": 231,
      "outputs": [
        {
          "output_type": "execute_result",
          "data": {
            "text/html": [
              "<div>\n",
              "<style scoped>\n",
              "    .dataframe tbody tr th:only-of-type {\n",
              "        vertical-align: middle;\n",
              "    }\n",
              "\n",
              "    .dataframe tbody tr th {\n",
              "        vertical-align: top;\n",
              "    }\n",
              "\n",
              "    .dataframe thead th {\n",
              "        text-align: right;\n",
              "    }\n",
              "</style>\n",
              "<table border=\"1\" class=\"dataframe\">\n",
              "  <thead>\n",
              "    <tr style=\"text-align: right;\">\n",
              "      <th></th>\n",
              "      <th>AirBags</th>\n",
              "      <th>Cylinders</th>\n",
              "      <th>DriveTrain</th>\n",
              "      <th>EngineSize</th>\n",
              "      <th>Fuel.tank.capacity</th>\n",
              "      <th>Horsepower</th>\n",
              "      <th>Length</th>\n",
              "      <th>Luggage.room</th>\n",
              "      <th>MPG.city</th>\n",
              "      <th>MPG.highway</th>\n",
              "      <th>Make</th>\n",
              "      <th>Man.trans.avail</th>\n",
              "      <th>Manufacturer</th>\n",
              "      <th>Max.Price</th>\n",
              "      <th>Min.Price</th>\n",
              "      <th>Model</th>\n",
              "      <th>Origin</th>\n",
              "      <th>Passengers</th>\n",
              "      <th>Price</th>\n",
              "      <th>RPM</th>\n",
              "      <th>Rear.seat.room</th>\n",
              "      <th>Rev.per.mile</th>\n",
              "      <th>Turn.circle</th>\n",
              "      <th>Type</th>\n",
              "      <th>Weight</th>\n",
              "      <th>Wheelbase</th>\n",
              "      <th>Width</th>\n",
              "    </tr>\n",
              "  </thead>\n",
              "  <tbody>\n",
              "    <tr>\n",
              "      <th>0</th>\n",
              "      <td>None</td>\n",
              "      <td>4</td>\n",
              "      <td>Front</td>\n",
              "      <td>1.8</td>\n",
              "      <td>13.2</td>\n",
              "      <td>140.0</td>\n",
              "      <td>177.0</td>\n",
              "      <td>NaN</td>\n",
              "      <td>25.0</td>\n",
              "      <td>31.0</td>\n",
              "      <td>Acura Integra</td>\n",
              "      <td>Yes</td>\n",
              "      <td>Acura</td>\n",
              "      <td>18.8</td>\n",
              "      <td>12.9</td>\n",
              "      <td>Integra</td>\n",
              "      <td>non-USA</td>\n",
              "      <td>5.0</td>\n",
              "      <td>15.9</td>\n",
              "      <td>6300.0</td>\n",
              "      <td>26.5</td>\n",
              "      <td>2890.0</td>\n",
              "      <td>37.0</td>\n",
              "      <td>Small</td>\n",
              "      <td>2705.0</td>\n",
              "      <td>102.0</td>\n",
              "      <td>68.0</td>\n",
              "    </tr>\n",
              "    <tr>\n",
              "      <th>1</th>\n",
              "      <td>Driver &amp; Passenger</td>\n",
              "      <td>6</td>\n",
              "      <td>Front</td>\n",
              "      <td>3.2</td>\n",
              "      <td>18.0</td>\n",
              "      <td>200.0</td>\n",
              "      <td>195.0</td>\n",
              "      <td>15.0</td>\n",
              "      <td>18.0</td>\n",
              "      <td>25.0</td>\n",
              "      <td>Acura Legend</td>\n",
              "      <td>Yes</td>\n",
              "      <td>NaN</td>\n",
              "      <td>38.7</td>\n",
              "      <td>29.2</td>\n",
              "      <td>Legend</td>\n",
              "      <td>non-USA</td>\n",
              "      <td>5.0</td>\n",
              "      <td>33.9</td>\n",
              "      <td>5500.0</td>\n",
              "      <td>30.0</td>\n",
              "      <td>2335.0</td>\n",
              "      <td>38.0</td>\n",
              "      <td>Midsize</td>\n",
              "      <td>3560.0</td>\n",
              "      <td>115.0</td>\n",
              "      <td>71.0</td>\n",
              "    </tr>\n",
              "    <tr>\n",
              "      <th>2</th>\n",
              "      <td>Driver only</td>\n",
              "      <td>6</td>\n",
              "      <td>Front</td>\n",
              "      <td>2.8</td>\n",
              "      <td>16.9</td>\n",
              "      <td>172.0</td>\n",
              "      <td>180.0</td>\n",
              "      <td>14.0</td>\n",
              "      <td>20.0</td>\n",
              "      <td>26.0</td>\n",
              "      <td>Audi 90</td>\n",
              "      <td>Yes</td>\n",
              "      <td>Audi</td>\n",
              "      <td>32.3</td>\n",
              "      <td>25.9</td>\n",
              "      <td>90</td>\n",
              "      <td>non-USA</td>\n",
              "      <td>5.0</td>\n",
              "      <td>29.1</td>\n",
              "      <td>5500.0</td>\n",
              "      <td>28.0</td>\n",
              "      <td>2280.0</td>\n",
              "      <td>37.0</td>\n",
              "      <td>Compact</td>\n",
              "      <td>3375.0</td>\n",
              "      <td>102.0</td>\n",
              "      <td>67.0</td>\n",
              "    </tr>\n",
              "    <tr>\n",
              "      <th>3</th>\n",
              "      <td>Driver &amp; Passenger</td>\n",
              "      <td>6</td>\n",
              "      <td>NaN</td>\n",
              "      <td>NaN</td>\n",
              "      <td>21.1</td>\n",
              "      <td>172.0</td>\n",
              "      <td>193.0</td>\n",
              "      <td>17.0</td>\n",
              "      <td>19.0</td>\n",
              "      <td>26.0</td>\n",
              "      <td>Audi 100</td>\n",
              "      <td>NaN</td>\n",
              "      <td>Audi</td>\n",
              "      <td>44.6</td>\n",
              "      <td>NaN</td>\n",
              "      <td>100</td>\n",
              "      <td>non-USA</td>\n",
              "      <td>6.0</td>\n",
              "      <td>37.7</td>\n",
              "      <td>5500.0</td>\n",
              "      <td>31.0</td>\n",
              "      <td>2535.0</td>\n",
              "      <td>37.0</td>\n",
              "      <td>Midsize</td>\n",
              "      <td>3405.0</td>\n",
              "      <td>106.0</td>\n",
              "      <td>NaN</td>\n",
              "    </tr>\n",
              "    <tr>\n",
              "      <th>4</th>\n",
              "      <td>NaN</td>\n",
              "      <td>4</td>\n",
              "      <td>Rear</td>\n",
              "      <td>3.5</td>\n",
              "      <td>21.1</td>\n",
              "      <td>208.0</td>\n",
              "      <td>186.0</td>\n",
              "      <td>13.0</td>\n",
              "      <td>22.0</td>\n",
              "      <td>30.0</td>\n",
              "      <td>BMW 535i</td>\n",
              "      <td>Yes</td>\n",
              "      <td>BMW</td>\n",
              "      <td>NaN</td>\n",
              "      <td>NaN</td>\n",
              "      <td>535i</td>\n",
              "      <td>non-USA</td>\n",
              "      <td>4.0</td>\n",
              "      <td>30.0</td>\n",
              "      <td>5700.0</td>\n",
              "      <td>27.0</td>\n",
              "      <td>2545.0</td>\n",
              "      <td>39.0</td>\n",
              "      <td>Midsize</td>\n",
              "      <td>3640.0</td>\n",
              "      <td>109.0</td>\n",
              "      <td>69.0</td>\n",
              "    </tr>\n",
              "  </tbody>\n",
              "</table>\n",
              "</div>"
            ],
            "text/plain": [
              "              AirBags Cylinders DriveTrain  ...  Weight  Wheelbase  Width\n",
              "0                None         4      Front  ...  2705.0      102.0   68.0\n",
              "1  Driver & Passenger         6      Front  ...  3560.0      115.0   71.0\n",
              "2         Driver only         6      Front  ...  3375.0      102.0   67.0\n",
              "3  Driver & Passenger         6        NaN  ...  3405.0      106.0    NaN\n",
              "4                 NaN         4       Rear  ...  3640.0      109.0   69.0\n",
              "\n",
              "[5 rows x 27 columns]"
            ]
          },
          "metadata": {
            "tags": []
          },
          "execution_count": 231
        }
      ]
    },
    {
      "cell_type": "markdown",
      "metadata": {
        "id": "8yX6mfCmttXS"
      },
      "source": [
        "**31\\.** Как установить количество строк и столбцов, отображаемых в выводе? (☆☆☆)\n",
        "\n",
        "(hint: pd.set_option)"
      ]
    },
    {
      "cell_type": "code",
      "metadata": {
        "collapsed": true,
        "id": "DoDADYekttXS",
        "colab": {
          "base_uri": "https://localhost:8080/",
          "height": 236
        },
        "outputId": "51850210-ce1d-4b14-fb89-231b56879d93"
      },
      "source": [
        "df = pd.read_csv('https://raw.githubusercontent.com/selva86/datasets/master/Cars93_miss.csv')\n",
        "\n",
        "#your code\n",
        "pd.set_option('display.max_rows', 5)\n",
        "pd.set_option('display.max_columns', 3)\n",
        "df.head()"
      ],
      "execution_count": 232,
      "outputs": [
        {
          "output_type": "execute_result",
          "data": {
            "text/html": [
              "<div>\n",
              "<style scoped>\n",
              "    .dataframe tbody tr th:only-of-type {\n",
              "        vertical-align: middle;\n",
              "    }\n",
              "\n",
              "    .dataframe tbody tr th {\n",
              "        vertical-align: top;\n",
              "    }\n",
              "\n",
              "    .dataframe thead th {\n",
              "        text-align: right;\n",
              "    }\n",
              "</style>\n",
              "<table border=\"1\" class=\"dataframe\">\n",
              "  <thead>\n",
              "    <tr style=\"text-align: right;\">\n",
              "      <th></th>\n",
              "      <th>Manufacturer</th>\n",
              "      <th>...</th>\n",
              "      <th>Make</th>\n",
              "    </tr>\n",
              "  </thead>\n",
              "  <tbody>\n",
              "    <tr>\n",
              "      <th>0</th>\n",
              "      <td>Acura</td>\n",
              "      <td>...</td>\n",
              "      <td>Acura Integra</td>\n",
              "    </tr>\n",
              "    <tr>\n",
              "      <th>1</th>\n",
              "      <td>NaN</td>\n",
              "      <td>...</td>\n",
              "      <td>Acura Legend</td>\n",
              "    </tr>\n",
              "    <tr>\n",
              "      <th>2</th>\n",
              "      <td>Audi</td>\n",
              "      <td>...</td>\n",
              "      <td>Audi 90</td>\n",
              "    </tr>\n",
              "    <tr>\n",
              "      <th>3</th>\n",
              "      <td>Audi</td>\n",
              "      <td>...</td>\n",
              "      <td>Audi 100</td>\n",
              "    </tr>\n",
              "    <tr>\n",
              "      <th>4</th>\n",
              "      <td>BMW</td>\n",
              "      <td>...</td>\n",
              "      <td>BMW 535i</td>\n",
              "    </tr>\n",
              "  </tbody>\n",
              "</table>\n",
              "<p>5 rows × 27 columns</p>\n",
              "</div>"
            ],
            "text/plain": [
              "  Manufacturer  ...           Make\n",
              "0        Acura  ...  Acura Integra\n",
              "1          NaN  ...   Acura Legend\n",
              "2         Audi  ...        Audi 90\n",
              "3         Audi  ...       Audi 100\n",
              "4          BMW  ...       BMW 535i\n",
              "\n",
              "[5 rows x 27 columns]"
            ]
          },
          "metadata": {
            "tags": []
          },
          "execution_count": 232
        }
      ]
    },
    {
      "cell_type": "markdown",
      "metadata": {
        "id": "5jH-cRcittXS"
      },
      "source": [
        "**32\\.** Как получить номер строки, в которой содержится максимальное значение в столбце? (★★☆)"
      ]
    },
    {
      "cell_type": "code",
      "metadata": {
        "collapsed": true,
        "id": "7mFvF_QUttXT",
        "colab": {
          "base_uri": "https://localhost:8080/"
        },
        "outputId": "3cee5a95-2a72-4433-b4a3-3711c24247ca"
      },
      "source": [
        "df = pd.DataFrame(np.random.randint(1, 30, 30).reshape(10,-1), columns=list('abc'))\n",
        "\n",
        "#your code\n",
        "df['b'].idxmax()"
      ],
      "execution_count": 233,
      "outputs": [
        {
          "output_type": "execute_result",
          "data": {
            "text/plain": [
              "8"
            ]
          },
          "metadata": {
            "tags": []
          },
          "execution_count": 233
        }
      ]
    },
    {
      "cell_type": "markdown",
      "metadata": {
        "id": "MUXI06wgttXT"
      },
      "source": [
        "**33\\.** Как получить последние n строк датафрейма с суммой строк 100?  (★★★)"
      ]
    },
    {
      "cell_type": "code",
      "metadata": {
        "collapsed": true,
        "id": "okbITj5UttXT",
        "colab": {
          "base_uri": "https://localhost:8080/",
          "height": 49
        },
        "outputId": "1e99d138-1d1c-43d0-f470-9f511575a9ca"
      },
      "source": [
        "df = pd.DataFrame(np.random.randint(1, 30, 30).reshape(10,-1), columns=list('abc'))\n",
        "# получить все строки сумма значений которых равна 100\n",
        "df = df.loc[df.sum(axis=1) == 100]\n",
        "# получить последние n строк датафрейма\n",
        "n = 3\n",
        "df.iloc[-n:]"
      ],
      "execution_count": 234,
      "outputs": [
        {
          "output_type": "execute_result",
          "data": {
            "text/html": [
              "<div>\n",
              "<style scoped>\n",
              "    .dataframe tbody tr th:only-of-type {\n",
              "        vertical-align: middle;\n",
              "    }\n",
              "\n",
              "    .dataframe tbody tr th {\n",
              "        vertical-align: top;\n",
              "    }\n",
              "\n",
              "    .dataframe thead th {\n",
              "        text-align: right;\n",
              "    }\n",
              "</style>\n",
              "<table border=\"1\" class=\"dataframe\">\n",
              "  <thead>\n",
              "    <tr style=\"text-align: right;\">\n",
              "      <th></th>\n",
              "      <th>a</th>\n",
              "      <th>b</th>\n",
              "      <th>c</th>\n",
              "    </tr>\n",
              "  </thead>\n",
              "  <tbody>\n",
              "  </tbody>\n",
              "</table>\n",
              "</div>"
            ],
            "text/plain": [
              "Empty DataFrame\n",
              "Columns: [a, b, c]\n",
              "Index: []"
            ]
          },
          "metadata": {
            "tags": []
          },
          "execution_count": 234
        }
      ]
    },
    {
      "cell_type": "markdown",
      "metadata": {
        "heading_collapsed": true,
        "id": "XrlvDWKIttXT"
      },
      "source": [
        "### Выбросы (оutliers)"
      ]
    },
    {
      "cell_type": "markdown",
      "metadata": {
        "hidden": true,
        "id": "ST62o-3kttXT"
      },
      "source": [
        "* 5 Ways to Detect Outliers/Anomalies That Every Data Scientist Should Know (Python Code)\n",
        "\n",
        "https://towardsdatascience.com/5-ways-to-detect-outliers-that-every-data-scientist-should-know-python-code-70a54335a623"
      ]
    },
    {
      "cell_type": "markdown",
      "metadata": {
        "hidden": true,
        "id": "sCqJaYvattXT"
      },
      "source": [
        "**34\\.** Как найти и заменить выбросы из столбца Series или датафрейма? (★★★)\n",
        "\n",
        "Замените все значения из столбца ниже 5того и больше 95го персентиля, на пограничные значения.\n",
        "\n",
        "(hint: .quantile())"
      ]
    },
    {
      "cell_type": "code",
      "metadata": {
        "collapsed": true,
        "hidden": true,
        "id": "mf8j5PuyttXT",
        "colab": {
          "base_uri": "https://localhost:8080/"
        },
        "outputId": "4fec3b88-e9b4-4961-ea68-b1794bde11c1"
      },
      "source": [
        "s = pd.Series(np.logspace(-2, 2, 30))\n",
        "\n",
        "#your code\n",
        "boundary_val_bottom = s.quantile(0.05)\n",
        "boundary_val_top = s.quantile(0.95)\n",
        "\n",
        "s = s.mask(s < boundary_val_bottom, boundary_val_bottom)\n",
        "s = s.mask(s > boundary_val_top, boundary_val_top)\n",
        "s.head()"
      ],
      "execution_count": 235,
      "outputs": [
        {
          "output_type": "execute_result",
          "data": {
            "text/plain": [
              "0    0.016049\n",
              "1    0.016049\n",
              "2    0.018874\n",
              "3    0.025929\n",
              "4    0.035622\n",
              "dtype: float64"
            ]
          },
          "metadata": {
            "tags": []
          },
          "execution_count": 235
        }
      ]
    },
    {
      "cell_type": "markdown",
      "metadata": {
        "hidden": true,
        "id": "ewHGCKnNttXU"
      },
      "source": [
        "**35\\.** Попробуйте реализовать метод Interquartile Range (IQR) (★★★)\n",
        "\n",
        "Почитать про него можно по ссылке выше."
      ]
    },
    {
      "cell_type": "code",
      "metadata": {
        "collapsed": true,
        "hidden": true,
        "id": "x3T_Cf6sttXU",
        "colab": {
          "base_uri": "https://localhost:8080/"
        },
        "outputId": "ef31ae63-8233-4a48-e749-c91ae60762b4"
      },
      "source": [
        "s = pd.Series(np.logspace(-2, 2, 30))\n",
        "\n",
        "#your code\n",
        "def interquartile_range(df):\n",
        "    Q1 = df.quantile(0.25)\n",
        "    Q3 = df.quantile(0.75)\n",
        "    IQR = Q3 - Q1\n",
        "    lower_whisker = Q1 - 1.5*IQR\n",
        "    upper_whisker = Q3 + 1.5*IQR\n",
        "    return df.loc[((df >= lower_whisker) & (df <= upper_whisker))]\n",
        "\n",
        "interquartile_range(s)"
      ],
      "execution_count": 236,
      "outputs": [
        {
          "output_type": "execute_result",
          "data": {
            "text/plain": [
              "0      0.010000\n",
              "1      0.013738\n",
              "        ...    \n",
              "23    14.873521\n",
              "24    20.433597\n",
              "Length: 25, dtype: float64"
            ]
          },
          "metadata": {
            "tags": []
          },
          "execution_count": 236
        }
      ]
    },
    {
      "cell_type": "markdown",
      "metadata": {
        "hidden": true,
        "id": "vyR4hBBkttXU"
      },
      "source": [
        "**36\\.** Как поменять местами две строки данных? (★★★)"
      ]
    },
    {
      "cell_type": "code",
      "metadata": {
        "collapsed": true,
        "hidden": true,
        "id": "3mRRyWm6ttXU",
        "colab": {
          "base_uri": "https://localhost:8080/"
        },
        "outputId": "d667c917-dc99-4c31-fcb8-9ae3d5ffdf62"
      },
      "source": [
        "df = pd.DataFrame(np.arange(25).reshape(5, -1))\n",
        "\n",
        "#your code\n",
        "def swap_rows(df, row_a, row_b):\n",
        "    a, b = df.iloc[row_a, :].copy(), df.iloc[row_b, :].copy()\n",
        "    df.iloc[row_a, :], df.iloc[row_b, :] = b, a\n",
        "    return df\n",
        "\n",
        "print(df.head()) # before\n",
        "print(swap_rows(df, 0, 1).head()) # after"
      ],
      "execution_count": 237,
      "outputs": [
        {
          "output_type": "stream",
          "text": [
            "    0  ...   4\n",
            "0   0  ...   4\n",
            "1   5  ...   9\n",
            "2  10  ...  14\n",
            "3  15  ...  19\n",
            "4  20  ...  24\n",
            "\n",
            "[5 rows x 5 columns]\n",
            "    0  ...   4\n",
            "0   5  ...   9\n",
            "1   0  ...   4\n",
            "2  10  ...  14\n",
            "3  15  ...  19\n",
            "4  20  ...  24\n",
            "\n",
            "[5 rows x 5 columns]\n"
          ],
          "name": "stdout"
        }
      ]
    },
    {
      "cell_type": "markdown",
      "metadata": {
        "heading_collapsed": true,
        "id": "y2AUfmvwttXU"
      },
      "source": [
        "### one-hot-encoding"
      ]
    },
    {
      "cell_type": "markdown",
      "metadata": {
        "hidden": true,
        "id": "wpa2T4Q8ttXV"
      },
      "source": [
        "**37\\.** Как создать однозначные кодировки категориальной переменной? (★★★)\n",
        "\n",
        "Сделайте one-hot кодировку столбца 'a'."
      ]
    },
    {
      "cell_type": "code",
      "metadata": {
        "collapsed": true,
        "hidden": true,
        "id": "IGZBmZqxttXV",
        "colab": {
          "base_uri": "https://localhost:8080/",
          "height": 236
        },
        "outputId": "3f5691b9-b688-4dd0-a39c-c2a9f35edead"
      },
      "source": [
        "df = pd.DataFrame([['aa', 'kek'], ['ba', 'lol'], ['ab', 'kek'], ['aa', 'lol'], ['cc', 'kek']], columns=['a', 'b'])\n",
        "\n",
        "#your code\n",
        "pd.get_dummies(df['a'])"
      ],
      "execution_count": 238,
      "outputs": [
        {
          "output_type": "execute_result",
          "data": {
            "text/html": [
              "<div>\n",
              "<style scoped>\n",
              "    .dataframe tbody tr th:only-of-type {\n",
              "        vertical-align: middle;\n",
              "    }\n",
              "\n",
              "    .dataframe tbody tr th {\n",
              "        vertical-align: top;\n",
              "    }\n",
              "\n",
              "    .dataframe thead th {\n",
              "        text-align: right;\n",
              "    }\n",
              "</style>\n",
              "<table border=\"1\" class=\"dataframe\">\n",
              "  <thead>\n",
              "    <tr style=\"text-align: right;\">\n",
              "      <th></th>\n",
              "      <th>aa</th>\n",
              "      <th>...</th>\n",
              "      <th>cc</th>\n",
              "    </tr>\n",
              "  </thead>\n",
              "  <tbody>\n",
              "    <tr>\n",
              "      <th>0</th>\n",
              "      <td>1</td>\n",
              "      <td>...</td>\n",
              "      <td>0</td>\n",
              "    </tr>\n",
              "    <tr>\n",
              "      <th>1</th>\n",
              "      <td>0</td>\n",
              "      <td>...</td>\n",
              "      <td>0</td>\n",
              "    </tr>\n",
              "    <tr>\n",
              "      <th>2</th>\n",
              "      <td>0</td>\n",
              "      <td>...</td>\n",
              "      <td>0</td>\n",
              "    </tr>\n",
              "    <tr>\n",
              "      <th>3</th>\n",
              "      <td>1</td>\n",
              "      <td>...</td>\n",
              "      <td>0</td>\n",
              "    </tr>\n",
              "    <tr>\n",
              "      <th>4</th>\n",
              "      <td>0</td>\n",
              "      <td>...</td>\n",
              "      <td>1</td>\n",
              "    </tr>\n",
              "  </tbody>\n",
              "</table>\n",
              "<p>5 rows × 4 columns</p>\n",
              "</div>"
            ],
            "text/plain": [
              "   aa  ...  cc\n",
              "0   1  ...   0\n",
              "1   0  ...   0\n",
              "2   0  ...   0\n",
              "3   1  ...   0\n",
              "4   0  ...   1\n",
              "\n",
              "[5 rows x 4 columns]"
            ]
          },
          "metadata": {
            "tags": []
          },
          "execution_count": 238
        }
      ]
    },
    {
      "cell_type": "markdown",
      "metadata": {
        "hidden": true,
        "id": "cR8oEAezttXV"
      },
      "source": [
        "**38\\.** Нормализуйте все столбцы в датафрейме. (★★★)\n",
        "\n",
        "a) Нормализовать все столбцы df путем вычитания среднего значения столбца и деления на стандартное отклонение. \n",
        "\n",
        "b) Трансформируйте все столбцы df так, чтобы минимальное значение в каждом столбце было 0, а max = 1."
      ]
    },
    {
      "cell_type": "code",
      "metadata": {
        "collapsed": true,
        "hidden": true,
        "id": "ui1XhufyttXV"
      },
      "source": [
        "df = pd.DataFrame(np.random.randint(1,100, 80).reshape(8, -1))\n",
        "\n",
        "#your code\n",
        "df_norm_a = (df-df.mean()) / df.std()\n",
        "df_norm_b = (df - df.mean()) / (df.max() - df.min())"
      ],
      "execution_count": 239,
      "outputs": []
    },
    {
      "cell_type": "markdown",
      "metadata": {
        "hidden": true,
        "id": "cRapvdwMttXV"
      },
      "source": [
        "**39\\.** Как получить конкретную группу из датафрейма сгруппированного по ключу? (★★★)\n",
        "\n",
        "Сгруппируйте по 'name', и выведите данные по группе 'orange'.\n",
        "\n",
        "(hint: groupby(), get_group())"
      ]
    },
    {
      "cell_type": "code",
      "metadata": {
        "collapsed": true,
        "hidden": true,
        "id": "eFoZqPrittXW",
        "colab": {
          "base_uri": "https://localhost:8080/",
          "height": 143
        },
        "outputId": "2ff41df3-6052-4e57-bcf5-6c33a48a4568"
      },
      "source": [
        "df = pd.DataFrame({'name': ['apple', 'banana', 'orange'] * 3,\n",
        "                   'taste': np.random.rand(9),\n",
        "                   'price': np.random.randint(0, 15, 9)})\n",
        "\n",
        "#your code\n",
        "df.groupby(['name']).get_group('orange')"
      ],
      "execution_count": 240,
      "outputs": [
        {
          "output_type": "execute_result",
          "data": {
            "text/html": [
              "<div>\n",
              "<style scoped>\n",
              "    .dataframe tbody tr th:only-of-type {\n",
              "        vertical-align: middle;\n",
              "    }\n",
              "\n",
              "    .dataframe tbody tr th {\n",
              "        vertical-align: top;\n",
              "    }\n",
              "\n",
              "    .dataframe thead th {\n",
              "        text-align: right;\n",
              "    }\n",
              "</style>\n",
              "<table border=\"1\" class=\"dataframe\">\n",
              "  <thead>\n",
              "    <tr style=\"text-align: right;\">\n",
              "      <th></th>\n",
              "      <th>name</th>\n",
              "      <th>taste</th>\n",
              "      <th>price</th>\n",
              "    </tr>\n",
              "  </thead>\n",
              "  <tbody>\n",
              "    <tr>\n",
              "      <th>2</th>\n",
              "      <td>orange</td>\n",
              "      <td>0.170480</td>\n",
              "      <td>11</td>\n",
              "    </tr>\n",
              "    <tr>\n",
              "      <th>5</th>\n",
              "      <td>orange</td>\n",
              "      <td>0.938342</td>\n",
              "      <td>1</td>\n",
              "    </tr>\n",
              "    <tr>\n",
              "      <th>8</th>\n",
              "      <td>orange</td>\n",
              "      <td>0.044928</td>\n",
              "      <td>8</td>\n",
              "    </tr>\n",
              "  </tbody>\n",
              "</table>\n",
              "</div>"
            ],
            "text/plain": [
              "     name     taste  price\n",
              "2  orange  0.170480     11\n",
              "5  orange  0.938342      1\n",
              "8  orange  0.044928      8"
            ]
          },
          "metadata": {
            "tags": []
          },
          "execution_count": 240
        }
      ]
    },
    {
      "cell_type": "markdown",
      "metadata": {
        "hidden": true,
        "id": "aNnfnfOPttXW"
      },
      "source": [
        "**40\\.** Как вычислить среднее значение по столбцу 'price' по каждому фрукту в датафрейме и сохранить сгруппированный столбец как другой столбец (не индекс)? (★★★)"
      ]
    },
    {
      "cell_type": "code",
      "metadata": {
        "collapsed": true,
        "hidden": true,
        "id": "mPkOvM7sttXW",
        "colab": {
          "base_uri": "https://localhost:8080/",
          "height": 175
        },
        "outputId": "5febbcbd-0d34-45b8-f45f-25aa723d95ac"
      },
      "source": [
        "df = pd.DataFrame({'name': ['apple', 'banana', 'orange'] * 3,\n",
        "                   'taste': np.random.rand(9),\n",
        "                   'price': np.random.randint(0, 15, 9)})\n",
        "\n",
        "#your code\n",
        "df_mean = df.groupby(['name']).mean()\n",
        "df_mean"
      ],
      "execution_count": 241,
      "outputs": [
        {
          "output_type": "execute_result",
          "data": {
            "text/html": [
              "<div>\n",
              "<style scoped>\n",
              "    .dataframe tbody tr th:only-of-type {\n",
              "        vertical-align: middle;\n",
              "    }\n",
              "\n",
              "    .dataframe tbody tr th {\n",
              "        vertical-align: top;\n",
              "    }\n",
              "\n",
              "    .dataframe thead th {\n",
              "        text-align: right;\n",
              "    }\n",
              "</style>\n",
              "<table border=\"1\" class=\"dataframe\">\n",
              "  <thead>\n",
              "    <tr style=\"text-align: right;\">\n",
              "      <th></th>\n",
              "      <th>taste</th>\n",
              "      <th>price</th>\n",
              "    </tr>\n",
              "    <tr>\n",
              "      <th>name</th>\n",
              "      <th></th>\n",
              "      <th></th>\n",
              "    </tr>\n",
              "  </thead>\n",
              "  <tbody>\n",
              "    <tr>\n",
              "      <th>apple</th>\n",
              "      <td>0.540751</td>\n",
              "      <td>8.666667</td>\n",
              "    </tr>\n",
              "    <tr>\n",
              "      <th>banana</th>\n",
              "      <td>0.616823</td>\n",
              "      <td>10.000000</td>\n",
              "    </tr>\n",
              "    <tr>\n",
              "      <th>orange</th>\n",
              "      <td>0.705729</td>\n",
              "      <td>5.000000</td>\n",
              "    </tr>\n",
              "  </tbody>\n",
              "</table>\n",
              "</div>"
            ],
            "text/plain": [
              "           taste      price\n",
              "name                       \n",
              "apple   0.540751   8.666667\n",
              "banana  0.616823  10.000000\n",
              "orange  0.705729   5.000000"
            ]
          },
          "metadata": {
            "tags": []
          },
          "execution_count": 241
        }
      ]
    },
    {
      "cell_type": "markdown",
      "metadata": {
        "hidden": true,
        "id": "q2zzUxUYttXW"
      },
      "source": [
        "**41\\.** Как объединить два датафрейма по двум столбцам, чтобы в них остались только общие строки?  (★★★)\n",
        "\n",
        "Сделать merge двух датафреймов по колонкам ['fruit', 'weight'] и ['pazham', 'kilo'].\n",
        "\n",
        "(hint: pd.merge https://pandas.pydata.org/pandas-docs/stable/getting_started/10min.html#merge )"
      ]
    },
    {
      "cell_type": "code",
      "metadata": {
        "collapsed": true,
        "hidden": true,
        "id": "0WGbiSuMttXZ",
        "colab": {
          "base_uri": "https://localhost:8080/",
          "height": 236
        },
        "outputId": "a0ad43db-96b8-425a-f186-6d9e210c302a"
      },
      "source": [
        "df1 = pd.DataFrame({'fruit': ['apple', 'banana', 'orange'] * 3,\n",
        "                    'weight': ['high', 'medium', 'low'] * 3,\n",
        "                    'price': np.random.randint(0, 15, 9)})\n",
        "\n",
        "df2 = pd.DataFrame({'pazham': ['apple', 'orange', 'pine'] * 2,\n",
        "                    'kilo': ['high', 'low'] * 3,\n",
        "                    'price': np.random.randint(0, 15, 6)})\n",
        "\n",
        "#your code\n",
        "df1.merge(df2, how = 'inner', left_on=['fruit', 'weight'], right_on=['pazham', 'kilo'])"
      ],
      "execution_count": 242,
      "outputs": [
        {
          "output_type": "execute_result",
          "data": {
            "text/html": [
              "<div>\n",
              "<style scoped>\n",
              "    .dataframe tbody tr th:only-of-type {\n",
              "        vertical-align: middle;\n",
              "    }\n",
              "\n",
              "    .dataframe tbody tr th {\n",
              "        vertical-align: top;\n",
              "    }\n",
              "\n",
              "    .dataframe thead th {\n",
              "        text-align: right;\n",
              "    }\n",
              "</style>\n",
              "<table border=\"1\" class=\"dataframe\">\n",
              "  <thead>\n",
              "    <tr style=\"text-align: right;\">\n",
              "      <th></th>\n",
              "      <th>fruit</th>\n",
              "      <th>...</th>\n",
              "      <th>price_y</th>\n",
              "    </tr>\n",
              "  </thead>\n",
              "  <tbody>\n",
              "    <tr>\n",
              "      <th>0</th>\n",
              "      <td>apple</td>\n",
              "      <td>...</td>\n",
              "      <td>13</td>\n",
              "    </tr>\n",
              "    <tr>\n",
              "      <th>1</th>\n",
              "      <td>apple</td>\n",
              "      <td>...</td>\n",
              "      <td>13</td>\n",
              "    </tr>\n",
              "    <tr>\n",
              "      <th>...</th>\n",
              "      <td>...</td>\n",
              "      <td>...</td>\n",
              "      <td>...</td>\n",
              "    </tr>\n",
              "    <tr>\n",
              "      <th>4</th>\n",
              "      <td>orange</td>\n",
              "      <td>...</td>\n",
              "      <td>5</td>\n",
              "    </tr>\n",
              "    <tr>\n",
              "      <th>5</th>\n",
              "      <td>orange</td>\n",
              "      <td>...</td>\n",
              "      <td>5</td>\n",
              "    </tr>\n",
              "  </tbody>\n",
              "</table>\n",
              "<p>6 rows × 6 columns</p>\n",
              "</div>"
            ],
            "text/plain": [
              "     fruit  ... price_y\n",
              "0    apple  ...      13\n",
              "1    apple  ...      13\n",
              "..     ...  ...     ...\n",
              "4   orange  ...       5\n",
              "5   orange  ...       5\n",
              "\n",
              "[6 rows x 6 columns]"
            ]
          },
          "metadata": {
            "tags": []
          },
          "execution_count": 242
        }
      ]
    },
    {
      "cell_type": "markdown",
      "metadata": {
        "hidden": true,
        "id": "2fDe_qgYttXZ"
      },
      "source": [
        "**42\\.** Как удалить строки из датафрейма А, которые присутствуют в датафрейме B? (★★★)\n"
      ]
    },
    {
      "cell_type": "code",
      "metadata": {
        "collapsed": true,
        "hidden": true,
        "id": "5TOBAOcjttXZ",
        "colab": {
          "base_uri": "https://localhost:8080/",
          "height": 236
        },
        "outputId": "dac612b0-bf81-4677-a990-e0ef212a2af5"
      },
      "source": [
        "df1 = pd.DataFrame({'fruit': ['apple', 'orange', 'banana'] * 3,\n",
        "                    'weight': ['high', 'medium', 'low'] * 3,\n",
        "                    'price': np.arange(9)})\n",
        "\n",
        "df2 = pd.DataFrame({'fruit': ['apple', 'orange', 'pine'] * 2,\n",
        "                    'weight': ['high', 'medium'] * 3,\n",
        "                    'price': np.arange(6)})\n",
        "\n",
        "#your code\n",
        "df = pd.merge(df1, df2, how=\"outer\", indicator=True).query('_merge==\"left_only\"')\n",
        "df.reset_index(drop=True).drop('_merge', 1)"
      ],
      "execution_count": 243,
      "outputs": [
        {
          "output_type": "execute_result",
          "data": {
            "text/html": [
              "<div>\n",
              "<style scoped>\n",
              "    .dataframe tbody tr th:only-of-type {\n",
              "        vertical-align: middle;\n",
              "    }\n",
              "\n",
              "    .dataframe tbody tr th {\n",
              "        vertical-align: top;\n",
              "    }\n",
              "\n",
              "    .dataframe thead th {\n",
              "        text-align: right;\n",
              "    }\n",
              "</style>\n",
              "<table border=\"1\" class=\"dataframe\">\n",
              "  <thead>\n",
              "    <tr style=\"text-align: right;\">\n",
              "      <th></th>\n",
              "      <th>fruit</th>\n",
              "      <th>weight</th>\n",
              "      <th>price</th>\n",
              "    </tr>\n",
              "  </thead>\n",
              "  <tbody>\n",
              "    <tr>\n",
              "      <th>0</th>\n",
              "      <td>banana</td>\n",
              "      <td>low</td>\n",
              "      <td>2</td>\n",
              "    </tr>\n",
              "    <tr>\n",
              "      <th>1</th>\n",
              "      <td>apple</td>\n",
              "      <td>high</td>\n",
              "      <td>3</td>\n",
              "    </tr>\n",
              "    <tr>\n",
              "      <th>...</th>\n",
              "      <td>...</td>\n",
              "      <td>...</td>\n",
              "      <td>...</td>\n",
              "    </tr>\n",
              "    <tr>\n",
              "      <th>5</th>\n",
              "      <td>orange</td>\n",
              "      <td>medium</td>\n",
              "      <td>7</td>\n",
              "    </tr>\n",
              "    <tr>\n",
              "      <th>6</th>\n",
              "      <td>banana</td>\n",
              "      <td>low</td>\n",
              "      <td>8</td>\n",
              "    </tr>\n",
              "  </tbody>\n",
              "</table>\n",
              "<p>7 rows × 3 columns</p>\n",
              "</div>"
            ],
            "text/plain": [
              "     fruit  weight  price\n",
              "0   banana     low      2\n",
              "1    apple    high      3\n",
              "..     ...     ...    ...\n",
              "5   orange  medium      7\n",
              "6   banana     low      8\n",
              "\n",
              "[7 rows x 3 columns]"
            ]
          },
          "metadata": {
            "tags": []
          },
          "execution_count": 243
        }
      ]
    },
    {
      "cell_type": "markdown",
      "metadata": {
        "hidden": true,
        "id": "1WgWpnlEttXZ"
      },
      "source": [
        "**43\\.** Как получить номера строк, в которых совпадают значения двух столбцов? (★★★)\n",
        "\n",
        "(hint: np.where)"
      ]
    },
    {
      "cell_type": "code",
      "metadata": {
        "collapsed": true,
        "hidden": true,
        "id": "z7lS-hMPttXa",
        "colab": {
          "base_uri": "https://localhost:8080/"
        },
        "outputId": "02879808-bf75-4ed1-ea36-fd695a9782ed"
      },
      "source": [
        "df = pd.DataFrame({'fruit1': np.random.choice(['apple', 'orange', 'banana'], 10),\n",
        "                    'fruit2': np.random.choice(['apple', 'orange', 'banana'], 10)})\n",
        "\n",
        "\n",
        "#your code\n",
        "df_out = df.loc[df['fruit1'] == df['fruit2']]\n",
        "list(df_out.index)"
      ],
      "execution_count": 244,
      "outputs": [
        {
          "output_type": "execute_result",
          "data": {
            "text/plain": [
              "[1, 2, 3]"
            ]
          },
          "metadata": {
            "tags": []
          },
          "execution_count": 244
        }
      ]
    },
    {
      "cell_type": "markdown",
      "metadata": {
        "hidden": true,
        "id": "4UKch6B_ttXa"
      },
      "source": [
        "**44\\.** Создайте столбец a_shift со сдвигом на одну строку назад. (★★★)\n",
        "\n",
        "(hint: .shift())"
      ]
    },
    {
      "cell_type": "code",
      "metadata": {
        "collapsed": true,
        "hidden": true,
        "id": "TUnd9r1dttXa",
        "colab": {
          "base_uri": "https://localhost:8080/",
          "height": 236
        },
        "outputId": "433c7eb8-0e41-4f2c-ff40-17e42ee118b4"
      },
      "source": [
        "df = pd.DataFrame(np.random.randint(1, 100, 20).reshape(-1, 4), columns = list('abcd'))\n",
        "\n",
        "#your code\n",
        "df['a_shift'] = df['a'].shift(-1, axis = 0) \n",
        "df"
      ],
      "execution_count": 245,
      "outputs": [
        {
          "output_type": "execute_result",
          "data": {
            "text/html": [
              "<div>\n",
              "<style scoped>\n",
              "    .dataframe tbody tr th:only-of-type {\n",
              "        vertical-align: middle;\n",
              "    }\n",
              "\n",
              "    .dataframe tbody tr th {\n",
              "        vertical-align: top;\n",
              "    }\n",
              "\n",
              "    .dataframe thead th {\n",
              "        text-align: right;\n",
              "    }\n",
              "</style>\n",
              "<table border=\"1\" class=\"dataframe\">\n",
              "  <thead>\n",
              "    <tr style=\"text-align: right;\">\n",
              "      <th></th>\n",
              "      <th>a</th>\n",
              "      <th>...</th>\n",
              "      <th>a_shift</th>\n",
              "    </tr>\n",
              "  </thead>\n",
              "  <tbody>\n",
              "    <tr>\n",
              "      <th>0</th>\n",
              "      <td>84</td>\n",
              "      <td>...</td>\n",
              "      <td>59.0</td>\n",
              "    </tr>\n",
              "    <tr>\n",
              "      <th>1</th>\n",
              "      <td>59</td>\n",
              "      <td>...</td>\n",
              "      <td>13.0</td>\n",
              "    </tr>\n",
              "    <tr>\n",
              "      <th>2</th>\n",
              "      <td>13</td>\n",
              "      <td>...</td>\n",
              "      <td>46.0</td>\n",
              "    </tr>\n",
              "    <tr>\n",
              "      <th>3</th>\n",
              "      <td>46</td>\n",
              "      <td>...</td>\n",
              "      <td>56.0</td>\n",
              "    </tr>\n",
              "    <tr>\n",
              "      <th>4</th>\n",
              "      <td>56</td>\n",
              "      <td>...</td>\n",
              "      <td>NaN</td>\n",
              "    </tr>\n",
              "  </tbody>\n",
              "</table>\n",
              "<p>5 rows × 5 columns</p>\n",
              "</div>"
            ],
            "text/plain": [
              "    a  ...  a_shift\n",
              "0  84  ...     59.0\n",
              "1  59  ...     13.0\n",
              "2  13  ...     46.0\n",
              "3  46  ...     56.0\n",
              "4  56  ...      NaN\n",
              "\n",
              "[5 rows x 5 columns]"
            ]
          },
          "metadata": {
            "tags": []
          },
          "execution_count": 245
        }
      ]
    },
    {
      "cell_type": "markdown",
      "metadata": {
        "hidden": true,
        "id": "ubBuAWs2ttXa"
      },
      "source": [
        "**45\\.** Как разбить текстовый столбец на три отдельных столбца? (★★★)\n",
        "\n",
        "Разбить на три столбцы STD, City, State"
      ]
    },
    {
      "cell_type": "code",
      "metadata": {
        "collapsed": true,
        "hidden": true,
        "id": "87s9lDrbttXb",
        "colab": {
          "base_uri": "https://localhost:8080/",
          "height": 175
        },
        "outputId": "e15ab0d6-c34d-4ff7-aacc-2eb0f0e8bfb3"
      },
      "source": [
        "df = pd.DataFrame([\"STD, City    State\",\n",
        "\"33, Kolkata    West Bengal\",\n",
        "\"44, Chennai    Tamil Nadu\",\n",
        "\"40, Hyderabad    Telengana\",\n",
        "\"80, Bangalore    Karnataka\"], columns=['row'])\n",
        "\n",
        "#your code\n",
        "# Приведем данные к общему виду\n",
        "df.replace(r'\\s{2,}|, ',';', regex=True, inplace = True)\n",
        "new_data = df['row'].str.split(';').to_list()\n",
        "# Создадим новый dataFrame на основе полученных данных\n",
        "df_new = pd.DataFrame(new_data)\n",
        "# Первая строка должна быть шапкой\n",
        "df_new.columns = df_new.iloc[0]\n",
        "df_new.drop(0)"
      ],
      "execution_count": 246,
      "outputs": [
        {
          "output_type": "execute_result",
          "data": {
            "text/html": [
              "<div>\n",
              "<style scoped>\n",
              "    .dataframe tbody tr th:only-of-type {\n",
              "        vertical-align: middle;\n",
              "    }\n",
              "\n",
              "    .dataframe tbody tr th {\n",
              "        vertical-align: top;\n",
              "    }\n",
              "\n",
              "    .dataframe thead th {\n",
              "        text-align: right;\n",
              "    }\n",
              "</style>\n",
              "<table border=\"1\" class=\"dataframe\">\n",
              "  <thead>\n",
              "    <tr style=\"text-align: right;\">\n",
              "      <th></th>\n",
              "      <th>STD</th>\n",
              "      <th>City</th>\n",
              "      <th>State</th>\n",
              "    </tr>\n",
              "  </thead>\n",
              "  <tbody>\n",
              "    <tr>\n",
              "      <th>1</th>\n",
              "      <td>33</td>\n",
              "      <td>Kolkata</td>\n",
              "      <td>West Bengal</td>\n",
              "    </tr>\n",
              "    <tr>\n",
              "      <th>2</th>\n",
              "      <td>44</td>\n",
              "      <td>Chennai</td>\n",
              "      <td>Tamil Nadu</td>\n",
              "    </tr>\n",
              "    <tr>\n",
              "      <th>3</th>\n",
              "      <td>40</td>\n",
              "      <td>Hyderabad</td>\n",
              "      <td>Telengana</td>\n",
              "    </tr>\n",
              "    <tr>\n",
              "      <th>4</th>\n",
              "      <td>80</td>\n",
              "      <td>Bangalore</td>\n",
              "      <td>Karnataka</td>\n",
              "    </tr>\n",
              "  </tbody>\n",
              "</table>\n",
              "</div>"
            ],
            "text/plain": [
              "0 STD       City        State\n",
              "1  33    Kolkata  West Bengal\n",
              "2  44    Chennai   Tamil Nadu\n",
              "3  40  Hyderabad    Telengana\n",
              "4  80  Bangalore    Karnataka"
            ]
          },
          "metadata": {
            "tags": []
          },
          "execution_count": 246
        }
      ]
    },
    {
      "cell_type": "markdown",
      "metadata": {
        "heading_collapsed": true,
        "id": "XIuTdAKyttXb"
      },
      "source": [
        "### **46\\.** Ну а теперь все вместе.  (★★★★★★★★★★)"
      ]
    },
    {
      "cell_type": "markdown",
      "metadata": {
        "hidden": true,
        "id": "LQZAr1nDttXb"
      },
      "source": [
        "* Заменяем все точки в названии на '_'\n",
        "* Выделить категориальные признаки\n",
        "* Посчитать кол-во уникальных значений во всех текстовых\\категориальных столбцах. \n",
        "* Колонки с только уникальными значениями удаляем (например Model и Make)\n",
        "* Для столбцов у которых значений более 10, оставляем топ 10 значений, остальные заменяем на 'other'\n",
        "* Числовые столбцы проверяем на пропуски. Подсчитываем кол-во nan\\none и делим на размер датафрейма -сохраняем в отдельный датафрейм, это доля пропусков в каждом столбце\n",
        "* Чистим выбросы. Во всех числовых столбцах заменяем все значения столбца меньше 5го персентиля и больше 95ого персентиля на эти пограничные значения.\n",
        "* Заполняем пропуски в числовых столбцах на среднее по столбцу, в текстовых столбцах на 'other'\n",
        "* Все категориальные признаки превращаем в one-hot-encoding\n",
        "* Создать новый столбец Length_Width = Length * Width\n",
        "* Столбцы MPG_cityми MPG_highway из MPG перевести в единицы LPG (литры \\100 км) = (100 * 3,785)  / (MPG * 1,609)\n",
        "* Посчитать среднюю цену по каждому типу машины у каждого производителя\n",
        "* Посчитать максимальные Length и Width по Type\n",
        "* Посчитать кол-во моделей машин по типу машины и наличию подушки безопасности (агрегирование по столбцам Type и AirBags)\n",
        "* Посчитать кол-во машин по каждому типу машины у каждого производителя(агрегирование по столбцам Type и Manufacturer)\n",
        "* Посчитать кол-во машин по Manufacturer-Man_trans_avail\n",
        "* Вывести у какой модели, какого изготовителя максимальная вместимость по пассажирам"
      ]
    },
    {
      "cell_type": "code",
      "metadata": {
        "collapsed": true,
        "hidden": true,
        "id": "tHqB40nsttXc",
        "colab": {
          "base_uri": "https://localhost:8080/",
          "height": 236
        },
        "outputId": "12c988f5-df44-4eb3-a833-97af3587b5e0"
      },
      "source": [
        "df = pd.read_csv('https://raw.githubusercontent.com/selva86/datasets/master/Cars93_miss.csv')\n",
        "\n",
        "#your code\n",
        "df.columns = df.columns.str.replace('.', '_')\n",
        "df.head()"
      ],
      "execution_count": 247,
      "outputs": [
        {
          "output_type": "execute_result",
          "data": {
            "text/html": [
              "<div>\n",
              "<style scoped>\n",
              "    .dataframe tbody tr th:only-of-type {\n",
              "        vertical-align: middle;\n",
              "    }\n",
              "\n",
              "    .dataframe tbody tr th {\n",
              "        vertical-align: top;\n",
              "    }\n",
              "\n",
              "    .dataframe thead th {\n",
              "        text-align: right;\n",
              "    }\n",
              "</style>\n",
              "<table border=\"1\" class=\"dataframe\">\n",
              "  <thead>\n",
              "    <tr style=\"text-align: right;\">\n",
              "      <th></th>\n",
              "      <th>Manufacturer</th>\n",
              "      <th>...</th>\n",
              "      <th>Make</th>\n",
              "    </tr>\n",
              "  </thead>\n",
              "  <tbody>\n",
              "    <tr>\n",
              "      <th>0</th>\n",
              "      <td>Acura</td>\n",
              "      <td>...</td>\n",
              "      <td>Acura Integra</td>\n",
              "    </tr>\n",
              "    <tr>\n",
              "      <th>1</th>\n",
              "      <td>NaN</td>\n",
              "      <td>...</td>\n",
              "      <td>Acura Legend</td>\n",
              "    </tr>\n",
              "    <tr>\n",
              "      <th>2</th>\n",
              "      <td>Audi</td>\n",
              "      <td>...</td>\n",
              "      <td>Audi 90</td>\n",
              "    </tr>\n",
              "    <tr>\n",
              "      <th>3</th>\n",
              "      <td>Audi</td>\n",
              "      <td>...</td>\n",
              "      <td>Audi 100</td>\n",
              "    </tr>\n",
              "    <tr>\n",
              "      <th>4</th>\n",
              "      <td>BMW</td>\n",
              "      <td>...</td>\n",
              "      <td>BMW 535i</td>\n",
              "    </tr>\n",
              "  </tbody>\n",
              "</table>\n",
              "<p>5 rows × 27 columns</p>\n",
              "</div>"
            ],
            "text/plain": [
              "  Manufacturer  ...           Make\n",
              "0        Acura  ...  Acura Integra\n",
              "1          NaN  ...   Acura Legend\n",
              "2         Audi  ...        Audi 90\n",
              "3         Audi  ...       Audi 100\n",
              "4          BMW  ...       BMW 535i\n",
              "\n",
              "[5 rows x 27 columns]"
            ]
          },
          "metadata": {
            "tags": []
          },
          "execution_count": 247
        }
      ]
    },
    {
      "cell_type": "markdown",
      "metadata": {
        "hidden": true,
        "id": "M7MNxATXttXd"
      },
      "source": [
        "**47\\.** Перевести индексы первого и третьего уровня в колонки"
      ]
    },
    {
      "cell_type": "code",
      "metadata": {
        "hidden": true,
        "id": "wOkGOR7tttXe",
        "colab": {
          "base_uri": "https://localhost:8080/",
          "height": 236
        },
        "outputId": "336d56a4-40e5-4acb-ece6-d5b4f4c909ad"
      },
      "source": [
        "df = pd.DataFrame({\n",
        "    'school_code': ['s001','s002','s003','s001','s002','s004'],\n",
        "    'class': ['V', 'V', 'VI', 'VI', 'V', 'VI'],\n",
        "    'name': ['Alberto Franco','Gino Mcneill','Ryan Parkes', 'Eesha Hinton', 'Gino Mcneill', 'David Parkes'],\n",
        "    'date_of_birth': ['15/05/2002','17/05/2002','16/02/1999','25/09/1998','11/05/2002','15/09/1997'],\n",
        "    'weight': [35, 32, 33, 30, 31, 32],\n",
        "    't_id': ['t1', 't2', 't3', 't4', 't5', 't6']})\n",
        "df1 = df.set_index(['t_id', 'school_code', 'class'])\n",
        "df1.reset_index()"
      ],
      "execution_count": 248,
      "outputs": [
        {
          "output_type": "execute_result",
          "data": {
            "text/html": [
              "<div>\n",
              "<style scoped>\n",
              "    .dataframe tbody tr th:only-of-type {\n",
              "        vertical-align: middle;\n",
              "    }\n",
              "\n",
              "    .dataframe tbody tr th {\n",
              "        vertical-align: top;\n",
              "    }\n",
              "\n",
              "    .dataframe thead th {\n",
              "        text-align: right;\n",
              "    }\n",
              "</style>\n",
              "<table border=\"1\" class=\"dataframe\">\n",
              "  <thead>\n",
              "    <tr style=\"text-align: right;\">\n",
              "      <th></th>\n",
              "      <th>t_id</th>\n",
              "      <th>...</th>\n",
              "      <th>weight</th>\n",
              "    </tr>\n",
              "  </thead>\n",
              "  <tbody>\n",
              "    <tr>\n",
              "      <th>0</th>\n",
              "      <td>t1</td>\n",
              "      <td>...</td>\n",
              "      <td>35</td>\n",
              "    </tr>\n",
              "    <tr>\n",
              "      <th>1</th>\n",
              "      <td>t2</td>\n",
              "      <td>...</td>\n",
              "      <td>32</td>\n",
              "    </tr>\n",
              "    <tr>\n",
              "      <th>...</th>\n",
              "      <td>...</td>\n",
              "      <td>...</td>\n",
              "      <td>...</td>\n",
              "    </tr>\n",
              "    <tr>\n",
              "      <th>4</th>\n",
              "      <td>t5</td>\n",
              "      <td>...</td>\n",
              "      <td>31</td>\n",
              "    </tr>\n",
              "    <tr>\n",
              "      <th>5</th>\n",
              "      <td>t6</td>\n",
              "      <td>...</td>\n",
              "      <td>32</td>\n",
              "    </tr>\n",
              "  </tbody>\n",
              "</table>\n",
              "<p>6 rows × 6 columns</p>\n",
              "</div>"
            ],
            "text/plain": [
              "   t_id  ... weight\n",
              "0    t1  ...     35\n",
              "1    t2  ...     32\n",
              "..  ...  ...    ...\n",
              "4    t5  ...     31\n",
              "5    t6  ...     32\n",
              "\n",
              "[6 rows x 6 columns]"
            ]
          },
          "metadata": {
            "tags": []
          },
          "execution_count": 248
        }
      ]
    },
    {
      "cell_type": "markdown",
      "metadata": {
        "hidden": true,
        "id": "X1Y4LRpEttXe"
      },
      "source": [
        "**48\\.** Вывести строку из Series и DataFrame по заданному индексу"
      ]
    },
    {
      "cell_type": "code",
      "metadata": {
        "collapsed": true,
        "hidden": true,
        "id": "JfX9n37sttXe",
        "colab": {
          "base_uri": "https://localhost:8080/"
        },
        "outputId": "8f4832b2-dd60-4783-bbb9-edd2d579cdf5"
      },
      "source": [
        "ds = pd.Series([1,3,5,7,9,11,13,15], index=[0,1,2,3,4,5,7,8])\n",
        "df = pd.DataFrame({\n",
        "    'school_code': ['s001','s002','s003','s001','s002','s004'],\n",
        "    'class': ['V', 'V', 'VI', 'VI', 'V', 'VI'],\n",
        "    'name': ['Alberto Franco','Gino Mcneill','Ryan Parkes', 'Eesha Hinton', 'Gino Mcneill', 'David Parkes'],\n",
        "    'date_of_birth': ['15/05/2002','17/05/2002','16/02/1999','25/09/1998','11/05/2002','15/09/1997'],\n",
        "    'weight': [35, 32, 33, 30, 31, 32]})\n",
        "\n",
        "indx = 4\n",
        "ds.iloc[indx]\n",
        "df.iloc[indx]"
      ],
      "execution_count": 249,
      "outputs": [
        {
          "output_type": "execute_result",
          "data": {
            "text/plain": [
              "school_code              s002\n",
              "class                       V\n",
              "name             Gino Mcneill\n",
              "date_of_birth      11/05/2002\n",
              "weight                     31\n",
              "Name: 4, dtype: object"
            ]
          },
          "metadata": {
            "tags": []
          },
          "execution_count": 249
        }
      ]
    },
    {
      "cell_type": "markdown",
      "metadata": {
        "hidden": true,
        "id": "KcAH3E5JttXf"
      },
      "source": [
        "**49\\.** Найти индексы строк с пропущенными данными"
      ]
    },
    {
      "cell_type": "code",
      "metadata": {
        "hidden": true,
        "id": "09GWA-1kttXf",
        "colab": {
          "base_uri": "https://localhost:8080/"
        },
        "outputId": "b9fb62de-0900-4959-dbe7-1a1338ea001f"
      },
      "source": [
        "df = pd.DataFrame({\n",
        "    'school_code': ['s001','s002','s003','s001','s002','s004'],\n",
        "    'class': ['V', 'V', 'VI', 'VI', 'V', 'VI'],\n",
        "    'name': ['Alberto Franco','Gino Mcneill','Ryan Parkes', 'Eesha Hinton', 'Gino Mcneill', 'David Parkes'],\n",
        "    'date_of_birth': ['15/05/2002','17/05/2002','16/02/1999','25/09/1998','11/05/2002','15/09/1997'],\n",
        "    'weight': [35, None, 33, 30, 31, None]},\n",
        "     index = ['t1', 't2', 't3', 't4', 't5', 't6'])\n",
        "\n",
        "list(df[df.isna().any(axis=1)].index)"
      ],
      "execution_count": 250,
      "outputs": [
        {
          "output_type": "execute_result",
          "data": {
            "text/plain": [
              "['t2', 't6']"
            ]
          },
          "metadata": {
            "tags": []
          },
          "execution_count": 250
        }
      ]
    },
    {
      "cell_type": "markdown",
      "metadata": {
        "hidden": true,
        "id": "sHKdkROkttYF"
      },
      "source": [
        "**50\\.** Сделать left join датафреймов"
      ]
    },
    {
      "cell_type": "code",
      "metadata": {
        "collapsed": true,
        "hidden": true,
        "id": "Ut6B-6bKttYF",
        "colab": {
          "base_uri": "https://localhost:8080/",
          "height": 204
        },
        "outputId": "1170a306-b3d1-4df4-edbe-24da54fe5c58"
      },
      "source": [
        "data1 = pd.DataFrame({'key1': ['K0', 'K0', 'K1', 'K2'],\n",
        "                     'key2': ['K0', 'K1', 'K0', 'K1'],\n",
        "                     'P': ['P0', 'P1', 'P2', 'P3'],\n",
        "                     'Q': ['Q0', 'Q1', 'Q2', 'Q3']}) \n",
        "data2 = pd.DataFrame({'key1': ['K0', 'K1', 'K1', 'K2'],\n",
        "                      'key2': ['K0', 'K0', 'K0', 'K0'],\n",
        "                      'R': ['R0', 'R1', 'R2', 'R3'],\n",
        "                      'S': ['S0', 'S1', 'S2', 'S3']})\n",
        "\n",
        "data1.join(data2, how='left', rsuffix='_')"
      ],
      "execution_count": 251,
      "outputs": [
        {
          "output_type": "execute_result",
          "data": {
            "text/html": [
              "<div>\n",
              "<style scoped>\n",
              "    .dataframe tbody tr th:only-of-type {\n",
              "        vertical-align: middle;\n",
              "    }\n",
              "\n",
              "    .dataframe tbody tr th {\n",
              "        vertical-align: top;\n",
              "    }\n",
              "\n",
              "    .dataframe thead th {\n",
              "        text-align: right;\n",
              "    }\n",
              "</style>\n",
              "<table border=\"1\" class=\"dataframe\">\n",
              "  <thead>\n",
              "    <tr style=\"text-align: right;\">\n",
              "      <th></th>\n",
              "      <th>key1</th>\n",
              "      <th>...</th>\n",
              "      <th>S</th>\n",
              "    </tr>\n",
              "  </thead>\n",
              "  <tbody>\n",
              "    <tr>\n",
              "      <th>0</th>\n",
              "      <td>K0</td>\n",
              "      <td>...</td>\n",
              "      <td>S0</td>\n",
              "    </tr>\n",
              "    <tr>\n",
              "      <th>1</th>\n",
              "      <td>K0</td>\n",
              "      <td>...</td>\n",
              "      <td>S1</td>\n",
              "    </tr>\n",
              "    <tr>\n",
              "      <th>2</th>\n",
              "      <td>K1</td>\n",
              "      <td>...</td>\n",
              "      <td>S2</td>\n",
              "    </tr>\n",
              "    <tr>\n",
              "      <th>3</th>\n",
              "      <td>K2</td>\n",
              "      <td>...</td>\n",
              "      <td>S3</td>\n",
              "    </tr>\n",
              "  </tbody>\n",
              "</table>\n",
              "<p>4 rows × 8 columns</p>\n",
              "</div>"
            ],
            "text/plain": [
              "  key1  ...   S\n",
              "0   K0  ...  S0\n",
              "1   K0  ...  S1\n",
              "2   K1  ...  S2\n",
              "3   K2  ...  S3\n",
              "\n",
              "[4 rows x 8 columns]"
            ]
          },
          "metadata": {
            "tags": []
          },
          "execution_count": 251
        }
      ]
    },
    {
      "cell_type": "markdown",
      "metadata": {
        "hidden": true,
        "id": "FjU91NUhttYG"
      },
      "source": [
        "**51\\.** Соединить два датафрейма"
      ]
    },
    {
      "cell_type": "code",
      "metadata": {
        "collapsed": true,
        "hidden": true,
        "id": "YjSx5zRfttYG",
        "colab": {
          "base_uri": "https://localhost:8080/",
          "height": 204
        },
        "outputId": "071d90d2-7fcf-41d4-f485-c7fd14e8faac"
      },
      "source": [
        "data1 = pd.DataFrame({'A': ['A0', 'A1', 'A2'],\n",
        "                      'B': ['B0', 'B1', 'B2']},\n",
        "                     index=['K0', 'K1', 'K2'])\n",
        "\n",
        "data2 = pd.DataFrame({'C': ['C0', 'C2', 'C3'],\n",
        "                      'D': ['D0', 'D2', 'D3']},\n",
        "                     index=['K0', 'K2', 'K3'])\n",
        "\n",
        "pd.concat([data1, data2], axis=1)"
      ],
      "execution_count": 252,
      "outputs": [
        {
          "output_type": "execute_result",
          "data": {
            "text/html": [
              "<div>\n",
              "<style scoped>\n",
              "    .dataframe tbody tr th:only-of-type {\n",
              "        vertical-align: middle;\n",
              "    }\n",
              "\n",
              "    .dataframe tbody tr th {\n",
              "        vertical-align: top;\n",
              "    }\n",
              "\n",
              "    .dataframe thead th {\n",
              "        text-align: right;\n",
              "    }\n",
              "</style>\n",
              "<table border=\"1\" class=\"dataframe\">\n",
              "  <thead>\n",
              "    <tr style=\"text-align: right;\">\n",
              "      <th></th>\n",
              "      <th>A</th>\n",
              "      <th>...</th>\n",
              "      <th>D</th>\n",
              "    </tr>\n",
              "  </thead>\n",
              "  <tbody>\n",
              "    <tr>\n",
              "      <th>K0</th>\n",
              "      <td>A0</td>\n",
              "      <td>...</td>\n",
              "      <td>D0</td>\n",
              "    </tr>\n",
              "    <tr>\n",
              "      <th>K1</th>\n",
              "      <td>A1</td>\n",
              "      <td>...</td>\n",
              "      <td>NaN</td>\n",
              "    </tr>\n",
              "    <tr>\n",
              "      <th>K2</th>\n",
              "      <td>A2</td>\n",
              "      <td>...</td>\n",
              "      <td>D2</td>\n",
              "    </tr>\n",
              "    <tr>\n",
              "      <th>K3</th>\n",
              "      <td>NaN</td>\n",
              "      <td>...</td>\n",
              "      <td>D3</td>\n",
              "    </tr>\n",
              "  </tbody>\n",
              "</table>\n",
              "<p>4 rows × 4 columns</p>\n",
              "</div>"
            ],
            "text/plain": [
              "      A  ...    D\n",
              "K0   A0  ...   D0\n",
              "K1   A1  ...  NaN\n",
              "K2   A2  ...   D2\n",
              "K3  NaN  ...   D3\n",
              "\n",
              "[4 rows x 4 columns]"
            ]
          },
          "metadata": {
            "tags": []
          },
          "execution_count": 252
        }
      ]
    },
    {
      "cell_type": "markdown",
      "metadata": {
        "hidden": true,
        "id": "WxL8AxMCttYG"
      },
      "source": [
        "**52\\.** Сгруппировать датафрейм по полям 'customer_id' и 'salesman_id' и отсортировать по sum of purch_amt внутри каждой группы"
      ]
    },
    {
      "cell_type": "code",
      "metadata": {
        "collapsed": true,
        "hidden": true,
        "id": "OPRhbHNUttYH",
        "colab": {
          "base_uri": "https://localhost:8080/",
          "height": 236
        },
        "outputId": "a2a61a07-5411-45a2-ea23-dcda1065b79f"
      },
      "source": [
        "df = pd.DataFrame({\n",
        "'ord_no':[70001,70009,70002,70004,70007,70005,70008,70010,70003,70012,70011,70013],\n",
        "'purch_amt':[150.5,270.65,65.26,110.5,948.5,2400.6,5760,1983.43,2480.4,250.45, 75.29,3045.6],\n",
        "'ord_date': ['2012-10-05','2012-09-10','2012-10-05','2012-08-17','2012-09-10','2012-07-27','2012-09-10','2012-10-10','2012-10-10','2012-06-27','2012-08-17','2012-04-25'],\n",
        "'customer_id':[3001,3001,3005,3001,3005,3001,3005,3001,3005,3001,3005,3005],\n",
        "'salesman_id': [5002,5005,5001,5003,5002,5001,5001,5006,5003,5002,5007,5001]})\n",
        "\n",
        "df_group = df.groupby(['customer_id', 'salesman_id'])\n",
        "df_group = df_group.sum().reset_index(['customer_id', 'salesman_id'])\n",
        "\n",
        "df_group.sort_values(['customer_id', 'purch_amt'])\n",
        "df_group.sort_values(['salesman_id', 'purch_amt'])"
      ],
      "execution_count": 253,
      "outputs": [
        {
          "output_type": "execute_result",
          "data": {
            "text/html": [
              "<div>\n",
              "<style scoped>\n",
              "    .dataframe tbody tr th:only-of-type {\n",
              "        vertical-align: middle;\n",
              "    }\n",
              "\n",
              "    .dataframe tbody tr th {\n",
              "        vertical-align: top;\n",
              "    }\n",
              "\n",
              "    .dataframe thead th {\n",
              "        text-align: right;\n",
              "    }\n",
              "</style>\n",
              "<table border=\"1\" class=\"dataframe\">\n",
              "  <thead>\n",
              "    <tr style=\"text-align: right;\">\n",
              "      <th></th>\n",
              "      <th>customer_id</th>\n",
              "      <th>...</th>\n",
              "      <th>purch_amt</th>\n",
              "    </tr>\n",
              "  </thead>\n",
              "  <tbody>\n",
              "    <tr>\n",
              "      <th>0</th>\n",
              "      <td>3001</td>\n",
              "      <td>...</td>\n",
              "      <td>2400.60</td>\n",
              "    </tr>\n",
              "    <tr>\n",
              "      <th>5</th>\n",
              "      <td>3005</td>\n",
              "      <td>...</td>\n",
              "      <td>8870.86</td>\n",
              "    </tr>\n",
              "    <tr>\n",
              "      <th>...</th>\n",
              "      <td>...</td>\n",
              "      <td>...</td>\n",
              "      <td>...</td>\n",
              "    </tr>\n",
              "    <tr>\n",
              "      <th>4</th>\n",
              "      <td>3001</td>\n",
              "      <td>...</td>\n",
              "      <td>1983.43</td>\n",
              "    </tr>\n",
              "    <tr>\n",
              "      <th>8</th>\n",
              "      <td>3005</td>\n",
              "      <td>...</td>\n",
              "      <td>75.29</td>\n",
              "    </tr>\n",
              "  </tbody>\n",
              "</table>\n",
              "<p>9 rows × 4 columns</p>\n",
              "</div>"
            ],
            "text/plain": [
              "    customer_id  ...  purch_amt\n",
              "0          3001  ...    2400.60\n",
              "5          3005  ...    8870.86\n",
              "..          ...  ...        ...\n",
              "4          3001  ...    1983.43\n",
              "8          3005  ...      75.29\n",
              "\n",
              "[9 rows x 4 columns]"
            ]
          },
          "metadata": {
            "tags": []
          },
          "execution_count": 253
        }
      ]
    },
    {
      "cell_type": "markdown",
      "metadata": {
        "hidden": true,
        "id": "hnrIAXkLttYH"
      },
      "source": [
        "**53\\.** Сгруппировать датафрейм по месяцу и году из даты ord_date и найти общее количество заказов по годам и по месяцам"
      ]
    },
    {
      "cell_type": "code",
      "metadata": {
        "collapsed": true,
        "hidden": true,
        "id": "e06lUhbPttYI",
        "colab": {
          "base_uri": "https://localhost:8080/"
        },
        "outputId": "8ac44280-3a56-4cb6-f6e7-a1fb5c19f224"
      },
      "source": [
        "df = pd.DataFrame({\n",
        "'ord_no':[70001,70009,70002,70004,70007,70005,70008,70010,70003,70012,70011,70013],\n",
        "'purch_amt':[150.5,270.65,65.26,110.5,948.5,2400.6,5760,1983.43,2480.4,250.45, 75.29,3045.6],\n",
        "'ord_date': ['05-10-2012','09-10-2012','05-10-2013','08-17-2013','10-09-2013','07-27-2014','10-09-2012','10-10-2012','10-10-2012','06-17-2014','07-08-2012','04-25-2012'],\n",
        "'customer_id':[3001,3001,3005,3001,3005,3001,3005,3001,3005,3001,3005,3005],\n",
        "'salesman_id': [5002,5005,5001,5003,5002,5001,5001,5006,5003,5002,5007,5001]})\n",
        "\n",
        "datatime_df = pd.to_datetime(df['ord_date'])\n",
        "df['year'] = datatime_df.map(lambda x: x.year)\n",
        "df['month'] = datatime_df.map(lambda x: x.month)\n",
        "df.groupby(['year', 'month'])['ord_no'].count()"
      ],
      "execution_count": 254,
      "outputs": [
        {
          "output_type": "execute_result",
          "data": {
            "text/plain": [
              "year  month\n",
              "2012  4        1\n",
              "      5        1\n",
              "              ..\n",
              "2014  6        1\n",
              "      7        1\n",
              "Name: ord_no, Length: 10, dtype: int64"
            ]
          },
          "metadata": {
            "tags": []
          },
          "execution_count": 254
        }
      ]
    },
    {
      "cell_type": "markdown",
      "metadata": {
        "heading_collapsed": true,
        "id": "Q6gCR87kttYI"
      },
      "source": [
        "# Regular expressions with Pandas"
      ]
    },
    {
      "cell_type": "markdown",
      "metadata": {
        "hidden": true,
        "id": "LDzyw1VLttYI"
      },
      "source": [
        "**1\\.** Выделить в отдельную колонку event_id первую цифру в кавычках, во вторую колонку event_probability вероятность (★☆☆) "
      ]
    },
    {
      "cell_type": "code",
      "metadata": {
        "collapsed": true,
        "hidden": true,
        "id": "o2ZJUAOkttYI",
        "colab": {
          "base_uri": "https://localhost:8080/",
          "height": 236
        },
        "outputId": "1405aa5c-2c9d-430e-ca57-b784e8802dfc"
      },
      "source": [
        "df=pd.DataFrame({'col1':[\"{'34': 0.9839372122311848}\",\n",
        "                         \"{'77': 0.6724645988404411}\",\n",
        "                         \"{'77': 0.6491011266207006}\",\n",
        "                         \"{'77': 0.6123085784265466}\",\n",
        "                         \"{'34': 0.87}\",\n",
        "                         \"{'77': 0.6225699652019304}\",\n",
        "                         \"{'3': 0.5470808226524633}\",\n",
        "                         \"{'77': 0.6233849004135044}\",\n",
        "                         \"{'77': 0.7050888998743866}\",\n",
        "                         \"{'52': 0.8945052223205372}\"]})\n",
        "\n",
        "#your code\n",
        "df['event_probability'] = df['col1'].str.extract(r'(\\d+.\\d+)')\n",
        "df['col1'] = df['col1'].str.extract(r'(\\d+)')\n",
        "df = df.rename(columns={'col1': 'event_id'})\n",
        "df"
      ],
      "execution_count": 255,
      "outputs": [
        {
          "output_type": "execute_result",
          "data": {
            "text/html": [
              "<div>\n",
              "<style scoped>\n",
              "    .dataframe tbody tr th:only-of-type {\n",
              "        vertical-align: middle;\n",
              "    }\n",
              "\n",
              "    .dataframe tbody tr th {\n",
              "        vertical-align: top;\n",
              "    }\n",
              "\n",
              "    .dataframe thead th {\n",
              "        text-align: right;\n",
              "    }\n",
              "</style>\n",
              "<table border=\"1\" class=\"dataframe\">\n",
              "  <thead>\n",
              "    <tr style=\"text-align: right;\">\n",
              "      <th></th>\n",
              "      <th>event_id</th>\n",
              "      <th>event_probability</th>\n",
              "    </tr>\n",
              "  </thead>\n",
              "  <tbody>\n",
              "    <tr>\n",
              "      <th>0</th>\n",
              "      <td>34</td>\n",
              "      <td>0.9839372122311848</td>\n",
              "    </tr>\n",
              "    <tr>\n",
              "      <th>1</th>\n",
              "      <td>77</td>\n",
              "      <td>0.6724645988404411</td>\n",
              "    </tr>\n",
              "    <tr>\n",
              "      <th>...</th>\n",
              "      <td>...</td>\n",
              "      <td>...</td>\n",
              "    </tr>\n",
              "    <tr>\n",
              "      <th>8</th>\n",
              "      <td>77</td>\n",
              "      <td>0.7050888998743866</td>\n",
              "    </tr>\n",
              "    <tr>\n",
              "      <th>9</th>\n",
              "      <td>52</td>\n",
              "      <td>0.8945052223205372</td>\n",
              "    </tr>\n",
              "  </tbody>\n",
              "</table>\n",
              "<p>10 rows × 2 columns</p>\n",
              "</div>"
            ],
            "text/plain": [
              "   event_id   event_probability\n",
              "0        34  0.9839372122311848\n",
              "1        77  0.6724645988404411\n",
              "..      ...                 ...\n",
              "8        77  0.7050888998743866\n",
              "9        52  0.8945052223205372\n",
              "\n",
              "[10 rows x 2 columns]"
            ]
          },
          "metadata": {
            "tags": []
          },
          "execution_count": 255
        }
      ]
    },
    {
      "cell_type": "markdown",
      "metadata": {
        "hidden": true,
        "id": "mbY-WH3bttYJ"
      },
      "source": [
        "**2\\.** Удалите все тэги, переносы строк из текстов новостей (★★★)\n",
        "\n",
        "(hint: df.column.str())"
      ]
    },
    {
      "cell_type": "code",
      "metadata": {
        "collapsed": true,
        "hidden": true,
        "id": "NeUdvfLIttYJ",
        "colab": {
          "base_uri": "https://localhost:8080/",
          "height": 206
        },
        "outputId": "c8bc9924-08c8-40c6-feb6-d25635fe1bc2"
      },
      "source": [
        "df = pd.read_excel('news.xlsx')\n",
        "\n",
        "#your code\n",
        "# удаляем html tags\n",
        "df.replace(r'(<[^>]*>)','',regex=True, inplace = True)\n",
        "# удаляем пробелы в начале и конце строки и символы переноса строки.\n",
        "df.replace(r'(^\\s+|\\n|\\r|\\s+$)','',regex=True, inplace = True)\n",
        "df.head()"
      ],
      "execution_count": 256,
      "outputs": [
        {
          "output_type": "execute_result",
          "data": {
            "text/html": [
              "<div>\n",
              "<style scoped>\n",
              "    .dataframe tbody tr th:only-of-type {\n",
              "        vertical-align: middle;\n",
              "    }\n",
              "\n",
              "    .dataframe tbody tr th {\n",
              "        vertical-align: top;\n",
              "    }\n",
              "\n",
              "    .dataframe thead th {\n",
              "        text-align: right;\n",
              "    }\n",
              "</style>\n",
              "<table border=\"1\" class=\"dataframe\">\n",
              "  <thead>\n",
              "    <tr style=\"text-align: right;\">\n",
              "      <th></th>\n",
              "      <th>text</th>\n",
              "    </tr>\n",
              "  </thead>\n",
              "  <tbody>\n",
              "    <tr>\n",
              "      <th>0</th>\n",
              "      <td>Сообщение о существенном факте         о выпла...</td>\n",
              "    </tr>\n",
              "    <tr>\n",
              "      <th>1</th>\n",
              "      <td>НИЖНИЙ      НОВГОРОД, 3 декабря 2019, 22:41 - ...</td>\n",
              "    </tr>\n",
              "    <tr>\n",
              "      <th>2</th>\n",
              "      <td>УЛЬЯНОВСК, 3 декабря 2019, 11:38 - REGNUM В   ...</td>\n",
              "    </tr>\n",
              "    <tr>\n",
              "      <th>3</th>\n",
              "      <td>Самарская область признана одним из лидеров ре...</td>\n",
              "    </tr>\n",
              "    <tr>\n",
              "      <th>4</th>\n",
              "      <td>Окружная администрация Якутска подписала согла...</td>\n",
              "    </tr>\n",
              "  </tbody>\n",
              "</table>\n",
              "</div>"
            ],
            "text/plain": [
              "                                                text\n",
              "0  Сообщение о существенном факте         о выпла...\n",
              "1  НИЖНИЙ      НОВГОРОД, 3 декабря 2019, 22:41 - ...\n",
              "2  УЛЬЯНОВСК, 3 декабря 2019, 11:38 - REGNUM В   ...\n",
              "3  Самарская область признана одним из лидеров ре...\n",
              "4  Окружная администрация Якутска подписала согла..."
            ]
          },
          "metadata": {
            "tags": []
          },
          "execution_count": 256
        }
      ]
    },
    {
      "cell_type": "markdown",
      "metadata": {
        "id": "4XNu0Qj5euvY"
      },
      "source": [
        ""
      ]
    },
    {
      "cell_type": "markdown",
      "metadata": {
        "hidden": true,
        "id": "fzkCoZB_ttYK"
      },
      "source": [
        "**3\\.** Проставьте флаг в колонку source_ria если текст новости содержит: риа новости, тасс, коммерсант. Перед поиском переведите тексты в lower и удалите все кроме букв. Данные после чистки из предыдушего задания (★★★)\n",
        "\n",
        "(hint: df.column.str())"
      ]
    },
    {
      "cell_type": "code",
      "metadata": {
        "collapsed": true,
        "hidden": true,
        "id": "ywLX0wYHttYN",
        "colab": {
          "base_uri": "https://localhost:8080/",
          "height": 236
        },
        "outputId": "6afc9de3-576f-4b55-9f6b-67eef42b62cb"
      },
      "source": [
        "# переведите тексты в lower\n",
        "df[\"text\"] = df[\"text\"].str.lower()\n",
        "# удалите все кроме букв, пробелы оставил) \n",
        "df.replace(r'([^ a-zа-яё])',' ',regex=True, inplace = True)\n",
        "# там ещё есть лишние пробелы. Давайте их тоже уберем \n",
        "df.replace(r'\\s+',' ', regex=True, inplace = True)\n",
        "df['source_ria'] = df['text'].str.match(r'.*(риа новости|тасс|коммерсант).*')\n",
        "# df.head()\n",
        "df"
      ],
      "execution_count": 257,
      "outputs": [
        {
          "output_type": "execute_result",
          "data": {
            "text/html": [
              "<div>\n",
              "<style scoped>\n",
              "    .dataframe tbody tr th:only-of-type {\n",
              "        vertical-align: middle;\n",
              "    }\n",
              "\n",
              "    .dataframe tbody tr th {\n",
              "        vertical-align: top;\n",
              "    }\n",
              "\n",
              "    .dataframe thead th {\n",
              "        text-align: right;\n",
              "    }\n",
              "</style>\n",
              "<table border=\"1\" class=\"dataframe\">\n",
              "  <thead>\n",
              "    <tr style=\"text-align: right;\">\n",
              "      <th></th>\n",
              "      <th>text</th>\n",
              "      <th>source_ria</th>\n",
              "    </tr>\n",
              "  </thead>\n",
              "  <tbody>\n",
              "    <tr>\n",
              "      <th>0</th>\n",
              "      <td>сообщение о существенном факте о выплаченных д...</td>\n",
              "      <td>False</td>\n",
              "    </tr>\n",
              "    <tr>\n",
              "      <th>1</th>\n",
              "      <td>нижний новгород декабря regnum бывший глава му...</td>\n",
              "      <td>False</td>\n",
              "    </tr>\n",
              "    <tr>\n",
              "      <th>...</th>\n",
              "      <td>...</td>\n",
              "      <td>...</td>\n",
              "    </tr>\n",
              "    <tr>\n",
              "      <th>18</th>\n",
              "      <td>samsung heavy industries поставит верфи звезда...</td>\n",
              "      <td>True</td>\n",
              "    </tr>\n",
              "    <tr>\n",
              "      <th>19</th>\n",
              "      <td>в администрации краснодарского края подвели пр...</td>\n",
              "      <td>False</td>\n",
              "    </tr>\n",
              "  </tbody>\n",
              "</table>\n",
              "<p>20 rows × 2 columns</p>\n",
              "</div>"
            ],
            "text/plain": [
              "                                                 text  source_ria\n",
              "0   сообщение о существенном факте о выплаченных д...       False\n",
              "1   нижний новгород декабря regnum бывший глава му...       False\n",
              "..                                                ...         ...\n",
              "18  samsung heavy industries поставит верфи звезда...        True\n",
              "19  в администрации краснодарского края подвели пр...       False\n",
              "\n",
              "[20 rows x 2 columns]"
            ]
          },
          "metadata": {
            "tags": []
          },
          "execution_count": 257
        }
      ]
    },
    {
      "cell_type": "markdown",
      "metadata": {
        "hidden": true,
        "id": "h91pPxpjttYN"
      },
      "source": [
        "**4\\.** Отфильтруйте строки с валидными емейлами (★★★)"
      ]
    },
    {
      "cell_type": "code",
      "metadata": {
        "collapsed": true,
        "hidden": true,
        "id": "0yNJHriattYN",
        "colab": {
          "base_uri": "https://localhost:8080/",
          "height": 143
        },
        "outputId": "725826ba-c071-433e-c25c-065476721a16"
      },
      "source": [
        "emails = pd.Series(['buying books at amazom.com', 'rameses@egypt.com', 'matt@t.co', 'narendra@modi.com', 'kek lol@mail.ru'])\n",
        "\n",
        "#your code\n",
        "emails.str.extract(r'(^[a-zA-Z0-9_.+-]+@[a-zA-Z0-9-]+\\.[a-zA-Z0-9-.]+$)').dropna()"
      ],
      "execution_count": 258,
      "outputs": [
        {
          "output_type": "execute_result",
          "data": {
            "text/html": [
              "<div>\n",
              "<style scoped>\n",
              "    .dataframe tbody tr th:only-of-type {\n",
              "        vertical-align: middle;\n",
              "    }\n",
              "\n",
              "    .dataframe tbody tr th {\n",
              "        vertical-align: top;\n",
              "    }\n",
              "\n",
              "    .dataframe thead th {\n",
              "        text-align: right;\n",
              "    }\n",
              "</style>\n",
              "<table border=\"1\" class=\"dataframe\">\n",
              "  <thead>\n",
              "    <tr style=\"text-align: right;\">\n",
              "      <th></th>\n",
              "      <th>0</th>\n",
              "    </tr>\n",
              "  </thead>\n",
              "  <tbody>\n",
              "    <tr>\n",
              "      <th>1</th>\n",
              "      <td>rameses@egypt.com</td>\n",
              "    </tr>\n",
              "    <tr>\n",
              "      <th>2</th>\n",
              "      <td>matt@t.co</td>\n",
              "    </tr>\n",
              "    <tr>\n",
              "      <th>3</th>\n",
              "      <td>narendra@modi.com</td>\n",
              "    </tr>\n",
              "  </tbody>\n",
              "</table>\n",
              "</div>"
            ],
            "text/plain": [
              "                   0\n",
              "1  rameses@egypt.com\n",
              "2          matt@t.co\n",
              "3  narendra@modi.com"
            ]
          },
          "metadata": {
            "tags": []
          },
          "execution_count": 258
        }
      ]
    },
    {
      "cell_type": "markdown",
      "metadata": {
        "hidden": true,
        "id": "Yc718ccYttYN"
      },
      "source": [
        "**5\\.** Напишите паттерн для поиска строки содержащей только буквы в верхнем и нижнем регистре, цифры и подчеркивание"
      ]
    },
    {
      "cell_type": "code",
      "metadata": {
        "hidden": true,
        "id": "DCDVZ7MLttYO",
        "colab": {
          "base_uri": "https://localhost:8080/"
        },
        "outputId": "4a0d8289-ec59-4ffa-e951-17fe522d01ef"
      },
      "source": [
        "import re\n",
        "str_demo = \"ABC rameses@egypt.com word mdfe 55555 narendra ewfwv llol lll 103058jf sdfsfsfsd fg\"\n",
        "re.findall(r'(\\b\\w+|\\d+|[_]+\\b)', str_demo)"
      ],
      "execution_count": 259,
      "outputs": [
        {
          "output_type": "execute_result",
          "data": {
            "text/plain": [
              "['ABC',\n",
              " 'rameses',\n",
              " 'egypt',\n",
              " 'com',\n",
              " 'word',\n",
              " 'mdfe',\n",
              " '55555',\n",
              " 'narendra',\n",
              " 'ewfwv',\n",
              " 'llol',\n",
              " 'lll',\n",
              " '103058jf',\n",
              " 'sdfsfsfsd',\n",
              " 'fg']"
            ]
          },
          "metadata": {
            "tags": []
          },
          "execution_count": 259
        }
      ]
    },
    {
      "cell_type": "markdown",
      "metadata": {
        "hidden": true,
        "id": "aYUL86zxttYO"
      },
      "source": [
        "**6\\.** Замените пробелы на подчеркивание и наоборот"
      ]
    },
    {
      "cell_type": "code",
      "metadata": {
        "collapsed": true,
        "hidden": true,
        "id": "iqo2v-a0ttYO"
      },
      "source": [
        "df_new = df.copy()\n",
        "df_new.replace(r'\\s','_',regex=True, inplace = True)\n",
        "df_new.replace(r'_', ' ',regex=True, inplace = True)"
      ],
      "execution_count": 260,
      "outputs": []
    },
    {
      "cell_type": "markdown",
      "metadata": {
        "hidden": true,
        "id": "qnxwulqTttYO"
      },
      "source": [
        "**7\\.** Найдите слова длиной 3,4,5 "
      ]
    },
    {
      "cell_type": "code",
      "metadata": {
        "hidden": true,
        "id": "AecEufPRttYO",
        "colab": {
          "base_uri": "https://localhost:8080/"
        },
        "outputId": "15e08b03-3990-4952-eea0-b00ea286419a"
      },
      "source": [
        "str_demo = \"ABC rameses@egypt.com word mdfe 55555 narendra ewfwv llol lll 103058jf sdfsfsfsd fg\"\n",
        "re.findall(r'(\\b[\\wа-яёА-ЯЁ]{3,5}\\b)', str_demo)"
      ],
      "execution_count": 261,
      "outputs": [
        {
          "output_type": "execute_result",
          "data": {
            "text/plain": [
              "['ABC', 'egypt', 'com', 'word', 'mdfe', '55555', 'ewfwv', 'llol', 'lll']"
            ]
          },
          "metadata": {
            "tags": []
          },
          "execution_count": 261
        }
      ]
    },
    {
      "cell_type": "markdown",
      "metadata": {
        "hidden": true,
        "id": "BdfQMg-rttYP"
      },
      "source": [
        "**8\\.** Сделайте регистронезависимую замену(replace) во входной строке"
      ]
    },
    {
      "cell_type": "code",
      "metadata": {
        "collapsed": true,
        "hidden": true,
        "id": "32lFrxDgttYP",
        "colab": {
          "base_uri": "https://localhost:8080/",
          "height": 36
        },
        "outputId": "337ae84f-0795-43b9-8891-0ffe17377e39"
      },
      "source": [
        "str_data = 'include'\n",
        "r = re.compile(f'{str_data}', re.IGNORECASE)\n",
        "r.sub('Sed ut perspiciatis unde omnis iste natus sit', 'The lorem: incLudE')"
      ],
      "execution_count": 262,
      "outputs": [
        {
          "output_type": "execute_result",
          "data": {
            "application/vnd.google.colaboratory.intrinsic+json": {
              "type": "string"
            },
            "text/plain": [
              "'The lorem: Sed ut perspiciatis unde omnis iste natus sit'"
            ]
          },
          "metadata": {
            "tags": []
          },
          "execution_count": 262
        }
      ]
    },
    {
      "cell_type": "code",
      "metadata": {
        "id": "WwJOjYilr5Sm"
      },
      "source": [
        ""
      ],
      "execution_count": 262,
      "outputs": []
    }
  ]
}