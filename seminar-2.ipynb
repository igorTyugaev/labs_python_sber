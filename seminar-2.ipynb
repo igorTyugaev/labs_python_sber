{
 "cells": [
  {
   "cell_type": "markdown",
   "metadata": {},
   "source": [
    "## Задача №1\n",
    "На вход подается текст, содержащий разные буквы латинского алфавита и символы пунктуации. Нужно найти букву, которая встречается чаще всего. Если таких букв больше одной, то нужно вернуть ту, что стоит выше в алфавите. Регистр букв не учитывается, то есть «А» == «а». "
   ]
  },
  {
   "cell_type": "code",
   "execution_count": null,
   "metadata": {},
   "outputs": [],
   "source": [
    "import re\n",
    "str_in = input(\"Enter line: \")\n",
    "str_in = str_in.lower()\n",
    "alphabet = \"abcdefghijklmnopqrstuvwxyz\"\n",
    "dict_out = {}\n",
    "\n",
    "reg = re.compile('[^a-zA-Z ]')\n",
    "str_in = reg.sub('', str_in).strip()\n",
    "\n",
    "max_count = 0\n",
    "\n",
    "for i in alphabet:\n",
    "    if str_in.count(i) > max_count:\n",
    "        dict_out.clear()\n",
    "        max_count = str_in.count(i)\n",
    "        dict_out[i] = str_in.count(i)\n",
    "    elif str_in.count(i) == max_count:\n",
    "        dict_out[i] = str_in.count(i)\n",
    "\n",
    "print(\"Result:\", max(dict_out.keys()))"
   ]
  },
  {
   "cell_type": "markdown",
   "metadata": {},
   "source": [
    "## Задача №2\n",
    "На вход подается строка, состоящая из слов и чисел, разделенных одним пробелом. Слова состоят только из букв. Определить, имеется ли в передаваемой строке непрерывная последовательность из трех слов."
   ]
  },
  {
   "cell_type": "code",
   "execution_count": null,
   "metadata": {},
   "outputs": [],
   "source": [
    "str_in = input()\n",
    "lsit_in = str_in.split()\n",
    "count = 0\n",
    "\n",
    "for i in lsit_in:\n",
    "    if i.isalpha():\n",
    "        count += 1\n",
    "    elif count >= 3:\n",
    "        break\n",
    "    else:\n",
    "        count = 0\n",
    "if count >= 3:\n",
    "    print(True)\n",
    "else:\n",
    "    print(False)"
   ]
  },
  {
   "cell_type": "markdown",
   "metadata": {},
   "source": [
    "## Задача №3\n",
    "Найти максимальную длину непрерывной последовательности одинаковых букв во входной строке. \n",
    "\n",
    "Пример: «аааабббв» == 4 "
   ]
  },
  {
   "cell_type": "code",
   "execution_count": null,
   "metadata": {},
   "outputs": [],
   "source": [
    "str_in = input()\n",
    "str_in = str_in.lower()\n",
    "max_l = 0\n",
    "count = 0\n",
    "\n",
    "for i in range(len(str_in) - 1):\n",
    "    if str_in[i] == str_in[i + 1]:\n",
    "        count += 1\n",
    "    else:\n",
    "        count += 1\n",
    "        if count >= max_l:\n",
    "            max_l = count\n",
    "            count = 0\n",
    "\n",
    "print(max_l)"
   ]
  },
  {
   "cell_type": "markdown",
   "metadata": {},
   "source": [
    "## Задача №4\n",
    "На вход подается строка, содержащая латинские буквы, знаки пунктуации и пробелы. Необходимо вернуть строку собранную из букв в верхнем регистре соединенных без пробелов в порядке появления. \n",
    "\n",
    "Пример: f(‘HELL nO’) == ‘HELLO’ "
   ]
  },
  {
   "cell_type": "code",
   "execution_count": null,
   "metadata": {},
   "outputs": [],
   "source": [
    "import re\n",
    "str_in = input(\"Enter line: \")\n",
    "\n",
    "reg = re.compile('[^A-Z]')\n",
    "str_in = reg.sub('', str_in).strip()\n",
    "\n",
    "print(\"Result:\", str_in)"
   ]
  },
  {
   "cell_type": "markdown",
   "metadata": {},
   "source": [
    "## Задача №5\n",
    "На вход подается массив чисел. Необходимо отсортировать массив по частоте элементов. Если два элемента имеют одинаковую частоту, то нужно отсортировать по порядку появления в массиве. \n",
    "\n",
    "Пример: [4,4,6,4,2,2,4,6] => [4,4,4,4,6,6,2,2] "
   ]
  },
  {
   "cell_type": "code",
   "execution_count": 25,
   "metadata": {},
   "outputs": [
    {
     "name": "stdout",
     "output_type": "stream",
     "text": [
      "list_out: [4, 4, 4, 4, 6, 6, 2, 2]\n"
     ]
    }
   ],
   "source": [
    "import collections\n",
    "list_in = [4,4,6,4,2,2,4,6]\n",
    "\n",
    "counts = collections.Counter(list_in)\n",
    "list_out = sorted(list_in, key=lambda x: (counts[x], x), reverse=True)\n",
    "\n",
    "print(\"list_out:\", list_out)"
   ]
  },
  {
   "cell_type": "markdown",
   "metadata": {},
   "source": [
    "## Задача №6\n",
    "На вход подается список уникальных значений (set) и одно число. Необходимо вернуть ближайшее ко входному значение из списка. Если значений два, то нужно вернуть наименьшее. В задаче участвуют только целые числа. \n",
    "\n",
    "Пример: f({1, 2, 4, 5}, 3) == 2 "
   ]
  },
  {
   "cell_type": "code",
   "execution_count": 44,
   "metadata": {},
   "outputs": [
    {
     "name": "stdout",
     "output_type": "stream",
     "text": [
      "Enter set_in: 1 2 4 5\n",
      "Enter number: 3\n",
      "2\n"
     ]
    }
   ],
   "source": [
    "set_in = {int(i) for i in input(\"Enter set_in: \").split()}\n",
    "num = int(input(\"Enter number: \"))\n",
    "\n",
    "print(\"Result: \", min(set_in, key=lambda x: (abs(x-num), x)))"
   ]
  },
  {
   "cell_type": "markdown",
   "metadata": {},
   "source": [
    "## Задача №7\n",
    "Необходимо найти количество путей, которыми шашка может пройти в дамки по шахматной доске 8x8, при условии, что двигаться можно только по диагонали вверх. На вход подается две координаты стартовой позиции."
   ]
  },
  {
   "cell_type": "code",
   "execution_count": 54,
   "metadata": {},
   "outputs": [
    {
     "name": "stdout",
     "output_type": "stream",
     "text": [
      "Enter X: 8\n",
      "Enter Y: 1\n",
      "Result: 1\n"
     ]
    }
   ],
   "source": [
    "x = int(input(\"Enter X: \"))\n",
    "y = int(input(\"Enter Y: \"))\n",
    "\n",
    "matrix = [[0] * 10 for i in range(9)]\n",
    "matrix[x][y] = 1\n",
    "for i in range(x + 1, 9):\n",
    "    for j in range(1, 9):\n",
    "        matrix[i][j] = matrix[i - 1][j - 1] + matrix[i - 1][j + 1]\n",
    "print(\"Result:\", sum(matrix[8]))"
   ]
  }
 ],
 "metadata": {
  "kernelspec": {
   "display_name": "Python 3",
   "language": "python",
   "name": "python3"
  },
  "language_info": {
   "codemirror_mode": {
    "name": "ipython",
    "version": 3
   },
   "file_extension": ".py",
   "mimetype": "text/x-python",
   "name": "python",
   "nbconvert_exporter": "python",
   "pygments_lexer": "ipython3",
   "version": "3.8.3"
  }
 },
 "nbformat": 4,
 "nbformat_minor": 4
}
